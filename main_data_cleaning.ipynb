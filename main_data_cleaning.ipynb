{
 "cells": [
  {
   "cell_type": "code",
   "execution_count": 1,
   "id": "661b3a5f",
   "metadata": {},
   "outputs": [],
   "source": [
    "import pandas as pd\n",
    "# import warnings\n",
    "# warnings.filterwarnings(\"ignore\", category=UserWarning)"
   ]
  },
  {
   "cell_type": "code",
   "execution_count": 2,
   "id": "b11d82b7",
   "metadata": {},
   "outputs": [],
   "source": [
    "pd.set_option('display.max_columns', None)"
   ]
  },
  {
   "cell_type": "code",
   "execution_count": 3,
   "id": "6b049fbd",
   "metadata": {},
   "outputs": [
    {
     "data": {
      "text/html": [
       "<div>\n",
       "<style scoped>\n",
       "    .dataframe tbody tr th:only-of-type {\n",
       "        vertical-align: middle;\n",
       "    }\n",
       "\n",
       "    .dataframe tbody tr th {\n",
       "        vertical-align: top;\n",
       "    }\n",
       "\n",
       "    .dataframe thead th {\n",
       "        text-align: right;\n",
       "    }\n",
       "</style>\n",
       "<table border=\"1\" class=\"dataframe\">\n",
       "  <thead>\n",
       "    <tr style=\"text-align: right;\">\n",
       "      <th></th>\n",
       "      <th>Restaurant ID</th>\n",
       "      <th>Restaurant name</th>\n",
       "      <th>Subzone</th>\n",
       "      <th>City</th>\n",
       "      <th>Order ID</th>\n",
       "      <th>Order Placed At</th>\n",
       "      <th>Order Status</th>\n",
       "      <th>Delivery</th>\n",
       "      <th>Distance</th>\n",
       "      <th>Items in order</th>\n",
       "      <th>Instructions</th>\n",
       "      <th>Discount construct</th>\n",
       "      <th>Bill subtotal</th>\n",
       "      <th>Packaging charges</th>\n",
       "      <th>Restaurant discount (Promo)</th>\n",
       "      <th>Restaurant discount (Flat offs, Freebies &amp; others)</th>\n",
       "      <th>Gold discount</th>\n",
       "      <th>Brand pack discount</th>\n",
       "      <th>Total</th>\n",
       "      <th>Rating</th>\n",
       "      <th>Review</th>\n",
       "      <th>Cancellation / Rejection reason</th>\n",
       "      <th>Restaurant compensation (Cancellation)</th>\n",
       "      <th>Restaurant penalty (Rejection)</th>\n",
       "      <th>KPT duration (minutes)</th>\n",
       "      <th>Rider wait time (minutes)</th>\n",
       "      <th>Order Ready Marked</th>\n",
       "      <th>Customer complaint tag</th>\n",
       "      <th>Customer ID</th>\n",
       "    </tr>\n",
       "  </thead>\n",
       "  <tbody>\n",
       "    <tr>\n",
       "      <th>0</th>\n",
       "      <td>20320607</td>\n",
       "      <td>Swaad</td>\n",
       "      <td>Sector 4</td>\n",
       "      <td>Delhi NCR</td>\n",
       "      <td>6168884918</td>\n",
       "      <td>11:38 PM, September 10 2024</td>\n",
       "      <td>Delivered</td>\n",
       "      <td>Zomato Delivery</td>\n",
       "      <td>3km</td>\n",
       "      <td>1 x Grilled Chicken Jamaican Tender, 1 x Grill...</td>\n",
       "      <td>NaN</td>\n",
       "      <td>40% off upto Rs.80</td>\n",
       "      <td>715.0</td>\n",
       "      <td>31.75</td>\n",
       "      <td>80.0</td>\n",
       "      <td>0.0</td>\n",
       "      <td>0.0</td>\n",
       "      <td>0.0</td>\n",
       "      <td>666.75</td>\n",
       "      <td>NaN</td>\n",
       "      <td>NaN</td>\n",
       "      <td>NaN</td>\n",
       "      <td>NaN</td>\n",
       "      <td>NaN</td>\n",
       "      <td>18.35</td>\n",
       "      <td>11.6</td>\n",
       "      <td>Correctly</td>\n",
       "      <td>NaN</td>\n",
       "      <td>5d6c2b96db963098bc69768bea504c8bf46106a8a5178e...</td>\n",
       "    </tr>\n",
       "    <tr>\n",
       "      <th>1</th>\n",
       "      <td>20320607</td>\n",
       "      <td>Swaad</td>\n",
       "      <td>Sector 4</td>\n",
       "      <td>Delhi NCR</td>\n",
       "      <td>6170707559</td>\n",
       "      <td>11:34 PM, September 10 2024</td>\n",
       "      <td>Delivered</td>\n",
       "      <td>Zomato Delivery</td>\n",
       "      <td>2km</td>\n",
       "      <td>1 x Peri Peri Fries, 1 x Fried Chicken Angara ...</td>\n",
       "      <td>NaN</td>\n",
       "      <td>Flat Rs.175 off</td>\n",
       "      <td>1179.0</td>\n",
       "      <td>50.20</td>\n",
       "      <td>175.0</td>\n",
       "      <td>0.0</td>\n",
       "      <td>0.0</td>\n",
       "      <td>0.0</td>\n",
       "      <td>1054.20</td>\n",
       "      <td>NaN</td>\n",
       "      <td>NaN</td>\n",
       "      <td>NaN</td>\n",
       "      <td>NaN</td>\n",
       "      <td>NaN</td>\n",
       "      <td>16.95</td>\n",
       "      <td>3.6</td>\n",
       "      <td>Correctly</td>\n",
       "      <td>NaN</td>\n",
       "      <td>0781815deb4a10a574e9fee4fa0b86b074d4a0b36175d5...</td>\n",
       "    </tr>\n",
       "    <tr>\n",
       "      <th>2</th>\n",
       "      <td>20320607</td>\n",
       "      <td>Swaad</td>\n",
       "      <td>Sector 4</td>\n",
       "      <td>Delhi NCR</td>\n",
       "      <td>6169375019</td>\n",
       "      <td>03:52 PM, September 10 2024</td>\n",
       "      <td>Delivered</td>\n",
       "      <td>Zomato Delivery</td>\n",
       "      <td>&lt;1km</td>\n",
       "      <td>1 x Bone in Peri Peri Grilled Chicken</td>\n",
       "      <td>NaN</td>\n",
       "      <td>40% off upto Rs.80</td>\n",
       "      <td>310.0</td>\n",
       "      <td>11.50</td>\n",
       "      <td>80.0</td>\n",
       "      <td>0.0</td>\n",
       "      <td>0.0</td>\n",
       "      <td>0.0</td>\n",
       "      <td>241.50</td>\n",
       "      <td>NaN</td>\n",
       "      <td>NaN</td>\n",
       "      <td>NaN</td>\n",
       "      <td>NaN</td>\n",
       "      <td>NaN</td>\n",
       "      <td>14.05</td>\n",
       "      <td>12.2</td>\n",
       "      <td>Correctly</td>\n",
       "      <td>NaN</td>\n",
       "      <td>f93362f5ce5382657482d164e368186bcec9c6225fd93d...</td>\n",
       "    </tr>\n",
       "    <tr>\n",
       "      <th>3</th>\n",
       "      <td>20320607</td>\n",
       "      <td>Swaad</td>\n",
       "      <td>Sector 4</td>\n",
       "      <td>Delhi NCR</td>\n",
       "      <td>6151677434</td>\n",
       "      <td>03:45 PM, September 10 2024</td>\n",
       "      <td>Delivered</td>\n",
       "      <td>Zomato Delivery</td>\n",
       "      <td>2km</td>\n",
       "      <td>1 x Fried Chicken Ghostbuster Tender, 1 x Anga...</td>\n",
       "      <td>NaN</td>\n",
       "      <td>40% off upto Rs.80</td>\n",
       "      <td>620.0</td>\n",
       "      <td>27.00</td>\n",
       "      <td>80.0</td>\n",
       "      <td>0.0</td>\n",
       "      <td>0.0</td>\n",
       "      <td>0.0</td>\n",
       "      <td>567.00</td>\n",
       "      <td>4.0</td>\n",
       "      <td>NaN</td>\n",
       "      <td>NaN</td>\n",
       "      <td>NaN</td>\n",
       "      <td>NaN</td>\n",
       "      <td>19.00</td>\n",
       "      <td>3.3</td>\n",
       "      <td>Correctly</td>\n",
       "      <td>NaN</td>\n",
       "      <td>1ed226d1b8a5f7acee12fc1d6676558330a3b2b742af5d...</td>\n",
       "    </tr>\n",
       "    <tr>\n",
       "      <th>4</th>\n",
       "      <td>20320607</td>\n",
       "      <td>Swaad</td>\n",
       "      <td>Sector 4</td>\n",
       "      <td>Delhi NCR</td>\n",
       "      <td>6167540897</td>\n",
       "      <td>03:04 PM, September 10 2024</td>\n",
       "      <td>Delivered</td>\n",
       "      <td>Zomato Delivery</td>\n",
       "      <td>2km</td>\n",
       "      <td>1 x Peri Peri Krispers, 1 x Fried Chicken Anga...</td>\n",
       "      <td>NaN</td>\n",
       "      <td>40% off upto Rs.80</td>\n",
       "      <td>584.0</td>\n",
       "      <td>25.20</td>\n",
       "      <td>80.0</td>\n",
       "      <td>0.0</td>\n",
       "      <td>0.0</td>\n",
       "      <td>0.0</td>\n",
       "      <td>529.20</td>\n",
       "      <td>NaN</td>\n",
       "      <td>NaN</td>\n",
       "      <td>NaN</td>\n",
       "      <td>NaN</td>\n",
       "      <td>NaN</td>\n",
       "      <td>15.97</td>\n",
       "      <td>1.0</td>\n",
       "      <td>Correctly</td>\n",
       "      <td>NaN</td>\n",
       "      <td>d21a2ac6ea06b31cc3288ab20c4ef2f292066c096f2c5f...</td>\n",
       "    </tr>\n",
       "  </tbody>\n",
       "</table>\n",
       "</div>"
      ],
      "text/plain": [
       "   Restaurant ID Restaurant name   Subzone       City    Order ID  \\\n",
       "0       20320607           Swaad  Sector 4  Delhi NCR  6168884918   \n",
       "1       20320607           Swaad  Sector 4  Delhi NCR  6170707559   \n",
       "2       20320607           Swaad  Sector 4  Delhi NCR  6169375019   \n",
       "3       20320607           Swaad  Sector 4  Delhi NCR  6151677434   \n",
       "4       20320607           Swaad  Sector 4  Delhi NCR  6167540897   \n",
       "\n",
       "               Order Placed At Order Status         Delivery Distance  \\\n",
       "0  11:38 PM, September 10 2024    Delivered  Zomato Delivery      3km   \n",
       "1  11:34 PM, September 10 2024    Delivered  Zomato Delivery      2km   \n",
       "2  03:52 PM, September 10 2024    Delivered  Zomato Delivery     <1km   \n",
       "3  03:45 PM, September 10 2024    Delivered  Zomato Delivery      2km   \n",
       "4  03:04 PM, September 10 2024    Delivered  Zomato Delivery      2km   \n",
       "\n",
       "                                      Items in order Instructions  \\\n",
       "0  1 x Grilled Chicken Jamaican Tender, 1 x Grill...          NaN   \n",
       "1  1 x Peri Peri Fries, 1 x Fried Chicken Angara ...          NaN   \n",
       "2              1 x Bone in Peri Peri Grilled Chicken          NaN   \n",
       "3  1 x Fried Chicken Ghostbuster Tender, 1 x Anga...          NaN   \n",
       "4  1 x Peri Peri Krispers, 1 x Fried Chicken Anga...          NaN   \n",
       "\n",
       "   Discount construct  Bill subtotal  Packaging charges  \\\n",
       "0  40% off upto Rs.80          715.0              31.75   \n",
       "1     Flat Rs.175 off         1179.0              50.20   \n",
       "2  40% off upto Rs.80          310.0              11.50   \n",
       "3  40% off upto Rs.80          620.0              27.00   \n",
       "4  40% off upto Rs.80          584.0              25.20   \n",
       "\n",
       "   Restaurant discount (Promo)  \\\n",
       "0                         80.0   \n",
       "1                        175.0   \n",
       "2                         80.0   \n",
       "3                         80.0   \n",
       "4                         80.0   \n",
       "\n",
       "   Restaurant discount (Flat offs, Freebies & others)  Gold discount  \\\n",
       "0                                                0.0             0.0   \n",
       "1                                                0.0             0.0   \n",
       "2                                                0.0             0.0   \n",
       "3                                                0.0             0.0   \n",
       "4                                                0.0             0.0   \n",
       "\n",
       "   Brand pack discount    Total  Rating Review  \\\n",
       "0                  0.0   666.75     NaN    NaN   \n",
       "1                  0.0  1054.20     NaN    NaN   \n",
       "2                  0.0   241.50     NaN    NaN   \n",
       "3                  0.0   567.00     4.0    NaN   \n",
       "4                  0.0   529.20     NaN    NaN   \n",
       "\n",
       "  Cancellation / Rejection reason  Restaurant compensation (Cancellation)  \\\n",
       "0                             NaN                                     NaN   \n",
       "1                             NaN                                     NaN   \n",
       "2                             NaN                                     NaN   \n",
       "3                             NaN                                     NaN   \n",
       "4                             NaN                                     NaN   \n",
       "\n",
       "   Restaurant penalty (Rejection)  KPT duration (minutes)  \\\n",
       "0                             NaN                   18.35   \n",
       "1                             NaN                   16.95   \n",
       "2                             NaN                   14.05   \n",
       "3                             NaN                   19.00   \n",
       "4                             NaN                   15.97   \n",
       "\n",
       "   Rider wait time (minutes) Order Ready Marked Customer complaint tag  \\\n",
       "0                       11.6          Correctly                    NaN   \n",
       "1                        3.6          Correctly                    NaN   \n",
       "2                       12.2          Correctly                    NaN   \n",
       "3                        3.3          Correctly                    NaN   \n",
       "4                        1.0          Correctly                    NaN   \n",
       "\n",
       "                                         Customer ID  \n",
       "0  5d6c2b96db963098bc69768bea504c8bf46106a8a5178e...  \n",
       "1  0781815deb4a10a574e9fee4fa0b86b074d4a0b36175d5...  \n",
       "2  f93362f5ce5382657482d164e368186bcec9c6225fd93d...  \n",
       "3  1ed226d1b8a5f7acee12fc1d6676558330a3b2b742af5d...  \n",
       "4  d21a2ac6ea06b31cc3288ab20c4ef2f292066c096f2c5f...  "
      ]
     },
     "execution_count": 3,
     "metadata": {},
     "output_type": "execute_result"
    }
   ],
   "source": [
    "df =pd.read_csv('data/data.csv')\n",
    "df.head()"
   ]
  },
  {
   "cell_type": "code",
   "execution_count": 4,
   "id": "de1efdff",
   "metadata": {},
   "outputs": [
    {
     "data": {
      "text/plain": [
       "Items in order\n",
       "1 x Bageecha Pizza                                                                                                                                  877\n",
       "1 x Bone in Jamaican Grilled Chicken                                                                                                                594\n",
       "1 x All About Chicken Pizza                                                                                                                         449\n",
       "1 x Margherita Pizza                                                                                                                                408\n",
       "1 x Makhani Paneer Pizza                                                                                                                            353\n",
       "                                                                                                                                                   ... \n",
       "1 x Bone in Peri Peri Grilled Chicken, 2 x Bone in Jamaican Grilled Chicken, 1 x Bone in Smoky Bbq Grilled Chicken                                    1\n",
       "1 x Salted Crisper Fries, 1 x AAC Signature Fries, 1 x Bone in Jamaican Grilled Chicken, 1 x Fried Chicken Classic Tenders + AAC Signature Fries      1\n",
       "1 x Salted Crisper Fries, 1 x Grilled Chicken Angara Tangdi                                                                                           1\n",
       "1 x Grilled Chicken Angara Tenders + Salted Fries, 1 x Garlic Aioli                                                                                   1\n",
       "1 x Grilled Chicken Jamaican Slider                                                                                                                   1\n",
       "Name: count, Length: 6123, dtype: int64"
      ]
     },
     "execution_count": 4,
     "metadata": {},
     "output_type": "execute_result"
    }
   ],
   "source": [
    "df[\"Items in order\"].value_counts()"
   ]
  },
  {
   "cell_type": "code",
   "execution_count": 5,
   "id": "97f81f6d",
   "metadata": {},
   "outputs": [
    {
     "name": "stdout",
     "output_type": "stream",
     "text": [
      "                                          Items in order  \\\n",
      "0      1 x Grilled Chicken Jamaican Tender, 1 x Grill...   \n",
      "1      1 x Peri Peri Fries, 1 x Fried Chicken Angara ...   \n",
      "2                  1 x Bone in Peri Peri Grilled Chicken   \n",
      "3      1 x Fried Chicken Ghostbuster Tender, 1 x Anga...   \n",
      "4      1 x Peri Peri Krispers, 1 x Fried Chicken Anga...   \n",
      "...                                                  ...   \n",
      "21316      1 x Fried Chicken Desi Peri Peri Bites (Bone)   \n",
      "21317         1 x Fried Chicken 65 Masala Boneless Bites   \n",
      "21318                    1 x Korean Fried Chicken Slider   \n",
      "21319                                1 x Ooh Saucy Fries   \n",
      "21320                1 x Grilled Chicken Jamaican Slider   \n",
      "\n",
      "                                          expanded_items  \n",
      "0      [Grilled Chicken Jamaican Tender, Grilled Chic...  \n",
      "1      [Peri Peri Fries, Fried Chicken Angara Tender,...  \n",
      "2                    [Bone in Peri Peri Grilled Chicken]  \n",
      "3      [Fried Chicken Ghostbuster Tender, Angara Gril...  \n",
      "4      [Peri Peri Krispers, Fried Chicken Angara Tender]  \n",
      "...                                                  ...  \n",
      "21316        [Fried Chicken Desi Peri Peri Bites (Bone)]  \n",
      "21317           [Fried Chicken 65 Masala Boneless Bites]  \n",
      "21318                      [Korean Fried Chicken Slider]  \n",
      "21319                                  [Ooh Saucy Fries]  \n",
      "21320                  [Grilled Chicken Jamaican Slider]  \n",
      "\n",
      "[21321 rows x 2 columns]\n",
      "\n",
      "Global item map:\n",
      "{'item_1': 'AAC Fried Chicken Burger', 'item_2': 'AAC Fried Paneer Burger', 'item_3': 'AAC Grilled Chicken Burger', 'item_4': 'AAC Grilled Chicken Burger .', 'item_5': 'AAC Grilled Paneer Burger', 'item_6': 'AAC Saucy Fries', 'item_7': 'AAC Signature Crisper Fries', 'item_8': 'AAC Signature Fries', 'item_9': 'AAC Signature Krispers', 'item_10': 'AAC Special Slaw', 'item_11': 'All About Chicken Pizza', 'item_12': 'Angara Aloo Tuk Tuki', 'item_13': 'Angara Boneless Grilled Chicken Breast', 'item_14': 'Angara Grilled Chicken Quarter', 'item_15': 'Angara Grilled Chicken Tangdi (4pcs)', 'item_16': 'Angara Grilled Paneer (8 pcs)', 'item_17': 'Angara Paneer Melt', 'item_18': 'Angara Paneer Steak', 'item_19': 'Angara Rice', 'item_20': 'Angara Sauce', 'item_21': 'Animal Fries', 'item_22': 'Animal Fries .', 'item_23': 'Atomic Veg Burger', 'item_24': 'Atomic Veg Burger .', 'item_25': 'BC Burger', 'item_26': 'Bacon Pepperoni Melt', 'item_27': 'Bageecha Pizza', 'item_28': 'Bageecha Pizza .', 'item_29': \"Bangin' Soya Burger\", 'item_30': 'Bellpepper Onion Pizza', 'item_31': 'Bone in Angara Grilled Chicken', 'item_32': 'Bone in Angara Grilled Chicken .', 'item_33': 'Bone in Jamaican Grilled Chicken', 'item_34': 'Bone in Jamaican Grilled Chicken .', 'item_35': 'Bone in Jamaican Grilled Chicken Quarter + Angara Rice', 'item_36': 'Bone in Kabuli Grilled Chicken', 'item_37': 'Bone in Peri Peri Grilled Chicken', 'item_38': 'Bone in Peri Peri Grilled Chicken .', 'item_39': 'Bone in Smoky Bbq Grilled Chicken', 'item_40': 'Bone in Smoky Bbq Grilled Chicken .', 'item_41': 'Brocolli Onion Pizza', 'item_42': 'Butter Chicken Grilled Burger', 'item_43': 'Cafreal Sauce', 'item_44': 'Cafreal dip', 'item_45': 'Carribean Jerk Boneless Grilled Chicken Breast', 'item_46': 'Carribean Jerk Grilled Chicken Quarter', 'item_47': 'Carribean Jerk Grilled Chicken Tangdi (4pcs)', 'item_48': 'Carribean Jerk dip', 'item_49': 'Cheesy Garlic Bread', 'item_50': 'Cheesy Veg Burger', 'item_51': 'Chicken 65 Boneless Grilled Chicken Breast', 'item_52': 'Chicken 65 Grilled Chicken Quarter', 'item_53': 'Chicken 65 Grilled Chicken Tangdi (4pcs)', 'item_54': 'Chicken 69', 'item_55': 'Chicken Pepperoni Pizza', 'item_56': 'Chicken Smashed Burger', 'item_57': 'Chicken Smashed Burgers .', 'item_58': 'Chicken Smashed Double Burger', 'item_59': 'Chilli Cheese Garlic Bread', 'item_60': 'Chilli Cheese Garlic Bread .', 'item_61': 'Chocolate Walnut Brownie', 'item_62': 'Classic Bacon Melt Tenderloin Burger', 'item_63': 'Classic Bacon Melt Tenderloin Burger .', 'item_64': 'Coleslaw', 'item_65': 'Combo For 1', 'item_66': 'Combo For 1 - Non Veg', 'item_67': 'Combo For 1 - Veg', 'item_68': 'Combo for 2 - Non Veg', 'item_69': 'Combo for 2 - Veg', 'item_70': 'Combo for 4 - Veg', 'item_71': 'Cous Cous', 'item_72': 'Crushed Papad', 'item_73': 'Desi Chicken Pepperoni Pizza', 'item_74': 'Desi Masala Crispers Fries', 'item_75': 'Desi Masala Fries', 'item_76': 'Desi Pepperoni Pizza', 'item_77': 'Dirty Grilled Paneer Burger', 'item_78': 'Dirty Indian Masala Crisper Fries', 'item_79': 'Dirty Indian Masala Fries', 'item_80': 'Dirty Indian Slaw', 'item_81': 'Dirty Indian Soya Chunks', 'item_82': 'Dirty Masala Fries', 'item_83': 'Dirty Saucy Chicken Loaded Fries', 'item_84': 'Dirty Saucy Chicken Loaded Fries .', 'item_85': 'Dirty Saucy Fries', 'item_86': 'Dynamite sauce', 'item_87': 'Fire Alarm Tenderloin Burger', 'item_88': 'Fried Chicken 65 Masala Boneless Bites', 'item_89': 'Fried Chicken Angara Slider', 'item_90': 'Fried Chicken Angara Tender', 'item_91': 'Fried Chicken Angara Tender .', 'item_92': 'Fried Chicken Beast AAC Burger', 'item_93': 'Fried Chicken Beast Burger', 'item_94': 'Fried Chicken Bites (Bone) - 4pcs', 'item_95': 'Fried Chicken Bites (Bone) - 8pcs', 'item_96': 'Fried Chicken Boneless Bites - 10pcs', 'item_97': 'Fried Chicken Boneless Bites - 6pcs', 'item_98': 'Fried Chicken Classic Tender', 'item_99': 'Fried Chicken Classic Tender .', 'item_100': 'Fried Chicken Classic Tenders + AAC Signature Fries', 'item_101': 'Fried Chicken Desi Peri Peri Bites (Bone)', 'item_102': 'Fried Chicken Dirty Burger', 'item_103': 'Fried Chicken Ghostbuster Tender', 'item_104': 'Fried Chicken Kabuli Tender', 'item_105': 'Fried Chicken Kabuli Tender .', 'item_106': 'Fried Chicken Peri Peri Tender', 'item_107': 'Fried Chicken Peri Peri Tender .', 'item_108': 'Fried Chicken Peri Peri Tenders + Peri Peri Fries', 'item_109': 'Fried Chicken Strips', 'item_110': 'Fried Chicken Tangdi - 2pcs', 'item_111': 'Fried Chicken Tangdi - 4pcs', 'item_112': 'Fried Chicken Tenders', 'item_113': 'Fried Mushroom Burger', 'item_114': 'Fried Paneer Angara Slider', 'item_115': 'Fried Paneer Burger .', 'item_116': 'Garlic Aioli', 'item_117': 'GhostBuster Sauce', 'item_118': 'Grilled Chicken 69 Burger', 'item_119': 'Grilled Chicken Afghani Boneless Breast', 'item_120': 'Grilled Chicken Angara Boneless Breast', 'item_121': 'Grilled Chicken Angara Tangdi', 'item_122': 'Grilled Chicken Angara Tender', 'item_123': 'Grilled Chicken Angara Tender .', 'item_124': 'Grilled Chicken Angara Tenders + Salted Fries', 'item_125': 'Grilled Chicken Dirty Burger', 'item_126': 'Grilled Chicken Dirty Burger .', 'item_127': 'Grilled Chicken Double Dirty Burger', 'item_128': 'Grilled Chicken Ghostbuster Tangdi', 'item_129': 'Grilled Chicken Jamaican Boneless Breast', 'item_130': 'Grilled Chicken Jamaican Slider', 'item_131': 'Grilled Chicken Jamaican Tangdi', 'item_132': 'Grilled Chicken Jamaican Tender', 'item_133': 'Grilled Chicken Jamaican Tender .', 'item_134': 'Grilled Chicken Peri Peri Boneless Breast', 'item_135': 'Grilled Chicken Peri Peri Tangdi', 'item_136': 'Grilled Chicken Peri Peri Tender', 'item_137': 'Grilled Chicken Peri Peri Tender .', 'item_138': 'Grilled Chicken Smoky BBQ Tangdi', 'item_139': 'Grilled Chicken Smoky BBQ Tender', 'item_140': 'Grilled Chicken Smoky BBQ Tender .', 'item_141': 'Grilled Chicken Smoky Bbq Boneless Breast', 'item_142': 'Grilled Chicken Tangdi', 'item_143': 'Grilled Chicken Tangdi Jamaican + Salted Krispers', 'item_144': 'Grilled Paneer Afghani Slider', 'item_145': 'Grilled Paneer Angara Slider', 'item_146': 'Grilled Paneer Burger', 'item_147': 'Grilled Paneer Burger .', 'item_148': 'Grilled Tangdis', 'item_149': 'Grlld Masala Fries', 'item_150': 'Grlld Potatoes', 'item_151': 'Grlld Vegetables', 'item_152': 'Harisa Mayo', 'item_153': 'Harissa Mayo', 'item_154': 'Herbed Potato', 'item_155': 'Honey Mustard sauce', 'item_156': 'Iced Green Tea - Mojito', 'item_157': 'Iced Green Tea - Peach', 'item_158': 'India Dynamite sauce', 'item_159': 'Indian Honey Mustard sauce', 'item_160': 'Indian Masala Cripser Fries', 'item_161': 'Indian Masala Fries', 'item_162': 'Indian Pico De-Gallo', 'item_163': 'Indian Salsa', 'item_164': 'Jamaican Chicken Melt', 'item_165': 'Jamaican Chicken Melt .', 'item_166': 'Jamaican Sauce', 'item_167': 'Just Pepperoni Pide', 'item_168': 'Just Pepperoni Pizza', 'item_169': 'Kabuli Grilled Paneer (8 pcs)', 'item_170': 'Korean Fried Chicken Burger', 'item_171': 'Korean Fried Chicken Slider', 'item_172': 'Loaded Chicken Pepperoni Pizza', 'item_173': 'Loaded Jamaican Grilled Chicken Pizza', 'item_174': 'Loaded Korean Grilled Chicken Pizza', 'item_175': 'Loaded Pork Pepperoni Pizza', 'item_176': 'Makhani Paneer Pizza', 'item_177': 'Makhani Paneer Pizza .', 'item_178': 'Malai Gud Pide', 'item_179': 'Malvani Boneless Grilled Chicken Breast', 'item_180': 'Malvani Grilled Chicken Quarter', 'item_181': 'Malvani Grilled Chicken Tangdi (4pcs)', 'item_182': 'Malvani Paneer Steak', 'item_183': 'Margherita Pizza', 'item_184': 'Masala Omelette Pide', 'item_185': 'Masala Paneer Pide', 'item_186': 'Masala Potato Pide', 'item_187': 'Mayonnaise', 'item_188': 'Mint Mayonnaise', 'item_189': 'Murgh Amritsari Garlic Bread', 'item_190': 'Murgh Amritsari Seekh Melt', 'item_191': 'Murgh Amritsari Seekh Pide', 'item_192': 'Murgh Amritsari Seekh Pizza', 'item_193': 'Mushroom Mozzarella Melt', 'item_194': 'Mushroom Pizza', 'item_195': 'Mutton Seekh Pide', 'item_196': 'Mutton Seekh Pizza', 'item_197': 'Mutton Smashed Burger', 'item_198': 'Mutton Smashed Double Burger', 'item_199': 'OG Cheese Burger', 'item_200': 'OG Cheese Pide', 'item_201': 'Og Cheese Burger', 'item_202': 'Onion Bombs', 'item_203': 'Onion Rings', 'item_204': 'Ooh Masala Fries', 'item_205': 'Ooh Saucy Fries', 'item_206': 'Paneer 65 Paneer Steak', 'item_207': 'Peanut Butter Chocolate Pide', 'item_208': 'Pepperoni Garlic Bread', 'item_209': 'Peri Peri Boneless Grilled Chicken Breast', 'item_210': 'Peri Peri Chicken Melt', 'item_211': 'Peri Peri Crisper Fries', 'item_212': 'Peri Peri Crispers Fries', 'item_213': 'Peri Peri Fries', 'item_214': 'Peri Peri Fries .', 'item_215': 'Peri Peri Grilled Chicken Pizza', 'item_216': 'Peri Peri Grilled Chicken Quarter', 'item_217': 'Peri Peri Grilled Chicken Tangdi (4pcs)', 'item_218': 'Peri Peri Ketchup', 'item_219': 'Peri Peri Krispers', 'item_220': 'Peri Peri Paneer Melt', 'item_221': 'Peri Peri Paneer Pizza', 'item_222': 'Peri Peri Sauce', 'item_223': 'Peri Peri dip', 'item_224': 'Raw Masala Lemon Shikanji', 'item_225': 'Raw Mint Mojito Iced Tea', 'item_226': 'Raw Peach Iced Tea', 'item_227': 'Red Rice', 'item_228': 'Salted Crisper Fries', 'item_229': 'Salted Fries', 'item_230': 'Salted Fries .', 'item_231': 'Salted Krispers', 'item_232': 'Signature Smashed Tenderloin Burger', 'item_233': 'Smoky BBQ Boneless Grilled Chicken Breast', 'item_234': 'Smoky BBQ Grilled Chicken Quarter', 'item_235': 'Smoky BBQ Grilled Chicken Tangdi (4pcs)', 'item_236': 'Smoky BBQ Sauce', 'item_237': 'Smoky BBQ dip', 'item_238': 'Spinach Sumac Pide', 'item_239': 'Tenderloin Smashed Burger', 'item_240': 'Tenderloin Smashed Double Burger', 'item_241': 'Tipsy Tiger Fresh Lime Soda', 'item_242': 'Tipsy Tiger Ginger Ale', 'item_243': 'Tripple Cheese Pizza', 'item_244': 'Very Peri Tenderloin Burger'}\n"
     ]
    }
   ],
   "source": [
    "import re\n",
    "\n",
    "# Function to expand an order line into list of items\n",
    "def expand_items(order_str):\n",
    "    parts = re.findall(r\"(\\d+)\\s*x\\s*([^,]+)\", order_str)\n",
    "    items = []\n",
    "    for qty, name in parts:\n",
    "        item_name = name.strip()\n",
    "        items.extend([item_name] * int(qty))\n",
    "    return items\n",
    "\n",
    "# Apply the expansion to each row\n",
    "df[\"expanded_items\"] = df[\"Items in order\"].apply(expand_items)\n",
    "\n",
    "# Create a global list (flattened)\n",
    "all_items = [item for sublist in df[\"expanded_items\"] for item in sublist]\n",
    "\n",
    "# Create a unique global item map\n",
    "unique_items = sorted(set(all_items))\n",
    "item_map = {f\"item_{i+1}\": name for i, name in enumerate(unique_items)}\n",
    "\n",
    "print(df[[\"Items in order\", \"expanded_items\"]])\n",
    "print(\"\\nGlobal item map:\")\n",
    "print(item_map)"
   ]
  },
  {
   "cell_type": "code",
   "execution_count": 6,
   "id": "d3f47fde",
   "metadata": {},
   "outputs": [
    {
     "name": "stdout",
     "output_type": "stream",
     "text": [
      "=== Full Item Order Frequency List ===\n",
      "\n",
      "                                                  Item  Order Frequency\n",
      "                                        Bageecha Pizza             3334\n",
      "                            Chilli Cheese Garlic Bread             1932\n",
      "                      Bone in Jamaican Grilled Chicken             1770\n",
      "                               All About Chicken Pizza             1728\n",
      "                                  Makhani Paneer Pizza             1524\n",
      "                                      Margherita Pizza             1477\n",
      "                                   Cheesy Garlic Bread             1336\n",
      "                                 Jamaican Chicken Melt             1223\n",
      "                                         Herbed Potato              980\n",
      "                                  Tripple Cheese Pizza              959\n",
      "                           Murgh Amritsari Seekh Pizza              877\n",
      "                     Bone in Smoky Bbq Grilled Chicken              804\n",
      "                                          Animal Fries              779\n",
      "                                Peri Peri Paneer Pizza              767\n",
      "                          Murgh Amritsari Garlic Bread              754\n",
      "                                    Masala Paneer Pide              743\n",
      "                                    Angara Paneer Melt              725\n",
      "                            Murgh Amritsari Seekh Pide              654\n",
      "                       Grilled Chicken Jamaican Tender              636\n",
      "                     Bone in Peri Peri Grilled Chicken              622\n",
      "                        Fried Chicken Peri Peri Tender              594\n",
      "                                  Just Pepperoni Pizza              576\n",
      "                              Mushroom Mozzarella Melt              565\n",
      "                            Murgh Amritsari Seekh Melt              545\n",
      "                               Peri Peri Crisper Fries              544\n",
      "                        Bone in Kabuli Grilled Chicken              537\n",
      "                        Bone in Angara Grilled Chicken              475\n",
      "                                        Mushroom Pizza              452\n",
      "                       Peri Peri Grilled Chicken Pizza              436\n",
      "                          Fried Chicken Classic Tender              413\n",
      "                      Grilled Chicken Smoky BBQ Tender              403\n",
      "                           Fried Chicken Angara Tender              368\n",
      "                      Grilled Chicken Peri Peri Tender              363\n",
      "                                Peri Peri Chicken Melt              334\n",
      "                                Pepperoni Garlic Bread              328\n",
      "                                          Garlic Aioli              317\n",
      "                                       Peri Peri Fries              310\n",
      "                                Bellpepper Onion Pizza              309\n",
      "                                    Spinach Sumac Pide              306\n",
      "                                     Mutton Seekh Pide              301\n",
      "                           Tipsy Tiger Fresh Lime Soda              299\n",
      "                                  Fried Chicken Strips              297\n",
      "                                           Onion Rings              295\n",
      "                               Chicken Pepperoni Pizza              289\n",
      "                                        OG Cheese Pide              281\n",
      "                                          Salted Fries              279\n",
      "                                    Mutton Seekh Pizza              271\n",
      "                                       Grilled Tangdis              267\n",
      "                                   Just Pepperoni Pide              265\n",
      "                         Grilled Chicken Angara Tender              255\n",
      "                      Fried Chicken Ghostbuster Tender              249\n",
      "                                  Salted Crisper Fries              247\n",
      "                                        Malai Gud Pide              234\n",
      "                                    Masala Potato Pide              229\n",
      "                            AAC Grilled Chicken Burger              210\n",
      "                           Indian Masala Cripser Fries              192\n",
      "                                 Fried Chicken Tenders              173\n",
      "                                  Desi Pepperoni Pizza              163\n",
      "                                   Indian Masala Fries              161\n",
      "                        Fried Chicken Beast AAC Burger              146\n",
      "                       Grilled Chicken Jamaican Tangdi              141\n",
      "Bone in Jamaican Grilled Chicken Quarter + Angara Rice              139\n",
      "                                  Bacon Pepperoni Melt              138\n",
      "                                Tipsy Tiger Ginger Ale              135\n",
      "                           Fried Chicken Kabuli Tender              134\n",
      "                          Desi Chicken Pepperoni Pizza              128\n",
      "                                 Peri Peri Paneer Melt              126\n",
      "                      Grilled Chicken Smoky BBQ Tangdi              122\n",
      "                      Grilled Chicken Peri Peri Tangdi              116\n",
      "                                           Harisa Mayo              112\n",
      "                          Peanut Butter Chocolate Pide              112\n",
      "                                           Angara Rice              107\n",
      "                                   AAC Signature Fries              103\n",
      "                         Grilled Chicken Angara Tangdi              100\n",
      "                                       AAC Saucy Fries              100\n",
      "                                Grilled Chicken Tangdi               88\n",
      "     Fried Chicken Peri Peri Tenders + Peri Peri Fries               76\n",
      "                                  Indian Pico De-Gallo               68\n",
      "                           AAC Signature Crisper Fries               66\n",
      "                                 Mutton Smashed Burger               63\n",
      "                                Iced Green Tea - Peach               61\n",
      "                             Raw Masala Lemon Shikanji               59\n",
      "                         Angara Grilled Paneer (8 pcs)               59\n",
      "                    Grilled Chicken Ghostbuster Tangdi               59\n",
      "                                     Dirty Saucy Fries               55\n",
      "                                          Angara Sauce               50\n",
      "                                     GhostBuster Sauce               50\n",
      "                                          Indian Salsa               48\n",
      "              Grilled Chicken Jamaican Boneless Breast               48\n",
      "                                            Mayonnaise               47\n",
      "                                  Masala Omelette Pide               47\n",
      "                               Iced Green Tea - Mojito               47\n",
      "                                      AAC Special Slaw               47\n",
      "                                        Jamaican Sauce               46\n",
      "                                           Onion Bombs               45\n",
      "                          Grilled Chicken Dirty Burger               45\n",
      "     Grilled Chicken Tangdi Jamaican + Salted Krispers               41\n",
      "                                          Harissa Mayo               41\n",
      "                                       Smoky BBQ Sauce               39\n",
      "            Chicken 65 Boneless Grilled Chicken Breast               35\n",
      "                         Kabuli Grilled Paneer (8 pcs)               35\n",
      "                                              Coleslaw               34\n",
      "                             AAC Grilled Paneer Burger               34\n",
      "                Angara Boneless Grilled Chicken Breast               33\n",
      "                                  Angara Aloo Tuk Tuki               32\n",
      "                                         Cafreal Sauce               31\n",
      "                           Loaded Pork Pepperoni Pizza               31\n",
      "         Grilled Chicken Angara Tenders + Salted Fries               30\n",
      "                    Bone in Jamaican Grilled Chicken .               28\n",
      "   Fried Chicken Classic Tenders + AAC Signature Fries               27\n",
      "                   Loaded Korean Grilled Chicken Pizza               27\n",
      "                                         Crushed Papad               27\n",
      "                                        Animal Fries .               27\n",
      "             Grilled Chicken Smoky Bbq Boneless Breast               26\n",
      "                 Loaded Jamaican Grilled Chicken Pizza               25\n",
      "                                  Brocolli Onion Pizza               23\n",
      "                               AAC Fried Paneer Burger               22\n",
      "                Grilled Chicken Angara Boneless Breast               22\n",
      "             Grilled Chicken Peri Peri Boneless Breast               22\n",
      "             Smoky BBQ Boneless Grilled Chicken Breast               22\n",
      "                                     Atomic Veg Burger               21\n",
      "             Peri Peri Boneless Grilled Chicken Breast               21\n",
      "                                           Cafreal dip               21\n",
      "                   Bone in Smoky Bbq Grilled Chicken .               19\n",
      "                                  India Dynamite sauce               19\n",
      "        Carribean Jerk Boneless Grilled Chicken Breast               18\n",
      "                                     Peri Peri Fries .               17\n",
      "                  Classic Bacon Melt Tenderloin Burger               17\n",
      "                      Dirty Saucy Chicken Loaded Fries               16\n",
      "                                        Dynamite sauce               15\n",
      "               Grilled Chicken Afghani Boneless Breast               15\n",
      "                        Fried Chicken Classic Tender .               15\n",
      "                                       Peri Peri Sauce               14\n",
      "                                        Salted Fries .               14\n",
      "                                Chicken Smashed Burger               12\n",
      "                        Loaded Chicken Pepperoni Pizza               12\n",
      "                                 Grilled Paneer Burger               12\n",
      "                                 Combo For 1 - Non Veg               12\n",
      "                             Tenderloin Smashed Burger               11\n",
      "                                       Ooh Saucy Fries               11\n",
      "                      Fried Chicken Peri Peri Tender .               10\n",
      "                   Bone in Peri Peri Grilled Chicken .               10\n",
      "                                     Combo For 1 - Veg               10\n",
      "                             Dirty Indian Masala Fries               10\n",
      "                Carribean Jerk Grilled Chicken Quarter               10\n",
      "                                       Salted Krispers                9\n",
      "                           Fried Chicken Tangdi - 2pcs                9\n",
      "                            Indian Honey Mustard sauce                9\n",
      "                                     Cheesy Veg Burger                8\n",
      "                                    Peri Peri Krispers                8\n",
      "                              AAC Fried Chicken Burger                8\n",
      "                                    Grlld Masala Fries                8\n",
      "                              Chocolate Walnut Brownie                8\n",
      "                                   Honey Mustard sauce                8\n",
      "                   Fried Chicken Boneless Bites - 6pcs                8\n",
      "                                              Red Rice                7\n",
      "               Malvani Boneless Grilled Chicken Breast                7\n",
      "                           Dirty Grilled Paneer Burger                7\n",
      "                                      Grlld Vegetables                7\n",
      "                       Grilled Chicken Angara Tender .                7\n",
      "                         Fried Chicken Angara Tender .                7\n",
      "                          AAC Grilled Chicken Burger .                7\n",
      "                            Fried Chicken Beast Burger                6\n",
      "                                     Desi Masala Fries                6\n",
      "                                AAC Signature Krispers                6\n",
      "                    Grilled Chicken Smoky BBQ Tender .                5\n",
      "                           Korean Fried Chicken Burger                5\n",
      "                                 Fried Mushroom Burger                5\n",
      "                     Grilled Chicken Jamaican Tender .                5\n",
      "                          Chilli Cheese Garlic Bread .                4\n",
      "                      Bone in Angara Grilled Chicken .                4\n",
      "                         Butter Chicken Grilled Burger                4\n",
      "                         Fried Chicken Kabuli Tender .                4\n",
      "                            Fried Chicken Dirty Burger                4\n",
      "                                            Chicken 69                4\n",
      "                            Fried Paneer Angara Slider                4\n",
      "                                 Combo for 2 - Non Veg                4\n",
      "                                        Grlld Potatoes                4\n",
      "          Carribean Jerk Grilled Chicken Tangdi (4pcs)                4\n",
      "                    Chicken 65 Grilled Chicken Quarter                4\n",
      "                          Grilled Paneer Angara Slider                3\n",
      "               Peri Peri Grilled Chicken Tangdi (4pcs)                3\n",
      "                     Fried Chicken Bites (Bone) - 4pcs                3\n",
      "                                             Cous Cous                3\n",
      "                               Jamaican Chicken Melt .                3\n",
      "                          Mutton Smashed Double Burger                3\n",
      "                                      Bageecha Pizza .                3\n",
      "                    Grilled Chicken Peri Peri Tender .                3\n",
      "                              Peri Peri Crispers Fries                2\n",
      "                         Chicken Smashed Double Burger                2\n",
      "                                         Peri Peri dip                2\n",
      "                                      Og Cheese Burger                2\n",
      "               Smoky BBQ Grilled Chicken Tangdi (4pcs)                2\n",
      "                            Desi Masala Crispers Fries                2\n",
      "                           Very Peri Tenderloin Burger                2\n",
      "                                           Combo For 1                2\n",
      "                      Tenderloin Smashed Double Burger                2\n",
      "                     Dirty Indian Masala Crisper Fries                2\n",
      "                           Korean Fried Chicken Slider                2\n",
      "                                       Mint Mayonnaise                2\n",
      "                  Angara Grilled Chicken Tangdi (4pcs)                2\n",
      "                                Makhani Paneer Pizza .                2\n",
      "                   Grilled Chicken Double Dirty Burger                2\n",
      "                                             BC Burger                2\n",
      "                                   Bangin' Soya Burger                2\n",
      "                                         Smoky BBQ dip                2\n",
      "                                    Carribean Jerk dip                2\n",
      "                                   Atomic Veg Burger .                2\n",
      "              Chicken 65 Grilled Chicken Tangdi (4pcs)                2\n",
      "                             Chicken Smashed Burgers .                2\n",
      "                                     Dirty Indian Slaw                2\n",
      "                        Grilled Chicken Dirty Burger .                2\n",
      "                        Angara Grilled Chicken Quarter                2\n",
      "                               Grilled Paneer Burger .                2\n",
      "                       Malvani Grilled Chicken Quarter                2\n",
      "                     Smoky BBQ Grilled Chicken Quarter                2\n",
      "                          Fire Alarm Tenderloin Burger                1\n",
      "                           Fried Chicken Tangdi - 4pcs                1\n",
      "                Fried Chicken 65 Masala Boneless Bites                1\n",
      "                                  Malvani Paneer Steak                1\n",
      "                                    Dirty Masala Fries                1\n",
      "             Fried Chicken Desi Peri Peri Bites (Bone)                1\n",
      "                           Fried Chicken Angara Slider                1\n",
      "                                     Combo for 2 - Veg                1\n",
      "                                     Combo for 4 - Veg                1\n",
      "                                      Ooh Masala Fries                1\n",
      "                                      OG Cheese Burger                1\n",
      "                         Grilled Paneer Afghani Slider                1\n",
      "                  Fried Chicken Boneless Bites - 10pcs                1\n",
      "                                    Raw Peach Iced Tea                1\n",
      "                                     Peri Peri Ketchup                1\n",
      "                     Fried Chicken Bites (Bone) - 8pcs                1\n",
      "                 Malvani Grilled Chicken Tangdi (4pcs)                1\n",
      "                              Dirty Indian Soya Chunks                1\n",
      "                              Raw Mint Mojito Iced Tea                1\n",
      "                   Signature Smashed Tenderloin Burger                1\n",
      "                     Peri Peri Grilled Chicken Quarter                1\n",
      "                    Dirty Saucy Chicken Loaded Fries .                1\n",
      "                Classic Bacon Melt Tenderloin Burger .                1\n",
      "                                 Fried Paneer Burger .                1\n",
      "                                Paneer 65 Paneer Steak                1\n",
      "                                   Angara Paneer Steak                1\n",
      "                             Grilled Chicken 69 Burger                1\n",
      "                       Grilled Chicken Jamaican Slider                1\n"
     ]
    }
   ],
   "source": [
    "import matplotlib.pyplot as plt\n",
    "\n",
    "# --- Step 3: Count frequencies ---\n",
    "item_counts = pd.Series(all_items).value_counts().reset_index()\n",
    "item_counts.columns = [\"Item\", \"Order Frequency\"]\n",
    "\n",
    "# --- Step 4: Print the full list sorted by frequency ---\n",
    "print(\"=== Full Item Order Frequency List ===\\n\")\n",
    "print(item_counts.to_string(index=False))"
   ]
  },
  {
   "cell_type": "code",
   "execution_count": 7,
   "id": "894ffae6",
   "metadata": {},
   "outputs": [
    {
     "data": {
      "image/png": "[encoded data removed]",
      "text/plain": [
       "<Figure size 1000x600 with 1 Axes>"
      ]
     },
     "metadata": {},
     "output_type": "display_data"
    }
   ],
   "source": [
    "# --- Step 5: Plot top 20 items ---\n",
    "plt.figure(figsize=(10,6))\n",
    "plt.barh(item_counts[\"Item\"].head(20)[::-1], item_counts[\"Order Frequency\"].head(20)[::-1])\n",
    "plt.title(\"Top 20 Most Popular Dishes\")\n",
    "plt.xlabel(\"Order Frequency\")\n",
    "plt.ylabel(\"Dish Name\")\n",
    "plt.tight_layout()\n",
    "plt.show()"
   ]
  },
  {
   "cell_type": "code",
   "execution_count": 8,
   "id": "c966e478",
   "metadata": {},
   "outputs": [
    {
     "data": {
      "text/plain": [
       "Index(['Restaurant ID', 'Restaurant name', 'Subzone', 'City', 'Order ID',\n",
       "       'Order Placed At', 'Order Status', 'Delivery', 'Distance',\n",
       "       'Items in order', 'Instructions', 'Discount construct', 'Bill subtotal',\n",
       "       'Packaging charges', 'Restaurant discount (Promo)',\n",
       "       'Restaurant discount (Flat offs, Freebies & others)', 'Gold discount',\n",
       "       'Brand pack discount', 'Total', 'Rating', 'Review',\n",
       "       'Cancellation / Rejection reason',\n",
       "       'Restaurant compensation (Cancellation)',\n",
       "       'Restaurant penalty (Rejection)', 'KPT duration (minutes)',\n",
       "       'Rider wait time (minutes)', 'Order Ready Marked',\n",
       "       'Customer complaint tag', 'Customer ID', 'expanded_items'],\n",
       "      dtype='object')"
      ]
     },
     "execution_count": 8,
     "metadata": {},
     "output_type": "execute_result"
    }
   ],
   "source": [
    "df.columns"
   ]
  },
  {
   "cell_type": "code",
   "execution_count": 9,
   "id": "f231ac80",
   "metadata": {},
   "outputs": [
    {
     "name": "stdout",
     "output_type": "stream",
     "text": [
      "<class 'pandas.core.frame.DataFrame'>\n",
      "RangeIndex: 21321 entries, 0 to 21320\n",
      "Data columns (total 30 columns):\n",
      " #   Column                                              Non-Null Count  Dtype  \n",
      "---  ------                                              --------------  -----  \n",
      " 0   Restaurant ID                                       21321 non-null  int64  \n",
      " 1   Restaurant name                                     21321 non-null  object \n",
      " 2   Subzone                                             21321 non-null  object \n",
      " 3   City                                                21321 non-null  object \n",
      " 4   Order ID                                            21321 non-null  int64  \n",
      " 5   Order Placed At                                     21321 non-null  object \n",
      " 6   Order Status                                        21321 non-null  object \n",
      " 7   Delivery                                            21321 non-null  object \n",
      " 8   Distance                                            21321 non-null  object \n",
      " 9   Items in order                                      21321 non-null  object \n",
      " 10  Instructions                                        720 non-null    object \n",
      " 11  Discount construct                                  15823 non-null  object \n",
      " 12  Bill subtotal                                       21321 non-null  float64\n",
      " 13  Packaging charges                                   21321 non-null  float64\n",
      " 14  Restaurant discount (Promo)                         21321 non-null  float64\n",
      " 15  Restaurant discount (Flat offs, Freebies & others)  21321 non-null  float64\n",
      " 16  Gold discount                                       21321 non-null  float64\n",
      " 17  Brand pack discount                                 21321 non-null  float64\n",
      " 18  Total                                               21321 non-null  float64\n",
      " 19  Rating                                              2491 non-null   float64\n",
      " 20  Review                                              296 non-null    object \n",
      " 21  Cancellation / Rejection reason                     186 non-null    object \n",
      " 22  Restaurant compensation (Cancellation)              133 non-null    float64\n",
      " 23  Restaurant penalty (Rejection)                      3 non-null      float64\n",
      " 24  KPT duration (minutes)                              21026 non-null  float64\n",
      " 25  Rider wait time (minutes)                           21153 non-null  float64\n",
      " 26  Order Ready Marked                                  21321 non-null  object \n",
      " 27  Customer complaint tag                              469 non-null    object \n",
      " 28  Customer ID                                         21321 non-null  object \n",
      " 29  expanded_items                                      21321 non-null  object \n",
      "dtypes: float64(12), int64(2), object(16)\n",
      "memory usage: 4.9+ MB\n"
     ]
    }
   ],
   "source": [
    "df.info()"
   ]
  },
  {
   "cell_type": "code",
   "execution_count": 10,
   "id": "a8d48130",
   "metadata": {},
   "outputs": [
    {
     "data": {
      "text/plain": [
       "(21321, 30)"
      ]
     },
     "execution_count": 10,
     "metadata": {},
     "output_type": "execute_result"
    }
   ],
   "source": [
    "df.shape"
   ]
  },
  {
   "cell_type": "code",
   "execution_count": 11,
   "id": "1885f561",
   "metadata": {},
   "outputs": [
    {
     "data": {
      "text/html": [
       "<div>\n",
       "<style scoped>\n",
       "    .dataframe tbody tr th:only-of-type {\n",
       "        vertical-align: middle;\n",
       "    }\n",
       "\n",
       "    .dataframe tbody tr th {\n",
       "        vertical-align: top;\n",
       "    }\n",
       "\n",
       "    .dataframe thead th {\n",
       "        text-align: right;\n",
       "    }\n",
       "</style>\n",
       "<table border=\"1\" class=\"dataframe\">\n",
       "  <thead>\n",
       "    <tr style=\"text-align: right;\">\n",
       "      <th></th>\n",
       "      <th>Restaurant ID</th>\n",
       "      <th>Restaurant name</th>\n",
       "      <th>Subzone</th>\n",
       "      <th>City</th>\n",
       "      <th>Order ID</th>\n",
       "      <th>Order Placed At</th>\n",
       "      <th>Order Status</th>\n",
       "      <th>Delivery</th>\n",
       "      <th>Distance</th>\n",
       "      <th>Items in order</th>\n",
       "      <th>Discount construct</th>\n",
       "      <th>expanded_items</th>\n",
       "    </tr>\n",
       "  </thead>\n",
       "  <tbody>\n",
       "    <tr>\n",
       "      <th>0</th>\n",
       "      <td>20320607</td>\n",
       "      <td>Swaad</td>\n",
       "      <td>Sector 4</td>\n",
       "      <td>Delhi NCR</td>\n",
       "      <td>6168884918</td>\n",
       "      <td>11:38 PM, September 10 2024</td>\n",
       "      <td>Delivered</td>\n",
       "      <td>Zomato Delivery</td>\n",
       "      <td>3km</td>\n",
       "      <td>1 x Grilled Chicken Jamaican Tender, 1 x Grill...</td>\n",
       "      <td>40% off upto Rs.80</td>\n",
       "      <td>[Grilled Chicken Jamaican Tender, Grilled Chic...</td>\n",
       "    </tr>\n",
       "    <tr>\n",
       "      <th>1</th>\n",
       "      <td>20320607</td>\n",
       "      <td>Swaad</td>\n",
       "      <td>Sector 4</td>\n",
       "      <td>Delhi NCR</td>\n",
       "      <td>6170707559</td>\n",
       "      <td>11:34 PM, September 10 2024</td>\n",
       "      <td>Delivered</td>\n",
       "      <td>Zomato Delivery</td>\n",
       "      <td>2km</td>\n",
       "      <td>1 x Peri Peri Fries, 1 x Fried Chicken Angara ...</td>\n",
       "      <td>Flat Rs.175 off</td>\n",
       "      <td>[Peri Peri Fries, Fried Chicken Angara Tender,...</td>\n",
       "    </tr>\n",
       "    <tr>\n",
       "      <th>2</th>\n",
       "      <td>20320607</td>\n",
       "      <td>Swaad</td>\n",
       "      <td>Sector 4</td>\n",
       "      <td>Delhi NCR</td>\n",
       "      <td>6169375019</td>\n",
       "      <td>03:52 PM, September 10 2024</td>\n",
       "      <td>Delivered</td>\n",
       "      <td>Zomato Delivery</td>\n",
       "      <td>&lt;1km</td>\n",
       "      <td>1 x Bone in Peri Peri Grilled Chicken</td>\n",
       "      <td>40% off upto Rs.80</td>\n",
       "      <td>[Bone in Peri Peri Grilled Chicken]</td>\n",
       "    </tr>\n",
       "    <tr>\n",
       "      <th>3</th>\n",
       "      <td>20320607</td>\n",
       "      <td>Swaad</td>\n",
       "      <td>Sector 4</td>\n",
       "      <td>Delhi NCR</td>\n",
       "      <td>6151677434</td>\n",
       "      <td>03:45 PM, September 10 2024</td>\n",
       "      <td>Delivered</td>\n",
       "      <td>Zomato Delivery</td>\n",
       "      <td>2km</td>\n",
       "      <td>1 x Fried Chicken Ghostbuster Tender, 1 x Anga...</td>\n",
       "      <td>40% off upto Rs.80</td>\n",
       "      <td>[Fried Chicken Ghostbuster Tender, Angara Gril...</td>\n",
       "    </tr>\n",
       "    <tr>\n",
       "      <th>4</th>\n",
       "      <td>20320607</td>\n",
       "      <td>Swaad</td>\n",
       "      <td>Sector 4</td>\n",
       "      <td>Delhi NCR</td>\n",
       "      <td>6167540897</td>\n",
       "      <td>03:04 PM, September 10 2024</td>\n",
       "      <td>Delivered</td>\n",
       "      <td>Zomato Delivery</td>\n",
       "      <td>2km</td>\n",
       "      <td>1 x Peri Peri Krispers, 1 x Fried Chicken Anga...</td>\n",
       "      <td>40% off upto Rs.80</td>\n",
       "      <td>[Peri Peri Krispers, Fried Chicken Angara Tender]</td>\n",
       "    </tr>\n",
       "  </tbody>\n",
       "</table>\n",
       "</div>"
      ],
      "text/plain": [
       "   Restaurant ID Restaurant name   Subzone       City    Order ID  \\\n",
       "0       20320607           Swaad  Sector 4  Delhi NCR  6168884918   \n",
       "1       20320607           Swaad  Sector 4  Delhi NCR  6170707559   \n",
       "2       20320607           Swaad  Sector 4  Delhi NCR  6169375019   \n",
       "3       20320607           Swaad  Sector 4  Delhi NCR  6151677434   \n",
       "4       20320607           Swaad  Sector 4  Delhi NCR  6167540897   \n",
       "\n",
       "               Order Placed At Order Status         Delivery Distance  \\\n",
       "0  11:38 PM, September 10 2024    Delivered  Zomato Delivery      3km   \n",
       "1  11:34 PM, September 10 2024    Delivered  Zomato Delivery      2km   \n",
       "2  03:52 PM, September 10 2024    Delivered  Zomato Delivery     <1km   \n",
       "3  03:45 PM, September 10 2024    Delivered  Zomato Delivery      2km   \n",
       "4  03:04 PM, September 10 2024    Delivered  Zomato Delivery      2km   \n",
       "\n",
       "                                      Items in order  Discount construct  \\\n",
       "0  1 x Grilled Chicken Jamaican Tender, 1 x Grill...  40% off upto Rs.80   \n",
       "1  1 x Peri Peri Fries, 1 x Fried Chicken Angara ...     Flat Rs.175 off   \n",
       "2              1 x Bone in Peri Peri Grilled Chicken  40% off upto Rs.80   \n",
       "3  1 x Fried Chicken Ghostbuster Tender, 1 x Anga...  40% off upto Rs.80   \n",
       "4  1 x Peri Peri Krispers, 1 x Fried Chicken Anga...  40% off upto Rs.80   \n",
       "\n",
       "                                      expanded_items  \n",
       "0  [Grilled Chicken Jamaican Tender, Grilled Chic...  \n",
       "1  [Peri Peri Fries, Fried Chicken Angara Tender,...  \n",
       "2                [Bone in Peri Peri Grilled Chicken]  \n",
       "3  [Fried Chicken Ghostbuster Tender, Angara Gril...  \n",
       "4  [Peri Peri Krispers, Fried Chicken Angara Tender]  "
      ]
     },
     "execution_count": 11,
     "metadata": {},
     "output_type": "execute_result"
    }
   ],
   "source": [
    "# List of post-order and leaking columns to drop\n",
    "# Drop columns irrelevant for pre-order demand prediction\n",
    "drop_cols = [\n",
    "    #  post-order columns and unwanted columns to be dropped\n",
    "    'Instructions', 'Rating', 'Review', 'Cancellation / Rejection reason',\n",
    "    'Restaurant compensation (Cancellation)', 'Restaurant penalty (Rejection)',\n",
    "    'Customer complaint tag', 'Order Ready Marked', 'Customer ID',\n",
    "    'KPT duration (minutes)', 'Rider wait time (minutes)',\n",
    "    'Bill subtotal',\n",
    "    'Packaging charges',\n",
    "    'Restaurant discount (Promo)',\n",
    "    'Restaurant discount (Flat offs, Freebies & others)',\n",
    "    'Gold discount',\n",
    "    'Brand pack discount',\n",
    "    'Total'\n",
    "]\n",
    "\n",
    "df = df.drop(columns=drop_cols, errors='ignore')\n",
    "df.head()"
   ]
  },
  {
   "cell_type": "code",
   "execution_count": 12,
   "id": "c29572c7",
   "metadata": {},
   "outputs": [
    {
     "data": {
      "text/plain": [
       "(21321, 12)"
      ]
     },
     "execution_count": 12,
     "metadata": {},
     "output_type": "execute_result"
    }
   ],
   "source": [
    "df.shape"
   ]
  },
  {
   "cell_type": "code",
   "execution_count": 13,
   "id": "4be5f9fc",
   "metadata": {},
   "outputs": [
    {
     "data": {
      "text/plain": [
       "19114"
      ]
     },
     "execution_count": 13,
     "metadata": {},
     "output_type": "execute_result"
    }
   ],
   "source": [
    "# get all unique day from order date\n",
    "df[\"Order Placed At\"].nunique()"
   ]
  },
  {
   "cell_type": "code",
   "execution_count": 14,
   "id": "c4ad4169",
   "metadata": {},
   "outputs": [
    {
     "data": {
      "text/plain": [
       "Subzone\n",
       "Greater Kailash 2 (GK2)    7380\n",
       "Sector 4                   6530\n",
       "DLF Phase 1                3686\n",
       "Sector 135                 2442\n",
       "Vasant Kunj                 920\n",
       "Shahdara                    360\n",
       "Chittaranjan Park             2\n",
       "Sikandarpur                   1\n",
       "Name: count, dtype: int64"
      ]
     },
     "execution_count": 14,
     "metadata": {},
     "output_type": "execute_result"
    }
   ],
   "source": [
    "df[\"Subzone\"].value_counts()"
   ]
  },
  {
   "cell_type": "code",
   "execution_count": 15,
   "id": "4e34661c",
   "metadata": {},
   "outputs": [
    {
     "data": {
      "text/plain": [
       "Restaurant name\n",
       "Aura Pizzas             14548\n",
       "Swaad                    6332\n",
       "Dilli Burger Adda         227\n",
       "Tandoori Junction         154\n",
       "The Chicken Junction       32\n",
       "Masala Junction            28\n",
       "Name: count, dtype: int64"
      ]
     },
     "execution_count": 15,
     "metadata": {},
     "output_type": "execute_result"
    }
   ],
   "source": [
    "df[\"Restaurant name\"].value_counts()"
   ]
  },
  {
   "cell_type": "code",
   "execution_count": 16,
   "id": "ce238298",
   "metadata": {},
   "outputs": [],
   "source": [
    "# Convert \"Order Placed At\" to datetime\n",
    "df[\"Order_Datetime\"] = pd.to_datetime(df[\"Order Placed At\"], format=\"%I:%M %p, %B %d %Y\")"
   ]
  },
  {
   "cell_type": "code",
   "execution_count": 17,
   "id": "25d0f061",
   "metadata": {},
   "outputs": [
    {
     "data": {
      "text/plain": [
       "(array(['Delhi NCR'], dtype=object),\n",
       " array(['Sector 4', 'Greater Kailash 2 (GK2)', 'DLF Phase 1', 'Sector 135',\n",
       "        'Vasant Kunj', 'Shahdara', 'Sikandarpur', 'Chittaranjan Park'],\n",
       "       dtype=object))"
      ]
     },
     "execution_count": 17,
     "metadata": {},
     "output_type": "execute_result"
    }
   ],
   "source": [
    "# Get unique values in city and subzone\n",
    "unique_cities = df[\"City\"].unique()\n",
    "unique_subzones = df[\"Subzone\"].unique()\n",
    "unique_cities, unique_subzones"
   ]
  },
  {
   "cell_type": "code",
   "execution_count": 18,
   "id": "30a94715",
   "metadata": {},
   "outputs": [
    {
     "name": "stderr",
     "output_type": "stream",
     "text": [
      "/var/folders/28/vn55ny5s5114jn9bjs666k2w0000gn/T/ipykernel_4573/1226509848.py:6: FutureWarning: \n",
      "\n",
      "Passing `palette` without assigning `hue` is deprecated and will be removed in v0.14.0. Assign the `y` variable to `hue` and set `legend=False` for the same effect.\n",
      "\n",
      "  sns.countplot(y=df[col], order=df[col].value_counts().index, palette=\"Set2\")\n"
     ]
    },
    {
     "data": {
      "image/png": "[encoded data removed]",
      "text/plain": [
       "<Figure size 1000x400 with 1 Axes>"
      ]
     },
     "metadata": {},
     "output_type": "display_data"
    },
    {
     "name": "stderr",
     "output_type": "stream",
     "text": [
      "/var/folders/28/vn55ny5s5114jn9bjs666k2w0000gn/T/ipykernel_4573/1226509848.py:6: FutureWarning: \n",
      "\n",
      "Passing `palette` without assigning `hue` is deprecated and will be removed in v0.14.0. Assign the `y` variable to `hue` and set `legend=False` for the same effect.\n",
      "\n",
      "  sns.countplot(y=df[col], order=df[col].value_counts().index, palette=\"Set2\")\n"
     ]
    },
    {
     "data": {
      "image/png": "[encoded data removed]",
      "text/plain": [
       "<Figure size 1000x400 with 1 Axes>"
      ]
     },
     "metadata": {},
     "output_type": "display_data"
    }
   ],
   "source": [
    "import seaborn as sns\n",
    "\n",
    "cat_cols = ['Restaurant name','Subzone']\n",
    "for col in cat_cols:\n",
    "    plt.figure(figsize=(10,4))\n",
    "    sns.countplot(y=df[col], order=df[col].value_counts().index, palette=\"Set2\")\n",
    "    plt.title(f'Counts per {col}')\n",
    "    plt.show()"
   ]
  },
  {
   "cell_type": "code",
   "execution_count": 19,
   "id": "d7f55494",
   "metadata": {},
   "outputs": [
    {
     "name": "stderr",
     "output_type": "stream",
     "text": [
      "/var/folders/28/vn55ny5s5114jn9bjs666k2w0000gn/T/ipykernel_4573/1603766483.py:8: FutureWarning: \n",
      "\n",
      "Passing `palette` without assigning `hue` is deprecated and will be removed in v0.14.0. Assign the `x` variable to `hue` and set `legend=False` for the same effect.\n",
      "\n",
      "  sns.barplot(x=orders_by_hour.index, y=orders_by_hour.values, palette=\"viridis\")\n"
     ]
    },
    {
     "data": {
      "image/png": "[encoded data removed]",
      "text/plain": [
       "<Figure size 1000x500 with 1 Axes>"
      ]
     },
     "metadata": {},
     "output_type": "display_data"
    }
   ],
   "source": [
    "import matplotlib.pyplot as plt\n",
    "import seaborn as sns\n",
    "\n",
    "df['hour'] = df['Order_Datetime'].dt.hour\n",
    "orders_by_hour = df.groupby('hour')['Order ID'].count()\n",
    "\n",
    "plt.figure(figsize=(10,5))\n",
    "sns.barplot(x=orders_by_hour.index, y=orders_by_hour.values, palette=\"viridis\")\n",
    "plt.title(\"Hourly Order Count\")\n",
    "plt.xlabel(\"Hour of Day\")\n",
    "plt.ylabel(\"Number of Orders\")\n",
    "plt.show()\n"
   ]
  },
  {
   "cell_type": "code",
   "execution_count": 20,
   "id": "00618e4a",
   "metadata": {},
   "outputs": [
    {
     "name": "stderr",
     "output_type": "stream",
     "text": [
      "/var/folders/28/vn55ny5s5114jn9bjs666k2w0000gn/T/ipykernel_4573/918526561.py:7: FutureWarning: \n",
      "\n",
      "Passing `palette` without assigning `hue` is deprecated and will be removed in v0.14.0. Assign the `x` variable to `hue` and set `legend=False` for the same effect.\n",
      "\n",
      "  sns.barplot(x=orders_by_day.index, y=orders_by_day.values, palette=\"coolwarm\")\n"
     ]
    },
    {
     "data": {
      "image/png": "[encoded data removed]",
      "text/plain": [
       "<Figure size 1000x500 with 1 Axes>"
      ]
     },
     "metadata": {},
     "output_type": "display_data"
    }
   ],
   "source": [
    "df['day_of_week'] = df['Order_Datetime'].dt.day_name()\n",
    "orders_by_day = df.groupby('day_of_week')['Order ID'].count().reindex([\n",
    "    \"Monday\",\"Tuesday\",\"Wednesday\",\"Thursday\",\"Friday\",\"Saturday\",\"Sunday\"\n",
    "])\n",
    "\n",
    "plt.figure(figsize=(10,5))\n",
    "sns.barplot(x=orders_by_day.index, y=orders_by_day.values, palette=\"coolwarm\")\n",
    "plt.title(\"Orders by Day of Week\")\n",
    "plt.ylabel(\"Number of Orders\")\n",
    "plt.xticks(rotation=45)\n",
    "plt.show()"
   ]
  },
  {
   "cell_type": "code",
   "execution_count": 21,
   "id": "2b84dc6d",
   "metadata": {},
   "outputs": [
    {
     "name": "stderr",
     "output_type": "stream",
     "text": [
      "/var/folders/28/vn55ny5s5114jn9bjs666k2w0000gn/T/ipykernel_4573/2251142263.py:16: FutureWarning: \n",
      "\n",
      "Passing `palette` without assigning `hue` is deprecated and will be removed in v0.14.0. Assign the `x` variable to `hue` and set `legend=False` for the same effect.\n",
      "\n",
      "  sns.countplot(x=\"meal_slot\", data=df, order=[\"Breakfast\",\"Lunch\",\"Dinner\",\"After Hours\"], palette=\"magma\")\n"
     ]
    },
    {
     "data": {
      "image/png": "[encoded data removed]",
      "text/plain": [
       "<Figure size 800x500 with 1 Axes>"
      ]
     },
     "metadata": {},
     "output_type": "display_data"
    }
   ],
   "source": [
    "# Define meal slots\n",
    "def meal_slot(hour):\n",
    "    if 6 <= hour < 11:\n",
    "        return \"Breakfast\"\n",
    "    elif 11 <= hour < 16:\n",
    "        return \"Lunch\"\n",
    "    elif 16 <= hour < 21:\n",
    "        return \"Dinner\"\n",
    "    else:\n",
    "        return \"After Hours\"\n",
    "\n",
    "df[\"meal_slot\"] = df[\"hour\"].apply(meal_slot)\n",
    "\n",
    "# Plot demand by meal slot\n",
    "plt.figure(figsize=(8,5))\n",
    "sns.countplot(x=\"meal_slot\", data=df, order=[\"Breakfast\",\"Lunch\",\"Dinner\",\"After Hours\"], palette=\"magma\")\n",
    "plt.title(\"Order Volume by Meal Slot\")\n",
    "plt.ylabel(\"Number of Orders\")\n",
    "plt.show()"
   ]
  },
  {
   "cell_type": "code",
   "execution_count": 22,
   "id": "2aa97c56",
   "metadata": {},
   "outputs": [
    {
     "name": "stdout",
     "output_type": "stream",
     "text": [
      "       Order_Datetime  is_weekend  is_holiday\n",
      "0 2024-09-10 23:38:00       False       False\n",
      "1 2024-09-10 23:34:00       False       False\n",
      "2 2024-09-10 15:52:00       False       False\n",
      "3 2024-09-10 15:45:00       False       False\n",
      "4 2024-09-10 15:04:00       False       False\n"
     ]
    }
   ],
   "source": [
    "import holidays\n",
    "\n",
    "# Weekend and month features\n",
    "df['is_weekend'] = df['Order_Datetime'].dt.dayofweek >= 5\n",
    "\n",
    "# Holiday feature (using Indian public holidays)\n",
    "years = df['Order_Datetime'].dt.year.unique()\n",
    "indian_holidays = holidays.India(years=years)\n",
    "\n",
    "df['is_holiday'] = df['Order_Datetime'].dt.date.isin(indian_holidays)\n",
    "\n",
    "# Quick check\n",
    "print(df[['Order_Datetime', 'is_weekend', 'is_holiday']].head())\n"
   ]
  },
  {
   "cell_type": "code",
   "execution_count": 23,
   "id": "0b34f439",
   "metadata": {},
   "outputs": [
    {
     "name": "stdout",
     "output_type": "stream",
     "text": [
      "           Order_Datetime  is_weekend  is_holiday\n",
      "1311  2024-09-16 20:42:00       False        True\n",
      "1312  2024-09-16 18:10:00       False        True\n",
      "1313  2024-09-16 14:55:00       False        True\n",
      "1314  2024-09-16 13:26:00       False        True\n",
      "1315  2024-09-16 12:24:00       False        True\n",
      "...                   ...         ...         ...\n",
      "17218 2024-12-25 16:47:00       False        True\n",
      "17219 2024-12-25 14:24:00       False        True\n",
      "17220 2024-12-25 14:18:00       False        True\n",
      "17289 2024-12-25 21:34:00       False        True\n",
      "17290 2024-12-25 12:43:00       False        True\n",
      "\n",
      "[864 rows x 3 columns]\n"
     ]
    }
   ],
   "source": [
    "#checking to see the days where it was a weekday but also a holiday\n",
    "weekday_holidays = df[(df['is_weekend'] == False) & (df['is_holiday'] == True)]\n",
    "print(weekday_holidays[['Order_Datetime', 'is_weekend', 'is_holiday']])"
   ]
  },
  {
   "cell_type": "code",
   "execution_count": 24,
   "id": "d693de29",
   "metadata": {},
   "outputs": [
    {
     "data": {
      "image/png": "[encoded data removed]",
      "text/plain": [
       "<Figure size 800x500 with 1 Axes>"
      ]
     },
     "metadata": {},
     "output_type": "display_data"
    }
   ],
   "source": [
    "import matplotlib.pyplot as plt\n",
    "import seaborn as sns\n",
    "\n",
    "plt.figure(figsize=(8,5))\n",
    "sns.countplot(data=df, x='is_weekend', hue='is_holiday', palette='coolwarm')\n",
    "plt.title('Orders on Weekends vs Holidays')\n",
    "plt.xlabel('Is Weekend')\n",
    "plt.ylabel('Number of Orders')\n",
    "plt.show()\n"
   ]
  },
  {
   "cell_type": "code",
   "execution_count": 25,
   "id": "d3289a37",
   "metadata": {},
   "outputs": [],
   "source": [
    "# Hourly aggregation\n",
    "hourly_orders = df.groupby(['hour'])['Order ID'].count().reset_index()\n",
    "hourly_orders.rename(columns={'Order ID':'orders_count'}, inplace=True)"
   ]
  },
  {
   "cell_type": "code",
   "execution_count": 26,
   "id": "e1bcc8a6",
   "metadata": {},
   "outputs": [
    {
     "data": {
      "image/png": "[encoded data removed]",
      "text/plain": [
       "<Figure size 1200x500 with 1 Axes>"
      ]
     },
     "metadata": {},
     "output_type": "display_data"
    }
   ],
   "source": [
    "# Hourly trend by meal slot\n",
    "hourly_meal = df.groupby(['hour','meal_slot'])['Order ID'].count().reset_index()\n",
    "hourly_meal = hourly_meal.sort_values('hour')\n",
    "\n",
    "plt.figure(figsize=(12,5))\n",
    "sns.lineplot(\n",
    "    data=hourly_meal, \n",
    "    x='hour', y='Order ID', \n",
    "    hue='meal_slot', marker='o'\n",
    ")\n",
    "plt.title(\"Hourly Order Trend by Meal Slot\")\n",
    "plt.xlabel(\"Hour of Day\")\n",
    "plt.ylabel(\"Number of Orders\")\n",
    "plt.xticks(range(0,24))  # show all hours\n",
    "plt.grid(True)\n",
    "plt.show()\n"
   ]
  },
  {
   "cell_type": "code",
   "execution_count": 27,
   "id": "ca334ee1",
   "metadata": {},
   "outputs": [
    {
     "data": {
      "text/plain": [
       "(21321, 18)"
      ]
     },
     "execution_count": 27,
     "metadata": {},
     "output_type": "execute_result"
    }
   ],
   "source": [
    "df.shape"
   ]
  },
  {
   "cell_type": "markdown",
   "id": "8b6bedf6",
   "metadata": {},
   "source": [
    "## FEATURE ENGINEERING"
   ]
  },
  {
   "cell_type": "code",
   "execution_count": 28,
   "id": "f8bc946e",
   "metadata": {},
   "outputs": [],
   "source": [
    "\n",
    "df['is_weekend'] = df['Order_Datetime'].dt.dayofweek >= 5\n",
    "df['is_holiday'] = df['Order_Datetime'].dt.date.isin(indian_holidays)\n",
    "df['hour'] = df['Order_Datetime'].dt.hour\n",
    "df['meal_slot'] = df['hour'].apply(meal_slot)\n",
    "df['day_of_week'] = df['Order_Datetime'].dt.day_name()\n"
   ]
  },
  {
   "cell_type": "code",
   "execution_count": 29,
   "id": "e4b3607a",
   "metadata": {},
   "outputs": [
    {
     "data": {
      "image/png": "[encoded data removed]",
      "text/plain": [
       "<Figure size 800x600 with 2 Axes>"
      ]
     },
     "metadata": {},
     "output_type": "display_data"
    }
   ],
   "source": [
    "# Numeric correlation\n",
    "numeric_cols = ['hour','is_weekend','is_holiday']\n",
    "corr = df[numeric_cols].corr()\n",
    "\n",
    "plt.figure(figsize=(8,6))\n",
    "sns.heatmap(corr, annot=True, cmap='coolwarm')\n",
    "plt.title(\"Correlation of Numeric Features\")\n",
    "plt.show()\n"
   ]
  },
  {
   "cell_type": "code",
   "execution_count": 30,
   "id": "57d8c76f",
   "metadata": {},
   "outputs": [
    {
     "data": {
      "image/png": "[encoded data removed]",
      "text/plain": [
       "<Figure size 1200x600 with 2 Axes>"
      ]
     },
     "metadata": {},
     "output_type": "display_data"
    }
   ],
   "source": [
    "#hour vs day_of_week\n",
    "pivot = df.pivot_table(index='hour', columns='day_of_week', values='Order ID', aggfunc='count')\n",
    "plt.figure(figsize=(12,6))\n",
    "sns.heatmap(pivot, cmap='YlGnBu', annot=True, fmt='.0f')\n",
    "plt.title(\"Heatmap: Hour vs Day of Week Orders\")\n",
    "plt.show()\n",
    "\n",
    "# meal_slot vs month\n",
    "meal_order = [\"Breakfast\", \"Lunch\", \"Dinner\", \"Late Night\"]"
   ]
  },
  {
   "cell_type": "code",
   "execution_count": 31,
   "id": "b4dda749",
   "metadata": {},
   "outputs": [
    {
     "data": {
      "text/plain": [
       "Index(['Restaurant ID', 'Restaurant name', 'Subzone', 'City', 'Order ID',\n",
       "       'Order Placed At', 'Order Status', 'Delivery', 'Distance',\n",
       "       'Items in order', 'Discount construct', 'expanded_items',\n",
       "       'Order_Datetime', 'hour', 'day_of_week', 'meal_slot', 'is_weekend',\n",
       "       'is_holiday'],\n",
       "      dtype='object')"
      ]
     },
     "execution_count": 31,
     "metadata": {},
     "output_type": "execute_result"
    }
   ],
   "source": [
    "df.columns"
   ]
  },
  {
   "cell_type": "code",
   "execution_count": 32,
   "id": "cf6b4d7c",
   "metadata": {},
   "outputs": [
    {
     "name": "stderr",
     "output_type": "stream",
     "text": [
      "/var/folders/28/vn55ny5s5114jn9bjs666k2w0000gn/T/ipykernel_4573/1150416199.py:59: DeprecationWarning:\n",
      "\n",
      "*scattermapbox* is deprecated! Use *scattermap* instead. Learn more at: https://plotly.com/python/mapbox-to-maplibre/\n",
      "\n",
      "/var/folders/28/vn55ny5s5114jn9bjs666k2w0000gn/T/ipykernel_4573/1150416199.py:74: DeprecationWarning:\n",
      "\n",
      "*scattermapbox* is deprecated! Use *scattermap* instead. Learn more at: https://plotly.com/python/mapbox-to-maplibre/\n",
      "\n",
      "/var/folders/28/vn55ny5s5114jn9bjs666k2w0000gn/T/ipykernel_4573/1150416199.py:88: DeprecationWarning:\n",
      "\n",
      "*scattermapbox* is deprecated! Use *scattermap* instead. Learn more at: https://plotly.com/python/mapbox-to-maplibre/\n",
      "\n"
     ]
    },
    {
     "data": {
      "application/vnd.plotly.v1+json": {
       "config": {
        "plotlyServerURL": "https://plot.ly"
       },
       "data": [
        {
         "hovertemplate": "Aura Pizzas<br>Avg dist: 4.35 km<br>Max dist: 21.00 km",
         "lat": [
          28.5866
         ],
         "lon": [
          77.223
         ],
         "marker": {
          "color": "blue",
          "size": 10
         },
         "mode": "markers",
         "name": "Aura Pizzas",
         "type": "scattermapbox"
        },
        {
         "lat": [
          28.5866
         ],
         "lon": [
          77.223
         ],
         "marker": {
          "color": "green",
          "opacity": 0.3,
          "size": 43.478416277151496
         },
         "mode": "markers",
         "name": "Aura Pizzas Avg Distance",
         "showlegend": false,
         "type": "scattermapbox"
        },
        {
         "lat": [
          28.5866
         ],
         "lon": [
          77.223
         ],
         "marker": {
          "color": "red",
          "opacity": 0.3,
          "size": 210
         },
         "mode": "markers",
         "name": "Aura Pizzas Max Distance",
         "showlegend": false,
         "type": "scattermapbox"
        },
        {
         "hovertemplate": "Dilli Burger Adda<br>Avg dist: 3.16 km<br>Max dist: 14.00 km",
         "lat": [
          28.662
         ],
         "lon": [
          77.2365
         ],
         "marker": {
          "color": "blue",
          "size": 10
         },
         "mode": "markers",
         "name": "Dilli Burger Adda",
         "type": "scattermapbox"
        },
        {
         "lat": [
          28.662
         ],
         "lon": [
          77.2365
         ],
         "marker": {
          "color": "green",
          "opacity": 0.3,
          "size": 31.61674008810573
         },
         "mode": "markers",
         "name": "Dilli Burger Adda Avg Distance",
         "showlegend": false,
         "type": "scattermapbox"
        },
        {
         "lat": [
          28.662
         ],
         "lon": [
          77.2365
         ],
         "marker": {
          "color": "red",
          "opacity": 0.3,
          "size": 140
         },
         "mode": "markers",
         "name": "Dilli Burger Adda Max Distance",
         "showlegend": false,
         "type": "scattermapbox"
        },
        {
         "hovertemplate": "Masala Junction<br>Avg dist: 9.46 km<br>Max dist: 16.00 km",
         "lat": [
          28.5309
         ],
         "lon": [
          77.1466
         ],
         "marker": {
          "color": "blue",
          "size": 10
         },
         "mode": "markers",
         "name": "Masala Junction",
         "type": "scattermapbox"
        },
        {
         "lat": [
          28.5309
         ],
         "lon": [
          77.1466
         ],
         "marker": {
          "color": "green",
          "opacity": 0.3,
          "size": 94.64285714285714
         },
         "mode": "markers",
         "name": "Masala Junction Avg Distance",
         "showlegend": false,
         "type": "scattermapbox"
        },
        {
         "lat": [
          28.5309
         ],
         "lon": [
          77.1466
         ],
         "marker": {
          "color": "red",
          "opacity": 0.3,
          "size": 160
         },
         "mode": "markers",
         "name": "Masala Junction Max Distance",
         "showlegend": false,
         "type": "scattermapbox"
        },
        {
         "hovertemplate": "Swaad<br>Avg dist: 3.75 km<br>Max dist: 19.00 km",
         "lat": [
          28.5734
         ],
         "lon": [
          77.2581
         ],
         "marker": {
          "color": "blue",
          "size": 10
         },
         "mode": "markers",
         "name": "Swaad",
         "type": "scattermapbox"
        },
        {
         "lat": [
          28.5734
         ],
         "lon": [
          77.2581
         ],
         "marker": {
          "color": "green",
          "opacity": 0.3,
          "size": 37.47030953885029
         },
         "mode": "markers",
         "name": "Swaad Avg Distance",
         "showlegend": false,
         "type": "scattermapbox"
        },
        {
         "lat": [
          28.5734
         ],
         "lon": [
          77.2581
         ],
         "marker": {
          "color": "red",
          "opacity": 0.3,
          "size": 190
         },
         "mode": "markers",
         "name": "Swaad Max Distance",
         "showlegend": false,
         "type": "scattermapbox"
        },
        {
         "hovertemplate": "Tandoori Junction<br>Avg dist: 5.61 km<br>Max dist: 18.00 km",
         "lat": [
          28.6098
         ],
         "lon": [
          77.0923
         ],
         "marker": {
          "color": "blue",
          "size": 10
         },
         "mode": "markers",
         "name": "Tandoori Junction",
         "type": "scattermapbox"
        },
        {
         "lat": [
          28.6098
         ],
         "lon": [
          77.0923
         ],
         "marker": {
          "color": "green",
          "opacity": 0.3,
          "size": 56.090909090909086
         },
         "mode": "markers",
         "name": "Tandoori Junction Avg Distance",
         "showlegend": false,
         "type": "scattermapbox"
        },
        {
         "lat": [
          28.6098
         ],
         "lon": [
          77.0923
         ],
         "marker": {
          "color": "red",
          "opacity": 0.3,
          "size": 180
         },
         "mode": "markers",
         "name": "Tandoori Junction Max Distance",
         "showlegend": false,
         "type": "scattermapbox"
        },
        {
         "hovertemplate": "The Chicken Junction<br>Avg dist: 9.06 km<br>Max dist: 16.00 km",
         "lat": [
          28.6412
         ],
         "lon": [
          77.2163
         ],
         "marker": {
          "color": "blue",
          "size": 10
         },
         "mode": "markers",
         "name": "The Chicken Junction",
         "type": "scattermapbox"
        },
        {
         "lat": [
          28.6412
         ],
         "lon": [
          77.2163
         ],
         "marker": {
          "color": "green",
          "opacity": 0.3,
          "size": 90.625
         },
         "mode": "markers",
         "name": "The Chicken Junction Avg Distance",
         "showlegend": false,
         "type": "scattermapbox"
        },
        {
         "lat": [
          28.6412
         ],
         "lon": [
          77.2163
         ],
         "marker": {
          "color": "red",
          "opacity": 0.3,
          "size": 160
         },
         "mode": "markers",
         "name": "The Chicken Junction Max Distance",
         "showlegend": false,
         "type": "scattermapbox"
        },
        {
         "lat": {
          "bdata": "IbByaJGNPEAv3SQGgXU8QHuDL0ymijxAUrgeheuRPEDXo3A9Cpc8QEI+6NmsqjxArBxaZDt/PEBI4XoUroc8QA==",
          "dtype": "f8"
         },
         "lon": {
          "bdata": "jZduEoNQU0BSuB6F60FTQEGC4seYT1NA16NwPQpXU0CamZmZmVlTQOF6FK5HUVNAWmQ7309FU0CamZmZmUlTQA==",
          "dtype": "f8"
         },
         "marker": {
          "color": "red",
          "size": {
           "bdata": "AgBmDtQcigmCGWgBAQCYAw==",
           "dtype": "i2"
          },
          "sizemode": "area"
         },
         "mode": "markers",
         "name": "Orders per Subzone",
         "text": [
          "Chittaranjan Park: 2 orders",
          "DLF Phase 1: 3686 orders",
          "Greater Kailash 2 (GK2): 7380 orders",
          "Sector 135: 2442 orders",
          "Sector 4: 6530 orders",
          "Shahdara: 360 orders",
          "Sikandarpur: 1 orders",
          "Vasant Kunj: 920 orders"
         ],
         "type": "scattermapbox"
        }
       ],
       "layout": {
        "mapbox": {
         "center": {
          "lat": 28.6139,
          "lon": 77.209
         },
         "style": "open-street-map",
         "zoom": 11
        },
        "margin": {
         "b": 0,
         "l": 0,
         "r": 0,
         "t": 0
        },
        "template": {
         "data": {
          "bar": [
           {
            "error_x": {
             "color": "#2a3f5f"
            },
            "error_y": {
             "color": "#2a3f5f"
            },
            "marker": {
             "line": {
              "color": "#E5ECF6",
              "width": 0.5
             },
             "pattern": {
              "fillmode": "overlay",
              "size": 10,
              "solidity": 0.2
             }
            },
            "type": "bar"
           }
          ],
          "barpolar": [
           {
            "marker": {
             "line": {
              "color": "#E5ECF6",
              "width": 0.5
             },
             "pattern": {
              "fillmode": "overlay",
              "size": 10,
              "solidity": 0.2
             }
            },
            "type": "barpolar"
           }
          ],
          "carpet": [
           {
            "aaxis": {
             "endlinecolor": "#2a3f5f",
             "gridcolor": "white",
             "linecolor": "white",
             "minorgridcolor": "white",
             "startlinecolor": "#2a3f5f"
            },
            "baxis": {
             "endlinecolor": "#2a3f5f",
             "gridcolor": "white",
             "linecolor": "white",
             "minorgridcolor": "white",
             "startlinecolor": "#2a3f5f"
            },
            "type": "carpet"
           }
          ],
          "choropleth": [
           {
            "colorbar": {
             "outlinewidth": 0,
             "ticks": ""
            },
            "type": "choropleth"
           }
          ],
          "contour": [
           {
            "colorbar": {
             "outlinewidth": 0,
             "ticks": ""
            },
            "colorscale": [
             [
              0,
              "#0d0887"
             ],
             [
              0.1111111111111111,
              "#46039f"
             ],
             [
              0.2222222222222222,
              "#7201a8"
             ],
             [
              0.3333333333333333,
              "#9c179e"
             ],
             [
              0.4444444444444444,
              "#bd3786"
             ],
             [
              0.5555555555555556,
              "#d8576b"
             ],
             [
              0.6666666666666666,
              "#ed7953"
             ],
             [
              0.7777777777777778,
              "#fb9f3a"
             ],
             [
              0.8888888888888888,
              "#fdca26"
             ],
             [
              1,
              "#f0f921"
             ]
            ],
            "type": "contour"
           }
          ],
          "contourcarpet": [
           {
            "colorbar": {
             "outlinewidth": 0,
             "ticks": ""
            },
            "type": "contourcarpet"
           }
          ],
          "heatmap": [
           {
            "colorbar": {
             "outlinewidth": 0,
             "ticks": ""
            },
            "colorscale": [
             [
              0,
              "#0d0887"
             ],
             [
              0.1111111111111111,
              "#46039f"
             ],
             [
              0.2222222222222222,
              "#7201a8"
             ],
             [
              0.3333333333333333,
              "#9c179e"
             ],
             [
              0.4444444444444444,
              "#bd3786"
             ],
             [
              0.5555555555555556,
              "#d8576b"
             ],
             [
              0.6666666666666666,
              "#ed7953"
             ],
             [
              0.7777777777777778,
              "#fb9f3a"
             ],
             [
              0.8888888888888888,
              "#fdca26"
             ],
             [
              1,
              "#f0f921"
             ]
            ],
            "type": "heatmap"
           }
          ],
          "histogram": [
           {
            "marker": {
             "pattern": {
              "fillmode": "overlay",
              "size": 10,
              "solidity": 0.2
             }
            },
            "type": "histogram"
           }
          ],
          "histogram2d": [
           {
            "colorbar": {
             "outlinewidth": 0,
             "ticks": ""
            },
            "colorscale": [
             [
              0,
              "#0d0887"
             ],
             [
              0.1111111111111111,
              "#46039f"
             ],
             [
              0.2222222222222222,
              "#7201a8"
             ],
             [
              0.3333333333333333,
              "#9c179e"
             ],
             [
              0.4444444444444444,
              "#bd3786"
             ],
             [
              0.5555555555555556,
              "#d8576b"
             ],
             [
              0.6666666666666666,
              "#ed7953"
             ],
             [
              0.7777777777777778,
              "#fb9f3a"
             ],
             [
              0.8888888888888888,
              "#fdca26"
             ],
             [
              1,
              "#f0f921"
             ]
            ],
            "type": "histogram2d"
           }
          ],
          "histogram2dcontour": [
           {
            "colorbar": {
             "outlinewidth": 0,
             "ticks": ""
            },
            "colorscale": [
             [
              0,
              "#0d0887"
             ],
             [
              0.1111111111111111,
              "#46039f"
             ],
             [
              0.2222222222222222,
              "#7201a8"
             ],
             [
              0.3333333333333333,
              "#9c179e"
             ],
             [
              0.4444444444444444,
              "#bd3786"
             ],
             [
              0.5555555555555556,
              "#d8576b"
             ],
             [
              0.6666666666666666,
              "#ed7953"
             ],
             [
              0.7777777777777778,
              "#fb9f3a"
             ],
             [
              0.8888888888888888,
              "#fdca26"
             ],
             [
              1,
              "#f0f921"
             ]
            ],
            "type": "histogram2dcontour"
           }
          ],
          "mesh3d": [
           {
            "colorbar": {
             "outlinewidth": 0,
             "ticks": ""
            },
            "type": "mesh3d"
           }
          ],
          "parcoords": [
           {
            "line": {
             "colorbar": {
              "outlinewidth": 0,
              "ticks": ""
             }
            },
            "type": "parcoords"
           }
          ],
          "pie": [
           {
            "automargin": true,
            "type": "pie"
           }
          ],
          "scatter": [
           {
            "fillpattern": {
             "fillmode": "overlay",
             "size": 10,
             "solidity": 0.2
            },
            "type": "scatter"
           }
          ],
          "scatter3d": [
           {
            "line": {
             "colorbar": {
              "outlinewidth": 0,
              "ticks": ""
             }
            },
            "marker": {
             "colorbar": {
              "outlinewidth": 0,
              "ticks": ""
             }
            },
            "type": "scatter3d"
           }
          ],
          "scattercarpet": [
           {
            "marker": {
             "colorbar": {
              "outlinewidth": 0,
              "ticks": ""
             }
            },
            "type": "scattercarpet"
           }
          ],
          "scattergeo": [
           {
            "marker": {
             "colorbar": {
              "outlinewidth": 0,
              "ticks": ""
             }
            },
            "type": "scattergeo"
           }
          ],
          "scattergl": [
           {
            "marker": {
             "colorbar": {
              "outlinewidth": 0,
              "ticks": ""
             }
            },
            "type": "scattergl"
           }
          ],
          "scattermap": [
           {
            "marker": {
             "colorbar": {
              "outlinewidth": 0,
              "ticks": ""
             }
            },
            "type": "scattermap"
           }
          ],
          "scattermapbox": [
           {
            "marker": {
             "colorbar": {
              "outlinewidth": 0,
              "ticks": ""
             }
            },
            "type": "scattermapbox"
           }
          ],
          "scatterpolar": [
           {
            "marker": {
             "colorbar": {
              "outlinewidth": 0,
              "ticks": ""
             }
            },
            "type": "scatterpolar"
           }
          ],
          "scatterpolargl": [
           {
            "marker": {
             "colorbar": {
              "outlinewidth": 0,
              "ticks": ""
             }
            },
            "type": "scatterpolargl"
           }
          ],
          "scatterternary": [
           {
            "marker": {
             "colorbar": {
              "outlinewidth": 0,
              "ticks": ""
             }
            },
            "type": "scatterternary"
           }
          ],
          "surface": [
           {
            "colorbar": {
             "outlinewidth": 0,
             "ticks": ""
            },
            "colorscale": [
             [
              0,
              "#0d0887"
             ],
             [
              0.1111111111111111,
              "#46039f"
             ],
             [
              0.2222222222222222,
              "#7201a8"
             ],
             [
              0.3333333333333333,
              "#9c179e"
             ],
             [
              0.4444444444444444,
              "#bd3786"
             ],
             [
              0.5555555555555556,
              "#d8576b"
             ],
             [
              0.6666666666666666,
              "#ed7953"
             ],
             [
              0.7777777777777778,
              "#fb9f3a"
             ],
             [
              0.8888888888888888,
              "#fdca26"
             ],
             [
              1,
              "#f0f921"
             ]
            ],
            "type": "surface"
           }
          ],
          "table": [
           {
            "cells": {
             "fill": {
              "color": "#EBF0F8"
             },
             "line": {
              "color": "white"
             }
            },
            "header": {
             "fill": {
              "color": "#C8D4E3"
             },
             "line": {
              "color": "white"
             }
            },
            "type": "table"
           }
          ]
         },
         "layout": {
          "annotationdefaults": {
           "arrowcolor": "#2a3f5f",
           "arrowhead": 0,
           "arrowwidth": 1
          },
          "autotypenumbers": "strict",
          "coloraxis": {
           "colorbar": {
            "outlinewidth": 0,
            "ticks": ""
           }
          },
          "colorscale": {
           "diverging": [
            [
             0,
             "#8e0152"
            ],
            [
             0.1,
             "#c51b7d"
            ],
            [
             0.2,
             "#de77ae"
            ],
            [
             0.3,
             "#f1b6da"
            ],
            [
             0.4,
             "#fde0ef"
            ],
            [
             0.5,
             "#f7f7f7"
            ],
            [
             0.6,
             "#e6f5d0"
            ],
            [
             0.7,
             "#b8e186"
            ],
            [
             0.8,
             "#7fbc41"
            ],
            [
             0.9,
             "#4d9221"
            ],
            [
             1,
             "#276419"
            ]
           ],
           "sequential": [
            [
             0,
             "#0d0887"
            ],
            [
             0.1111111111111111,
             "#46039f"
            ],
            [
             0.2222222222222222,
             "#7201a8"
            ],
            [
             0.3333333333333333,
             "#9c179e"
            ],
            [
             0.4444444444444444,
             "#bd3786"
            ],
            [
             0.5555555555555556,
             "#d8576b"
            ],
            [
             0.6666666666666666,
             "#ed7953"
            ],
            [
             0.7777777777777778,
             "#fb9f3a"
            ],
            [
             0.8888888888888888,
             "#fdca26"
            ],
            [
             1,
             "#f0f921"
            ]
           ],
           "sequentialminus": [
            [
             0,
             "#0d0887"
            ],
            [
             0.1111111111111111,
             "#46039f"
            ],
            [
             0.2222222222222222,
             "#7201a8"
            ],
            [
             0.3333333333333333,
             "#9c179e"
            ],
            [
             0.4444444444444444,
             "#bd3786"
            ],
            [
             0.5555555555555556,
             "#d8576b"
            ],
            [
             0.6666666666666666,
             "#ed7953"
            ],
            [
             0.7777777777777778,
             "#fb9f3a"
            ],
            [
             0.8888888888888888,
             "#fdca26"
            ],
            [
             1,
             "#f0f921"
            ]
           ]
          },
          "colorway": [
           "#636efa",
           "#EF553B",
           "#00cc96",
           "#ab63fa",
           "#FFA15A",
           "#19d3f3",
           "#FF6692",
           "#B6E880",
           "#FF97FF",
           "#FECB52"
          ],
          "font": {
           "color": "#2a3f5f"
          },
          "geo": {
           "bgcolor": "white",
           "lakecolor": "white",
           "landcolor": "#E5ECF6",
           "showlakes": true,
           "showland": true,
           "subunitcolor": "white"
          },
          "hoverlabel": {
           "align": "left"
          },
          "hovermode": "closest",
          "mapbox": {
           "style": "light"
          },
          "paper_bgcolor": "white",
          "plot_bgcolor": "#E5ECF6",
          "polar": {
           "angularaxis": {
            "gridcolor": "white",
            "linecolor": "white",
            "ticks": ""
           },
           "bgcolor": "#E5ECF6",
           "radialaxis": {
            "gridcolor": "white",
            "linecolor": "white",
            "ticks": ""
           }
          },
          "scene": {
           "xaxis": {
            "backgroundcolor": "#E5ECF6",
            "gridcolor": "white",
            "gridwidth": 2,
            "linecolor": "white",
            "showbackground": true,
            "ticks": "",
            "zerolinecolor": "white"
           },
           "yaxis": {
            "backgroundcolor": "#E5ECF6",
            "gridcolor": "white",
            "gridwidth": 2,
            "linecolor": "white",
            "showbackground": true,
            "ticks": "",
            "zerolinecolor": "white"
           },
           "zaxis": {
            "backgroundcolor": "#E5ECF6",
            "gridcolor": "white",
            "gridwidth": 2,
            "linecolor": "white",
            "showbackground": true,
            "ticks": "",
            "zerolinecolor": "white"
           }
          },
          "shapedefaults": {
           "line": {
            "color": "#2a3f5f"
           }
          },
          "ternary": {
           "aaxis": {
            "gridcolor": "white",
            "linecolor": "white",
            "ticks": ""
           },
           "baxis": {
            "gridcolor": "white",
            "linecolor": "white",
            "ticks": ""
           },
           "bgcolor": "#E5ECF6",
           "caxis": {
            "gridcolor": "white",
            "linecolor": "white",
            "ticks": ""
           }
          },
          "title": {
           "x": 0.05
          },
          "xaxis": {
           "automargin": true,
           "gridcolor": "white",
           "linecolor": "white",
           "ticks": "",
           "title": {
            "standoff": 15
           },
           "zerolinecolor": "white",
           "zerolinewidth": 2
          },
          "yaxis": {
           "automargin": true,
           "gridcolor": "white",
           "linecolor": "white",
           "ticks": "",
           "title": {
            "standoff": 15
           },
           "zerolinecolor": "white",
           "zerolinewidth": 2
          }
         }
        }
       }
      }
     },
     "metadata": {},
     "output_type": "display_data"
    }
   ],
   "source": [
    "import numpy as np\n",
    "import plotly.graph_objects as go\n",
    "\n",
    "# Step 1: Restaurant coordinates (approximate)\n",
    "restaurant_coords = {\n",
    "    \"Aura Pizzas\": [28.5866, 77.2230],\n",
    "    \"Swaad\": [28.5734, 77.2581],\n",
    "    \"Dilli Burger Adda\": [28.6620, 77.2365],\n",
    "    \"Tandoori Junction\": [28.6098, 77.0923],\n",
    "    \"The Chicken Junction\": [28.6412, 77.2163],\n",
    "    \"Masala Junction\": [28.5309, 77.1466]\n",
    "}\n",
    "\n",
    "# Map lat/lon to df\n",
    "df['rest_lat'] = df['Restaurant name'].map(lambda x: restaurant_coords.get(x, [None, None])[0])\n",
    "df['rest_lon'] = df['Restaurant name'].map(lambda x: restaurant_coords.get(x, [None, None])[1])\n",
    "\n",
    "# Step 2: Convert Distance to float, handle <1 as 0.9\n",
    "def clean_distance(d):\n",
    "    if pd.isna(d):\n",
    "        return np.nan\n",
    "    d = d.replace('km','').strip()  \n",
    "    if d.startswith('<'):\n",
    "        return 0.9  # assign 0.9 km for \"<1\"\n",
    "    try:\n",
    "        return float(d)\n",
    "    except:\n",
    "        return np.nan\n",
    "\n",
    "df['Distance_km'] = df['Distance'].apply(clean_distance)\n",
    "\n",
    "# Step 3: Aggregate average and max distances per restaurant\n",
    "dist_stats = df.groupby('Restaurant name')['Distance_km'].agg(['mean','max']).reset_index()\n",
    "\n",
    "# Step 4: Aggregate order counts per Subzone\n",
    "orders_per_subzone = df.groupby('Subzone').size().reset_index(name='Orders')\n",
    "\n",
    "# Approximate subzone centers\n",
    "subzone_coords = {\n",
    "    'Greater Kailash 2 (GK2)': [28.5416, 77.2437],\n",
    "    'Sector 4': [28.5900, 77.4000],\n",
    "    'DLF Phase 1': [28.4590, 77.0300],\n",
    "    'Sector 135': [28.5700, 77.3600],\n",
    "    'Vasant Kunj': [28.5300, 77.1500],\n",
    "    'Shahdara': [28.6667, 77.2700],\n",
    "    'Chittaranjan Park': [28.5530, 77.2580],\n",
    "    'Sikandarpur': [28.4970, 77.0830]\n",
    "}\n",
    "orders_per_subzone['lat'] = orders_per_subzone['Subzone'].map(lambda x: subzone_coords.get(x, [None, None])[0])\n",
    "orders_per_subzone['lon'] = orders_per_subzone['Subzone'].map(lambda x: subzone_coords.get(x, [None, None])[1])\n",
    "\n",
    "# Step 5: Create map\n",
    "fig = go.Figure()\n",
    "\n",
    "# Add restaurants\n",
    "for _, row in dist_stats.iterrows():\n",
    "    rest_name = row['Restaurant name']\n",
    "    lat, lon = restaurant_coords[rest_name]\n",
    "    fig.add_trace(go.Scattermapbox(\n",
    "        lat=[lat],\n",
    "        lon=[lon],\n",
    "        mode='markers',\n",
    "        marker=go.scattermapbox.Marker(size=10, color='blue'),\n",
    "        name=rest_name,\n",
    "        hovertemplate=(\n",
    "            f\"{rest_name}<br>\"\n",
    "            f\"Avg dist: {row['mean']:.2f} km<br>\"\n",
    "            f\"Max dist: {row['max']:.2f} km\"\n",
    "        )\n",
    "    ))\n",
    "    \n",
    "    # Add avg and max distance circles\n",
    "    for dist, color, label in zip([row['mean'], row['max']], ['green','red'], ['Avg','Max']):\n",
    "        fig.add_trace(go.Scattermapbox(\n",
    "            lat=[lat],\n",
    "            lon=[lon],\n",
    "            mode='markers',\n",
    "            marker=go.scattermapbox.Marker(\n",
    "                size=dist*10,  # scale factor for visibility\n",
    "                color=color,\n",
    "                opacity=0.3\n",
    "            ),\n",
    "            name=f\"{rest_name} {label} Distance\",\n",
    "            showlegend=False\n",
    "        ))\n",
    "\n",
    "# Add subzone order counts\n",
    "fig.add_trace(go.Scattermapbox(\n",
    "    lat=orders_per_subzone['lat'],\n",
    "    lon=orders_per_subzone['lon'],\n",
    "    mode='markers',\n",
    "    marker=go.scattermapbox.Marker(size=orders_per_subzone['Orders'], color='red', sizemode='area'),\n",
    "    text=orders_per_subzone['Subzone'] + ': ' + orders_per_subzone['Orders'].astype(str) + ' orders',\n",
    "    name='Orders per Subzone'\n",
    "))\n",
    "\n",
    "# Layout\n",
    "fig.update_layout(\n",
    "    mapbox_style=\"open-street-map\",\n",
    "    mapbox_zoom=11,\n",
    "    mapbox_center={\"lat\":28.6139, \"lon\":77.2090},\n",
    "    margin={\"r\":0,\"t\":0,\"l\":0,\"b\":0},\n",
    ")\n",
    "\n",
    "fig.show()\n"
   ]
  },
  {
   "cell_type": "code",
   "execution_count": 33,
   "id": "b84dc598",
   "metadata": {},
   "outputs": [
    {
     "name": "stderr",
     "output_type": "stream",
     "text": [
      "/var/folders/28/vn55ny5s5114jn9bjs666k2w0000gn/T/ipykernel_4573/415630738.py:61: DeprecationWarning:\n",
      "\n",
      "*scattermapbox* is deprecated! Use *scattermap* instead. Learn more at: https://plotly.com/python/mapbox-to-maplibre/\n",
      "\n",
      "/var/folders/28/vn55ny5s5114jn9bjs666k2w0000gn/T/ipykernel_4573/415630738.py:72: DeprecationWarning:\n",
      "\n",
      "*scattermapbox* is deprecated! Use *scattermap* instead. Learn more at: https://plotly.com/python/mapbox-to-maplibre/\n",
      "\n",
      "/var/folders/28/vn55ny5s5114jn9bjs666k2w0000gn/T/ipykernel_4573/415630738.py:85: DeprecationWarning:\n",
      "\n",
      "*scattermapbox* is deprecated! Use *scattermap* instead. Learn more at: https://plotly.com/python/mapbox-to-maplibre/\n",
      "\n"
     ]
    },
    {
     "data": {
      "application/vnd.plotly.v1+json": {
       "config": {
        "plotlyServerURL": "https://plot.ly"
       },
       "data": [
        {
         "hoverinfo": "none",
         "lat": [
          28.55,
          28.459
         ],
         "line": {
          "color": "green",
          "width": 4
         },
         "lon": [
          77.25,
          77.03
         ],
         "mode": "lines",
         "showlegend": false,
         "type": "scattermapbox"
        },
        {
         "hoverinfo": "none",
         "lat": [
          28.55,
          28.5416
         ],
         "line": {
          "color": "green",
          "width": 4
         },
         "lon": [
          77.25,
          77.2437
         ],
         "mode": "lines",
         "showlegend": false,
         "type": "scattermapbox"
        },
        {
         "hoverinfo": "none",
         "lat": [
          28.55,
          28.57
         ],
         "line": {
          "color": "green",
          "width": 4
         },
         "lon": [
          77.25,
          77.36
         ],
         "mode": "lines",
         "showlegend": false,
         "type": "scattermapbox"
        },
        {
         "hoverinfo": "none",
         "lat": [
          28.55,
          28.59
         ],
         "line": {
          "color": "green",
          "width": 4
         },
         "lon": [
          77.25,
          77.4
         ],
         "mode": "lines",
         "showlegend": false,
         "type": "scattermapbox"
        },
        {
         "hoverinfo": "none",
         "lat": [
          28.55,
          28.53
         ],
         "line": {
          "color": "green",
          "width": 4
         },
         "lon": [
          77.25,
          77.15
         ],
         "mode": "lines",
         "showlegend": false,
         "type": "scattermapbox"
        },
        {
         "hoverinfo": "none",
         "lat": [
          28.5,
          28.459
         ],
         "line": {
          "color": "green",
          "width": 4
         },
         "lon": [
          77.2,
          77.03
         ],
         "mode": "lines",
         "showlegend": false,
         "type": "scattermapbox"
        },
        {
         "hoverinfo": "none",
         "lat": [
          28.5,
          28.5416
         ],
         "line": {
          "color": "green",
          "width": 4
         },
         "lon": [
          77.2,
          77.2437
         ],
         "mode": "lines",
         "showlegend": false,
         "type": "scattermapbox"
        },
        {
         "hoverinfo": "none",
         "lat": [
          28.5,
          28.57
         ],
         "line": {
          "color": "green",
          "width": 4
         },
         "lon": [
          77.2,
          77.36
         ],
         "mode": "lines",
         "showlegend": false,
         "type": "scattermapbox"
        },
        {
         "hoverinfo": "none",
         "lat": [
          28.5,
          28.59
         ],
         "line": {
          "color": "green",
          "width": 4
         },
         "lon": [
          77.2,
          77.4
         ],
         "mode": "lines",
         "showlegend": false,
         "type": "scattermapbox"
        },
        {
         "hoverinfo": "none",
         "lat": [
          28.5,
          28.6667
         ],
         "line": {
          "color": "green",
          "width": 4
         },
         "lon": [
          77.2,
          77.27
         ],
         "mode": "lines",
         "showlegend": false,
         "type": "scattermapbox"
        },
        {
         "hoverinfo": "none",
         "lat": [
          28.57,
          28.59
         ],
         "line": {
          "color": "green",
          "width": 4
         },
         "lon": [
          77.35,
          77.4
         ],
         "mode": "lines",
         "showlegend": false,
         "type": "scattermapbox"
        },
        {
         "hoverinfo": "none",
         "lat": [
          28.59,
          28.459
         ],
         "line": {
          "color": "green",
          "width": 4
         },
         "lon": [
          77.36,
          77.03
         ],
         "mode": "lines",
         "showlegend": false,
         "type": "scattermapbox"
        },
        {
         "hoverinfo": "none",
         "lat": [
          28.59,
          28.5416
         ],
         "line": {
          "color": "green",
          "width": 4
         },
         "lon": [
          77.36,
          77.2437
         ],
         "mode": "lines",
         "showlegend": false,
         "type": "scattermapbox"
        },
        {
         "hoverinfo": "none",
         "lat": [
          28.59,
          28.57
         ],
         "line": {
          "color": "green",
          "width": 4
         },
         "lon": [
          77.36,
          77.36
         ],
         "mode": "lines",
         "showlegend": false,
         "type": "scattermapbox"
        },
        {
         "hoverinfo": "none",
         "lat": [
          28.59,
          28.59
         ],
         "line": {
          "color": "green",
          "width": 4
         },
         "lon": [
          77.36,
          77.4
         ],
         "mode": "lines",
         "showlegend": false,
         "type": "scattermapbox"
        },
        {
         "hoverinfo": "none",
         "lat": [
          28.59,
          28.6667
         ],
         "line": {
          "color": "green",
          "width": 4
         },
         "lon": [
          77.36,
          77.27
         ],
         "mode": "lines",
         "showlegend": false,
         "type": "scattermapbox"
        },
        {
         "hoverinfo": "none",
         "lat": [
          28.53,
          28.459
         ],
         "line": {
          "color": "green",
          "width": 4
         },
         "lon": [
          77.15,
          77.03
         ],
         "mode": "lines",
         "showlegend": false,
         "type": "scattermapbox"
        },
        {
         "hoverinfo": "none",
         "lat": [
          28.53,
          28.5416
         ],
         "line": {
          "color": "green",
          "width": 4
         },
         "lon": [
          77.15,
          77.2437
         ],
         "mode": "lines",
         "showlegend": false,
         "type": "scattermapbox"
        },
        {
         "hoverinfo": "none",
         "lat": [
          28.53,
          28.57
         ],
         "line": {
          "color": "green",
          "width": 4
         },
         "lon": [
          77.15,
          77.36
         ],
         "mode": "lines",
         "showlegend": false,
         "type": "scattermapbox"
        },
        {
         "hoverinfo": "none",
         "lat": [
          28.53,
          28.59
         ],
         "line": {
          "color": "green",
          "width": 4
         },
         "lon": [
          77.15,
          77.4
         ],
         "mode": "lines",
         "showlegend": false,
         "type": "scattermapbox"
        },
        {
         "hoverinfo": "none",
         "lat": [
          28.53,
          28.6667
         ],
         "line": {
          "color": "green",
          "width": 4
         },
         "lon": [
          77.15,
          77.27
         ],
         "mode": "lines",
         "showlegend": false,
         "type": "scattermapbox"
        },
        {
         "hoverinfo": "none",
         "lat": [
          28.52,
          28.553
         ],
         "line": {
          "color": "green",
          "width": 4
         },
         "lon": [
          77.21,
          77.258
         ],
         "mode": "lines",
         "showlegend": false,
         "type": "scattermapbox"
        },
        {
         "hoverinfo": "none",
         "lat": [
          28.52,
          28.59
         ],
         "line": {
          "color": "green",
          "width": 4
         },
         "lon": [
          77.21,
          77.4
         ],
         "mode": "lines",
         "showlegend": false,
         "type": "scattermapbox"
        },
        {
         "hoverinfo": "none",
         "lat": [
          28.52,
          28.497
         ],
         "line": {
          "color": "green",
          "width": 4
         },
         "lon": [
          77.21,
          77.083
         ],
         "mode": "lines",
         "showlegend": false,
         "type": "scattermapbox"
        },
        {
         "hoverinfo": "text",
         "hovertext": "Greater Kailash 2 (GK2)<br>Deliveries from restaurants:<br>Aura Pizzas: 4418<br>Dilli Burger Adda: 109<br>Swaad: 2781<br>Tandoori Junction: 72<br>",
         "lat": [
          28.5416
         ],
         "lon": [
          77.2437
         ],
         "marker": {
          "color": "blue",
          "opacity": 0.7,
          "size": 36
         },
         "mode": "markers",
         "name": "Greater Kailash 2 (GK2)",
         "type": "scattermapbox"
        },
        {
         "hoverinfo": "text",
         "hovertext": "Sector 4<br>Deliveries from restaurants:<br>Aura Pizzas: 4614<br>Dilli Burger Adda: 47<br>Masala Junction: 28<br>Swaad: 1774<br>Tandoori Junction: 38<br>The Chicken Junction: 29<br>",
         "lat": [
          28.59
         ],
         "lon": [
          77.4
         ],
         "marker": {
          "color": "blue",
          "opacity": 0.7,
          "size": 36
         },
         "mode": "markers",
         "name": "Sector 4",
         "type": "scattermapbox"
        },
        {
         "hoverinfo": "text",
         "hovertext": "DLF Phase 1<br>Deliveries from restaurants:<br>Aura Pizzas: 2545<br>Dilli Burger Adda: 34<br>Swaad: 1079<br>Tandoori Junction: 28<br>",
         "lat": [
          28.459
         ],
         "lon": [
          77.03
         ],
         "marker": {
          "color": "blue",
          "opacity": 0.7,
          "size": 36
         },
         "mode": "markers",
         "name": "DLF Phase 1",
         "type": "scattermapbox"
        },
        {
         "hoverinfo": "text",
         "hovertext": "Sector 135<br>Deliveries from restaurants:<br>Aura Pizzas: 2051<br>Dilli Burger Adda: 23<br>Swaad: 367<br>Tandoori Junction: 1<br>",
         "lat": [
          28.57
         ],
         "lon": [
          77.36
         ],
         "marker": {
          "color": "blue",
          "opacity": 0.7,
          "size": 36
         },
         "mode": "markers",
         "name": "Sector 135",
         "type": "scattermapbox"
        },
        {
         "hoverinfo": "text",
         "hovertext": "Vasant Kunj<br>Deliveries from restaurants:<br>Aura Pizzas: 920<br>",
         "lat": [
          28.53
         ],
         "lon": [
          77.15
         ],
         "marker": {
          "color": "blue",
          "opacity": 0.7,
          "size": 36
         },
         "mode": "markers",
         "name": "Vasant Kunj",
         "type": "scattermapbox"
        },
        {
         "hoverinfo": "text",
         "hovertext": "Shahdara<br>Deliveries from restaurants:<br>Dilli Burger Adda: 14<br>Swaad: 331<br>Tandoori Junction: 15<br>",
         "lat": [
          28.6667
         ],
         "lon": [
          77.27
         ],
         "marker": {
          "color": "blue",
          "opacity": 0.7,
          "size": 36
         },
         "mode": "markers",
         "name": "Shahdara",
         "type": "scattermapbox"
        },
        {
         "hoverinfo": "text",
         "hovertext": "Chittaranjan Park<br>Deliveries from restaurants:<br>The Chicken Junction: 2<br>",
         "lat": [
          28.553
         ],
         "lon": [
          77.258
         ],
         "marker": {
          "color": "blue",
          "opacity": 0.7,
          "size": 36
         },
         "mode": "markers",
         "name": "Chittaranjan Park",
         "type": "scattermapbox"
        },
        {
         "hoverinfo": "text",
         "hovertext": "Sikandarpur<br>Deliveries from restaurants:<br>The Chicken Junction: 1<br>",
         "lat": [
          28.497
         ],
         "lon": [
          77.083
         ],
         "marker": {
          "color": "blue",
          "opacity": 0.7,
          "size": 36
         },
         "mode": "markers",
         "name": "Sikandarpur",
         "type": "scattermapbox"
        },
        {
         "hoverinfo": "text",
         "hovertext": "Aura Pizzas<br>Deliveries to sectors:<br>DLF Phase 1: 2545<br>Greater Kailash 2 (GK2): 4418<br>Sector 135: 2051<br>Sector 4: 4614<br>Vasant Kunj: 920<br>",
         "lat": [
          28.54953043403286
         ],
         "lon": [
          77.24985456944844
         ],
         "marker": {
          "color": "red",
          "size": 12
         },
         "mode": "markers",
         "name": "Aura Pizzas",
         "type": "scattermapbox"
        },
        {
         "hoverinfo": "text",
         "hovertext": "Swaad<br>Deliveries to sectors:<br>DLF Phase 1: 1079<br>Greater Kailash 2 (GK2): 2781<br>Sector 135: 367<br>Sector 4: 1774<br>Shahdara: 331<br>",
         "lat": [
          28.590178379481184
         ],
         "lon": [
          77.36042835423488
         ],
         "marker": {
          "color": "red",
          "size": 12
         },
         "mode": "markers",
         "name": "Swaad",
         "type": "scattermapbox"
        },
        {
         "hoverinfo": "text",
         "hovertext": "Dilli Burger Adda<br>Deliveries to sectors:<br>DLF Phase 1: 34<br>Greater Kailash 2 (GK2): 109<br>Sector 135: 23<br>Sector 4: 47<br>Shahdara: 14<br>",
         "lat": [
          28.500236056782214
         ],
         "lon": [
          77.20005647667973
         ],
         "marker": {
          "color": "red",
          "size": 12
         },
         "mode": "markers",
         "name": "Dilli Burger Adda",
         "type": "scattermapbox"
        },
        {
         "hoverinfo": "text",
         "hovertext": "Tandoori Junction<br>Deliveries to sectors:<br>DLF Phase 1: 28<br>Greater Kailash 2 (GK2): 72<br>Sector 135: 1<br>Sector 4: 38<br>Shahdara: 15<br>",
         "lat": [
          28.5302515237906
         ],
         "lon": [
          77.15008546724397
         ],
         "marker": {
          "color": "red",
          "size": 12
         },
         "mode": "markers",
         "name": "Tandoori Junction",
         "type": "scattermapbox"
        },
        {
         "hoverinfo": "text",
         "hovertext": "The Chicken Junction<br>Deliveries to sectors:<br>Chittaranjan Park: 2<br>Sector 4: 29<br>Sikandarpur: 1<br>",
         "lat": [
          28.519952581975417
         ],
         "lon": [
          77.21032468094616
         ],
         "marker": {
          "color": "red",
          "size": 12
         },
         "mode": "markers",
         "name": "The Chicken Junction",
         "type": "scattermapbox"
        },
        {
         "hoverinfo": "text",
         "hovertext": "Masala Junction<br>Deliveries to sectors:<br>Sector 4: 28<br>",
         "lat": [
          28.569906283039188
         ],
         "lon": [
          77.34967742444799
         ],
         "marker": {
          "color": "red",
          "size": 12
         },
         "mode": "markers",
         "name": "Masala Junction",
         "type": "scattermapbox"
        }
       ],
       "layout": {
        "height": 900,
        "legend": {
         "font": {
          "size": 10
         }
        },
        "mapbox": {
         "center": {
          "lat": 28.6139,
          "lon": 77.209
         },
         "style": "open-street-map",
         "zoom": 11
        },
        "margin": {
         "b": 0,
         "l": 0,
         "r": 0,
         "t": 0
        },
        "template": {
         "data": {
          "bar": [
           {
            "error_x": {
             "color": "#2a3f5f"
            },
            "error_y": {
             "color": "#2a3f5f"
            },
            "marker": {
             "line": {
              "color": "#E5ECF6",
              "width": 0.5
             },
             "pattern": {
              "fillmode": "overlay",
              "size": 10,
              "solidity": 0.2
             }
            },
            "type": "bar"
           }
          ],
          "barpolar": [
           {
            "marker": {
             "line": {
              "color": "#E5ECF6",
              "width": 0.5
             },
             "pattern": {
              "fillmode": "overlay",
              "size": 10,
              "solidity": 0.2
             }
            },
            "type": "barpolar"
           }
          ],
          "carpet": [
           {
            "aaxis": {
             "endlinecolor": "#2a3f5f",
             "gridcolor": "white",
             "linecolor": "white",
             "minorgridcolor": "white",
             "startlinecolor": "#2a3f5f"
            },
            "baxis": {
             "endlinecolor": "#2a3f5f",
             "gridcolor": "white",
             "linecolor": "white",
             "minorgridcolor": "white",
             "startlinecolor": "#2a3f5f"
            },
            "type": "carpet"
           }
          ],
          "choropleth": [
           {
            "colorbar": {
             "outlinewidth": 0,
             "ticks": ""
            },
            "type": "choropleth"
           }
          ],
          "contour": [
           {
            "colorbar": {
             "outlinewidth": 0,
             "ticks": ""
            },
            "colorscale": [
             [
              0,
              "#0d0887"
             ],
             [
              0.1111111111111111,
              "#46039f"
             ],
             [
              0.2222222222222222,
              "#7201a8"
             ],
             [
              0.3333333333333333,
              "#9c179e"
             ],
             [
              0.4444444444444444,
              "#bd3786"
             ],
             [
              0.5555555555555556,
              "#d8576b"
             ],
             [
              0.6666666666666666,
              "#ed7953"
             ],
             [
              0.7777777777777778,
              "#fb9f3a"
             ],
             [
              0.8888888888888888,
              "#fdca26"
             ],
             [
              1,
              "#f0f921"
             ]
            ],
            "type": "contour"
           }
          ],
          "contourcarpet": [
           {
            "colorbar": {
             "outlinewidth": 0,
             "ticks": ""
            },
            "type": "contourcarpet"
           }
          ],
          "heatmap": [
           {
            "colorbar": {
             "outlinewidth": 0,
             "ticks": ""
            },
            "colorscale": [
             [
              0,
              "#0d0887"
             ],
             [
              0.1111111111111111,
              "#46039f"
             ],
             [
              0.2222222222222222,
              "#7201a8"
             ],
             [
              0.3333333333333333,
              "#9c179e"
             ],
             [
              0.4444444444444444,
              "#bd3786"
             ],
             [
              0.5555555555555556,
              "#d8576b"
             ],
             [
              0.6666666666666666,
              "#ed7953"
             ],
             [
              0.7777777777777778,
              "#fb9f3a"
             ],
             [
              0.8888888888888888,
              "#fdca26"
             ],
             [
              1,
              "#f0f921"
             ]
            ],
            "type": "heatmap"
           }
          ],
          "histogram": [
           {
            "marker": {
             "pattern": {
              "fillmode": "overlay",
              "size": 10,
              "solidity": 0.2
             }
            },
            "type": "histogram"
           }
          ],
          "histogram2d": [
           {
            "colorbar": {
             "outlinewidth": 0,
             "ticks": ""
            },
            "colorscale": [
             [
              0,
              "#0d0887"
             ],
             [
              0.1111111111111111,
              "#46039f"
             ],
             [
              0.2222222222222222,
              "#7201a8"
             ],
             [
              0.3333333333333333,
              "#9c179e"
             ],
             [
              0.4444444444444444,
              "#bd3786"
             ],
             [
              0.5555555555555556,
              "#d8576b"
             ],
             [
              0.6666666666666666,
              "#ed7953"
             ],
             [
              0.7777777777777778,
              "#fb9f3a"
             ],
             [
              0.8888888888888888,
              "#fdca26"
             ],
             [
              1,
              "#f0f921"
             ]
            ],
            "type": "histogram2d"
           }
          ],
          "histogram2dcontour": [
           {
            "colorbar": {
             "outlinewidth": 0,
             "ticks": ""
            },
            "colorscale": [
             [
              0,
              "#0d0887"
             ],
             [
              0.1111111111111111,
              "#46039f"
             ],
             [
              0.2222222222222222,
              "#7201a8"
             ],
             [
              0.3333333333333333,
              "#9c179e"
             ],
             [
              0.4444444444444444,
              "#bd3786"
             ],
             [
              0.5555555555555556,
              "#d8576b"
             ],
             [
              0.6666666666666666,
              "#ed7953"
             ],
             [
              0.7777777777777778,
              "#fb9f3a"
             ],
             [
              0.8888888888888888,
              "#fdca26"
             ],
             [
              1,
              "#f0f921"
             ]
            ],
            "type": "histogram2dcontour"
           }
          ],
          "mesh3d": [
           {
            "colorbar": {
             "outlinewidth": 0,
             "ticks": ""
            },
            "type": "mesh3d"
           }
          ],
          "parcoords": [
           {
            "line": {
             "colorbar": {
              "outlinewidth": 0,
              "ticks": ""
             }
            },
            "type": "parcoords"
           }
          ],
          "pie": [
           {
            "automargin": true,
            "type": "pie"
           }
          ],
          "scatter": [
           {
            "fillpattern": {
             "fillmode": "overlay",
             "size": 10,
             "solidity": 0.2
            },
            "type": "scatter"
           }
          ],
          "scatter3d": [
           {
            "line": {
             "colorbar": {
              "outlinewidth": 0,
              "ticks": ""
             }
            },
            "marker": {
             "colorbar": {
              "outlinewidth": 0,
              "ticks": ""
             }
            },
            "type": "scatter3d"
           }
          ],
          "scattercarpet": [
           {
            "marker": {
             "colorbar": {
              "outlinewidth": 0,
              "ticks": ""
             }
            },
            "type": "scattercarpet"
           }
          ],
          "scattergeo": [
           {
            "marker": {
             "colorbar": {
              "outlinewidth": 0,
              "ticks": ""
             }
            },
            "type": "scattergeo"
           }
          ],
          "scattergl": [
           {
            "marker": {
             "colorbar": {
              "outlinewidth": 0,
              "ticks": ""
             }
            },
            "type": "scattergl"
           }
          ],
          "scattermap": [
           {
            "marker": {
             "colorbar": {
              "outlinewidth": 0,
              "ticks": ""
             }
            },
            "type": "scattermap"
           }
          ],
          "scattermapbox": [
           {
            "marker": {
             "colorbar": {
              "outlinewidth": 0,
              "ticks": ""
             }
            },
            "type": "scattermapbox"
           }
          ],
          "scatterpolar": [
           {
            "marker": {
             "colorbar": {
              "outlinewidth": 0,
              "ticks": ""
             }
            },
            "type": "scatterpolar"
           }
          ],
          "scatterpolargl": [
           {
            "marker": {
             "colorbar": {
              "outlinewidth": 0,
              "ticks": ""
             }
            },
            "type": "scatterpolargl"
           }
          ],
          "scatterternary": [
           {
            "marker": {
             "colorbar": {
              "outlinewidth": 0,
              "ticks": ""
             }
            },
            "type": "scatterternary"
           }
          ],
          "surface": [
           {
            "colorbar": {
             "outlinewidth": 0,
             "ticks": ""
            },
            "colorscale": [
             [
              0,
              "#0d0887"
             ],
             [
              0.1111111111111111,
              "#46039f"
             ],
             [
              0.2222222222222222,
              "#7201a8"
             ],
             [
              0.3333333333333333,
              "#9c179e"
             ],
             [
              0.4444444444444444,
              "#bd3786"
             ],
             [
              0.5555555555555556,
              "#d8576b"
             ],
             [
              0.6666666666666666,
              "#ed7953"
             ],
             [
              0.7777777777777778,
              "#fb9f3a"
             ],
             [
              0.8888888888888888,
              "#fdca26"
             ],
             [
              1,
              "#f0f921"
             ]
            ],
            "type": "surface"
           }
          ],
          "table": [
           {
            "cells": {
             "fill": {
              "color": "#EBF0F8"
             },
             "line": {
              "color": "white"
             }
            },
            "header": {
             "fill": {
              "color": "#C8D4E3"
             },
             "line": {
              "color": "white"
             }
            },
            "type": "table"
           }
          ]
         },
         "layout": {
          "annotationdefaults": {
           "arrowcolor": "#2a3f5f",
           "arrowhead": 0,
           "arrowwidth": 1
          },
          "autotypenumbers": "strict",
          "coloraxis": {
           "colorbar": {
            "outlinewidth": 0,
            "ticks": ""
           }
          },
          "colorscale": {
           "diverging": [
            [
             0,
             "#8e0152"
            ],
            [
             0.1,
             "#c51b7d"
            ],
            [
             0.2,
             "#de77ae"
            ],
            [
             0.3,
             "#f1b6da"
            ],
            [
             0.4,
             "#fde0ef"
            ],
            [
             0.5,
             "#f7f7f7"
            ],
            [
             0.6,
             "#e6f5d0"
            ],
            [
             0.7,
             "#b8e186"
            ],
            [
             0.8,
             "#7fbc41"
            ],
            [
             0.9,
             "#4d9221"
            ],
            [
             1,
             "#276419"
            ]
           ],
           "sequential": [
            [
             0,
             "#0d0887"
            ],
            [
             0.1111111111111111,
             "#46039f"
            ],
            [
             0.2222222222222222,
             "#7201a8"
            ],
            [
             0.3333333333333333,
             "#9c179e"
            ],
            [
             0.4444444444444444,
             "#bd3786"
            ],
            [
             0.5555555555555556,
             "#d8576b"
            ],
            [
             0.6666666666666666,
             "#ed7953"
            ],
            [
             0.7777777777777778,
             "#fb9f3a"
            ],
            [
             0.8888888888888888,
             "#fdca26"
            ],
            [
             1,
             "#f0f921"
            ]
           ],
           "sequentialminus": [
            [
             0,
             "#0d0887"
            ],
            [
             0.1111111111111111,
             "#46039f"
            ],
            [
             0.2222222222222222,
             "#7201a8"
            ],
            [
             0.3333333333333333,
             "#9c179e"
            ],
            [
             0.4444444444444444,
             "#bd3786"
            ],
            [
             0.5555555555555556,
             "#d8576b"
            ],
            [
             0.6666666666666666,
             "#ed7953"
            ],
            [
             0.7777777777777778,
             "#fb9f3a"
            ],
            [
             0.8888888888888888,
             "#fdca26"
            ],
            [
             1,
             "#f0f921"
            ]
           ]
          },
          "colorway": [
           "#636efa",
           "#EF553B",
           "#00cc96",
           "#ab63fa",
           "#FFA15A",
           "#19d3f3",
           "#FF6692",
           "#B6E880",
           "#FF97FF",
           "#FECB52"
          ],
          "font": {
           "color": "#2a3f5f"
          },
          "geo": {
           "bgcolor": "white",
           "lakecolor": "white",
           "landcolor": "#E5ECF6",
           "showlakes": true,
           "showland": true,
           "subunitcolor": "white"
          },
          "hoverlabel": {
           "align": "left"
          },
          "hovermode": "closest",
          "mapbox": {
           "style": "light"
          },
          "paper_bgcolor": "white",
          "plot_bgcolor": "#E5ECF6",
          "polar": {
           "angularaxis": {
            "gridcolor": "white",
            "linecolor": "white",
            "ticks": ""
           },
           "bgcolor": "#E5ECF6",
           "radialaxis": {
            "gridcolor": "white",
            "linecolor": "white",
            "ticks": ""
           }
          },
          "scene": {
           "xaxis": {
            "backgroundcolor": "#E5ECF6",
            "gridcolor": "white",
            "gridwidth": 2,
            "linecolor": "white",
            "showbackground": true,
            "ticks": "",
            "zerolinecolor": "white"
           },
           "yaxis": {
            "backgroundcolor": "#E5ECF6",
            "gridcolor": "white",
            "gridwidth": 2,
            "linecolor": "white",
            "showbackground": true,
            "ticks": "",
            "zerolinecolor": "white"
           },
           "zaxis": {
            "backgroundcolor": "#E5ECF6",
            "gridcolor": "white",
            "gridwidth": 2,
            "linecolor": "white",
            "showbackground": true,
            "ticks": "",
            "zerolinecolor": "white"
           }
          },
          "shapedefaults": {
           "line": {
            "color": "#2a3f5f"
           }
          },
          "ternary": {
           "aaxis": {
            "gridcolor": "white",
            "linecolor": "white",
            "ticks": ""
           },
           "baxis": {
            "gridcolor": "white",
            "linecolor": "white",
            "ticks": ""
           },
           "bgcolor": "#E5ECF6",
           "caxis": {
            "gridcolor": "white",
            "linecolor": "white",
            "ticks": ""
           }
          },
          "title": {
           "x": 0.05
          },
          "xaxis": {
           "automargin": true,
           "gridcolor": "white",
           "linecolor": "white",
           "ticks": "",
           "title": {
            "standoff": 15
           },
           "zerolinecolor": "white",
           "zerolinewidth": 2
          },
          "yaxis": {
           "automargin": true,
           "gridcolor": "white",
           "linecolor": "white",
           "ticks": "",
           "title": {
            "standoff": 15
           },
           "zerolinecolor": "white",
           "zerolinewidth": 2
          }
         }
        },
        "width": 1600
       }
      }
     },
     "metadata": {},
     "output_type": "display_data"
    }
   ],
   "source": [
    "import random\n",
    "\n",
    "# --- Example restaurant_coords and subzone_coords (use your actual data) ---\n",
    "restaurant_coords = {\n",
    "    'Aura Pizzas': [28.55, 77.25],\n",
    "    'Swaad': [28.59, 77.36],\n",
    "    'Dilli Burger Adda': [28.50, 77.20],\n",
    "    'Tandoori Junction': [28.53, 77.15],\n",
    "    'The Chicken Junction': [28.52, 77.21],\n",
    "    'Masala Junction': [28.57, 77.35]\n",
    "}\n",
    "\n",
    "subzone_coords = {\n",
    "    'Greater Kailash 2 (GK2)': [28.5416, 77.2437],\n",
    "    'Sector 4': [28.5900, 77.4000],\n",
    "    'DLF Phase 1': [28.4590, 77.0300],\n",
    "    'Sector 135': [28.5700, 77.3600],\n",
    "    'Vasant Kunj': [28.5300, 77.1500],\n",
    "    'Shahdara': [28.6667, 77.2700],\n",
    "    'Chittaranjan Park': [28.5530, 77.2580],\n",
    "    'Sikandarpur': [28.4970, 77.0830]\n",
    "}\n",
    "\n",
    "# --- Your DataFrame `df` is already loaded ---\n",
    "# Step 1: clean Distance column\n",
    "df['Distance_km'] = df['Distance'].str.replace(r'\\s*km','', regex=True)\n",
    "df['Distance_km'] = df['Distance_km'].replace('<1', '0.9').astype(float)\n",
    "\n",
    "# Step 2: aggregate delivery counts\n",
    "delivery_counts = df.groupby(['Restaurant name','Subzone']).size().reset_index(name='count')\n",
    "\n",
    "# Step 3: Prepare hover text for restaurants\n",
    "restaurant_hover = {}\n",
    "for rest in df['Restaurant name'].unique():\n",
    "    deliveries = delivery_counts[delivery_counts['Restaurant name']==rest]\n",
    "    hover_text = f\"{rest}<br>Deliveries to sectors:<br>\"\n",
    "    for _, row in deliveries.iterrows():\n",
    "        hover_text += f\"{row['Subzone']}: {row['count']}<br>\"\n",
    "    restaurant_hover[rest] = hover_text\n",
    "\n",
    "# Step 4: Prepare hover text for subzones\n",
    "subzone_hover = {}\n",
    "for sub in df['Subzone'].unique():\n",
    "    deliveries = delivery_counts[delivery_counts['Subzone']==sub]\n",
    "    hover_text = f\"{sub}<br>Deliveries from restaurants:<br>\"\n",
    "    for _, row in deliveries.iterrows():\n",
    "        hover_text += f\"{row['Restaurant name']}: {row['count']}<br>\"\n",
    "    subzone_hover[sub] = hover_text\n",
    "\n",
    "# --- Function to slightly jitter overlapping markers ---\n",
    "def jitter(lat, lon, scale=0.0005):\n",
    "    return lat + random.uniform(-scale, scale), lon + random.uniform(-scale, scale)\n",
    "\n",
    "# Step 5: Plot\n",
    "fig = go.Figure()\n",
    "\n",
    "# Lines (constant thickness)\n",
    "for _, row in delivery_counts.iterrows():\n",
    "    r = row['Restaurant name']\n",
    "    s = row['Subzone']\n",
    "    fig.add_trace(go.Scattermapbox(\n",
    "        lat=[restaurant_coords[r][0], subzone_coords[s][0]],\n",
    "        lon=[restaurant_coords[r][1], subzone_coords[s][1]],\n",
    "        mode='lines',\n",
    "        line=go.scattermapbox.Line(width=4, color='green'),\n",
    "        hoverinfo='none',\n",
    "        showlegend=False\n",
    "    ))\n",
    "\n",
    "# Subzones (keep bigger for clarity)\n",
    "for sub in subzone_coords:\n",
    "    fig.add_trace(go.Scattermapbox(\n",
    "        lat=[subzone_coords[sub][0]],\n",
    "        lon=[subzone_coords[sub][1]],\n",
    "        mode='markers',\n",
    "        marker=go.scattermapbox.Marker(size=36, color='blue', opacity=0.7),\n",
    "        name=sub,\n",
    "        hoverinfo='text',\n",
    "        hovertext=subzone_hover.get(sub, sub)\n",
    "    ))\n",
    "\n",
    "# Restaurants with jitter\n",
    "for rest in restaurant_coords:\n",
    "    lat, lon = jitter(restaurant_coords[rest][0], restaurant_coords[rest][1])\n",
    "    fig.add_trace(go.Scattermapbox(\n",
    "        lat=[lat],\n",
    "        lon=[lon],\n",
    "        mode='markers',\n",
    "        marker=go.scattermapbox.Marker(size=12, color='red'),\n",
    "        name=rest,\n",
    "        hoverinfo='text',\n",
    "        hovertext=restaurant_hover.get(rest, rest)\n",
    "    ))\n",
    "\n",
    "# Layout\n",
    "fig.update_layout(\n",
    "    mapbox_style=\"open-street-map\",\n",
    "    mapbox_zoom=11,\n",
    "    mapbox_center={\"lat\":28.6139, \"lon\":77.2090},\n",
    "    margin={\"r\":0,\"t\":0,\"l\":0,\"b\":0},\n",
    "    legend=dict(font=dict(size=10)),\n",
    "    height=900,\n",
    "    width=1600\n",
    ")\n",
    "\n",
    "fig.show()\n"
   ]
  },
  {
   "cell_type": "code",
   "execution_count": 34,
   "id": "f130481e",
   "metadata": {},
   "outputs": [
    {
     "name": "stdout",
     "output_type": "stream",
     "text": [
      "(21321, 21)\n",
      "<class 'pandas.core.frame.DataFrame'>\n",
      "RangeIndex: 21321 entries, 0 to 21320\n",
      "Data columns (total 21 columns):\n",
      " #   Column              Non-Null Count  Dtype         \n",
      "---  ------              --------------  -----         \n",
      " 0   Restaurant ID       21321 non-null  int64         \n",
      " 1   Restaurant name     21321 non-null  object        \n",
      " 2   Subzone             21321 non-null  object        \n",
      " 3   City                21321 non-null  object        \n",
      " 4   Order ID            21321 non-null  int64         \n",
      " 5   Order Placed At     21321 non-null  object        \n",
      " 6   Order Status        21321 non-null  object        \n",
      " 7   Delivery            21321 non-null  object        \n",
      " 8   Distance            21321 non-null  object        \n",
      " 9   Items in order      21321 non-null  object        \n",
      " 10  Discount construct  15823 non-null  object        \n",
      " 11  expanded_items      21321 non-null  object        \n",
      " 12  Order_Datetime      21321 non-null  datetime64[ns]\n",
      " 13  hour                21321 non-null  int32         \n",
      " 14  day_of_week         21321 non-null  object        \n",
      " 15  meal_slot           21321 non-null  object        \n",
      " 16  is_weekend          21321 non-null  bool          \n",
      " 17  is_holiday          21321 non-null  bool          \n",
      " 18  rest_lat            21321 non-null  float64       \n",
      " 19  rest_lon            21321 non-null  float64       \n",
      " 20  Distance_km         21321 non-null  float64       \n",
      "dtypes: bool(2), datetime64[ns](1), float64(3), int32(1), int64(2), object(12)\n",
      "memory usage: 3.1+ MB\n",
      "None\n"
     ]
    }
   ],
   "source": [
    "# Shape, info\n",
    "print(df.shape)\n",
    "print(df.info())\n"
   ]
  },
  {
   "cell_type": "code",
   "execution_count": 35,
   "id": "a7da1e26",
   "metadata": {},
   "outputs": [
    {
     "name": "stdout",
     "output_type": "stream",
     "text": [
      "Discount construct    5498\n",
      "dtype: int64\n"
     ]
    }
   ],
   "source": [
    "# Null value check\n",
    "null_summary = df.isnull().sum().sort_values(ascending=False)\n",
    "print(null_summary[null_summary > 0])"
   ]
  },
  {
   "cell_type": "code",
   "execution_count": 36,
   "id": "410a6145",
   "metadata": {},
   "outputs": [
    {
     "name": "stdout",
     "output_type": "stream",
     "text": [
      "New discount features created:\n",
      "   Discount construct discount_type  discount_percentage  discount_flat_amount\n",
      "0  40% off upto Rs.80    Percentage                 40.0                   0.0\n",
      "1     Flat Rs.175 off          Flat                  0.0                 175.0\n",
      "2  40% off upto Rs.80    Percentage                 40.0                   0.0\n",
      "3  40% off upto Rs.80    Percentage                 40.0                   0.0\n",
      "4  40% off upto Rs.80    Percentage                 40.0                   0.0\n"
     ]
    }
   ],
   "source": [
    "import numpy as np\n",
    "\n",
    "# ------------------------------\n",
    "# Fill missing values for the original column first\n",
    "# ------------------------------\n",
    "df['Discount construct'] = df['Discount construct'].fillna('None')\n",
    "\n",
    "# ------------------------------\n",
    "# Feature Engineering for Discounts\n",
    "# ------------------------------\n",
    "def engineer_discount_features(df_in):\n",
    "    \"\"\"\n",
    "    Creates generalized features from the 'Discount construct' column.\n",
    "    \"\"\"\n",
    "    df_out = df_in.copy()\n",
    "    \n",
    "    # 1. Create a new 'discount_type' column based on patterns\n",
    "    conditions = [\n",
    "        df_out['Discount construct'].str.contains('off upto', case=False, na=False),\n",
    "        df_out['Discount construct'].str.contains('Flat', case=False, na=False),\n",
    "        df_out['Discount construct'].str.contains('Buy 1 Get 1', case=False, na=False)\n",
    "    ]\n",
    "    choices = ['Percentage', 'Flat', 'BOGO']\n",
    "    df_out['discount_type'] = np.select(conditions, choices, default='None')\n",
    "\n",
    "    # 2. Extract numerical values using regular expressions\n",
    "    # Extract the percentage value (e.g., 40 from \"40% off...\")\n",
    "    df_out['discount_percentage'] = df_out['Discount construct'].str.extract(r'(\\d+)%').astype(float)\n",
    "    \n",
    "    # Extract the flat discount amount (e.g., 175 from \"Flat Rs.175 off\")\n",
    "    df_out['discount_flat_amount'] = df_out['Discount construct'].str.extract(r'Flat Rs\\.?\\s*([\\d.]+)').astype(float)\n",
    "\n",
    "    # 3. Fill any resulting NaN values with 0 (since no discount means a value of 0)\n",
    "    df_out['discount_percentage'] = df_out['discount_percentage'].fillna(0)\n",
    "    df_out['discount_flat_amount'] = df_out['discount_flat_amount'].fillna(0)\n",
    "    \n",
    "    return df_out\n",
    "\n",
    "# Apply the function to the DataFrame\n",
    "df = engineer_discount_features(df)\n",
    "\n",
    "# Check the new features\n",
    "print(\"New discount features created:\")\n",
    "print(df[['Discount construct', 'discount_type', 'discount_percentage', 'discount_flat_amount']].head())"
   ]
  },
  {
   "cell_type": "code",
   "execution_count": 37,
   "id": "7217a507",
   "metadata": {},
   "outputs": [
    {
     "name": "stdout",
     "output_type": "stream",
     "text": [
      "Series([], dtype: int64)\n"
     ]
    }
   ],
   "source": [
    "# Null value check\n",
    "null_summary = df.isnull().sum().sort_values(ascending=False)\n",
    "print(null_summary[null_summary > 0])"
   ]
  },
  {
   "cell_type": "code",
   "execution_count": 38,
   "id": "e8d93ccd",
   "metadata": {},
   "outputs": [],
   "source": [
    "# # ------------------------------\n",
    "# # Encode categorical variables (with the new discount_type)\n",
    "# # ------------------------------\n",
    "# # remove 'Discount construct' and new 'discount_type'\n",
    "# cat_cols = ['Restaurant ID', 'Subzone', 'City', 'Delivery', 'day_of_week', 'meal_slot', 'discount_type']\n",
    "\n",
    "# # drop the original 'Discount construct' column as it has been replaced\n",
    "# df = df.drop(columns=['Discount construct'])\n",
    "\n",
    "# df = pd.get_dummies(df, columns=cat_cols, drop_first=True)\n",
    "\n",
    "cat_cols = ['City', 'Delivery', 'day_of_week', 'meal_slot']\n",
    "\n",
    "# Perform one-hot encoding on the selected categorical columns\n",
    "df = pd.get_dummies(df, columns=cat_cols, drop_first=True)\n"
   ]
  },
  {
   "cell_type": "code",
   "execution_count": 39,
   "id": "e6e0b69a",
   "metadata": {},
   "outputs": [
    {
     "name": "stdout",
     "output_type": "stream",
     "text": [
      "Columns remaining for modeling:\n",
      "Index(['Subzone', 'Discount construct', 'Order_Datetime', 'hour', 'is_weekend',\n",
      "       'is_holiday', 'discount_type', 'discount_percentage',\n",
      "       'discount_flat_amount', 'day_of_week_Monday', 'day_of_week_Saturday',\n",
      "       'day_of_week_Sunday', 'day_of_week_Thursday', 'day_of_week_Tuesday',\n",
      "       'day_of_week_Wednesday', 'meal_slot_Dinner', 'meal_slot_Lunch'],\n",
      "      dtype='object')\n"
     ]
    }
   ],
   "source": [
    "cols_to_drop_before_modeling = [\n",
    "    'Restaurant ID',\n",
    "    'Restaurant name',  # Will be one-hot encoded if needed, but not as an ID\n",
    "    'Order ID',\n",
    "    'Order Placed At',\n",
    "    'Order Status',     # Post-order information\n",
    "    'Delivery',         # Post-order information\n",
    "    'Distance',         # Original distance string, replaced by Distance_km\n",
    "    'Items in order',\n",
    "    'expanded_items',\n",
    "    'date',\n",
    "    'rest_lat',\n",
    "    'rest_lon',\n",
    "    'Distance_km'\n",
    "]\n",
    "\n",
    "df = df.drop(columns=cols_to_drop_before_modeling, errors='ignore')\n",
    "\n",
    "print(\"Columns remaining for modeling:\")\n",
    "print(df.columns)"
   ]
  },
  {
   "cell_type": "code",
   "execution_count": 40,
   "id": "04a2ca66",
   "metadata": {},
   "outputs": [],
   "source": [
    "# df['date'] = df['Order_Datetime'].dt.date\n",
    "\n",
    "def aggregate_features(df, group_col):\n",
    "    # Target\n",
    "    target = df.groupby(group_col).size().reset_index(name='orders')\n",
    "    # Numeric features\n",
    "    numeric_features = [c for c in df.columns if df[c].dtype in [int,float] and c != group_col]\n",
    "    features = df.groupby(group_col)[numeric_features].mean().reset_index()\n",
    "    # Merge features and target\n",
    "    data = features.merge(target, on=group_col)\n",
    "    return data\n",
    "\n",
    "# -------------------------------\n",
    "# Aggregate for different time windows\n",
    "# -------------------------------\n",
    "data_hourly = aggregate_features(df, 'hour')"
   ]
  },
  {
   "cell_type": "code",
   "execution_count": 41,
   "id": "6696a9c3",
   "metadata": {},
   "outputs": [],
   "source": [
    "from sklearn.model_selection import train_test_split, TimeSeriesSplit\n",
    "from sklearn.preprocessing import PolynomialFeatures, StandardScaler\n",
    "from sklearn.metrics import mean_squared_error\n",
    "import numpy as np\n",
    "\n",
    "# Function to prepare X, y, split, polynomial, and scaling\n",
    "def prepare_model_data(data, time_col):\n",
    "    # -------------------------------\n",
    "    # Split features & target\n",
    "    # -------------------------------\n",
    "    X = data.drop(columns=[time_col, 'orders'])\n",
    "    y = data['orders'].values\n",
    "\n",
    "    # Train-test split (no shuffle for time-series)\n",
    "    X_train, X_test, y_train, y_test = train_test_split(X, y, test_size=0.2, shuffle=False)\n",
    "\n",
    "    # -------------------------------\n",
    "    # Polynomial Features\n",
    "    # -------------------------------\n",
    "    poly = PolynomialFeatures(degree=2, include_bias=False)\n",
    "    X_train_poly = poly.fit_transform(X_train)\n",
    "    X_test_poly = poly.transform(X_test)\n",
    "\n",
    "    # -------------------------------\n",
    "    # Scaling\n",
    "    # -------------------------------\n",
    "    scaler = StandardScaler()\n",
    "    X_train_scaled = scaler.fit_transform(X_train_poly)\n",
    "    X_test_scaled = scaler.transform(X_test_poly)\n",
    "\n",
    "    return X_train_scaled, X_test_scaled, y_train, y_test, poly, scaler\n",
    "\n",
    "# -------------------------------\n",
    "# Example usage: hourly\n",
    "X_train_hour, X_test_hour, y_train_hour, y_test_hour, poly_hour, scaler_hour = prepare_model_data(data_hourly, 'hour')\n",
    "\n",
    "# -------------------------------\n",
    "#TimeSeriesSplit for cross-validation\n",
    "tscv = TimeSeriesSplit(n_splits=5)\n",
    "\n",
    "# Example loop for hourly data\n",
    "for train_idx, test_idx in tscv.split(X_train_hour):\n",
    "    X_train_cv, X_test_cv = X_train_hour[train_idx], X_train_hour[test_idx]\n",
    "    y_train_cv, y_test_cv = y_train_hour[train_idx], y_train_hour[test_idx]\n",
    "    # Train your model here for CV\n"
   ]
  },
  {
   "cell_type": "markdown",
   "id": "7f461cca",
   "metadata": {},
   "source": [
    "# LINEAR REGRESSION"
   ]
  },
  {
   "cell_type": "code",
   "execution_count": 42,
   "id": "972f958f",
   "metadata": {},
   "outputs": [
    {
     "name": "stdout",
     "output_type": "stream",
     "text": [
      "=== HOURLY ===\n",
      "Running GridSearchCV for Linear...\n",
      "Linear Best Params: {}\n",
      "Linear RMSE: 343.756\n",
      "Linear R2: 0.609\n",
      "\n",
      "Running GridSearchCV for Ridge...\n",
      "Ridge Best Params: {'model__alpha': 100}\n",
      "Ridge RMSE: 1237.603\n",
      "Ridge R2: -4.065\n",
      "\n",
      "Running GridSearchCV for Lasso...\n",
      "Lasso Best Params: {'model__alpha': 10}\n",
      "Lasso RMSE: 539.188\n",
      "Lasso R2: 0.039\n",
      "\n",
      "Running GridSearchCV for ElasticNet...\n",
      "ElasticNet Best Params: {'model__alpha': 1, 'model__l1_ratio': 0.2}\n",
      "ElasticNet RMSE: 999.402\n",
      "ElasticNet R2: -2.303\n",
      "\n"
     ]
    },
    {
     "name": "stderr",
     "output_type": "stream",
     "text": [
      "/Library/Frameworks/Python.framework/Versions/3.13/lib/python3.13/site-packages/sklearn/linear_model/_coordinate_descent.py:695: ConvergenceWarning:\n",
      "\n",
      "Objective did not converge. You might want to increase the number of iterations, check the scale of the features or consider increasing regularisation. Duality gap: 1.608e+04, tolerance: 6.152e+02\n",
      "\n",
      "/Library/Frameworks/Python.framework/Versions/3.13/lib/python3.13/site-packages/sklearn/linear_model/_coordinate_descent.py:695: ConvergenceWarning:\n",
      "\n",
      "Objective did not converge. You might want to increase the number of iterations, check the scale of the features or consider increasing regularisation. Duality gap: 1.623e+04, tolerance: 6.152e+02\n",
      "\n",
      "/Library/Frameworks/Python.framework/Versions/3.13/lib/python3.13/site-packages/sklearn/linear_model/_coordinate_descent.py:695: ConvergenceWarning:\n",
      "\n",
      "Objective did not converge. You might want to increase the number of iterations, check the scale of the features or consider increasing regularisation. Duality gap: 1.442e+04, tolerance: 6.152e+02\n",
      "\n",
      "/Library/Frameworks/Python.framework/Versions/3.13/lib/python3.13/site-packages/sklearn/linear_model/_coordinate_descent.py:695: ConvergenceWarning:\n",
      "\n",
      "Objective did not converge. You might want to increase the number of iterations, check the scale of the features or consider increasing regularisation. Duality gap: 1.311e+04, tolerance: 6.152e+02\n",
      "\n",
      "/Library/Frameworks/Python.framework/Versions/3.13/lib/python3.13/site-packages/sklearn/linear_model/_coordinate_descent.py:695: ConvergenceWarning:\n",
      "\n",
      "Objective did not converge. You might want to increase the number of iterations, check the scale of the features or consider increasing regularisation. Duality gap: 2.911e+04, tolerance: 6.152e+02\n",
      "\n"
     ]
    }
   ],
   "source": [
    "from sklearn.linear_model import LinearRegression, Ridge, Lasso, ElasticNet\n",
    "from sklearn.pipeline import Pipeline\n",
    "from sklearn.model_selection import GridSearchCV, TimeSeriesSplit\n",
    "from sklearn.metrics import mean_squared_error, r2_score\n",
    "import numpy as np\n",
    "\n",
    "# -------------------------------\n",
    "# Function to run models\n",
    "# -------------------------------\n",
    "def run_linear_models(X_train, X_test, y_train, y_test, n_splits=5):\n",
    "    models = {\n",
    "        'Linear': {'model': LinearRegression(), 'params': {}},\n",
    "        'Ridge': {'model': Ridge(), 'params': {'model__alpha': [0.01, 0.1, 1, 10, 100]}},\n",
    "        'Lasso': {'model': Lasso(max_iter=10000, tol=1e-3, warm_start=True, random_state=42),\n",
    "                  'params': {'model__alpha': [0.001, 0.01, 0.1, 1, 10]}},\n",
    "        'ElasticNet': {'model': ElasticNet(max_iter=10000, tol=1e-3, warm_start=True, random_state=42),\n",
    "                       'params': {'model__alpha':[0.001, 0.01, 0.1, 1], 'model__l1_ratio':[0.2,0.5,0.8]}}\n",
    "    }\n",
    "\n",
    "    best_models = {}\n",
    "\n",
    "    # Adjust TimeSeriesSplit if training data is small\n",
    "    tscv = TimeSeriesSplit(n_splits=min(n_splits, len(y_train)-1))\n",
    "\n",
    "    for name, m in models.items():\n",
    "        print(f\"Running GridSearchCV for {name}...\")\n",
    "\n",
    "        pipeline = Pipeline([('model', m['model'])])\n",
    "\n",
    "        # Use n_jobs=1 to avoid macOS joblib errors\n",
    "        gsearch = GridSearchCV(\n",
    "            estimator=pipeline,\n",
    "            param_grid=m['params'],\n",
    "            scoring='r2',\n",
    "            cv=tscv,\n",
    "            n_jobs=1\n",
    "        )\n",
    "\n",
    "        gsearch.fit(X_train, y_train)\n",
    "        best_models[name] = gsearch.best_estimator_\n",
    "\n",
    "        # Evaluate on last fold\n",
    "        for train_idx, test_idx in tscv.split(X_train):\n",
    "            X_train_cv, X_test_cv = X_train[train_idx], X_train[test_idx]\n",
    "            y_train_cv, y_test_cv = y_train[train_idx], y_train[test_idx]\n",
    "        y_pred = gsearch.best_estimator_.predict(X_test)\n",
    "        rmse = np.sqrt(mean_squared_error(y_test, y_pred))\n",
    "        r2 = r2_score(y_test, y_pred)\n",
    "\n",
    "        print(f\"{name} Best Params: {gsearch.best_params_}\")\n",
    "        print(f\"{name} RMSE: {rmse:.3f}\")\n",
    "        print(f\"{name} R2: {r2:.3f}\\n\")\n",
    "\n",
    "    return best_models\n",
    "\n",
    "# -------------------------------\n",
    "# Run for hourly\n",
    "print(\"=== HOURLY ===\")\n",
    "best_hourly = run_linear_models(X_train_hour, X_test_hour, y_train_hour, y_test_hour, n_splits=5)\n",
    "\n"
   ]
  },
  {
   "cell_type": "markdown",
   "id": "29cde4df",
   "metadata": {},
   "source": [
    "# RANDOM FOREST"
   ]
  },
  {
   "cell_type": "code",
   "execution_count": 43,
   "id": "3bceb5d5",
   "metadata": {},
   "outputs": [],
   "source": [
    "# Random Forest doesn't need scaling or polynomial features\n",
    "def prepare_rf_data(data, time_col):\n",
    "    X = data.drop(columns=[time_col, 'orders']).values\n",
    "    y = data['orders'].values\n",
    "    return X, y"
   ]
  },
  {
   "cell_type": "code",
   "execution_count": 44,
   "id": "387efc8d",
   "metadata": {},
   "outputs": [],
   "source": [
    "X_rf_hour, y_rf_hour = prepare_rf_data(data_hourly, 'hour')"
   ]
  },
  {
   "cell_type": "code",
   "execution_count": 45,
   "id": "55ba6250",
   "metadata": {},
   "outputs": [],
   "source": [
    "from sklearn.ensemble import RandomForestRegressor\n",
    "from sklearn.pipeline import Pipeline\n",
    "from sklearn.model_selection import GridSearchCV, TimeSeriesSplit\n",
    "from sklearn.metrics import mean_squared_error, r2_score\n",
    "import numpy as np\n",
    "import pandas as pd\n",
    "import matplotlib.pyplot as plt\n",
    "\n",
    "def run_rf(X, y, feature_names, max_splits=5):\n",
    "    n_samples = X.shape[0]\n",
    "    # Reduce splits if dataset is small\n",
    "    n_splits = min(max_splits, n_samples - 1) if n_samples > 1 else 1\n",
    "\n",
    "    rf_model = RandomForestRegressor(random_state=42)\n",
    "    rf_params = {\n",
    "        'model__n_estimators': [100, 200],\n",
    "        'model__max_depth': [None, 10],\n",
    "        'model__min_samples_split': [2, 5],\n",
    "        'model__min_samples_leaf': [1, 2]\n",
    "    }\n",
    "\n",
    "    pipeline_rf = Pipeline([('model', rf_model)])\n",
    "\n",
    "    if n_splits > 1:\n",
    "        tscv = TimeSeriesSplit(n_splits=n_splits)\n",
    "        gsearch_rf = GridSearchCV(\n",
    "            estimator=pipeline_rf,\n",
    "            param_grid=rf_params,\n",
    "            scoring='r2',\n",
    "            cv=tscv,\n",
    "            n_jobs=-1\n",
    "        )\n",
    "        gsearch_rf.fit(X, y)\n",
    "        best_rf = gsearch_rf.best_estimator_\n",
    "        print(\"Best Random Forest Params:\", gsearch_rf.best_params_)\n",
    "    else:\n",
    "        # Not enough samples for CV\n",
    "        best_rf = pipeline_rf.fit(X, y)\n",
    "        print(\"Trained Random Forest without CV due to small dataset\")\n",
    "\n",
    "    # Evaluate on last fold (or whole data if small)\n",
    "    y_pred = best_rf.predict(X)\n",
    "    rmse = np.sqrt(mean_squared_error(y, y_pred))\n",
    "    r2 = r2_score(y, y_pred)\n",
    "    print(f\"Random Forest RMSE: {rmse:.3f}\")\n",
    "    print(f\"Random Forest R2: {r2:.3f}\")\n",
    "\n",
    "    # Feature importances\n",
    "    rf_importances = best_rf.named_steps['model'].feature_importances_\n",
    "    rf_df = pd.DataFrame({\n",
    "        'Feature': feature_names,\n",
    "        'Importance': rf_importances\n",
    "    }).sort_values(by='Importance', ascending=False)\n",
    "\n",
    "    print(\"Top Features:\")\n",
    "    print(rf_df.head(10))\n",
    "\n",
    "    # Plot top 10\n",
    "    plt.figure(figsize=(10,5))\n",
    "    plt.barh(rf_df['Feature'].head(10), rf_df['Importance'].head(10))\n",
    "    plt.title(\"Top 10 Feature Importances\")\n",
    "    plt.gca().invert_yaxis()\n",
    "    plt.show()\n",
    "\n",
    "    return best_rf\n"
   ]
  },
  {
   "cell_type": "code",
   "execution_count": 46,
   "id": "c2032606",
   "metadata": {},
   "outputs": [
    {
     "name": "stderr",
     "output_type": "stream",
     "text": [
      "Traceback (most recent call last):\n",
      "  File \u001b[35m\"/Library/Frameworks/Python.framework/Versions/3.13/lib/python3.13/multiprocessing/resource_tracker.py\"\u001b[0m, line \u001b[35m295\u001b[0m, in \u001b[35mmain\u001b[0m\n",
      "    raise ValueError(\n",
      "        f'Cannot register {name} for automatic cleanup: '\n",
      "        f'unknown resource type {rtype}')\n",
      "\u001b[1;35mValueError\u001b[0m: \u001b[35mCannot register /var/folders/28/vn55ny5s5114jn9bjs666k2w0000gn/T/joblib_memmapping_folder_4573_942bf9eae1c047ab8e3db9d3e5c918c0_193e90e8ccd645cf8593bc4d321eaae0 for automatic cleanup: unknown resource type folder\u001b[0m\n",
      "Traceback (most recent call last):\n",
      "  File \u001b[35m\"/Library/Frameworks/Python.framework/Versions/3.13/lib/python3.13/multiprocessing/resource_tracker.py\"\u001b[0m, line \u001b[35m295\u001b[0m, in \u001b[35mmain\u001b[0m\n",
      "    raise ValueError(\n",
      "        f'Cannot register {name} for automatic cleanup: '\n",
      "        f'unknown resource type {rtype}')\n",
      "\u001b[1;35mValueError\u001b[0m: \u001b[35mCannot register /loky-4573-x_mq1acg for automatic cleanup: unknown resource type semlock\u001b[0m\n",
      "Traceback (most recent call last):\n",
      "  File \u001b[35m\"/Library/Frameworks/Python.framework/Versions/3.13/lib/python3.13/multiprocessing/resource_tracker.py\"\u001b[0m, line \u001b[35m295\u001b[0m, in \u001b[35mmain\u001b[0m\n",
      "    raise ValueError(\n",
      "        f'Cannot register {name} for automatic cleanup: '\n",
      "        f'unknown resource type {rtype}')\n",
      "\u001b[1;35mValueError\u001b[0m: \u001b[35mCannot register /loky-4573-c_6ap07y for automatic cleanup: unknown resource type semlock\u001b[0m\n",
      "Traceback (most recent call last):\n",
      "  File \u001b[35m\"/Library/Frameworks/Python.framework/Versions/3.13/lib/python3.13/multiprocessing/resource_tracker.py\"\u001b[0m, line \u001b[35m295\u001b[0m, in \u001b[35mmain\u001b[0m\n",
      "    raise ValueError(\n",
      "        f'Cannot register {name} for automatic cleanup: '\n",
      "        f'unknown resource type {rtype}')\n",
      "\u001b[1;35mValueError\u001b[0m: \u001b[35mCannot register /loky-4573-upf0nyeq for automatic cleanup: unknown resource type semlock\u001b[0m\n",
      "Traceback (most recent call last):\n",
      "  File \u001b[35m\"/Library/Frameworks/Python.framework/Versions/3.13/lib/python3.13/multiprocessing/resource_tracker.py\"\u001b[0m, line \u001b[35m295\u001b[0m, in \u001b[35mmain\u001b[0m\n",
      "    raise ValueError(\n",
      "        f'Cannot register {name} for automatic cleanup: '\n",
      "        f'unknown resource type {rtype}')\n",
      "\u001b[1;35mValueError\u001b[0m: \u001b[35mCannot register /loky-4573-t0_50zrp for automatic cleanup: unknown resource type semlock\u001b[0m\n",
      "Traceback (most recent call last):\n",
      "  File \u001b[35m\"/Library/Frameworks/Python.framework/Versions/3.13/lib/python3.13/multiprocessing/resource_tracker.py\"\u001b[0m, line \u001b[35m295\u001b[0m, in \u001b[35mmain\u001b[0m\n",
      "    raise ValueError(\n",
      "        f'Cannot register {name} for automatic cleanup: '\n",
      "        f'unknown resource type {rtype}')\n",
      "\u001b[1;35mValueError\u001b[0m: \u001b[35mCannot register /loky-4573-53h_bmkp for automatic cleanup: unknown resource type semlock\u001b[0m\n",
      "Traceback (most recent call last):\n",
      "  File \u001b[35m\"/Library/Frameworks/Python.framework/Versions/3.13/lib/python3.13/multiprocessing/resource_tracker.py\"\u001b[0m, line \u001b[35m295\u001b[0m, in \u001b[35mmain\u001b[0m\n",
      "    raise ValueError(\n",
      "        f'Cannot register {name} for automatic cleanup: '\n",
      "        f'unknown resource type {rtype}')\n",
      "\u001b[1;35mValueError\u001b[0m: \u001b[35mCannot register /loky-4573-87uareoq for automatic cleanup: unknown resource type semlock\u001b[0m\n",
      "Traceback (most recent call last):\n",
      "  File \u001b[35m\"/Library/Frameworks/Python.framework/Versions/3.13/lib/python3.13/multiprocessing/resource_tracker.py\"\u001b[0m, line \u001b[35m295\u001b[0m, in \u001b[35mmain\u001b[0m\n",
      "    raise ValueError(\n",
      "        f'Cannot register {name} for automatic cleanup: '\n",
      "        f'unknown resource type {rtype}')\n",
      "\u001b[1;35mValueError\u001b[0m: \u001b[35mCannot register /var/folders/28/vn55ny5s5114jn9bjs666k2w0000gn/T/joblib_memmapping_folder_4573_942bf9eae1c047ab8e3db9d3e5c918c0_56e643782b4f4da5a81a8af746c5fa17 for automatic cleanup: unknown resource type folder\u001b[0m\n",
      "Traceback (most recent call last):\n",
      "  File \u001b[35m\"/Library/Frameworks/Python.framework/Versions/3.13/lib/python3.13/multiprocessing/resource_tracker.py\"\u001b[0m, line \u001b[35m295\u001b[0m, in \u001b[35mmain\u001b[0m\n",
      "    raise ValueError(\n",
      "        f'Cannot register {name} for automatic cleanup: '\n",
      "        f'unknown resource type {rtype}')\n",
      "\u001b[1;35mValueError\u001b[0m: \u001b[35mCannot register /loky-4573-ds2w2ao3 for automatic cleanup: unknown resource type semlock\u001b[0m\n",
      "Traceback (most recent call last):\n",
      "  File \u001b[35m\"/Library/Frameworks/Python.framework/Versions/3.13/lib/python3.13/multiprocessing/resource_tracker.py\"\u001b[0m, line \u001b[35m295\u001b[0m, in \u001b[35mmain\u001b[0m\n",
      "    raise ValueError(\n",
      "        f'Cannot register {name} for automatic cleanup: '\n",
      "        f'unknown resource type {rtype}')\n",
      "\u001b[1;35mValueError\u001b[0m: \u001b[35mCannot register /loky-4573-4pt7wfh1 for automatic cleanup: unknown resource type semlock\u001b[0m\n",
      "Traceback (most recent call last):\n",
      "  File \u001b[35m\"/Library/Frameworks/Python.framework/Versions/3.13/lib/python3.13/multiprocessing/resource_tracker.py\"\u001b[0m, line \u001b[35m295\u001b[0m, in \u001b[35mmain\u001b[0m\n",
      "    raise ValueError(\n",
      "        f'Cannot register {name} for automatic cleanup: '\n",
      "        f'unknown resource type {rtype}')\n",
      "\u001b[1;35mValueError\u001b[0m: \u001b[35mCannot register /loky-4573-zqdmuzra for automatic cleanup: unknown resource type semlock\u001b[0m\n",
      "Traceback (most recent call last):\n",
      "  File \u001b[35m\"/Library/Frameworks/Python.framework/Versions/3.13/lib/python3.13/multiprocessing/resource_tracker.py\"\u001b[0m, line \u001b[35m295\u001b[0m, in \u001b[35mmain\u001b[0m\n",
      "    raise ValueError(\n",
      "        f'Cannot register {name} for automatic cleanup: '\n",
      "        f'unknown resource type {rtype}')\n",
      "\u001b[1;35mValueError\u001b[0m: \u001b[35mCannot register /loky-4573-udl4z5_w for automatic cleanup: unknown resource type semlock\u001b[0m\n",
      "Traceback (most recent call last):\n",
      "  File \u001b[35m\"/Library/Frameworks/Python.framework/Versions/3.13/lib/python3.13/multiprocessing/resource_tracker.py\"\u001b[0m, line \u001b[35m295\u001b[0m, in \u001b[35mmain\u001b[0m\n",
      "    raise ValueError(\n",
      "        f'Cannot register {name} for automatic cleanup: '\n",
      "        f'unknown resource type {rtype}')\n",
      "\u001b[1;35mValueError\u001b[0m: \u001b[35mCannot register /loky-4573-85_t6430 for automatic cleanup: unknown resource type semlock\u001b[0m\n",
      "Traceback (most recent call last):\n",
      "  File \u001b[35m\"/Library/Frameworks/Python.framework/Versions/3.13/lib/python3.13/multiprocessing/resource_tracker.py\"\u001b[0m, line \u001b[35m295\u001b[0m, in \u001b[35mmain\u001b[0m\n",
      "    raise ValueError(\n",
      "        f'Cannot register {name} for automatic cleanup: '\n",
      "        f'unknown resource type {rtype}')\n",
      "\u001b[1;35mValueError\u001b[0m: \u001b[35mCannot register /loky-4573-uz5cn00f for automatic cleanup: unknown resource type semlock\u001b[0m\n",
      "Traceback (most recent call last):\n",
      "  File \u001b[35m\"/Library/Frameworks/Python.framework/Versions/3.13/lib/python3.13/multiprocessing/resource_tracker.py\"\u001b[0m, line \u001b[35m295\u001b[0m, in \u001b[35mmain\u001b[0m\n",
      "    raise ValueError(\n",
      "        f'Cannot register {name} for automatic cleanup: '\n",
      "        f'unknown resource type {rtype}')\n",
      "\u001b[1;35mValueError\u001b[0m: \u001b[35mCannot register /loky-4573-6_wmvex8 for automatic cleanup: unknown resource type semlock\u001b[0m\n",
      "Traceback (most recent call last):\n",
      "  File \u001b[35m\"/Library/Frameworks/Python.framework/Versions/3.13/lib/python3.13/multiprocessing/resource_tracker.py\"\u001b[0m, line \u001b[35m295\u001b[0m, in \u001b[35mmain\u001b[0m\n",
      "    raise ValueError(\n",
      "        f'Cannot register {name} for automatic cleanup: '\n",
      "        f'unknown resource type {rtype}')\n",
      "\u001b[1;35mValueError\u001b[0m: \u001b[35mCannot register /loky-4573-b4a_ir3h for automatic cleanup: unknown resource type semlock\u001b[0m\n",
      "Traceback (most recent call last):\n",
      "  File \u001b[35m\"/Library/Frameworks/Python.framework/Versions/3.13/lib/python3.13/multiprocessing/resource_tracker.py\"\u001b[0m, line \u001b[35m295\u001b[0m, in \u001b[35mmain\u001b[0m\n",
      "    raise ValueError(\n",
      "        f'Cannot register {name} for automatic cleanup: '\n",
      "        f'unknown resource type {rtype}')\n",
      "\u001b[1;35mValueError\u001b[0m: \u001b[35mCannot register /loky-4573-ow3vo0gn for automatic cleanup: unknown resource type semlock\u001b[0m\n",
      "Traceback (most recent call last):\n",
      "  File \u001b[35m\"/Library/Frameworks/Python.framework/Versions/3.13/lib/python3.13/multiprocessing/resource_tracker.py\"\u001b[0m, line \u001b[35m295\u001b[0m, in \u001b[35mmain\u001b[0m\n",
      "    raise ValueError(\n",
      "        f'Cannot register {name} for automatic cleanup: '\n",
      "        f'unknown resource type {rtype}')\n",
      "\u001b[1;35mValueError\u001b[0m: \u001b[35mCannot register /loky-4573-dgan8sfh for automatic cleanup: unknown resource type semlock\u001b[0m\n"
     ]
    },
    {
     "name": "stdout",
     "output_type": "stream",
     "text": [
      "Best Random Forest Params: {'model__max_depth': None, 'model__min_samples_leaf': 1, 'model__min_samples_split': 5, 'model__n_estimators': 100}\n",
      "Random Forest RMSE: 351.618\n",
      "Random Forest R2: 0.780\n",
      "Top Features:\n",
      "                Feature  Importance\n",
      "1  discount_flat_amount     0.70379\n",
      "0   discount_percentage     0.29621\n"
     ]
    },
    {
     "data": {
      "image/png": "[encoded data removed]",
      "text/plain": [
       "<Figure size 1000x500 with 1 Axes>"
      ]
     },
     "metadata": {},
     "output_type": "display_data"
    }
   ],
   "source": [
    "X_rf_hour, y_rf_hour = prepare_rf_data(data_hourly, 'hour')\n",
    "\n",
    "\n",
    "feature_names_hour = data_hourly.drop(columns=['hour', 'orders']).columns\n",
    "\n",
    "\n",
    "best_rf_hour = run_rf(X_rf_hour, y_rf_hour, feature_names_hour)\n",
    "\n"
   ]
  },
  {
   "cell_type": "markdown",
   "id": "969c7be2",
   "metadata": {},
   "source": [
    "## XGBoost"
   ]
  },
  {
   "cell_type": "code",
   "execution_count": 47,
   "id": "8343cc26",
   "metadata": {},
   "outputs": [],
   "source": [
    "from xgboost import XGBRegressor\n",
    "from sklearn.model_selection import TimeSeriesSplit, GridSearchCV\n",
    "from sklearn.metrics import mean_squared_error, r2_score\n",
    "import matplotlib.pyplot as plt\n",
    "import pandas as pd\n",
    "import numpy as np\n",
    "\n",
    "def run_xgb(X, y, feature_names, max_splits=5):\n",
    "    n_samples = X.shape[0]\n",
    "    # Reduce splits if dataset is small\n",
    "    n_splits = min(max_splits, n_samples - 1) if n_samples > 1 else 1\n",
    "\n",
    "    xgb_model = XGBRegressor(random_state=42, objective='reg:squarederror')\n",
    "\n",
    "    xgb_params = {\n",
    "        'model__n_estimators': [100, 200],\n",
    "        'model__max_depth': [3, 5, 7],\n",
    "        'model__learning_rate': [0.05, 0.1],\n",
    "        'model__subsample': [0.7, 1.0]\n",
    "    }\n",
    "\n",
    "    pipeline_xgb = Pipeline([('model', xgb_model)])\n",
    "\n",
    "    if n_splits > 1:\n",
    "        tscv = TimeSeriesSplit(n_splits=n_splits)\n",
    "        gsearch_xgb = GridSearchCV(\n",
    "            estimator=pipeline_xgb,\n",
    "            param_grid=xgb_params,\n",
    "            scoring='r2',\n",
    "            cv=tscv,\n",
    "            n_jobs=-1\n",
    "        )\n",
    "        gsearch_xgb.fit(X, y)\n",
    "        best_xgb = gsearch_xgb.best_estimator_\n",
    "        print(\"Best XGBoost Params:\", gsearch_xgb.best_params_)\n",
    "    else:\n",
    "        best_xgb = pipeline_xgb.fit(X, y)\n",
    "        print(\"Trained XGBoost without CV due to small dataset\")\n",
    "\n",
    "    # Evaluate predictions\n",
    "    y_pred = best_xgb.predict(X)\n",
    "    rmse = np.sqrt(mean_squared_error(y, y_pred))\n",
    "    r2 = r2_score(y, y_pred)\n",
    "    print(f\"XGBoost RMSE: {rmse:.3f}\")\n",
    "    print(f\"XGBoost R2: {r2:.3f}\")\n",
    "\n",
    "    # Feature importance\n",
    "    xgb_importances = best_xgb.named_steps['model'].feature_importances_\n",
    "    xgb_df = pd.DataFrame({\n",
    "        'Feature': feature_names,\n",
    "        'Importance': xgb_importances\n",
    "    }).sort_values(by='Importance', ascending=False)\n",
    "\n",
    "    print(\"Top Features:\")\n",
    "    print(xgb_df.head(10))\n",
    "\n",
    "    # Plot\n",
    "    plt.figure(figsize=(10,5))\n",
    "    plt.barh(xgb_df['Feature'].head(10), xgb_df['Importance'].head(10))\n",
    "    plt.title(\"XGBoost Top 10 Feature Importances\")\n",
    "    plt.gca().invert_yaxis()\n",
    "    plt.show()\n",
    "\n",
    "    return best_xgb"
   ]
  },
  {
   "cell_type": "code",
   "execution_count": 48,
   "id": "9b7a7f3d",
   "metadata": {},
   "outputs": [
    {
     "name": "stderr",
     "output_type": "stream",
     "text": [
      "Traceback (most recent call last):\n",
      "  File \u001b[35m\"/Library/Frameworks/Python.framework/Versions/3.13/lib/python3.13/multiprocessing/resource_tracker.py\"\u001b[0m, line \u001b[35m295\u001b[0m, in \u001b[35mmain\u001b[0m\n",
      "    raise ValueError(\n",
      "        f'Cannot register {name} for automatic cleanup: '\n",
      "        f'unknown resource type {rtype}')\n",
      "\u001b[1;35mValueError\u001b[0m: \u001b[35mCannot register /var/folders/28/vn55ny5s5114jn9bjs666k2w0000gn/T/joblib_memmapping_folder_4573_7d596b485e3e496fb4a80b59720dcb49_644f6039852b494da843ebcc641d1e97 for automatic cleanup: unknown resource type folder\u001b[0m\n",
      "Traceback (most recent call last):\n",
      "  File \u001b[35m\"/Library/Frameworks/Python.framework/Versions/3.13/lib/python3.13/multiprocessing/resource_tracker.py\"\u001b[0m, line \u001b[35m295\u001b[0m, in \u001b[35mmain\u001b[0m\n",
      "    raise ValueError(\n",
      "        f'Cannot register {name} for automatic cleanup: '\n",
      "        f'unknown resource type {rtype}')\n",
      "\u001b[1;35mValueError\u001b[0m: \u001b[35mCannot register /var/folders/28/vn55ny5s5114jn9bjs666k2w0000gn/T/joblib_memmapping_folder_4573_942bf9eae1c047ab8e3db9d3e5c918c0_cb22ace04efa4b49b083eb592a4318a2 for automatic cleanup: unknown resource type folder\u001b[0m\n"
     ]
    },
    {
     "name": "stdout",
     "output_type": "stream",
     "text": [
      "Best XGBoost Params: {'model__learning_rate': 0.05, 'model__max_depth': 3, 'model__n_estimators': 100, 'model__subsample': 0.7}\n",
      "XGBoost RMSE: 123.233\n",
      "XGBoost R2: 0.973\n",
      "Top Features:\n",
      "                Feature  Importance\n",
      "1  discount_flat_amount    0.732385\n",
      "0   discount_percentage    0.267615\n"
     ]
    },
    {
     "data": {
      "image/png": "[encoded data removed]",
      "text/plain": [
       "<Figure size 1000x500 with 1 Axes>"
      ]
     },
     "metadata": {},
     "output_type": "display_data"
    }
   ],
   "source": [
    "feature_names_hour = data_hourly.drop(columns=['hour', 'orders']).columns\n",
    "\n",
    "\n",
    "best_xgb_hour = run_xgb(X_rf_hour, y_rf_hour, feature_names_hour)\n",
    "\n"
   ]
  },
  {
   "cell_type": "markdown",
   "id": "caf7faaf",
   "metadata": {},
   "source": [
    "## Model Selection and Feature Importance\n"
   ]
  },
  {
   "cell_type": "code",
   "execution_count": 49,
   "id": "5f07fcb9",
   "metadata": {},
   "outputs": [],
   "source": [
    "import numpy as np\n",
    "import pandas as pd\n",
    "from sklearn.metrics import mean_squared_error, r2_score\n",
    "\n",
    "# -------------------------------\n",
    "# Function to evaluate a model\n",
    "# -------------------------------\n",
    "def evaluate_model(model, X_test, y_test):\n",
    "    y_pred = model.predict(X_test)\n",
    "    rmse = np.sqrt(mean_squared_error(y_test, y_pred))\n",
    "    r2 = r2_score(y_test, y_pred)\n",
    "    return rmse, r2\n",
    "\n",
    "# -------------------------------\n",
    "# Use the same feature sets used for training\n",
    "# -------------------------------\n",
    "data_splits = {\n",
    "    \"Hourly\": {\n",
    "        \"Linear\": (X_train_hour, X_test_hour, y_train_hour, y_test_hour),\n",
    "        \"Ridge\": (X_train_hour, X_test_hour, y_train_hour, y_test_hour),\n",
    "        \"Lasso\": (X_train_hour, X_test_hour, y_train_hour, y_test_hour),\n",
    "        \"ElasticNet\": (X_train_hour, X_test_hour, y_train_hour, y_test_hour),\n",
    "        \"Random Forest\": (X_rf_hour, X_rf_hour, y_rf_hour, y_rf_hour),\n",
    "        \"XGBoost\": (X_rf_hour, X_rf_hour, y_rf_hour, y_rf_hour)\n",
    "    }\n",
    "}\n",
    "\n",
    "# -------------------------------\n",
    "# Best models from earlier runs\n",
    "# -------------------------------\n",
    "best_models = {\n",
    "    \"Hourly\": best_hourly | {\"Random Forest\": best_rf_hour, \"XGBoost\": best_xgb_hour},\n",
    "}\n",
    "\n",
    "# -------------------------------\n",
    "# Run evaluation\n",
    "# -------------------------------\n",
    "results_list = []\n",
    "\n",
    "for timeframe, models_dict in best_models.items():\n",
    "    for model_name, model in models_dict.items():\n",
    "        X_train, X_test, y_train, y_test = data_splits[timeframe][model_name]\n",
    "\n",
    "        # Linear models might have too few test samples for R2\n",
    "        if len(y_test) < 2 and model_name in [\"Linear\", \"Ridge\", \"Lasso\", \"ElasticNet\"]:\n",
    "            rmse, r2 = (np.nan, np.nan)\n",
    "        else:\n",
    "            rmse, r2 = evaluate_model(model, X_test, y_test)\n",
    "\n",
    "        results_list.append({\n",
    "            \"Timeframe\": timeframe,\n",
    "            \"Model\": model_name,\n",
    "            \"RMSE\": rmse,\n",
    "            \"R2 Score\": r2\n",
    "        })\n",
    "\n",
    "results_df = pd.DataFrame(results_list)\n",
    "results_df = results_df.sort_values(by=[\"Timeframe\", \"R2 Score\"], ascending=[True, False])"
   ]
  },
  {
   "cell_type": "code",
   "execution_count": 50,
   "id": "17bada59",
   "metadata": {},
   "outputs": [
    {
     "name": "stdout",
     "output_type": "stream",
     "text": [
      "--- Model Performance Comparison ---\n"
     ]
    },
    {
     "data": {
      "text/html": [
       "<div>\n",
       "<style scoped>\n",
       "    .dataframe tbody tr th:only-of-type {\n",
       "        vertical-align: middle;\n",
       "    }\n",
       "\n",
       "    .dataframe tbody tr th {\n",
       "        vertical-align: top;\n",
       "    }\n",
       "\n",
       "    .dataframe thead th {\n",
       "        text-align: right;\n",
       "    }\n",
       "</style>\n",
       "<table border=\"1\" class=\"dataframe\">\n",
       "  <thead>\n",
       "    <tr style=\"text-align: right;\">\n",
       "      <th></th>\n",
       "      <th>Timeframe</th>\n",
       "      <th>Model</th>\n",
       "      <th>RMSE</th>\n",
       "      <th>R2 Score</th>\n",
       "    </tr>\n",
       "  </thead>\n",
       "  <tbody>\n",
       "    <tr>\n",
       "      <th>5</th>\n",
       "      <td>Hourly</td>\n",
       "      <td>XGBoost</td>\n",
       "      <td>123.232920</td>\n",
       "      <td>0.972959</td>\n",
       "    </tr>\n",
       "    <tr>\n",
       "      <th>4</th>\n",
       "      <td>Hourly</td>\n",
       "      <td>Random Forest</td>\n",
       "      <td>351.617879</td>\n",
       "      <td>0.779857</td>\n",
       "    </tr>\n",
       "    <tr>\n",
       "      <th>0</th>\n",
       "      <td>Hourly</td>\n",
       "      <td>Linear</td>\n",
       "      <td>343.755770</td>\n",
       "      <td>0.609207</td>\n",
       "    </tr>\n",
       "    <tr>\n",
       "      <th>2</th>\n",
       "      <td>Hourly</td>\n",
       "      <td>Lasso</td>\n",
       "      <td>539.188373</td>\n",
       "      <td>0.038548</td>\n",
       "    </tr>\n",
       "    <tr>\n",
       "      <th>3</th>\n",
       "      <td>Hourly</td>\n",
       "      <td>ElasticNet</td>\n",
       "      <td>999.402224</td>\n",
       "      <td>-2.303142</td>\n",
       "    </tr>\n",
       "    <tr>\n",
       "      <th>1</th>\n",
       "      <td>Hourly</td>\n",
       "      <td>Ridge</td>\n",
       "      <td>1237.603173</td>\n",
       "      <td>-4.065350</td>\n",
       "    </tr>\n",
       "  </tbody>\n",
       "</table>\n",
       "</div>"
      ],
      "text/plain": [
       "  Timeframe          Model         RMSE  R2 Score\n",
       "5    Hourly        XGBoost   123.232920  0.972959\n",
       "4    Hourly  Random Forest   351.617879  0.779857\n",
       "0    Hourly         Linear   343.755770  0.609207\n",
       "2    Hourly          Lasso   539.188373  0.038548\n",
       "3    Hourly     ElasticNet   999.402224 -2.303142\n",
       "1    Hourly          Ridge  1237.603173 -4.065350"
      ]
     },
     "execution_count": 50,
     "metadata": {},
     "output_type": "execute_result"
    }
   ],
   "source": [
    "print(\"--- Model Performance Comparison ---\")\n",
    "results_df"
   ]
  },
  {
   "cell_type": "markdown",
   "id": "8275a3f1",
   "metadata": {},
   "source": [
    "### Based on the results, the Daily XGBoost model is the top performer. We will analyze its feature importances.\n"
   ]
  },
  {
   "cell_type": "code",
   "execution_count": 51,
   "id": "e1fcf4ee",
   "metadata": {},
   "outputs": [
    {
     "name": "stdout",
     "output_type": "stream",
     "text": [
      "--- Target Variable (y) ---\n",
      "The target is the daily total order count, named 'orders'.\n",
      "\n",
      "--- List of Final Feature Names (X) ---\n",
      "is_weekend\n",
      "is_holiday\n",
      "discount_percentage\n",
      "discount_flat_amount\n",
      "day_of_week_Monday\n",
      "day_of_week_Saturday\n",
      "day_of_week_Sunday\n",
      "day_of_week_Thursday\n",
      "day_of_week_Tuesday\n",
      "day_of_week_Wednesday\n",
      "meal_slot_Dinner\n",
      "meal_slot_Lunch\n"
     ]
    }
   ],
   "source": [
    "# Function to aggregate features\n",
    "def aggregate_features(df, group_col):\n",
    "    # Target\n",
    "    target = df.groupby(group_col).size().reset_index(name='orders')\n",
    "    \n",
    "    # Get all boolean and numeric columns for aggregation\n",
    "    numeric_cols = df.select_dtypes(include=np.number).columns.tolist()\n",
    "    bool_cols = df.select_dtypes(include=bool).columns.tolist()\n",
    "    \n",
    "    # We need to explicitly handle boolean columns for aggregation by converting them to int\n",
    "    aggregation_df = df.copy()\n",
    "    for col in bool_cols:\n",
    "        aggregation_df[col] = aggregation_df[col].astype(int)\n",
    "        \n",
    "    # In the notebook, all dummy variables (which are numeric) are also included.\n",
    "    dummy_cols_to_agg = [col for col in df.columns if df[col].dtype in ['uint8', 'int64', 'float64', 'int32', 'bool', 'UInt32'] and col not in ['Order ID', group_col, 'orders']]\n",
    "\n",
    "    features = df.groupby(group_col)[dummy_cols_to_agg].mean().reset_index()\n",
    "    \n",
    "    # Merge features and target\n",
    "    data = features.merge(target, on=group_col)\n",
    "    return data\n",
    "\n",
    "# Aggregate for daily data\n",
    "data_daily = aggregate_features(df, 'hour')\n",
    "\n",
    "# Define X (features) and y (target)\n",
    "X_daily_features = data_daily.drop(columns=['hour', 'orders'])\n",
    "y_daily_target = data_daily['orders']\n",
    "\n",
    "\n",
    "print(\"--- Target Variable (y) ---\")\n",
    "print(\"The target is the daily total order count, named 'orders'.\")\n",
    "print(\"\\n--- List of Final Feature Names (X) ---\")\n",
    "for feature in X_daily_features.columns:\n",
    "    print(feature)"
   ]
  },
  {
   "cell_type": "code",
   "execution_count": 52,
   "id": "9aabadb8",
   "metadata": {},
   "outputs": [
    {
     "name": "stdout",
     "output_type": "stream",
     "text": [
      "df.columns: ['Subzone', 'Discount construct', 'Order_Datetime', 'hour', 'is_weekend', 'is_holiday', 'discount_type', 'discount_percentage', 'discount_flat_amount', 'day_of_week_Monday', 'day_of_week_Saturday', 'day_of_week_Sunday', 'day_of_week_Thursday', 'day_of_week_Tuesday', 'day_of_week_Wednesday', 'meal_slot_Dinner', 'meal_slot_Lunch']\n"
     ]
    },
    {
     "name": "stderr",
     "output_type": "stream",
     "text": [
      "Traceback (most recent call last):\n",
      "  File \u001b[35m\"/Library/Frameworks/Python.framework/Versions/3.13/lib/python3.13/multiprocessing/resource_tracker.py\"\u001b[0m, line \u001b[35m295\u001b[0m, in \u001b[35mmain\u001b[0m\n",
      "    raise ValueError(\n",
      "        f'Cannot register {name} for automatic cleanup: '\n",
      "        f'unknown resource type {rtype}')\n",
      "\u001b[1;35mValueError\u001b[0m: \u001b[35mCannot register /loky-4573-b4a_ir3h for automatic cleanup: unknown resource type semlock\u001b[0m\n",
      "Traceback (most recent call last):\n",
      "  File \u001b[35m\"/Library/Frameworks/Python.framework/Versions/3.13/lib/python3.13/multiprocessing/resource_tracker.py\"\u001b[0m, line \u001b[35m295\u001b[0m, in \u001b[35mmain\u001b[0m\n",
      "    raise ValueError(\n",
      "        f'Cannot register {name} for automatic cleanup: '\n",
      "        f'unknown resource type {rtype}')\n",
      "\u001b[1;35mValueError\u001b[0m: \u001b[35mCannot register /loky-4573-ow3vo0gn for automatic cleanup: unknown resource type semlock\u001b[0m\n",
      "Traceback (most recent call last):\n",
      "  File \u001b[35m\"/Library/Frameworks/Python.framework/Versions/3.13/lib/python3.13/multiprocessing/resource_tracker.py\"\u001b[0m, line \u001b[35m295\u001b[0m, in \u001b[35mmain\u001b[0m\n",
      "    raise ValueError(\n",
      "        f'Cannot register {name} for automatic cleanup: '\n",
      "        f'unknown resource type {rtype}')\n",
      "\u001b[1;35mValueError\u001b[0m: \u001b[35mCannot register /loky-4573-uz5cn00f for automatic cleanup: unknown resource type semlock\u001b[0m\n",
      "Traceback (most recent call last):\n",
      "  File \u001b[35m\"/Library/Frameworks/Python.framework/Versions/3.13/lib/python3.13/multiprocessing/resource_tracker.py\"\u001b[0m, line \u001b[35m295\u001b[0m, in \u001b[35mmain\u001b[0m\n",
      "    raise ValueError(\n",
      "        f'Cannot register {name} for automatic cleanup: '\n",
      "        f'unknown resource type {rtype}')\n",
      "\u001b[1;35mValueError\u001b[0m: \u001b[35mCannot register /loky-4573-4pt7wfh1 for automatic cleanup: unknown resource type semlock\u001b[0m\n",
      "Traceback (most recent call last):\n",
      "  File \u001b[35m\"/Library/Frameworks/Python.framework/Versions/3.13/lib/python3.13/multiprocessing/resource_tracker.py\"\u001b[0m, line \u001b[35m295\u001b[0m, in \u001b[35mmain\u001b[0m\n",
      "    raise ValueError(\n",
      "        f'Cannot register {name} for automatic cleanup: '\n",
      "        f'unknown resource type {rtype}')\n",
      "\u001b[1;35mValueError\u001b[0m: \u001b[35mCannot register /loky-4573-udl4z5_w for automatic cleanup: unknown resource type semlock\u001b[0m\n",
      "Traceback (most recent call last):\n",
      "  File \u001b[35m\"/Library/Frameworks/Python.framework/Versions/3.13/lib/python3.13/multiprocessing/resource_tracker.py\"\u001b[0m, line \u001b[35m295\u001b[0m, in \u001b[35mmain\u001b[0m\n",
      "    raise ValueError(\n",
      "        f'Cannot register {name} for automatic cleanup: '\n",
      "        f'unknown resource type {rtype}')\n",
      "\u001b[1;35mValueError\u001b[0m: \u001b[35mCannot register /loky-4573-zqdmuzra for automatic cleanup: unknown resource type semlock\u001b[0m\n",
      "Traceback (most recent call last):\n",
      "  File \u001b[35m\"/Library/Frameworks/Python.framework/Versions/3.13/lib/python3.13/multiprocessing/resource_tracker.py\"\u001b[0m, line \u001b[35m295\u001b[0m, in \u001b[35mmain\u001b[0m\n",
      "    raise ValueError(\n",
      "        f'Cannot register {name} for automatic cleanup: '\n",
      "        f'unknown resource type {rtype}')\n",
      "\u001b[1;35mValueError\u001b[0m: \u001b[35mCannot register /loky-4573-dgan8sfh for automatic cleanup: unknown resource type semlock\u001b[0m\n",
      "Traceback (most recent call last):\n",
      "  File \u001b[35m\"/Library/Frameworks/Python.framework/Versions/3.13/lib/python3.13/multiprocessing/resource_tracker.py\"\u001b[0m, line \u001b[35m295\u001b[0m, in \u001b[35mmain\u001b[0m\n",
      "    raise ValueError(\n",
      "        f'Cannot register {name} for automatic cleanup: '\n",
      "        f'unknown resource type {rtype}')\n",
      "\u001b[1;35mValueError\u001b[0m: \u001b[35mCannot register /loky-4573-ds2w2ao3 for automatic cleanup: unknown resource type semlock\u001b[0m\n",
      "Traceback (most recent call last):\n",
      "  File \u001b[35m\"/Library/Frameworks/Python.framework/Versions/3.13/lib/python3.13/multiprocessing/resource_tracker.py\"\u001b[0m, line \u001b[35m295\u001b[0m, in \u001b[35mmain\u001b[0m\n",
      "    raise ValueError(\n",
      "        f'Cannot register {name} for automatic cleanup: '\n",
      "        f'unknown resource type {rtype}')\n",
      "\u001b[1;35mValueError\u001b[0m: \u001b[35mCannot register /loky-4573-85_t6430 for automatic cleanup: unknown resource type semlock\u001b[0m\n",
      "Traceback (most recent call last):\n",
      "  File \u001b[35m\"/Library/Frameworks/Python.framework/Versions/3.13/lib/python3.13/multiprocessing/resource_tracker.py\"\u001b[0m, line \u001b[35m295\u001b[0m, in \u001b[35mmain\u001b[0m\n",
      "    raise ValueError(\n",
      "        f'Cannot register {name} for automatic cleanup: '\n",
      "        f'unknown resource type {rtype}')\n",
      "\u001b[1;35mValueError\u001b[0m: \u001b[35mCannot register /loky-4573-6_wmvex8 for automatic cleanup: unknown resource type semlock\u001b[0m\n"
     ]
    }
   ],
   "source": [
    "print(\"df.columns:\", list(df.columns))"
   ]
  }
 ],
 "metadata": {
  "kernelspec": {
   "display_name": "Python 3",
   "language": "python",
   "name": "python3"
  },
  "language_info": {
   "codemirror_mode": {
    "name": "ipython",
    "version": 3
   },
   "file_extension": ".py",
   "mimetype": "text/x-python",
   "name": "python",
   "nbconvert_exporter": "python",
   "pygments_lexer": "ipython3",
   "version": "3.13.7"
  }
 },
 "nbformat": 4,
 "nbformat_minor": 5
}
