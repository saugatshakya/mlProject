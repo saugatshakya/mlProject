{
 "cells": [
  {
   "cell_type": "code",
   "execution_count": null,
   "id": "ae154f97",
   "metadata": {},
   "outputs": [],
   "source": [
    "import numpy as np\n",
    "import pandas as pd"
   ]
  },
  {
   "cell_type": "code",
   "execution_count": 19,
   "id": "a5b33e12",
   "metadata": {},
   "outputs": [
    {
     "data": {
      "text/html": [
       "<div>\n",
       "<style scoped>\n",
       "    .dataframe tbody tr th:only-of-type {\n",
       "        vertical-align: middle;\n",
       "    }\n",
       "\n",
       "    .dataframe tbody tr th {\n",
       "        vertical-align: top;\n",
       "    }\n",
       "\n",
       "    .dataframe thead th {\n",
       "        text-align: right;\n",
       "    }\n",
       "</style>\n",
       "<table border=\"1\" class=\"dataframe\">\n",
       "  <thead>\n",
       "    <tr style=\"text-align: right;\">\n",
       "      <th></th>\n",
       "      <th>Restaurant ID</th>\n",
       "      <th>Restaurant name</th>\n",
       "      <th>Subzone</th>\n",
       "      <th>City</th>\n",
       "      <th>Order ID</th>\n",
       "      <th>Order Placed At</th>\n",
       "      <th>Order Status</th>\n",
       "      <th>Delivery</th>\n",
       "      <th>Distance</th>\n",
       "      <th>Items in order</th>\n",
       "      <th>...</th>\n",
       "      <th>Rating</th>\n",
       "      <th>Review</th>\n",
       "      <th>Cancellation / Rejection reason</th>\n",
       "      <th>Restaurant compensation (Cancellation)</th>\n",
       "      <th>Restaurant penalty (Rejection)</th>\n",
       "      <th>KPT duration (minutes)</th>\n",
       "      <th>Rider wait time (minutes)</th>\n",
       "      <th>Order Ready Marked</th>\n",
       "      <th>Customer complaint tag</th>\n",
       "      <th>Customer ID</th>\n",
       "    </tr>\n",
       "  </thead>\n",
       "  <tbody>\n",
       "    <tr>\n",
       "      <th>0</th>\n",
       "      <td>20320607</td>\n",
       "      <td>Swaad</td>\n",
       "      <td>Sector 4</td>\n",
       "      <td>Delhi NCR</td>\n",
       "      <td>6168884918</td>\n",
       "      <td>11:38 PM, September 10 2024</td>\n",
       "      <td>Delivered</td>\n",
       "      <td>Zomato Delivery</td>\n",
       "      <td>3km</td>\n",
       "      <td>1 x Grilled Chicken Jamaican Tender, 1 x Grill...</td>\n",
       "      <td>...</td>\n",
       "      <td>NaN</td>\n",
       "      <td>NaN</td>\n",
       "      <td>NaN</td>\n",
       "      <td>NaN</td>\n",
       "      <td>NaN</td>\n",
       "      <td>18.35</td>\n",
       "      <td>11.6</td>\n",
       "      <td>Correctly</td>\n",
       "      <td>NaN</td>\n",
       "      <td>5d6c2b96db963098bc69768bea504c8bf46106a8a5178e...</td>\n",
       "    </tr>\n",
       "    <tr>\n",
       "      <th>1</th>\n",
       "      <td>20320607</td>\n",
       "      <td>Swaad</td>\n",
       "      <td>Sector 4</td>\n",
       "      <td>Delhi NCR</td>\n",
       "      <td>6170707559</td>\n",
       "      <td>11:34 PM, September 10 2024</td>\n",
       "      <td>Delivered</td>\n",
       "      <td>Zomato Delivery</td>\n",
       "      <td>2km</td>\n",
       "      <td>1 x Peri Peri Fries, 1 x Fried Chicken Angara ...</td>\n",
       "      <td>...</td>\n",
       "      <td>NaN</td>\n",
       "      <td>NaN</td>\n",
       "      <td>NaN</td>\n",
       "      <td>NaN</td>\n",
       "      <td>NaN</td>\n",
       "      <td>16.95</td>\n",
       "      <td>3.6</td>\n",
       "      <td>Correctly</td>\n",
       "      <td>NaN</td>\n",
       "      <td>0781815deb4a10a574e9fee4fa0b86b074d4a0b36175d5...</td>\n",
       "    </tr>\n",
       "    <tr>\n",
       "      <th>2</th>\n",
       "      <td>20320607</td>\n",
       "      <td>Swaad</td>\n",
       "      <td>Sector 4</td>\n",
       "      <td>Delhi NCR</td>\n",
       "      <td>6169375019</td>\n",
       "      <td>03:52 PM, September 10 2024</td>\n",
       "      <td>Delivered</td>\n",
       "      <td>Zomato Delivery</td>\n",
       "      <td>&lt;1km</td>\n",
       "      <td>1 x Bone in Peri Peri Grilled Chicken</td>\n",
       "      <td>...</td>\n",
       "      <td>NaN</td>\n",
       "      <td>NaN</td>\n",
       "      <td>NaN</td>\n",
       "      <td>NaN</td>\n",
       "      <td>NaN</td>\n",
       "      <td>14.05</td>\n",
       "      <td>12.2</td>\n",
       "      <td>Correctly</td>\n",
       "      <td>NaN</td>\n",
       "      <td>f93362f5ce5382657482d164e368186bcec9c6225fd93d...</td>\n",
       "    </tr>\n",
       "    <tr>\n",
       "      <th>3</th>\n",
       "      <td>20320607</td>\n",
       "      <td>Swaad</td>\n",
       "      <td>Sector 4</td>\n",
       "      <td>Delhi NCR</td>\n",
       "      <td>6151677434</td>\n",
       "      <td>03:45 PM, September 10 2024</td>\n",
       "      <td>Delivered</td>\n",
       "      <td>Zomato Delivery</td>\n",
       "      <td>2km</td>\n",
       "      <td>1 x Fried Chicken Ghostbuster Tender, 1 x Anga...</td>\n",
       "      <td>...</td>\n",
       "      <td>4.0</td>\n",
       "      <td>NaN</td>\n",
       "      <td>NaN</td>\n",
       "      <td>NaN</td>\n",
       "      <td>NaN</td>\n",
       "      <td>19.00</td>\n",
       "      <td>3.3</td>\n",
       "      <td>Correctly</td>\n",
       "      <td>NaN</td>\n",
       "      <td>1ed226d1b8a5f7acee12fc1d6676558330a3b2b742af5d...</td>\n",
       "    </tr>\n",
       "    <tr>\n",
       "      <th>4</th>\n",
       "      <td>20320607</td>\n",
       "      <td>Swaad</td>\n",
       "      <td>Sector 4</td>\n",
       "      <td>Delhi NCR</td>\n",
       "      <td>6167540897</td>\n",
       "      <td>03:04 PM, September 10 2024</td>\n",
       "      <td>Delivered</td>\n",
       "      <td>Zomato Delivery</td>\n",
       "      <td>2km</td>\n",
       "      <td>1 x Peri Peri Krispers, 1 x Fried Chicken Anga...</td>\n",
       "      <td>...</td>\n",
       "      <td>NaN</td>\n",
       "      <td>NaN</td>\n",
       "      <td>NaN</td>\n",
       "      <td>NaN</td>\n",
       "      <td>NaN</td>\n",
       "      <td>15.97</td>\n",
       "      <td>1.0</td>\n",
       "      <td>Correctly</td>\n",
       "      <td>NaN</td>\n",
       "      <td>d21a2ac6ea06b31cc3288ab20c4ef2f292066c096f2c5f...</td>\n",
       "    </tr>\n",
       "  </tbody>\n",
       "</table>\n",
       "<p>5 rows × 29 columns</p>\n",
       "</div>"
      ],
      "text/plain": [
       "   Restaurant ID Restaurant name   Subzone       City    Order ID  \\\n",
       "0       20320607           Swaad  Sector 4  Delhi NCR  6168884918   \n",
       "1       20320607           Swaad  Sector 4  Delhi NCR  6170707559   \n",
       "2       20320607           Swaad  Sector 4  Delhi NCR  6169375019   \n",
       "3       20320607           Swaad  Sector 4  Delhi NCR  6151677434   \n",
       "4       20320607           Swaad  Sector 4  Delhi NCR  6167540897   \n",
       "\n",
       "               Order Placed At Order Status         Delivery Distance  \\\n",
       "0  11:38 PM, September 10 2024    Delivered  Zomato Delivery      3km   \n",
       "1  11:34 PM, September 10 2024    Delivered  Zomato Delivery      2km   \n",
       "2  03:52 PM, September 10 2024    Delivered  Zomato Delivery     <1km   \n",
       "3  03:45 PM, September 10 2024    Delivered  Zomato Delivery      2km   \n",
       "4  03:04 PM, September 10 2024    Delivered  Zomato Delivery      2km   \n",
       "\n",
       "                                      Items in order  ... Rating Review  \\\n",
       "0  1 x Grilled Chicken Jamaican Tender, 1 x Grill...  ...    NaN    NaN   \n",
       "1  1 x Peri Peri Fries, 1 x Fried Chicken Angara ...  ...    NaN    NaN   \n",
       "2              1 x Bone in Peri Peri Grilled Chicken  ...    NaN    NaN   \n",
       "3  1 x Fried Chicken Ghostbuster Tender, 1 x Anga...  ...    4.0    NaN   \n",
       "4  1 x Peri Peri Krispers, 1 x Fried Chicken Anga...  ...    NaN    NaN   \n",
       "\n",
       "   Cancellation / Rejection reason  Restaurant compensation (Cancellation)  \\\n",
       "0                              NaN                                     NaN   \n",
       "1                              NaN                                     NaN   \n",
       "2                              NaN                                     NaN   \n",
       "3                              NaN                                     NaN   \n",
       "4                              NaN                                     NaN   \n",
       "\n",
       "   Restaurant penalty (Rejection)  KPT duration (minutes)  \\\n",
       "0                             NaN                   18.35   \n",
       "1                             NaN                   16.95   \n",
       "2                             NaN                   14.05   \n",
       "3                             NaN                   19.00   \n",
       "4                             NaN                   15.97   \n",
       "\n",
       "   Rider wait time (minutes)  Order Ready Marked  Customer complaint tag  \\\n",
       "0                       11.6           Correctly                     NaN   \n",
       "1                        3.6           Correctly                     NaN   \n",
       "2                       12.2           Correctly                     NaN   \n",
       "3                        3.3           Correctly                     NaN   \n",
       "4                        1.0           Correctly                     NaN   \n",
       "\n",
       "                                         Customer ID  \n",
       "0  5d6c2b96db963098bc69768bea504c8bf46106a8a5178e...  \n",
       "1  0781815deb4a10a574e9fee4fa0b86b074d4a0b36175d5...  \n",
       "2  f93362f5ce5382657482d164e368186bcec9c6225fd93d...  \n",
       "3  1ed226d1b8a5f7acee12fc1d6676558330a3b2b742af5d...  \n",
       "4  d21a2ac6ea06b31cc3288ab20c4ef2f292066c096f2c5f...  \n",
       "\n",
       "[5 rows x 29 columns]"
      ]
     },
     "execution_count": 19,
     "metadata": {},
     "output_type": "execute_result"
    }
   ],
   "source": [
    "df =pd.read_csv('data/data.csv')\n",
    "df.head()"
   ]
  },
  {
   "cell_type": "code",
   "execution_count": 20,
   "id": "c73510f3",
   "metadata": {},
   "outputs": [
    {
     "data": {
      "text/plain": [
       "Index(['Restaurant ID', 'Restaurant name', 'Subzone', 'City', 'Order ID',\n",
       "       'Order Placed At', 'Order Status', 'Delivery', 'Distance',\n",
       "       'Items in order', 'Instructions', 'Discount construct', 'Bill subtotal',\n",
       "       'Packaging charges', 'Restaurant discount (Promo)',\n",
       "       'Restaurant discount (Flat offs, Freebies & others)', 'Gold discount',\n",
       "       'Brand pack discount', 'Total', 'Rating', 'Review',\n",
       "       'Cancellation / Rejection reason',\n",
       "       'Restaurant compensation (Cancellation)',\n",
       "       'Restaurant penalty (Rejection)', 'KPT duration (minutes)',\n",
       "       'Rider wait time (minutes)', 'Order Ready Marked',\n",
       "       'Customer complaint tag', 'Customer ID'],\n",
       "      dtype='object')"
      ]
     },
     "execution_count": 20,
     "metadata": {},
     "output_type": "execute_result"
    }
   ],
   "source": [
    "df.columns"
   ]
  },
  {
   "cell_type": "code",
   "execution_count": 21,
   "id": "ec83a856",
   "metadata": {},
   "outputs": [
    {
     "name": "stdout",
     "output_type": "stream",
     "text": [
      "<class 'pandas.core.frame.DataFrame'>\n",
      "RangeIndex: 21321 entries, 0 to 21320\n",
      "Data columns (total 29 columns):\n",
      " #   Column                                              Non-Null Count  Dtype  \n",
      "---  ------                                              --------------  -----  \n",
      " 0   Restaurant ID                                       21321 non-null  int64  \n",
      " 1   Restaurant name                                     21321 non-null  object \n",
      " 2   Subzone                                             21321 non-null  object \n",
      " 3   City                                                21321 non-null  object \n",
      " 4   Order ID                                            21321 non-null  int64  \n",
      " 5   Order Placed At                                     21321 non-null  object \n",
      " 6   Order Status                                        21321 non-null  object \n",
      " 7   Delivery                                            21321 non-null  object \n",
      " 8   Distance                                            21321 non-null  object \n",
      " 9   Items in order                                      21321 non-null  object \n",
      " 10  Instructions                                        720 non-null    object \n",
      " 11  Discount construct                                  15823 non-null  object \n",
      " 12  Bill subtotal                                       21321 non-null  float64\n",
      " 13  Packaging charges                                   21321 non-null  float64\n",
      " 14  Restaurant discount (Promo)                         21321 non-null  float64\n",
      " 15  Restaurant discount (Flat offs, Freebies & others)  21321 non-null  float64\n",
      " 16  Gold discount                                       21321 non-null  float64\n",
      " 17  Brand pack discount                                 21321 non-null  float64\n",
      " 18  Total                                               21321 non-null  float64\n",
      " 19  Rating                                              2491 non-null   float64\n",
      " 20  Review                                              296 non-null    object \n",
      " 21  Cancellation / Rejection reason                     186 non-null    object \n",
      " 22  Restaurant compensation (Cancellation)              133 non-null    float64\n",
      " 23  Restaurant penalty (Rejection)                      3 non-null      float64\n",
      " 24  KPT duration (minutes)                              21026 non-null  float64\n",
      " 25  Rider wait time (minutes)                           21153 non-null  float64\n",
      " 26  Order Ready Marked                                  21321 non-null  object \n",
      " 27  Customer complaint tag                              469 non-null    object \n",
      " 28  Customer ID                                         21321 non-null  object \n",
      "dtypes: float64(12), int64(2), object(15)\n",
      "memory usage: 4.7+ MB\n"
     ]
    }
   ],
   "source": [
    "df.info()"
   ]
  },
  {
   "cell_type": "code",
   "execution_count": 31,
   "id": "cfc8b3b0",
   "metadata": {},
   "outputs": [
    {
     "data": {
      "text/plain": [
       "Subzone\n",
       "Greater Kailash 2 (GK2)    7380\n",
       "Sector 4                   6530\n",
       "DLF Phase 1                3686\n",
       "Sector 135                 2442\n",
       "Vasant Kunj                 920\n",
       "Shahdara                    360\n",
       "Chittaranjan Park             2\n",
       "Sikandarpur                   1\n",
       "Name: count, dtype: int64"
      ]
     },
     "execution_count": 31,
     "metadata": {},
     "output_type": "execute_result"
    }
   ],
   "source": [
    "df[\"Subzone\"].value_counts()"
   ]
  },
  {
   "cell_type": "code",
   "execution_count": 23,
   "id": "1c9a0f14",
   "metadata": {},
   "outputs": [
    {
     "data": {
      "text/plain": [
       "Restaurant name\n",
       "Aura Pizzas             68.233197\n",
       "Swaad                   29.698419\n",
       "Dilli Burger Adda        1.064678\n",
       "Tandoori Junction        0.722293\n",
       "The Chicken Junction     0.150087\n",
       "Masala Junction          0.131326\n",
       "Name: proportion, dtype: float64"
      ]
     },
     "execution_count": 23,
     "metadata": {},
     "output_type": "execute_result"
    }
   ],
   "source": [
    "df[\"Restaurant name\"].value_counts(normalize=True) * 100\n"
   ]
  },
  {
   "cell_type": "code",
   "execution_count": null,
   "id": "9c47738d",
   "metadata": {},
   "outputs": [],
   "source": [
    "df = df[df[\"Restaurant name\"] == \"Aura Pizzas\"]"
   ]
  },
  {
   "cell_type": "code",
   "execution_count": null,
   "id": "bd0a83d1",
   "metadata": {},
   "outputs": [],
   "source": [
    "# Get unique values in city and subzone\n",
    "unique_cities = df[\"City\"].unique()\n",
    "unique_subzones = df[\"Subzone\"].unique()\n",
    "unique_cities, unique_subzones"
   ]
  },
  {
   "cell_type": "code",
   "execution_count": 29,
   "id": "941031e0",
   "metadata": {},
   "outputs": [
    {
     "name": "stderr",
     "output_type": "stream",
     "text": [
      "/var/folders/8h/9yyjtp8d7_zb27yf8xrdgxcr0000gn/T/ipykernel_74069/2283017467.py:57: DeprecationWarning:\n",
      "\n",
      "*scattermapbox* is deprecated! Use *scattermap* instead. Learn more at: https://plotly.com/python/mapbox-to-maplibre/\n",
      "\n",
      "/var/folders/8h/9yyjtp8d7_zb27yf8xrdgxcr0000gn/T/ipykernel_74069/2283017467.py:72: DeprecationWarning:\n",
      "\n",
      "*scattermapbox* is deprecated! Use *scattermap* instead. Learn more at: https://plotly.com/python/mapbox-to-maplibre/\n",
      "\n",
      "/var/folders/8h/9yyjtp8d7_zb27yf8xrdgxcr0000gn/T/ipykernel_74069/2283017467.py:86: DeprecationWarning:\n",
      "\n",
      "*scattermapbox* is deprecated! Use *scattermap* instead. Learn more at: https://plotly.com/python/mapbox-to-maplibre/\n",
      "\n"
     ]
    },
    {
     "data": {
      "application/vnd.plotly.v1+json": {
       "config": {
        "plotlyServerURL": "https://plot.ly"
       },
       "data": [
        {
         "hovertemplate": "Aura Pizzas<br>Avg dist: 4.35 km<br>Max dist: 21.00 km",
         "lat": [
          28.5866
         ],
         "lon": [
          77.223
         ],
         "marker": {
          "color": "blue",
          "size": 10
         },
         "mode": "markers",
         "name": "Aura Pizzas",
         "type": "scattermapbox"
        },
        {
         "lat": [
          28.5866
         ],
         "lon": [
          77.223
         ],
         "marker": {
          "color": "orange",
          "opacity": 0.2,
          "size": 43.478416277151496
         },
         "mode": "markers",
         "name": "Aura Pizzas Avg Distance",
         "showlegend": false,
         "type": "scattermapbox"
        },
        {
         "lat": [
          28.5866
         ],
         "lon": [
          77.223
         ],
         "marker": {
          "color": "red",
          "opacity": 0.2,
          "size": 210
         },
         "mode": "markers",
         "name": "Aura Pizzas Max Distance",
         "showlegend": false,
         "type": "scattermapbox"
        },
        {
         "hovertemplate": "Dilli Burger Adda<br>Avg dist: 3.16 km<br>Max dist: 14.00 km",
         "lat": [
          28.662
         ],
         "lon": [
          77.2365
         ],
         "marker": {
          "color": "blue",
          "size": 10
         },
         "mode": "markers",
         "name": "Dilli Burger Adda",
         "type": "scattermapbox"
        },
        {
         "lat": [
          28.662
         ],
         "lon": [
          77.2365
         ],
         "marker": {
          "color": "orange",
          "opacity": 0.2,
          "size": 31.61674008810573
         },
         "mode": "markers",
         "name": "Dilli Burger Adda Avg Distance",
         "showlegend": false,
         "type": "scattermapbox"
        },
        {
         "lat": [
          28.662
         ],
         "lon": [
          77.2365
         ],
         "marker": {
          "color": "red",
          "opacity": 0.2,
          "size": 140
         },
         "mode": "markers",
         "name": "Dilli Burger Adda Max Distance",
         "showlegend": false,
         "type": "scattermapbox"
        },
        {
         "hovertemplate": "Masala Junction<br>Avg dist: 9.46 km<br>Max dist: 16.00 km",
         "lat": [
          28.5309
         ],
         "lon": [
          77.1466
         ],
         "marker": {
          "color": "blue",
          "size": 10
         },
         "mode": "markers",
         "name": "Masala Junction",
         "type": "scattermapbox"
        },
        {
         "lat": [
          28.5309
         ],
         "lon": [
          77.1466
         ],
         "marker": {
          "color": "orange",
          "opacity": 0.2,
          "size": 94.64285714285714
         },
         "mode": "markers",
         "name": "Masala Junction Avg Distance",
         "showlegend": false,
         "type": "scattermapbox"
        },
        {
         "lat": [
          28.5309
         ],
         "lon": [
          77.1466
         ],
         "marker": {
          "color": "red",
          "opacity": 0.2,
          "size": 160
         },
         "mode": "markers",
         "name": "Masala Junction Max Distance",
         "showlegend": false,
         "type": "scattermapbox"
        },
        {
         "hovertemplate": "Swaad<br>Avg dist: 3.75 km<br>Max dist: 19.00 km",
         "lat": [
          28.5734
         ],
         "lon": [
          77.2581
         ],
         "marker": {
          "color": "blue",
          "size": 10
         },
         "mode": "markers",
         "name": "Swaad",
         "type": "scattermapbox"
        },
        {
         "lat": [
          28.5734
         ],
         "lon": [
          77.2581
         ],
         "marker": {
          "color": "orange",
          "opacity": 0.2,
          "size": 37.47030953885029
         },
         "mode": "markers",
         "name": "Swaad Avg Distance",
         "showlegend": false,
         "type": "scattermapbox"
        },
        {
         "lat": [
          28.5734
         ],
         "lon": [
          77.2581
         ],
         "marker": {
          "color": "red",
          "opacity": 0.2,
          "size": 190
         },
         "mode": "markers",
         "name": "Swaad Max Distance",
         "showlegend": false,
         "type": "scattermapbox"
        },
        {
         "hovertemplate": "Tandoori Junction<br>Avg dist: 5.61 km<br>Max dist: 18.00 km",
         "lat": [
          28.6098
         ],
         "lon": [
          77.0923
         ],
         "marker": {
          "color": "blue",
          "size": 10
         },
         "mode": "markers",
         "name": "Tandoori Junction",
         "type": "scattermapbox"
        },
        {
         "lat": [
          28.6098
         ],
         "lon": [
          77.0923
         ],
         "marker": {
          "color": "orange",
          "opacity": 0.2,
          "size": 56.090909090909086
         },
         "mode": "markers",
         "name": "Tandoori Junction Avg Distance",
         "showlegend": false,
         "type": "scattermapbox"
        },
        {
         "lat": [
          28.6098
         ],
         "lon": [
          77.0923
         ],
         "marker": {
          "color": "red",
          "opacity": 0.2,
          "size": 180
         },
         "mode": "markers",
         "name": "Tandoori Junction Max Distance",
         "showlegend": false,
         "type": "scattermapbox"
        },
        {
         "hovertemplate": "The Chicken Junction<br>Avg dist: 9.06 km<br>Max dist: 16.00 km",
         "lat": [
          28.6412
         ],
         "lon": [
          77.2163
         ],
         "marker": {
          "color": "blue",
          "size": 10
         },
         "mode": "markers",
         "name": "The Chicken Junction",
         "type": "scattermapbox"
        },
        {
         "lat": [
          28.6412
         ],
         "lon": [
          77.2163
         ],
         "marker": {
          "color": "orange",
          "opacity": 0.2,
          "size": 90.625
         },
         "mode": "markers",
         "name": "The Chicken Junction Avg Distance",
         "showlegend": false,
         "type": "scattermapbox"
        },
        {
         "lat": [
          28.6412
         ],
         "lon": [
          77.2163
         ],
         "marker": {
          "color": "red",
          "opacity": 0.2,
          "size": 160
         },
         "mode": "markers",
         "name": "The Chicken Junction Max Distance",
         "showlegend": false,
         "type": "scattermapbox"
        },
        {
         "lat": {
          "bdata": "AAAAAAAA+H8v3SQGgXU8QHuDL0ymijxAUrgeheuRPEDXo3A9Cpc8QAAAAAAAAPh/AAAAAAAA+H9I4XoUroc8QA==",
          "dtype": "f8"
         },
         "lon": {
          "bdata": "AAAAAAAA+H9SuB6F60FTQEGC4seYT1NA16NwPQpXU0CamZmZmVlTQAAAAAAAAPh/AAAAAAAA+H+amZmZmUlTQA==",
          "dtype": "f8"
         },
         "marker": {
          "color": "red",
          "size": {
           "bdata": "AgBmDtQcigmCGWgBAQCYAw==",
           "dtype": "i2"
          },
          "sizemode": "area"
         },
         "mode": "markers",
         "name": "Orders per Subzone",
         "text": [
          "Chittaranjan Park: 2 orders",
          "DLF Phase 1: 3686 orders",
          "Greater Kailash 2 (GK2): 7380 orders",
          "Sector 135: 2442 orders",
          "Sector 4: 6530 orders",
          "Shahdara: 360 orders",
          "Sikandarpur: 1 orders",
          "Vasant Kunj: 920 orders"
         ],
         "type": "scattermapbox"
        }
       ],
       "layout": {
        "mapbox": {
         "center": {
          "lat": 28.6139,
          "lon": 77.209
         },
         "style": "open-street-map",
         "zoom": 11
        },
        "margin": {
         "b": 0,
         "l": 0,
         "r": 0,
         "t": 0
        },
        "template": {
         "data": {
          "bar": [
           {
            "error_x": {
             "color": "#2a3f5f"
            },
            "error_y": {
             "color": "#2a3f5f"
            },
            "marker": {
             "line": {
              "color": "#E5ECF6",
              "width": 0.5
             },
             "pattern": {
              "fillmode": "overlay",
              "size": 10,
              "solidity": 0.2
             }
            },
            "type": "bar"
           }
          ],
          "barpolar": [
           {
            "marker": {
             "line": {
              "color": "#E5ECF6",
              "width": 0.5
             },
             "pattern": {
              "fillmode": "overlay",
              "size": 10,
              "solidity": 0.2
             }
            },
            "type": "barpolar"
           }
          ],
          "carpet": [
           {
            "aaxis": {
             "endlinecolor": "#2a3f5f",
             "gridcolor": "white",
             "linecolor": "white",
             "minorgridcolor": "white",
             "startlinecolor": "#2a3f5f"
            },
            "baxis": {
             "endlinecolor": "#2a3f5f",
             "gridcolor": "white",
             "linecolor": "white",
             "minorgridcolor": "white",
             "startlinecolor": "#2a3f5f"
            },
            "type": "carpet"
           }
          ],
          "choropleth": [
           {
            "colorbar": {
             "outlinewidth": 0,
             "ticks": ""
            },
            "type": "choropleth"
           }
          ],
          "contour": [
           {
            "colorbar": {
             "outlinewidth": 0,
             "ticks": ""
            },
            "colorscale": [
             [
              0,
              "#0d0887"
             ],
             [
              0.1111111111111111,
              "#46039f"
             ],
             [
              0.2222222222222222,
              "#7201a8"
             ],
             [
              0.3333333333333333,
              "#9c179e"
             ],
             [
              0.4444444444444444,
              "#bd3786"
             ],
             [
              0.5555555555555556,
              "#d8576b"
             ],
             [
              0.6666666666666666,
              "#ed7953"
             ],
             [
              0.7777777777777778,
              "#fb9f3a"
             ],
             [
              0.8888888888888888,
              "#fdca26"
             ],
             [
              1,
              "#f0f921"
             ]
            ],
            "type": "contour"
           }
          ],
          "contourcarpet": [
           {
            "colorbar": {
             "outlinewidth": 0,
             "ticks": ""
            },
            "type": "contourcarpet"
           }
          ],
          "heatmap": [
           {
            "colorbar": {
             "outlinewidth": 0,
             "ticks": ""
            },
            "colorscale": [
             [
              0,
              "#0d0887"
             ],
             [
              0.1111111111111111,
              "#46039f"
             ],
             [
              0.2222222222222222,
              "#7201a8"
             ],
             [
              0.3333333333333333,
              "#9c179e"
             ],
             [
              0.4444444444444444,
              "#bd3786"
             ],
             [
              0.5555555555555556,
              "#d8576b"
             ],
             [
              0.6666666666666666,
              "#ed7953"
             ],
             [
              0.7777777777777778,
              "#fb9f3a"
             ],
             [
              0.8888888888888888,
              "#fdca26"
             ],
             [
              1,
              "#f0f921"
             ]
            ],
            "type": "heatmap"
           }
          ],
          "histogram": [
           {
            "marker": {
             "pattern": {
              "fillmode": "overlay",
              "size": 10,
              "solidity": 0.2
             }
            },
            "type": "histogram"
           }
          ],
          "histogram2d": [
           {
            "colorbar": {
             "outlinewidth": 0,
             "ticks": ""
            },
            "colorscale": [
             [
              0,
              "#0d0887"
             ],
             [
              0.1111111111111111,
              "#46039f"
             ],
             [
              0.2222222222222222,
              "#7201a8"
             ],
             [
              0.3333333333333333,
              "#9c179e"
             ],
             [
              0.4444444444444444,
              "#bd3786"
             ],
             [
              0.5555555555555556,
              "#d8576b"
             ],
             [
              0.6666666666666666,
              "#ed7953"
             ],
             [
              0.7777777777777778,
              "#fb9f3a"
             ],
             [
              0.8888888888888888,
              "#fdca26"
             ],
             [
              1,
              "#f0f921"
             ]
            ],
            "type": "histogram2d"
           }
          ],
          "histogram2dcontour": [
           {
            "colorbar": {
             "outlinewidth": 0,
             "ticks": ""
            },
            "colorscale": [
             [
              0,
              "#0d0887"
             ],
             [
              0.1111111111111111,
              "#46039f"
             ],
             [
              0.2222222222222222,
              "#7201a8"
             ],
             [
              0.3333333333333333,
              "#9c179e"
             ],
             [
              0.4444444444444444,
              "#bd3786"
             ],
             [
              0.5555555555555556,
              "#d8576b"
             ],
             [
              0.6666666666666666,
              "#ed7953"
             ],
             [
              0.7777777777777778,
              "#fb9f3a"
             ],
             [
              0.8888888888888888,
              "#fdca26"
             ],
             [
              1,
              "#f0f921"
             ]
            ],
            "type": "histogram2dcontour"
           }
          ],
          "mesh3d": [
           {
            "colorbar": {
             "outlinewidth": 0,
             "ticks": ""
            },
            "type": "mesh3d"
           }
          ],
          "parcoords": [
           {
            "line": {
             "colorbar": {
              "outlinewidth": 0,
              "ticks": ""
             }
            },
            "type": "parcoords"
           }
          ],
          "pie": [
           {
            "automargin": true,
            "type": "pie"
           }
          ],
          "scatter": [
           {
            "fillpattern": {
             "fillmode": "overlay",
             "size": 10,
             "solidity": 0.2
            },
            "type": "scatter"
           }
          ],
          "scatter3d": [
           {
            "line": {
             "colorbar": {
              "outlinewidth": 0,
              "ticks": ""
             }
            },
            "marker": {
             "colorbar": {
              "outlinewidth": 0,
              "ticks": ""
             }
            },
            "type": "scatter3d"
           }
          ],
          "scattercarpet": [
           {
            "marker": {
             "colorbar": {
              "outlinewidth": 0,
              "ticks": ""
             }
            },
            "type": "scattercarpet"
           }
          ],
          "scattergeo": [
           {
            "marker": {
             "colorbar": {
              "outlinewidth": 0,
              "ticks": ""
             }
            },
            "type": "scattergeo"
           }
          ],
          "scattergl": [
           {
            "marker": {
             "colorbar": {
              "outlinewidth": 0,
              "ticks": ""
             }
            },
            "type": "scattergl"
           }
          ],
          "scattermap": [
           {
            "marker": {
             "colorbar": {
              "outlinewidth": 0,
              "ticks": ""
             }
            },
            "type": "scattermap"
           }
          ],
          "scattermapbox": [
           {
            "marker": {
             "colorbar": {
              "outlinewidth": 0,
              "ticks": ""
             }
            },
            "type": "scattermapbox"
           }
          ],
          "scatterpolar": [
           {
            "marker": {
             "colorbar": {
              "outlinewidth": 0,
              "ticks": ""
             }
            },
            "type": "scatterpolar"
           }
          ],
          "scatterpolargl": [
           {
            "marker": {
             "colorbar": {
              "outlinewidth": 0,
              "ticks": ""
             }
            },
            "type": "scatterpolargl"
           }
          ],
          "scatterternary": [
           {
            "marker": {
             "colorbar": {
              "outlinewidth": 0,
              "ticks": ""
             }
            },
            "type": "scatterternary"
           }
          ],
          "surface": [
           {
            "colorbar": {
             "outlinewidth": 0,
             "ticks": ""
            },
            "colorscale": [
             [
              0,
              "#0d0887"
             ],
             [
              0.1111111111111111,
              "#46039f"
             ],
             [
              0.2222222222222222,
              "#7201a8"
             ],
             [
              0.3333333333333333,
              "#9c179e"
             ],
             [
              0.4444444444444444,
              "#bd3786"
             ],
             [
              0.5555555555555556,
              "#d8576b"
             ],
             [
              0.6666666666666666,
              "#ed7953"
             ],
             [
              0.7777777777777778,
              "#fb9f3a"
             ],
             [
              0.8888888888888888,
              "#fdca26"
             ],
             [
              1,
              "#f0f921"
             ]
            ],
            "type": "surface"
           }
          ],
          "table": [
           {
            "cells": {
             "fill": {
              "color": "#EBF0F8"
             },
             "line": {
              "color": "white"
             }
            },
            "header": {
             "fill": {
              "color": "#C8D4E3"
             },
             "line": {
              "color": "white"
             }
            },
            "type": "table"
           }
          ]
         },
         "layout": {
          "annotationdefaults": {
           "arrowcolor": "#2a3f5f",
           "arrowhead": 0,
           "arrowwidth": 1
          },
          "autotypenumbers": "strict",
          "coloraxis": {
           "colorbar": {
            "outlinewidth": 0,
            "ticks": ""
           }
          },
          "colorscale": {
           "diverging": [
            [
             0,
             "#8e0152"
            ],
            [
             0.1,
             "#c51b7d"
            ],
            [
             0.2,
             "#de77ae"
            ],
            [
             0.3,
             "#f1b6da"
            ],
            [
             0.4,
             "#fde0ef"
            ],
            [
             0.5,
             "#f7f7f7"
            ],
            [
             0.6,
             "#e6f5d0"
            ],
            [
             0.7,
             "#b8e186"
            ],
            [
             0.8,
             "#7fbc41"
            ],
            [
             0.9,
             "#4d9221"
            ],
            [
             1,
             "#276419"
            ]
           ],
           "sequential": [
            [
             0,
             "#0d0887"
            ],
            [
             0.1111111111111111,
             "#46039f"
            ],
            [
             0.2222222222222222,
             "#7201a8"
            ],
            [
             0.3333333333333333,
             "#9c179e"
            ],
            [
             0.4444444444444444,
             "#bd3786"
            ],
            [
             0.5555555555555556,
             "#d8576b"
            ],
            [
             0.6666666666666666,
             "#ed7953"
            ],
            [
             0.7777777777777778,
             "#fb9f3a"
            ],
            [
             0.8888888888888888,
             "#fdca26"
            ],
            [
             1,
             "#f0f921"
            ]
           ],
           "sequentialminus": [
            [
             0,
             "#0d0887"
            ],
            [
             0.1111111111111111,
             "#46039f"
            ],
            [
             0.2222222222222222,
             "#7201a8"
            ],
            [
             0.3333333333333333,
             "#9c179e"
            ],
            [
             0.4444444444444444,
             "#bd3786"
            ],
            [
             0.5555555555555556,
             "#d8576b"
            ],
            [
             0.6666666666666666,
             "#ed7953"
            ],
            [
             0.7777777777777778,
             "#fb9f3a"
            ],
            [
             0.8888888888888888,
             "#fdca26"
            ],
            [
             1,
             "#f0f921"
            ]
           ]
          },
          "colorway": [
           "#636efa",
           "#EF553B",
           "#00cc96",
           "#ab63fa",
           "#FFA15A",
           "#19d3f3",
           "#FF6692",
           "#B6E880",
           "#FF97FF",
           "#FECB52"
          ],
          "font": {
           "color": "#2a3f5f"
          },
          "geo": {
           "bgcolor": "white",
           "lakecolor": "white",
           "landcolor": "#E5ECF6",
           "showlakes": true,
           "showland": true,
           "subunitcolor": "white"
          },
          "hoverlabel": {
           "align": "left"
          },
          "hovermode": "closest",
          "mapbox": {
           "style": "light"
          },
          "paper_bgcolor": "white",
          "plot_bgcolor": "#E5ECF6",
          "polar": {
           "angularaxis": {
            "gridcolor": "white",
            "linecolor": "white",
            "ticks": ""
           },
           "bgcolor": "#E5ECF6",
           "radialaxis": {
            "gridcolor": "white",
            "linecolor": "white",
            "ticks": ""
           }
          },
          "scene": {
           "xaxis": {
            "backgroundcolor": "#E5ECF6",
            "gridcolor": "white",
            "gridwidth": 2,
            "linecolor": "white",
            "showbackground": true,
            "ticks": "",
            "zerolinecolor": "white"
           },
           "yaxis": {
            "backgroundcolor": "#E5ECF6",
            "gridcolor": "white",
            "gridwidth": 2,
            "linecolor": "white",
            "showbackground": true,
            "ticks": "",
            "zerolinecolor": "white"
           },
           "zaxis": {
            "backgroundcolor": "#E5ECF6",
            "gridcolor": "white",
            "gridwidth": 2,
            "linecolor": "white",
            "showbackground": true,
            "ticks": "",
            "zerolinecolor": "white"
           }
          },
          "shapedefaults": {
           "line": {
            "color": "#2a3f5f"
           }
          },
          "ternary": {
           "aaxis": {
            "gridcolor": "white",
            "linecolor": "white",
            "ticks": ""
           },
           "baxis": {
            "gridcolor": "white",
            "linecolor": "white",
            "ticks": ""
           },
           "bgcolor": "#E5ECF6",
           "caxis": {
            "gridcolor": "white",
            "linecolor": "white",
            "ticks": ""
           }
          },
          "title": {
           "x": 0.05
          },
          "xaxis": {
           "automargin": true,
           "gridcolor": "white",
           "linecolor": "white",
           "ticks": "",
           "title": {
            "standoff": 15
           },
           "zerolinecolor": "white",
           "zerolinewidth": 2
          },
          "yaxis": {
           "automargin": true,
           "gridcolor": "white",
           "linecolor": "white",
           "ticks": "",
           "title": {
            "standoff": 15
           },
           "zerolinecolor": "white",
           "zerolinewidth": 2
          }
         }
        }
       }
      }
     },
     "metadata": {},
     "output_type": "display_data"
    }
   ],
   "source": [
    "import pandas as pd\n",
    "import numpy as np\n",
    "import plotly.graph_objects as go\n",
    "\n",
    "# Step 1: Restaurant coordinates (approximate)\n",
    "restaurant_coords = {\n",
    "    \"Aura Pizzas\": [28.5866, 77.2230],\n",
    "    \"Swaad\": [28.5734, 77.2581],\n",
    "    \"Dilli Burger Adda\": [28.6620, 77.2365],\n",
    "    \"Tandoori Junction\": [28.6098, 77.0923],\n",
    "    \"The Chicken Junction\": [28.6412, 77.2163],\n",
    "    \"Masala Junction\": [28.5309, 77.1466]\n",
    "}\n",
    "\n",
    "# Map lat/lon to df\n",
    "df['rest_lat'] = df['Restaurant name'].map(lambda x: restaurant_coords.get(x, [None, None])[0])\n",
    "df['rest_lon'] = df['Restaurant name'].map(lambda x: restaurant_coords.get(x, [None, None])[1])\n",
    "\n",
    "# Step 2: Convert Distance to float, handle <1 as 0.9\n",
    "def clean_distance(d):\n",
    "    if pd.isna(d):\n",
    "        return np.nan\n",
    "    d = d.replace('km','').strip()\n",
    "    if d.startswith('<'):\n",
    "        return 0.9  # assign 0.9 km for \"<1\"\n",
    "    try:\n",
    "        return float(d)\n",
    "    except:\n",
    "        return np.nan\n",
    "\n",
    "df['Distance_km'] = df['Distance'].apply(clean_distance)\n",
    "\n",
    "# Step 3: Aggregate average and max distances per restaurant\n",
    "dist_stats = df.groupby('Restaurant name')['Distance_km'].agg(['mean','max']).reset_index()\n",
    "\n",
    "# Step 4: Aggregate order counts per Subzone\n",
    "orders_per_subzone = df.groupby('Subzone').size().reset_index(name='Orders')\n",
    "\n",
    "# Approximate subzone centers\n",
    "subzone_coords = {\n",
    "    'Greater Kailash 2 (GK2)': [28.5416, 77.2437],\n",
    "    'Sector 4': [28.5900, 77.4000],\n",
    "    'DLF Phase 1': [28.4590, 77.0300],\n",
    "    'Sector 135': [28.5700, 77.3600],\n",
    "    'Vasant Kunj': [28.5300, 77.1500]\n",
    "}\n",
    "orders_per_subzone['lat'] = orders_per_subzone['Subzone'].map(lambda x: subzone_coords.get(x, [None, None])[0])\n",
    "orders_per_subzone['lon'] = orders_per_subzone['Subzone'].map(lambda x: subzone_coords.get(x, [None, None])[1])\n",
    "\n",
    "# Step 5: Create map\n",
    "fig = go.Figure()\n",
    "\n",
    "# Add restaurants\n",
    "for _, row in dist_stats.iterrows():\n",
    "    rest_name = row['Restaurant name']\n",
    "    lat, lon = restaurant_coords[rest_name]\n",
    "    fig.add_trace(go.Scattermapbox(\n",
    "        lat=[lat],\n",
    "        lon=[lon],\n",
    "        mode='markers',\n",
    "        marker=go.scattermapbox.Marker(size=10, color='blue'),\n",
    "        name=rest_name,\n",
    "        hovertemplate=(\n",
    "            f\"{rest_name}<br>\"\n",
    "            f\"Avg dist: {row['mean']:.2f} km<br>\"\n",
    "            f\"Max dist: {row['max']:.2f} km\"\n",
    "        )\n",
    "    ))\n",
    "    \n",
    "    # Add avg and max distance circles\n",
    "    for dist, color, label in zip([row['mean'], row['max']], ['orange','red'], ['Avg','Max']):\n",
    "        fig.add_trace(go.Scattermapbox(\n",
    "            lat=[lat],\n",
    "            lon=[lon],\n",
    "            mode='markers',\n",
    "            marker=go.scattermapbox.Marker(\n",
    "                size=dist*10,  # scale factor for visibility\n",
    "                color=color,\n",
    "                opacity=0.2\n",
    "            ),\n",
    "            name=f\"{rest_name} {label} Distance\",\n",
    "            showlegend=False\n",
    "        ))\n",
    "\n",
    "# Add subzone order counts\n",
    "fig.add_trace(go.Scattermapbox(\n",
    "    lat=orders_per_subzone['lat'],\n",
    "    lon=orders_per_subzone['lon'],\n",
    "    mode='markers',\n",
    "    marker=go.scattermapbox.Marker(size=orders_per_subzone['Orders'], color='red', sizemode='area'),\n",
    "    text=orders_per_subzone['Subzone'] + ': ' + orders_per_subzone['Orders'].astype(str) + ' orders',\n",
    "    name='Orders per Subzone'\n",
    "))\n",
    "\n",
    "# Layout\n",
    "fig.update_layout(\n",
    "    mapbox_style=\"open-street-map\",\n",
    "    mapbox_zoom=11,\n",
    "    mapbox_center={\"lat\":28.6139, \"lon\":77.2090},\n",
    "    margin={\"r\":0,\"t\":0,\"l\":0,\"b\":0},\n",
    ")\n",
    "\n",
    "fig.show()\n"
   ]
  },
  {
   "cell_type": "code",
   "execution_count": 45,
   "id": "2f726af7",
   "metadata": {},
   "outputs": [
    {
     "name": "stderr",
     "output_type": "stream",
     "text": [
      "/var/folders/8h/9yyjtp8d7_zb27yf8xrdgxcr0000gn/T/ipykernel_74069/3286475325.py:63: DeprecationWarning:\n",
      "\n",
      "*scattermapbox* is deprecated! Use *scattermap* instead. Learn more at: https://plotly.com/python/mapbox-to-maplibre/\n",
      "\n",
      "/var/folders/8h/9yyjtp8d7_zb27yf8xrdgxcr0000gn/T/ipykernel_74069/3286475325.py:74: DeprecationWarning:\n",
      "\n",
      "*scattermapbox* is deprecated! Use *scattermap* instead. Learn more at: https://plotly.com/python/mapbox-to-maplibre/\n",
      "\n",
      "/var/folders/8h/9yyjtp8d7_zb27yf8xrdgxcr0000gn/T/ipykernel_74069/3286475325.py:87: DeprecationWarning:\n",
      "\n",
      "*scattermapbox* is deprecated! Use *scattermap* instead. Learn more at: https://plotly.com/python/mapbox-to-maplibre/\n",
      "\n"
     ]
    },
    {
     "data": {
      "application/vnd.plotly.v1+json": {
       "config": {
        "plotlyServerURL": "https://plot.ly"
       },
       "data": [
        {
         "hoverinfo": "none",
         "lat": [
          28.55,
          28.459
         ],
         "line": {
          "color": "green",
          "width": 4
         },
         "lon": [
          77.25,
          77.03
         ],
         "mode": "lines",
         "showlegend": false,
         "type": "scattermapbox"
        },
        {
         "hoverinfo": "none",
         "lat": [
          28.55,
          28.5416
         ],
         "line": {
          "color": "green",
          "width": 4
         },
         "lon": [
          77.25,
          77.2437
         ],
         "mode": "lines",
         "showlegend": false,
         "type": "scattermapbox"
        },
        {
         "hoverinfo": "none",
         "lat": [
          28.55,
          28.57
         ],
         "line": {
          "color": "green",
          "width": 4
         },
         "lon": [
          77.25,
          77.36
         ],
         "mode": "lines",
         "showlegend": false,
         "type": "scattermapbox"
        },
        {
         "hoverinfo": "none",
         "lat": [
          28.55,
          28.59
         ],
         "line": {
          "color": "green",
          "width": 4
         },
         "lon": [
          77.25,
          77.4
         ],
         "mode": "lines",
         "showlegend": false,
         "type": "scattermapbox"
        },
        {
         "hoverinfo": "none",
         "lat": [
          28.55,
          28.53
         ],
         "line": {
          "color": "green",
          "width": 4
         },
         "lon": [
          77.25,
          77.15
         ],
         "mode": "lines",
         "showlegend": false,
         "type": "scattermapbox"
        },
        {
         "hoverinfo": "none",
         "lat": [
          28.5,
          28.459
         ],
         "line": {
          "color": "green",
          "width": 4
         },
         "lon": [
          77.2,
          77.03
         ],
         "mode": "lines",
         "showlegend": false,
         "type": "scattermapbox"
        },
        {
         "hoverinfo": "none",
         "lat": [
          28.5,
          28.5416
         ],
         "line": {
          "color": "green",
          "width": 4
         },
         "lon": [
          77.2,
          77.2437
         ],
         "mode": "lines",
         "showlegend": false,
         "type": "scattermapbox"
        },
        {
         "hoverinfo": "none",
         "lat": [
          28.5,
          28.57
         ],
         "line": {
          "color": "green",
          "width": 4
         },
         "lon": [
          77.2,
          77.36
         ],
         "mode": "lines",
         "showlegend": false,
         "type": "scattermapbox"
        },
        {
         "hoverinfo": "none",
         "lat": [
          28.5,
          28.59
         ],
         "line": {
          "color": "green",
          "width": 4
         },
         "lon": [
          77.2,
          77.4
         ],
         "mode": "lines",
         "showlegend": false,
         "type": "scattermapbox"
        },
        {
         "hoverinfo": "none",
         "lat": [
          28.5,
          28.6667
         ],
         "line": {
          "color": "green",
          "width": 4
         },
         "lon": [
          77.2,
          77.27
         ],
         "mode": "lines",
         "showlegend": false,
         "type": "scattermapbox"
        },
        {
         "hoverinfo": "none",
         "lat": [
          28.57,
          28.59
         ],
         "line": {
          "color": "green",
          "width": 4
         },
         "lon": [
          77.35,
          77.4
         ],
         "mode": "lines",
         "showlegend": false,
         "type": "scattermapbox"
        },
        {
         "hoverinfo": "none",
         "lat": [
          28.59,
          28.459
         ],
         "line": {
          "color": "green",
          "width": 4
         },
         "lon": [
          77.36,
          77.03
         ],
         "mode": "lines",
         "showlegend": false,
         "type": "scattermapbox"
        },
        {
         "hoverinfo": "none",
         "lat": [
          28.59,
          28.5416
         ],
         "line": {
          "color": "green",
          "width": 4
         },
         "lon": [
          77.36,
          77.2437
         ],
         "mode": "lines",
         "showlegend": false,
         "type": "scattermapbox"
        },
        {
         "hoverinfo": "none",
         "lat": [
          28.59,
          28.57
         ],
         "line": {
          "color": "green",
          "width": 4
         },
         "lon": [
          77.36,
          77.36
         ],
         "mode": "lines",
         "showlegend": false,
         "type": "scattermapbox"
        },
        {
         "hoverinfo": "none",
         "lat": [
          28.59,
          28.59
         ],
         "line": {
          "color": "green",
          "width": 4
         },
         "lon": [
          77.36,
          77.4
         ],
         "mode": "lines",
         "showlegend": false,
         "type": "scattermapbox"
        },
        {
         "hoverinfo": "none",
         "lat": [
          28.59,
          28.6667
         ],
         "line": {
          "color": "green",
          "width": 4
         },
         "lon": [
          77.36,
          77.27
         ],
         "mode": "lines",
         "showlegend": false,
         "type": "scattermapbox"
        },
        {
         "hoverinfo": "none",
         "lat": [
          28.53,
          28.459
         ],
         "line": {
          "color": "green",
          "width": 4
         },
         "lon": [
          77.15,
          77.03
         ],
         "mode": "lines",
         "showlegend": false,
         "type": "scattermapbox"
        },
        {
         "hoverinfo": "none",
         "lat": [
          28.53,
          28.5416
         ],
         "line": {
          "color": "green",
          "width": 4
         },
         "lon": [
          77.15,
          77.2437
         ],
         "mode": "lines",
         "showlegend": false,
         "type": "scattermapbox"
        },
        {
         "hoverinfo": "none",
         "lat": [
          28.53,
          28.57
         ],
         "line": {
          "color": "green",
          "width": 4
         },
         "lon": [
          77.15,
          77.36
         ],
         "mode": "lines",
         "showlegend": false,
         "type": "scattermapbox"
        },
        {
         "hoverinfo": "none",
         "lat": [
          28.53,
          28.59
         ],
         "line": {
          "color": "green",
          "width": 4
         },
         "lon": [
          77.15,
          77.4
         ],
         "mode": "lines",
         "showlegend": false,
         "type": "scattermapbox"
        },
        {
         "hoverinfo": "none",
         "lat": [
          28.53,
          28.6667
         ],
         "line": {
          "color": "green",
          "width": 4
         },
         "lon": [
          77.15,
          77.27
         ],
         "mode": "lines",
         "showlegend": false,
         "type": "scattermapbox"
        },
        {
         "hoverinfo": "none",
         "lat": [
          28.52,
          28.553
         ],
         "line": {
          "color": "green",
          "width": 4
         },
         "lon": [
          77.21,
          77.258
         ],
         "mode": "lines",
         "showlegend": false,
         "type": "scattermapbox"
        },
        {
         "hoverinfo": "none",
         "lat": [
          28.52,
          28.59
         ],
         "line": {
          "color": "green",
          "width": 4
         },
         "lon": [
          77.21,
          77.4
         ],
         "mode": "lines",
         "showlegend": false,
         "type": "scattermapbox"
        },
        {
         "hoverinfo": "none",
         "lat": [
          28.52,
          28.497
         ],
         "line": {
          "color": "green",
          "width": 4
         },
         "lon": [
          77.21,
          77.083
         ],
         "mode": "lines",
         "showlegend": false,
         "type": "scattermapbox"
        },
        {
         "hoverinfo": "text",
         "hovertext": "Greater Kailash 2 (GK2)<br>Deliveries from restaurants:<br>Aura Pizzas: 4418<br>Dilli Burger Adda: 109<br>Swaad: 2781<br>Tandoori Junction: 72<br>",
         "lat": [
          28.5416
         ],
         "lon": [
          77.2437
         ],
         "marker": {
          "color": "blue",
          "opacity": 0.7,
          "size": 36
         },
         "mode": "markers",
         "name": "Greater Kailash 2 (GK2)",
         "type": "scattermapbox"
        },
        {
         "hoverinfo": "text",
         "hovertext": "Sector 4<br>Deliveries from restaurants:<br>Aura Pizzas: 4614<br>Dilli Burger Adda: 47<br>Masala Junction: 28<br>Swaad: 1774<br>Tandoori Junction: 38<br>The Chicken Junction: 29<br>",
         "lat": [
          28.59
         ],
         "lon": [
          77.4
         ],
         "marker": {
          "color": "blue",
          "opacity": 0.7,
          "size": 36
         },
         "mode": "markers",
         "name": "Sector 4",
         "type": "scattermapbox"
        },
        {
         "hoverinfo": "text",
         "hovertext": "DLF Phase 1<br>Deliveries from restaurants:<br>Aura Pizzas: 2545<br>Dilli Burger Adda: 34<br>Swaad: 1079<br>Tandoori Junction: 28<br>",
         "lat": [
          28.459
         ],
         "lon": [
          77.03
         ],
         "marker": {
          "color": "blue",
          "opacity": 0.7,
          "size": 36
         },
         "mode": "markers",
         "name": "DLF Phase 1",
         "type": "scattermapbox"
        },
        {
         "hoverinfo": "text",
         "hovertext": "Sector 135<br>Deliveries from restaurants:<br>Aura Pizzas: 2051<br>Dilli Burger Adda: 23<br>Swaad: 367<br>Tandoori Junction: 1<br>",
         "lat": [
          28.57
         ],
         "lon": [
          77.36
         ],
         "marker": {
          "color": "blue",
          "opacity": 0.7,
          "size": 36
         },
         "mode": "markers",
         "name": "Sector 135",
         "type": "scattermapbox"
        },
        {
         "hoverinfo": "text",
         "hovertext": "Vasant Kunj<br>Deliveries from restaurants:<br>Aura Pizzas: 920<br>",
         "lat": [
          28.53
         ],
         "lon": [
          77.15
         ],
         "marker": {
          "color": "blue",
          "opacity": 0.7,
          "size": 36
         },
         "mode": "markers",
         "name": "Vasant Kunj",
         "type": "scattermapbox"
        },
        {
         "hoverinfo": "text",
         "hovertext": "Shahdara<br>Deliveries from restaurants:<br>Dilli Burger Adda: 14<br>Swaad: 331<br>Tandoori Junction: 15<br>",
         "lat": [
          28.6667
         ],
         "lon": [
          77.27
         ],
         "marker": {
          "color": "blue",
          "opacity": 0.7,
          "size": 36
         },
         "mode": "markers",
         "name": "Shahdara",
         "type": "scattermapbox"
        },
        {
         "hoverinfo": "text",
         "hovertext": "Chittaranjan Park<br>Deliveries from restaurants:<br>The Chicken Junction: 2<br>",
         "lat": [
          28.553
         ],
         "lon": [
          77.258
         ],
         "marker": {
          "color": "blue",
          "opacity": 0.7,
          "size": 36
         },
         "mode": "markers",
         "name": "Chittaranjan Park",
         "type": "scattermapbox"
        },
        {
         "hoverinfo": "text",
         "hovertext": "Sikandarpur<br>Deliveries from restaurants:<br>The Chicken Junction: 1<br>",
         "lat": [
          28.497
         ],
         "lon": [
          77.083
         ],
         "marker": {
          "color": "blue",
          "opacity": 0.7,
          "size": 36
         },
         "mode": "markers",
         "name": "Sikandarpur",
         "type": "scattermapbox"
        },
        {
         "hoverinfo": "text",
         "hovertext": "Aura Pizzas<br>Deliveries to sectors:<br>DLF Phase 1: 2545<br>Greater Kailash 2 (GK2): 4418<br>Sector 135: 2051<br>Sector 4: 4614<br>Vasant Kunj: 920<br>",
         "lat": [
          28.55030043276002
         ],
         "lon": [
          77.24973920264436
         ],
         "marker": {
          "color": "red",
          "size": 12
         },
         "mode": "markers",
         "name": "Aura Pizzas",
         "type": "scattermapbox"
        },
        {
         "hoverinfo": "text",
         "hovertext": "Swaad<br>Deliveries to sectors:<br>DLF Phase 1: 1079<br>Greater Kailash 2 (GK2): 2781<br>Sector 135: 367<br>Sector 4: 1774<br>Shahdara: 331<br>",
         "lat": [
          28.590244484700065
         ],
         "lon": [
          77.36024563071527
         ],
         "marker": {
          "color": "red",
          "size": 12
         },
         "mode": "markers",
         "name": "Swaad",
         "type": "scattermapbox"
        },
        {
         "hoverinfo": "text",
         "hovertext": "Dilli Burger Adda<br>Deliveries to sectors:<br>DLF Phase 1: 34<br>Greater Kailash 2 (GK2): 109<br>Sector 135: 23<br>Sector 4: 47<br>Shahdara: 14<br>",
         "lat": [
          28.49980562308288
         ],
         "lon": [
          77.20039338928149
         ],
         "marker": {
          "color": "red",
          "size": 12
         },
         "mode": "markers",
         "name": "Dilli Burger Adda",
         "type": "scattermapbox"
        },
        {
         "hoverinfo": "text",
         "hovertext": "Tandoori Junction<br>Deliveries to sectors:<br>DLF Phase 1: 28<br>Greater Kailash 2 (GK2): 72<br>Sector 135: 1<br>Sector 4: 38<br>Shahdara: 15<br>",
         "lat": [
          28.529543532193173
         ],
         "lon": [
          77.1496379511248
         ],
         "marker": {
          "color": "red",
          "size": 12
         },
         "mode": "markers",
         "name": "Tandoori Junction",
         "type": "scattermapbox"
        },
        {
         "hoverinfo": "text",
         "hovertext": "The Chicken Junction<br>Deliveries to sectors:<br>Chittaranjan Park: 2<br>Sector 4: 29<br>Sikandarpur: 1<br>",
         "lat": [
          28.519616299970426
         ],
         "lon": [
          77.21034941863624
         ],
         "marker": {
          "color": "red",
          "size": 12
         },
         "mode": "markers",
         "name": "The Chicken Junction",
         "type": "scattermapbox"
        },
        {
         "hoverinfo": "text",
         "hovertext": "Masala Junction<br>Deliveries to sectors:<br>Sector 4: 28<br>",
         "lat": [
          28.570388232485865
         ],
         "lon": [
          77.3495658954495
         ],
         "marker": {
          "color": "red",
          "size": 12
         },
         "mode": "markers",
         "name": "Masala Junction",
         "type": "scattermapbox"
        }
       ],
       "layout": {
        "height": 900,
        "legend": {
         "font": {
          "size": 10
         }
        },
        "mapbox": {
         "center": {
          "lat": 28.6139,
          "lon": 77.209
         },
         "style": "open-street-map",
         "zoom": 11
        },
        "margin": {
         "b": 0,
         "l": 0,
         "r": 0,
         "t": 0
        },
        "template": {
         "data": {
          "bar": [
           {
            "error_x": {
             "color": "#2a3f5f"
            },
            "error_y": {
             "color": "#2a3f5f"
            },
            "marker": {
             "line": {
              "color": "#E5ECF6",
              "width": 0.5
             },
             "pattern": {
              "fillmode": "overlay",
              "size": 10,
              "solidity": 0.2
             }
            },
            "type": "bar"
           }
          ],
          "barpolar": [
           {
            "marker": {
             "line": {
              "color": "#E5ECF6",
              "width": 0.5
             },
             "pattern": {
              "fillmode": "overlay",
              "size": 10,
              "solidity": 0.2
             }
            },
            "type": "barpolar"
           }
          ],
          "carpet": [
           {
            "aaxis": {
             "endlinecolor": "#2a3f5f",
             "gridcolor": "white",
             "linecolor": "white",
             "minorgridcolor": "white",
             "startlinecolor": "#2a3f5f"
            },
            "baxis": {
             "endlinecolor": "#2a3f5f",
             "gridcolor": "white",
             "linecolor": "white",
             "minorgridcolor": "white",
             "startlinecolor": "#2a3f5f"
            },
            "type": "carpet"
           }
          ],
          "choropleth": [
           {
            "colorbar": {
             "outlinewidth": 0,
             "ticks": ""
            },
            "type": "choropleth"
           }
          ],
          "contour": [
           {
            "colorbar": {
             "outlinewidth": 0,
             "ticks": ""
            },
            "colorscale": [
             [
              0,
              "#0d0887"
             ],
             [
              0.1111111111111111,
              "#46039f"
             ],
             [
              0.2222222222222222,
              "#7201a8"
             ],
             [
              0.3333333333333333,
              "#9c179e"
             ],
             [
              0.4444444444444444,
              "#bd3786"
             ],
             [
              0.5555555555555556,
              "#d8576b"
             ],
             [
              0.6666666666666666,
              "#ed7953"
             ],
             [
              0.7777777777777778,
              "#fb9f3a"
             ],
             [
              0.8888888888888888,
              "#fdca26"
             ],
             [
              1,
              "#f0f921"
             ]
            ],
            "type": "contour"
           }
          ],
          "contourcarpet": [
           {
            "colorbar": {
             "outlinewidth": 0,
             "ticks": ""
            },
            "type": "contourcarpet"
           }
          ],
          "heatmap": [
           {
            "colorbar": {
             "outlinewidth": 0,
             "ticks": ""
            },
            "colorscale": [
             [
              0,
              "#0d0887"
             ],
             [
              0.1111111111111111,
              "#46039f"
             ],
             [
              0.2222222222222222,
              "#7201a8"
             ],
             [
              0.3333333333333333,
              "#9c179e"
             ],
             [
              0.4444444444444444,
              "#bd3786"
             ],
             [
              0.5555555555555556,
              "#d8576b"
             ],
             [
              0.6666666666666666,
              "#ed7953"
             ],
             [
              0.7777777777777778,
              "#fb9f3a"
             ],
             [
              0.8888888888888888,
              "#fdca26"
             ],
             [
              1,
              "#f0f921"
             ]
            ],
            "type": "heatmap"
           }
          ],
          "histogram": [
           {
            "marker": {
             "pattern": {
              "fillmode": "overlay",
              "size": 10,
              "solidity": 0.2
             }
            },
            "type": "histogram"
           }
          ],
          "histogram2d": [
           {
            "colorbar": {
             "outlinewidth": 0,
             "ticks": ""
            },
            "colorscale": [
             [
              0,
              "#0d0887"
             ],
             [
              0.1111111111111111,
              "#46039f"
             ],
             [
              0.2222222222222222,
              "#7201a8"
             ],
             [
              0.3333333333333333,
              "#9c179e"
             ],
             [
              0.4444444444444444,
              "#bd3786"
             ],
             [
              0.5555555555555556,
              "#d8576b"
             ],
             [
              0.6666666666666666,
              "#ed7953"
             ],
             [
              0.7777777777777778,
              "#fb9f3a"
             ],
             [
              0.8888888888888888,
              "#fdca26"
             ],
             [
              1,
              "#f0f921"
             ]
            ],
            "type": "histogram2d"
           }
          ],
          "histogram2dcontour": [
           {
            "colorbar": {
             "outlinewidth": 0,
             "ticks": ""
            },
            "colorscale": [
             [
              0,
              "#0d0887"
             ],
             [
              0.1111111111111111,
              "#46039f"
             ],
             [
              0.2222222222222222,
              "#7201a8"
             ],
             [
              0.3333333333333333,
              "#9c179e"
             ],
             [
              0.4444444444444444,
              "#bd3786"
             ],
             [
              0.5555555555555556,
              "#d8576b"
             ],
             [
              0.6666666666666666,
              "#ed7953"
             ],
             [
              0.7777777777777778,
              "#fb9f3a"
             ],
             [
              0.8888888888888888,
              "#fdca26"
             ],
             [
              1,
              "#f0f921"
             ]
            ],
            "type": "histogram2dcontour"
           }
          ],
          "mesh3d": [
           {
            "colorbar": {
             "outlinewidth": 0,
             "ticks": ""
            },
            "type": "mesh3d"
           }
          ],
          "parcoords": [
           {
            "line": {
             "colorbar": {
              "outlinewidth": 0,
              "ticks": ""
             }
            },
            "type": "parcoords"
           }
          ],
          "pie": [
           {
            "automargin": true,
            "type": "pie"
           }
          ],
          "scatter": [
           {
            "fillpattern": {
             "fillmode": "overlay",
             "size": 10,
             "solidity": 0.2
            },
            "type": "scatter"
           }
          ],
          "scatter3d": [
           {
            "line": {
             "colorbar": {
              "outlinewidth": 0,
              "ticks": ""
             }
            },
            "marker": {
             "colorbar": {
              "outlinewidth": 0,
              "ticks": ""
             }
            },
            "type": "scatter3d"
           }
          ],
          "scattercarpet": [
           {
            "marker": {
             "colorbar": {
              "outlinewidth": 0,
              "ticks": ""
             }
            },
            "type": "scattercarpet"
           }
          ],
          "scattergeo": [
           {
            "marker": {
             "colorbar": {
              "outlinewidth": 0,
              "ticks": ""
             }
            },
            "type": "scattergeo"
           }
          ],
          "scattergl": [
           {
            "marker": {
             "colorbar": {
              "outlinewidth": 0,
              "ticks": ""
             }
            },
            "type": "scattergl"
           }
          ],
          "scattermap": [
           {
            "marker": {
             "colorbar": {
              "outlinewidth": 0,
              "ticks": ""
             }
            },
            "type": "scattermap"
           }
          ],
          "scattermapbox": [
           {
            "marker": {
             "colorbar": {
              "outlinewidth": 0,
              "ticks": ""
             }
            },
            "type": "scattermapbox"
           }
          ],
          "scatterpolar": [
           {
            "marker": {
             "colorbar": {
              "outlinewidth": 0,
              "ticks": ""
             }
            },
            "type": "scatterpolar"
           }
          ],
          "scatterpolargl": [
           {
            "marker": {
             "colorbar": {
              "outlinewidth": 0,
              "ticks": ""
             }
            },
            "type": "scatterpolargl"
           }
          ],
          "scatterternary": [
           {
            "marker": {
             "colorbar": {
              "outlinewidth": 0,
              "ticks": ""
             }
            },
            "type": "scatterternary"
           }
          ],
          "surface": [
           {
            "colorbar": {
             "outlinewidth": 0,
             "ticks": ""
            },
            "colorscale": [
             [
              0,
              "#0d0887"
             ],
             [
              0.1111111111111111,
              "#46039f"
             ],
             [
              0.2222222222222222,
              "#7201a8"
             ],
             [
              0.3333333333333333,
              "#9c179e"
             ],
             [
              0.4444444444444444,
              "#bd3786"
             ],
             [
              0.5555555555555556,
              "#d8576b"
             ],
             [
              0.6666666666666666,
              "#ed7953"
             ],
             [
              0.7777777777777778,
              "#fb9f3a"
             ],
             [
              0.8888888888888888,
              "#fdca26"
             ],
             [
              1,
              "#f0f921"
             ]
            ],
            "type": "surface"
           }
          ],
          "table": [
           {
            "cells": {
             "fill": {
              "color": "#EBF0F8"
             },
             "line": {
              "color": "white"
             }
            },
            "header": {
             "fill": {
              "color": "#C8D4E3"
             },
             "line": {
              "color": "white"
             }
            },
            "type": "table"
           }
          ]
         },
         "layout": {
          "annotationdefaults": {
           "arrowcolor": "#2a3f5f",
           "arrowhead": 0,
           "arrowwidth": 1
          },
          "autotypenumbers": "strict",
          "coloraxis": {
           "colorbar": {
            "outlinewidth": 0,
            "ticks": ""
           }
          },
          "colorscale": {
           "diverging": [
            [
             0,
             "#8e0152"
            ],
            [
             0.1,
             "#c51b7d"
            ],
            [
             0.2,
             "#de77ae"
            ],
            [
             0.3,
             "#f1b6da"
            ],
            [
             0.4,
             "#fde0ef"
            ],
            [
             0.5,
             "#f7f7f7"
            ],
            [
             0.6,
             "#e6f5d0"
            ],
            [
             0.7,
             "#b8e186"
            ],
            [
             0.8,
             "#7fbc41"
            ],
            [
             0.9,
             "#4d9221"
            ],
            [
             1,
             "#276419"
            ]
           ],
           "sequential": [
            [
             0,
             "#0d0887"
            ],
            [
             0.1111111111111111,
             "#46039f"
            ],
            [
             0.2222222222222222,
             "#7201a8"
            ],
            [
             0.3333333333333333,
             "#9c179e"
            ],
            [
             0.4444444444444444,
             "#bd3786"
            ],
            [
             0.5555555555555556,
             "#d8576b"
            ],
            [
             0.6666666666666666,
             "#ed7953"
            ],
            [
             0.7777777777777778,
             "#fb9f3a"
            ],
            [
             0.8888888888888888,
             "#fdca26"
            ],
            [
             1,
             "#f0f921"
            ]
           ],
           "sequentialminus": [
            [
             0,
             "#0d0887"
            ],
            [
             0.1111111111111111,
             "#46039f"
            ],
            [
             0.2222222222222222,
             "#7201a8"
            ],
            [
             0.3333333333333333,
             "#9c179e"
            ],
            [
             0.4444444444444444,
             "#bd3786"
            ],
            [
             0.5555555555555556,
             "#d8576b"
            ],
            [
             0.6666666666666666,
             "#ed7953"
            ],
            [
             0.7777777777777778,
             "#fb9f3a"
            ],
            [
             0.8888888888888888,
             "#fdca26"
            ],
            [
             1,
             "#f0f921"
            ]
           ]
          },
          "colorway": [
           "#636efa",
           "#EF553B",
           "#00cc96",
           "#ab63fa",
           "#FFA15A",
           "#19d3f3",
           "#FF6692",
           "#B6E880",
           "#FF97FF",
           "#FECB52"
          ],
          "font": {
           "color": "#2a3f5f"
          },
          "geo": {
           "bgcolor": "white",
           "lakecolor": "white",
           "landcolor": "#E5ECF6",
           "showlakes": true,
           "showland": true,
           "subunitcolor": "white"
          },
          "hoverlabel": {
           "align": "left"
          },
          "hovermode": "closest",
          "mapbox": {
           "style": "light"
          },
          "paper_bgcolor": "white",
          "plot_bgcolor": "#E5ECF6",
          "polar": {
           "angularaxis": {
            "gridcolor": "white",
            "linecolor": "white",
            "ticks": ""
           },
           "bgcolor": "#E5ECF6",
           "radialaxis": {
            "gridcolor": "white",
            "linecolor": "white",
            "ticks": ""
           }
          },
          "scene": {
           "xaxis": {
            "backgroundcolor": "#E5ECF6",
            "gridcolor": "white",
            "gridwidth": 2,
            "linecolor": "white",
            "showbackground": true,
            "ticks": "",
            "zerolinecolor": "white"
           },
           "yaxis": {
            "backgroundcolor": "#E5ECF6",
            "gridcolor": "white",
            "gridwidth": 2,
            "linecolor": "white",
            "showbackground": true,
            "ticks": "",
            "zerolinecolor": "white"
           },
           "zaxis": {
            "backgroundcolor": "#E5ECF6",
            "gridcolor": "white",
            "gridwidth": 2,
            "linecolor": "white",
            "showbackground": true,
            "ticks": "",
            "zerolinecolor": "white"
           }
          },
          "shapedefaults": {
           "line": {
            "color": "#2a3f5f"
           }
          },
          "ternary": {
           "aaxis": {
            "gridcolor": "white",
            "linecolor": "white",
            "ticks": ""
           },
           "baxis": {
            "gridcolor": "white",
            "linecolor": "white",
            "ticks": ""
           },
           "bgcolor": "#E5ECF6",
           "caxis": {
            "gridcolor": "white",
            "linecolor": "white",
            "ticks": ""
           }
          },
          "title": {
           "x": 0.05
          },
          "xaxis": {
           "automargin": true,
           "gridcolor": "white",
           "linecolor": "white",
           "ticks": "",
           "title": {
            "standoff": 15
           },
           "zerolinecolor": "white",
           "zerolinewidth": 2
          },
          "yaxis": {
           "automargin": true,
           "gridcolor": "white",
           "linecolor": "white",
           "ticks": "",
           "title": {
            "standoff": 15
           },
           "zerolinecolor": "white",
           "zerolinewidth": 2
          }
         }
        },
        "width": 1600
       }
      }
     },
     "metadata": {},
     "output_type": "display_data"
    }
   ],
   "source": [
    "import pandas as pd\n",
    "import plotly.graph_objects as go\n",
    "import random\n",
    "\n",
    "# --- Example restaurant_coords and subzone_coords (use your actual data) ---\n",
    "restaurant_coords = {\n",
    "    'Aura Pizzas': [28.55, 77.25],\n",
    "    'Swaad': [28.59, 77.36],\n",
    "    'Dilli Burger Adda': [28.50, 77.20],\n",
    "    'Tandoori Junction': [28.53, 77.15],\n",
    "    'The Chicken Junction': [28.52, 77.21],\n",
    "    'Masala Junction': [28.57, 77.35]\n",
    "}\n",
    "\n",
    "subzone_coords = {\n",
    "    'Greater Kailash 2 (GK2)': [28.5416, 77.2437],\n",
    "    'Sector 4': [28.5900, 77.4000],\n",
    "    'DLF Phase 1': [28.4590, 77.0300],\n",
    "    'Sector 135': [28.5700, 77.3600],\n",
    "    'Vasant Kunj': [28.5300, 77.1500],\n",
    "    'Shahdara': [28.6667, 77.2700],\n",
    "    'Chittaranjan Park': [28.5530, 77.2580],\n",
    "    'Sikandarpur': [28.4970, 77.0830]\n",
    "}\n",
    "\n",
    "# --- Your DataFrame `df` is already loaded ---\n",
    "# Step 1: clean Distance column\n",
    "df['Distance_km'] = df['Distance'].str.replace(r'\\s*km','', regex=True)\n",
    "df['Distance_km'] = df['Distance_km'].replace('<1', '0.9').astype(float)\n",
    "\n",
    "# Step 2: aggregate delivery counts\n",
    "delivery_counts = df.groupby(['Restaurant name','Subzone']).size().reset_index(name='count')\n",
    "\n",
    "# Step 3: Prepare hover text for restaurants\n",
    "restaurant_hover = {}\n",
    "for rest in df['Restaurant name'].unique():\n",
    "    deliveries = delivery_counts[delivery_counts['Restaurant name']==rest]\n",
    "    hover_text = f\"{rest}<br>Deliveries to sectors:<br>\"\n",
    "    for _, row in deliveries.iterrows():\n",
    "        hover_text += f\"{row['Subzone']}: {row['count']}<br>\"\n",
    "    restaurant_hover[rest] = hover_text\n",
    "\n",
    "# Step 4: Prepare hover text for subzones\n",
    "subzone_hover = {}\n",
    "for sub in df['Subzone'].unique():\n",
    "    deliveries = delivery_counts[delivery_counts['Subzone']==sub]\n",
    "    hover_text = f\"{sub}<br>Deliveries from restaurants:<br>\"\n",
    "    for _, row in deliveries.iterrows():\n",
    "        hover_text += f\"{row['Restaurant name']}: {row['count']}<br>\"\n",
    "    subzone_hover[sub] = hover_text\n",
    "\n",
    "# --- Function to slightly jitter overlapping markers ---\n",
    "def jitter(lat, lon, scale=0.0005):\n",
    "    return lat + random.uniform(-scale, scale), lon + random.uniform(-scale, scale)\n",
    "\n",
    "# Step 5: Plot\n",
    "fig = go.Figure()\n",
    "\n",
    "# Lines (constant thickness)\n",
    "for _, row in delivery_counts.iterrows():\n",
    "    r = row['Restaurant name']\n",
    "    s = row['Subzone']\n",
    "    fig.add_trace(go.Scattermapbox(\n",
    "        lat=[restaurant_coords[r][0], subzone_coords[s][0]],\n",
    "        lon=[restaurant_coords[r][1], subzone_coords[s][1]],\n",
    "        mode='lines',\n",
    "        line=go.scattermapbox.Line(width=4, color='green'),\n",
    "        hoverinfo='none',\n",
    "        showlegend=False\n",
    "    ))\n",
    "\n",
    "# Subzones (keep bigger for clarity)\n",
    "for sub in subzone_coords:\n",
    "    fig.add_trace(go.Scattermapbox(\n",
    "        lat=[subzone_coords[sub][0]],\n",
    "        lon=[subzone_coords[sub][1]],\n",
    "        mode='markers',\n",
    "        marker=go.scattermapbox.Marker(size=36, color='blue', opacity=0.7),\n",
    "        name=sub,\n",
    "        hoverinfo='text',\n",
    "        hovertext=subzone_hover.get(sub, sub)\n",
    "    ))\n",
    "\n",
    "# Restaurants with jitter\n",
    "for rest in restaurant_coords:\n",
    "    lat, lon = jitter(restaurant_coords[rest][0], restaurant_coords[rest][1])\n",
    "    fig.add_trace(go.Scattermapbox(\n",
    "        lat=[lat],\n",
    "        lon=[lon],\n",
    "        mode='markers',\n",
    "        marker=go.scattermapbox.Marker(size=12, color='red'),\n",
    "        name=rest,\n",
    "        hoverinfo='text',\n",
    "        hovertext=restaurant_hover.get(rest, rest)\n",
    "    ))\n",
    "\n",
    "# Layout\n",
    "fig.update_layout(\n",
    "    mapbox_style=\"open-street-map\",\n",
    "    mapbox_zoom=11,\n",
    "    mapbox_center={\"lat\":28.6139, \"lon\":77.2090},\n",
    "    margin={\"r\":0,\"t\":0,\"l\":0,\"b\":0},\n",
    "    legend=dict(font=dict(size=10)),\n",
    "    height=900,\n",
    "    width=1600\n",
    ")\n",
    "\n",
    "fig.show()\n"
   ]
  },
  {
   "cell_type": "code",
   "execution_count": 8,
   "id": "9093db53",
   "metadata": {},
   "outputs": [
    {
     "ename": "KeyError",
     "evalue": "'Customer ID'",
     "output_type": "error",
     "traceback": [
      "\u001b[0;31m---------------------------------------------------------------------------\u001b[0m",
      "\u001b[0;31mKeyError\u001b[0m                                  Traceback (most recent call last)",
      "File \u001b[0;32m~/Library/Python/3.9/lib/python/site-packages/pandas/core/indexes/base.py:3812\u001b[0m, in \u001b[0;36mIndex.get_loc\u001b[0;34m(self, key)\u001b[0m\n\u001b[1;32m   3811\u001b[0m \u001b[38;5;28;01mtry\u001b[39;00m:\n\u001b[0;32m-> 3812\u001b[0m     \u001b[38;5;28;01mreturn\u001b[39;00m \u001b[38;5;28;43mself\u001b[39;49m\u001b[38;5;241;43m.\u001b[39;49m\u001b[43m_engine\u001b[49m\u001b[38;5;241;43m.\u001b[39;49m\u001b[43mget_loc\u001b[49m\u001b[43m(\u001b[49m\u001b[43mcasted_key\u001b[49m\u001b[43m)\u001b[49m\n\u001b[1;32m   3813\u001b[0m \u001b[38;5;28;01mexcept\u001b[39;00m \u001b[38;5;167;01mKeyError\u001b[39;00m \u001b[38;5;28;01mas\u001b[39;00m err:\n",
      "File \u001b[0;32mpandas/_libs/index.pyx:167\u001b[0m, in \u001b[0;36mpandas._libs.index.IndexEngine.get_loc\u001b[0;34m()\u001b[0m\n",
      "File \u001b[0;32mpandas/_libs/index.pyx:196\u001b[0m, in \u001b[0;36mpandas._libs.index.IndexEngine.get_loc\u001b[0;34m()\u001b[0m\n",
      "File \u001b[0;32mpandas/_libs/hashtable_class_helper.pxi:7088\u001b[0m, in \u001b[0;36mpandas._libs.hashtable.PyObjectHashTable.get_item\u001b[0;34m()\u001b[0m\n",
      "File \u001b[0;32mpandas/_libs/hashtable_class_helper.pxi:7096\u001b[0m, in \u001b[0;36mpandas._libs.hashtable.PyObjectHashTable.get_item\u001b[0;34m()\u001b[0m\n",
      "\u001b[0;31mKeyError\u001b[0m: 'Customer ID'",
      "\nThe above exception was the direct cause of the following exception:\n",
      "\u001b[0;31mKeyError\u001b[0m                                  Traceback (most recent call last)",
      "Cell \u001b[0;32mIn[8], line 1\u001b[0m\n\u001b[0;32m----> 1\u001b[0m \u001b[43mdf\u001b[49m\u001b[43m[\u001b[49m\u001b[38;5;124;43m\"\u001b[39;49m\u001b[38;5;124;43mCustomer ID\u001b[39;49m\u001b[38;5;124;43m\"\u001b[39;49m\u001b[43m]\u001b[49m\u001b[38;5;241m.\u001b[39mnunique()\n",
      "File \u001b[0;32m~/Library/Python/3.9/lib/python/site-packages/pandas/core/frame.py:4107\u001b[0m, in \u001b[0;36mDataFrame.__getitem__\u001b[0;34m(self, key)\u001b[0m\n\u001b[1;32m   4105\u001b[0m \u001b[38;5;28;01mif\u001b[39;00m \u001b[38;5;28mself\u001b[39m\u001b[38;5;241m.\u001b[39mcolumns\u001b[38;5;241m.\u001b[39mnlevels \u001b[38;5;241m>\u001b[39m \u001b[38;5;241m1\u001b[39m:\n\u001b[1;32m   4106\u001b[0m     \u001b[38;5;28;01mreturn\u001b[39;00m \u001b[38;5;28mself\u001b[39m\u001b[38;5;241m.\u001b[39m_getitem_multilevel(key)\n\u001b[0;32m-> 4107\u001b[0m indexer \u001b[38;5;241m=\u001b[39m \u001b[38;5;28;43mself\u001b[39;49m\u001b[38;5;241;43m.\u001b[39;49m\u001b[43mcolumns\u001b[49m\u001b[38;5;241;43m.\u001b[39;49m\u001b[43mget_loc\u001b[49m\u001b[43m(\u001b[49m\u001b[43mkey\u001b[49m\u001b[43m)\u001b[49m\n\u001b[1;32m   4108\u001b[0m \u001b[38;5;28;01mif\u001b[39;00m is_integer(indexer):\n\u001b[1;32m   4109\u001b[0m     indexer \u001b[38;5;241m=\u001b[39m [indexer]\n",
      "File \u001b[0;32m~/Library/Python/3.9/lib/python/site-packages/pandas/core/indexes/base.py:3819\u001b[0m, in \u001b[0;36mIndex.get_loc\u001b[0;34m(self, key)\u001b[0m\n\u001b[1;32m   3814\u001b[0m     \u001b[38;5;28;01mif\u001b[39;00m \u001b[38;5;28misinstance\u001b[39m(casted_key, \u001b[38;5;28mslice\u001b[39m) \u001b[38;5;129;01mor\u001b[39;00m (\n\u001b[1;32m   3815\u001b[0m         \u001b[38;5;28misinstance\u001b[39m(casted_key, abc\u001b[38;5;241m.\u001b[39mIterable)\n\u001b[1;32m   3816\u001b[0m         \u001b[38;5;129;01mand\u001b[39;00m \u001b[38;5;28many\u001b[39m(\u001b[38;5;28misinstance\u001b[39m(x, \u001b[38;5;28mslice\u001b[39m) \u001b[38;5;28;01mfor\u001b[39;00m x \u001b[38;5;129;01min\u001b[39;00m casted_key)\n\u001b[1;32m   3817\u001b[0m     ):\n\u001b[1;32m   3818\u001b[0m         \u001b[38;5;28;01mraise\u001b[39;00m InvalidIndexError(key)\n\u001b[0;32m-> 3819\u001b[0m     \u001b[38;5;28;01mraise\u001b[39;00m \u001b[38;5;167;01mKeyError\u001b[39;00m(key) \u001b[38;5;28;01mfrom\u001b[39;00m \u001b[38;5;21;01merr\u001b[39;00m\n\u001b[1;32m   3820\u001b[0m \u001b[38;5;28;01mexcept\u001b[39;00m \u001b[38;5;167;01mTypeError\u001b[39;00m:\n\u001b[1;32m   3821\u001b[0m     \u001b[38;5;66;03m# If we have a listlike key, _check_indexing_error will raise\u001b[39;00m\n\u001b[1;32m   3822\u001b[0m     \u001b[38;5;66;03m#  InvalidIndexError. Otherwise we fall through and re-raise\u001b[39;00m\n\u001b[1;32m   3823\u001b[0m     \u001b[38;5;66;03m#  the TypeError.\u001b[39;00m\n\u001b[1;32m   3824\u001b[0m     \u001b[38;5;28mself\u001b[39m\u001b[38;5;241m.\u001b[39m_check_indexing_error(key)\n",
      "\u001b[0;31mKeyError\u001b[0m: 'Customer ID'"
     ]
    }
   ],
   "source": [
    "df[\"Customer ID\"].nunique()"
   ]
  },
  {
   "cell_type": "code",
   "execution_count": null,
   "id": "574102bc",
   "metadata": {},
   "outputs": [],
   "source": [
    "df_weather = df[[\"Order Placed At\"]]"
   ]
  },
  {
   "cell_type": "code",
   "execution_count": null,
   "id": "5dd1b50b",
   "metadata": {},
   "outputs": [],
   "source": [
    "df_weather"
   ]
  },
  {
   "cell_type": "code",
   "execution_count": null,
   "id": "48bfa450",
   "metadata": {},
   "outputs": [],
   "source": [
    "df_weather[\"Order Datetime\"] = pd.to_datetime(\n",
    "    df_weather[\"Order Placed At\"], \n",
    "    format=\"%I:%M %p, %B %d %Y\"\n",
    ")"
   ]
  },
  {
   "cell_type": "code",
   "execution_count": null,
   "id": "efc90713",
   "metadata": {},
   "outputs": [],
   "source": [
    "df_weather.drop(columns=[\"Order Placed At\"], inplace=True)"
   ]
  },
  {
   "cell_type": "code",
   "execution_count": null,
   "id": "03f38eb6",
   "metadata": {},
   "outputs": [],
   "source": [
    "df_weather"
   ]
  },
  {
   "cell_type": "code",
   "execution_count": null,
   "id": "294b3f36",
   "metadata": {},
   "outputs": [],
   "source": [
    "# Remove the minutes and seconds and remove duplicates\n",
    "df_weather[\"Order Datetime\"] = df_weather[\"Order Datetime\"].dt.floor('H')\n",
    "df_weather = df_weather.drop_duplicates().reset_index(drop=True)"
   ]
  },
  {
   "cell_type": "code",
   "execution_count": null,
   "id": "ca9866b7",
   "metadata": {},
   "outputs": [],
   "source": [
    "df_weather"
   ]
  },
  {
   "cell_type": "code",
   "execution_count": null,
   "id": "9c811438",
   "metadata": {},
   "outputs": [],
   "source": [
    "# how many unique days are there?\n",
    "df_weather[\"Order Datetime\"].dt.date.nunique()"
   ]
  },
  {
   "cell_type": "code",
   "execution_count": null,
   "id": "abaa2330",
   "metadata": {},
   "outputs": [],
   "source": [
    "from meteostat import Hourly, Point\n",
    "from datetime import datetime, timedelta\n",
    "import os\n",
    "import pickle\n",
    "from tqdm import tqdm\n"
   ]
  },
  {
   "cell_type": "code",
   "execution_count": null,
   "id": "467b5770",
   "metadata": {},
   "outputs": [],
   "source": [
    "CACHE_FILE = \"weather_cache.pkl\"\n",
    "\n",
    "# Load cache if available\n",
    "if os.path.exists(CACHE_FILE):\n",
    "    with open(CACHE_FILE, \"rb\") as f:\n",
    "        weather_cache = pickle.load(f)\n",
    "else:\n",
    "    weather_cache = {}\n",
    "\n",
    "def save_cache():\n",
    "    with open(CACHE_FILE, \"wb\") as f:\n",
    "        pickle.dump(weather_cache, f)\n"
   ]
  },
  {
   "cell_type": "code",
   "execution_count": null,
   "id": "00ff023a",
   "metadata": {},
   "outputs": [],
   "source": [
    "def get_weather_for_time(lat, lon, timestamp):\n",
    "    \"\"\"Fetch weather for a given lat/lon and timestamp (with caching).\"\"\"\n",
    "    # Use rounded lat/lon + hour as cache key\n",
    "    key = (round(lat, 3), round(lon, 3), timestamp.strftime(\"%Y-%m-%d %H\"))\n",
    "\n",
    "    if key in weather_cache:\n",
    "        return weather_cache[key]\n",
    "\n",
    "    location = Point(lat, lon)\n",
    "    # Hourly data requires start/end datetimes\n",
    "    start = timestamp - timedelta(hours=1)\n",
    "    end = timestamp + timedelta(hours=1)\n",
    "\n",
    "    data = Hourly(location, start, end).fetch()\n",
    "\n",
    "    if not data.empty:\n",
    "        # Pick closest hour\n",
    "        closest_idx = np.argmin(np.abs((data.index - timestamp).total_seconds()))\n",
    "        row = data.iloc[closest_idx]\n",
    "        temp = row[\"temp\"]\n",
    "        prcp = row.get(\"prcp\", 0)\n",
    "        wind = row.get(\"wspd\", 0)\n",
    "        clouds = row.get(\"coco\", 0) if \"coco\" in row else 0  # optional cloud cover\n",
    "    else:\n",
    "        temp, prcp, wind, clouds = None, 0, 0, 0\n",
    "\n",
    "    result = {\"temp\": temp, \"prcp\": prcp, \"wind\": wind, \"clouds\": clouds}\n",
    "    weather_cache[key] = result\n",
    "    return result\n"
   ]
  },
  {
   "cell_type": "code",
   "execution_count": null,
   "id": "7c00aac9",
   "metadata": {},
   "outputs": [],
   "source": [
    "# Assume all orders are in Delhi NCR\n",
    "lat, lon = 28.6139, 77.2090\n",
    "\n",
    "# Fetch weather for each order time\n",
    "records = []\n",
    "for t in tqdm(df_weather[\"Order Datetime\"], desc=\"Fetching weather data\"):\n",
    "    records.append(get_weather_for_time(lat, lon, t))\n",
    "\n",
    "save_cache()\n",
    "\n",
    "weather_df = pd.DataFrame(records)\n",
    "df_weather = pd.concat([df_weather.reset_index(drop=True), weather_df], axis=1)\n"
   ]
  },
  {
   "cell_type": "code",
   "execution_count": null,
   "id": "476634d4",
   "metadata": {},
   "outputs": [],
   "source": [
    "df_weather"
   ]
  },
  {
   "cell_type": "code",
   "execution_count": null,
   "id": "329da408",
   "metadata": {},
   "outputs": [],
   "source": [
    "# Rain intensity: 0 = no rain, 0.5 = light, 1 = heavy\n",
    "def rain_intensity(rain):\n",
    "    # Convert any NA/None to 0\n",
    "    if pd.isna(rain) or rain == 0:\n",
    "        return 0\n",
    "    elif rain < 3:\n",
    "        return 0.5\n",
    "    else:\n",
    "        return 1\n",
    "\n",
    "\n",
    "df_weather[\"rain_intensity\"] = df_weather[\"prcp\"].apply(rain_intensity)"
   ]
  },
  {
   "cell_type": "code",
   "execution_count": null,
   "id": "c68b211c",
   "metadata": {},
   "outputs": [],
   "source": [
    "\n",
    "# Good weather: moderate temperature, low rain, low wind\n",
    "def good_weather(row):\n",
    "    if row[\"rain_intensity\"] == 1:\n",
    "        return 0\n",
    "    if row[\"temp\"] is None:\n",
    "        return 0\n",
    "    if 15 <= row[\"temp\"] <= 32 and (row[\"wind\"] or 0) < 6:\n",
    "        return 1\n",
    "    return 0\n",
    "\n",
    "df_weather[\"good_weather\"] = df_weather.apply(good_weather, axis=1)"
   ]
  },
  {
   "cell_type": "code",
   "execution_count": null,
   "id": "5f7f059b",
   "metadata": {},
   "outputs": [],
   "source": [
    "# =======================\n",
    "# 6. Optional: Time features\n",
    "# =======================\n",
    "df_weather[\"hour\"] = df_weather[\"Order Datetime\"].dt.hour\n",
    "df_weather[\"is_daytime\"] = df_weather[\"hour\"].between(6, 18).astype(int)\n",
    "\n",
    "# =======================\n",
    "# ✅ Done\n",
    "# ======================="
   ]
  },
  {
   "cell_type": "code",
   "execution_count": null,
   "id": "68e8119a",
   "metadata": {},
   "outputs": [],
   "source": [
    "df_weather"
   ]
  },
  {
   "cell_type": "code",
   "execution_count": null,
   "id": "485db634",
   "metadata": {},
   "outputs": [],
   "source": []
  }
 ],
 "metadata": {
  "kernelspec": {
   "display_name": "Python 3",
   "language": "python",
   "name": "python3"
  },
  "language_info": {
   "codemirror_mode": {
    "name": "ipython",
    "version": 3
   },
   "file_extension": ".py",
   "mimetype": "text/x-python",
   "name": "python",
   "nbconvert_exporter": "python",
   "pygments_lexer": "ipython3",
   "version": "3.9.6"
  }
 },
 "nbformat": 4,
 "nbformat_minor": 5
}
