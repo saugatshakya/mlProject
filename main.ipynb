{
 "cells": [
  {
   "cell_type": "code",
   "execution_count": 2,
   "id": "ae154f97",
   "metadata": {},
   "outputs": [],
   "source": [
    "import pandas as pd"
   ]
  },
  {
   "cell_type": "code",
   "execution_count": 3,
   "id": "16739ecd",
   "metadata": {},
   "outputs": [],
   "source": [
    "pd.set_option('display.max_columns', None)"
   ]
  },
  {
   "cell_type": "code",
   "execution_count": 4,
   "id": "a5b33e12",
   "metadata": {},
   "outputs": [
    {
     "data": {
      "text/html": [
       "<div>\n",
       "<style scoped>\n",
       "    .dataframe tbody tr th:only-of-type {\n",
       "        vertical-align: middle;\n",
       "    }\n",
       "\n",
       "    .dataframe tbody tr th {\n",
       "        vertical-align: top;\n",
       "    }\n",
       "\n",
       "    .dataframe thead th {\n",
       "        text-align: right;\n",
       "    }\n",
       "</style>\n",
       "<table border=\"1\" class=\"dataframe\">\n",
       "  <thead>\n",
       "    <tr style=\"text-align: right;\">\n",
       "      <th></th>\n",
       "      <th>Restaurant ID</th>\n",
       "      <th>Restaurant name</th>\n",
       "      <th>Subzone</th>\n",
       "      <th>City</th>\n",
       "      <th>Order ID</th>\n",
       "      <th>Order Placed At</th>\n",
       "      <th>Order Status</th>\n",
       "      <th>Delivery</th>\n",
       "      <th>Distance</th>\n",
       "      <th>Items in order</th>\n",
       "      <th>Instructions</th>\n",
       "      <th>Discount construct</th>\n",
       "      <th>Bill subtotal</th>\n",
       "      <th>Packaging charges</th>\n",
       "      <th>Restaurant discount (Promo)</th>\n",
       "      <th>Restaurant discount (Flat offs, Freebies &amp; others)</th>\n",
       "      <th>Gold discount</th>\n",
       "      <th>Brand pack discount</th>\n",
       "      <th>Total</th>\n",
       "      <th>Rating</th>\n",
       "      <th>Review</th>\n",
       "      <th>Cancellation / Rejection reason</th>\n",
       "      <th>Restaurant compensation (Cancellation)</th>\n",
       "      <th>Restaurant penalty (Rejection)</th>\n",
       "      <th>KPT duration (minutes)</th>\n",
       "      <th>Rider wait time (minutes)</th>\n",
       "      <th>Order Ready Marked</th>\n",
       "      <th>Customer complaint tag</th>\n",
       "      <th>Customer ID</th>\n",
       "    </tr>\n",
       "  </thead>\n",
       "  <tbody>\n",
       "    <tr>\n",
       "      <th>0</th>\n",
       "      <td>20320607</td>\n",
       "      <td>Swaad</td>\n",
       "      <td>Sector 4</td>\n",
       "      <td>Delhi NCR</td>\n",
       "      <td>6168884918</td>\n",
       "      <td>11:38 PM, September 10 2024</td>\n",
       "      <td>Delivered</td>\n",
       "      <td>Zomato Delivery</td>\n",
       "      <td>3km</td>\n",
       "      <td>1 x Grilled Chicken Jamaican Tender, 1 x Grill...</td>\n",
       "      <td>NaN</td>\n",
       "      <td>40% off upto Rs.80</td>\n",
       "      <td>715.0</td>\n",
       "      <td>31.75</td>\n",
       "      <td>80.0</td>\n",
       "      <td>0.0</td>\n",
       "      <td>0.0</td>\n",
       "      <td>0.0</td>\n",
       "      <td>666.75</td>\n",
       "      <td>NaN</td>\n",
       "      <td>NaN</td>\n",
       "      <td>NaN</td>\n",
       "      <td>NaN</td>\n",
       "      <td>NaN</td>\n",
       "      <td>18.35</td>\n",
       "      <td>11.6</td>\n",
       "      <td>Correctly</td>\n",
       "      <td>NaN</td>\n",
       "      <td>5d6c2b96db963098bc69768bea504c8bf46106a8a5178e...</td>\n",
       "    </tr>\n",
       "    <tr>\n",
       "      <th>1</th>\n",
       "      <td>20320607</td>\n",
       "      <td>Swaad</td>\n",
       "      <td>Sector 4</td>\n",
       "      <td>Delhi NCR</td>\n",
       "      <td>6170707559</td>\n",
       "      <td>11:34 PM, September 10 2024</td>\n",
       "      <td>Delivered</td>\n",
       "      <td>Zomato Delivery</td>\n",
       "      <td>2km</td>\n",
       "      <td>1 x Peri Peri Fries, 1 x Fried Chicken Angara ...</td>\n",
       "      <td>NaN</td>\n",
       "      <td>Flat Rs.175 off</td>\n",
       "      <td>1179.0</td>\n",
       "      <td>50.20</td>\n",
       "      <td>175.0</td>\n",
       "      <td>0.0</td>\n",
       "      <td>0.0</td>\n",
       "      <td>0.0</td>\n",
       "      <td>1054.20</td>\n",
       "      <td>NaN</td>\n",
       "      <td>NaN</td>\n",
       "      <td>NaN</td>\n",
       "      <td>NaN</td>\n",
       "      <td>NaN</td>\n",
       "      <td>16.95</td>\n",
       "      <td>3.6</td>\n",
       "      <td>Correctly</td>\n",
       "      <td>NaN</td>\n",
       "      <td>0781815deb4a10a574e9fee4fa0b86b074d4a0b36175d5...</td>\n",
       "    </tr>\n",
       "    <tr>\n",
       "      <th>2</th>\n",
       "      <td>20320607</td>\n",
       "      <td>Swaad</td>\n",
       "      <td>Sector 4</td>\n",
       "      <td>Delhi NCR</td>\n",
       "      <td>6169375019</td>\n",
       "      <td>03:52 PM, September 10 2024</td>\n",
       "      <td>Delivered</td>\n",
       "      <td>Zomato Delivery</td>\n",
       "      <td>&lt;1km</td>\n",
       "      <td>1 x Bone in Peri Peri Grilled Chicken</td>\n",
       "      <td>NaN</td>\n",
       "      <td>40% off upto Rs.80</td>\n",
       "      <td>310.0</td>\n",
       "      <td>11.50</td>\n",
       "      <td>80.0</td>\n",
       "      <td>0.0</td>\n",
       "      <td>0.0</td>\n",
       "      <td>0.0</td>\n",
       "      <td>241.50</td>\n",
       "      <td>NaN</td>\n",
       "      <td>NaN</td>\n",
       "      <td>NaN</td>\n",
       "      <td>NaN</td>\n",
       "      <td>NaN</td>\n",
       "      <td>14.05</td>\n",
       "      <td>12.2</td>\n",
       "      <td>Correctly</td>\n",
       "      <td>NaN</td>\n",
       "      <td>f93362f5ce5382657482d164e368186bcec9c6225fd93d...</td>\n",
       "    </tr>\n",
       "    <tr>\n",
       "      <th>3</th>\n",
       "      <td>20320607</td>\n",
       "      <td>Swaad</td>\n",
       "      <td>Sector 4</td>\n",
       "      <td>Delhi NCR</td>\n",
       "      <td>6151677434</td>\n",
       "      <td>03:45 PM, September 10 2024</td>\n",
       "      <td>Delivered</td>\n",
       "      <td>Zomato Delivery</td>\n",
       "      <td>2km</td>\n",
       "      <td>1 x Fried Chicken Ghostbuster Tender, 1 x Anga...</td>\n",
       "      <td>NaN</td>\n",
       "      <td>40% off upto Rs.80</td>\n",
       "      <td>620.0</td>\n",
       "      <td>27.00</td>\n",
       "      <td>80.0</td>\n",
       "      <td>0.0</td>\n",
       "      <td>0.0</td>\n",
       "      <td>0.0</td>\n",
       "      <td>567.00</td>\n",
       "      <td>4.0</td>\n",
       "      <td>NaN</td>\n",
       "      <td>NaN</td>\n",
       "      <td>NaN</td>\n",
       "      <td>NaN</td>\n",
       "      <td>19.00</td>\n",
       "      <td>3.3</td>\n",
       "      <td>Correctly</td>\n",
       "      <td>NaN</td>\n",
       "      <td>1ed226d1b8a5f7acee12fc1d6676558330a3b2b742af5d...</td>\n",
       "    </tr>\n",
       "    <tr>\n",
       "      <th>4</th>\n",
       "      <td>20320607</td>\n",
       "      <td>Swaad</td>\n",
       "      <td>Sector 4</td>\n",
       "      <td>Delhi NCR</td>\n",
       "      <td>6167540897</td>\n",
       "      <td>03:04 PM, September 10 2024</td>\n",
       "      <td>Delivered</td>\n",
       "      <td>Zomato Delivery</td>\n",
       "      <td>2km</td>\n",
       "      <td>1 x Peri Peri Krispers, 1 x Fried Chicken Anga...</td>\n",
       "      <td>NaN</td>\n",
       "      <td>40% off upto Rs.80</td>\n",
       "      <td>584.0</td>\n",
       "      <td>25.20</td>\n",
       "      <td>80.0</td>\n",
       "      <td>0.0</td>\n",
       "      <td>0.0</td>\n",
       "      <td>0.0</td>\n",
       "      <td>529.20</td>\n",
       "      <td>NaN</td>\n",
       "      <td>NaN</td>\n",
       "      <td>NaN</td>\n",
       "      <td>NaN</td>\n",
       "      <td>NaN</td>\n",
       "      <td>15.97</td>\n",
       "      <td>1.0</td>\n",
       "      <td>Correctly</td>\n",
       "      <td>NaN</td>\n",
       "      <td>d21a2ac6ea06b31cc3288ab20c4ef2f292066c096f2c5f...</td>\n",
       "    </tr>\n",
       "  </tbody>\n",
       "</table>\n",
       "</div>"
      ],
      "text/plain": [
       "   Restaurant ID Restaurant name   Subzone       City    Order ID  \\\n",
       "0       20320607           Swaad  Sector 4  Delhi NCR  6168884918   \n",
       "1       20320607           Swaad  Sector 4  Delhi NCR  6170707559   \n",
       "2       20320607           Swaad  Sector 4  Delhi NCR  6169375019   \n",
       "3       20320607           Swaad  Sector 4  Delhi NCR  6151677434   \n",
       "4       20320607           Swaad  Sector 4  Delhi NCR  6167540897   \n",
       "\n",
       "               Order Placed At Order Status         Delivery Distance  \\\n",
       "0  11:38 PM, September 10 2024    Delivered  Zomato Delivery      3km   \n",
       "1  11:34 PM, September 10 2024    Delivered  Zomato Delivery      2km   \n",
       "2  03:52 PM, September 10 2024    Delivered  Zomato Delivery     <1km   \n",
       "3  03:45 PM, September 10 2024    Delivered  Zomato Delivery      2km   \n",
       "4  03:04 PM, September 10 2024    Delivered  Zomato Delivery      2km   \n",
       "\n",
       "                                      Items in order Instructions  \\\n",
       "0  1 x Grilled Chicken Jamaican Tender, 1 x Grill...          NaN   \n",
       "1  1 x Peri Peri Fries, 1 x Fried Chicken Angara ...          NaN   \n",
       "2              1 x Bone in Peri Peri Grilled Chicken          NaN   \n",
       "3  1 x Fried Chicken Ghostbuster Tender, 1 x Anga...          NaN   \n",
       "4  1 x Peri Peri Krispers, 1 x Fried Chicken Anga...          NaN   \n",
       "\n",
       "   Discount construct  Bill subtotal  Packaging charges  \\\n",
       "0  40% off upto Rs.80          715.0              31.75   \n",
       "1     Flat Rs.175 off         1179.0              50.20   \n",
       "2  40% off upto Rs.80          310.0              11.50   \n",
       "3  40% off upto Rs.80          620.0              27.00   \n",
       "4  40% off upto Rs.80          584.0              25.20   \n",
       "\n",
       "   Restaurant discount (Promo)  \\\n",
       "0                         80.0   \n",
       "1                        175.0   \n",
       "2                         80.0   \n",
       "3                         80.0   \n",
       "4                         80.0   \n",
       "\n",
       "   Restaurant discount (Flat offs, Freebies & others)  Gold discount  \\\n",
       "0                                                0.0             0.0   \n",
       "1                                                0.0             0.0   \n",
       "2                                                0.0             0.0   \n",
       "3                                                0.0             0.0   \n",
       "4                                                0.0             0.0   \n",
       "\n",
       "   Brand pack discount    Total  Rating Review  \\\n",
       "0                  0.0   666.75     NaN    NaN   \n",
       "1                  0.0  1054.20     NaN    NaN   \n",
       "2                  0.0   241.50     NaN    NaN   \n",
       "3                  0.0   567.00     4.0    NaN   \n",
       "4                  0.0   529.20     NaN    NaN   \n",
       "\n",
       "  Cancellation / Rejection reason  Restaurant compensation (Cancellation)  \\\n",
       "0                             NaN                                     NaN   \n",
       "1                             NaN                                     NaN   \n",
       "2                             NaN                                     NaN   \n",
       "3                             NaN                                     NaN   \n",
       "4                             NaN                                     NaN   \n",
       "\n",
       "   Restaurant penalty (Rejection)  KPT duration (minutes)  \\\n",
       "0                             NaN                   18.35   \n",
       "1                             NaN                   16.95   \n",
       "2                             NaN                   14.05   \n",
       "3                             NaN                   19.00   \n",
       "4                             NaN                   15.97   \n",
       "\n",
       "   Rider wait time (minutes) Order Ready Marked Customer complaint tag  \\\n",
       "0                       11.6          Correctly                    NaN   \n",
       "1                        3.6          Correctly                    NaN   \n",
       "2                       12.2          Correctly                    NaN   \n",
       "3                        3.3          Correctly                    NaN   \n",
       "4                        1.0          Correctly                    NaN   \n",
       "\n",
       "                                         Customer ID  \n",
       "0  5d6c2b96db963098bc69768bea504c8bf46106a8a5178e...  \n",
       "1  0781815deb4a10a574e9fee4fa0b86b074d4a0b36175d5...  \n",
       "2  f93362f5ce5382657482d164e368186bcec9c6225fd93d...  \n",
       "3  1ed226d1b8a5f7acee12fc1d6676558330a3b2b742af5d...  \n",
       "4  d21a2ac6ea06b31cc3288ab20c4ef2f292066c096f2c5f...  "
      ]
     },
     "execution_count": 4,
     "metadata": {},
     "output_type": "execute_result"
    }
   ],
   "source": [
    "df =pd.read_csv('data/data.csv')\n",
    "df.head()"
   ]
  },
  {
   "cell_type": "code",
   "execution_count": 5,
   "id": "2c4dd72c",
   "metadata": {},
   "outputs": [
    {
     "data": {
      "text/plain": [
       "(21321, 29)"
      ]
     },
     "execution_count": 5,
     "metadata": {},
     "output_type": "execute_result"
    }
   ],
   "source": [
    "df.shape"
   ]
  },
  {
   "cell_type": "code",
   "execution_count": 46,
   "id": "2fabf52f",
   "metadata": {},
   "outputs": [
    {
     "data": {
      "text/plain": [
       "Items in order\n",
       "1 x Bageecha Pizza                                                                                                                                  877\n",
       "1 x Bone in Jamaican Grilled Chicken                                                                                                                594\n",
       "1 x All About Chicken Pizza                                                                                                                         449\n",
       "1 x Margherita Pizza                                                                                                                                408\n",
       "1 x Makhani Paneer Pizza                                                                                                                            353\n",
       "                                                                                                                                                   ... \n",
       "1 x Bone in Peri Peri Grilled Chicken, 2 x Bone in Jamaican Grilled Chicken, 1 x Bone in Smoky Bbq Grilled Chicken                                    1\n",
       "1 x Salted Crisper Fries, 1 x AAC Signature Fries, 1 x Bone in Jamaican Grilled Chicken, 1 x Fried Chicken Classic Tenders + AAC Signature Fries      1\n",
       "1 x Salted Crisper Fries, 1 x Grilled Chicken Angara Tangdi                                                                                           1\n",
       "1 x Grilled Chicken Angara Tenders + Salted Fries, 1 x Garlic Aioli                                                                                   1\n",
       "1 x Grilled Chicken Jamaican Slider                                                                                                                   1\n",
       "Name: count, Length: 6123, dtype: int64"
      ]
     },
     "execution_count": 46,
     "metadata": {},
     "output_type": "execute_result"
    }
   ],
   "source": [
    "df[\"Items in order\"].value_counts()"
   ]
  },
  {
   "cell_type": "code",
   "execution_count": 47,
   "id": "61261d46",
   "metadata": {},
   "outputs": [
    {
     "name": "stdout",
     "output_type": "stream",
     "text": [
      "                                          Items in order  \\\n",
      "0      1 x Grilled Chicken Jamaican Tender, 1 x Grill...   \n",
      "1      1 x Peri Peri Fries, 1 x Fried Chicken Angara ...   \n",
      "2                  1 x Bone in Peri Peri Grilled Chicken   \n",
      "3      1 x Fried Chicken Ghostbuster Tender, 1 x Anga...   \n",
      "4      1 x Peri Peri Krispers, 1 x Fried Chicken Anga...   \n",
      "...                                                  ...   \n",
      "21316      1 x Fried Chicken Desi Peri Peri Bites (Bone)   \n",
      "21317         1 x Fried Chicken 65 Masala Boneless Bites   \n",
      "21318                    1 x Korean Fried Chicken Slider   \n",
      "21319                                1 x Ooh Saucy Fries   \n",
      "21320                1 x Grilled Chicken Jamaican Slider   \n",
      "\n",
      "                                          expanded_items  \n",
      "0      [Grilled Chicken Jamaican Tender, Grilled Chic...  \n",
      "1      [Peri Peri Fries, Fried Chicken Angara Tender,...  \n",
      "2                    [Bone in Peri Peri Grilled Chicken]  \n",
      "3      [Fried Chicken Ghostbuster Tender, Angara Gril...  \n",
      "4      [Peri Peri Krispers, Fried Chicken Angara Tender]  \n",
      "...                                                  ...  \n",
      "21316        [Fried Chicken Desi Peri Peri Bites (Bone)]  \n",
      "21317           [Fried Chicken 65 Masala Boneless Bites]  \n",
      "21318                      [Korean Fried Chicken Slider]  \n",
      "21319                                  [Ooh Saucy Fries]  \n",
      "21320                  [Grilled Chicken Jamaican Slider]  \n",
      "\n",
      "[21321 rows x 2 columns]\n",
      "\n",
      "Global item map:\n",
      "{'item_1': 'AAC Fried Chicken Burger', 'item_2': 'AAC Fried Paneer Burger', 'item_3': 'AAC Grilled Chicken Burger', 'item_4': 'AAC Grilled Chicken Burger .', 'item_5': 'AAC Grilled Paneer Burger', 'item_6': 'AAC Saucy Fries', 'item_7': 'AAC Signature Crisper Fries', 'item_8': 'AAC Signature Fries', 'item_9': 'AAC Signature Krispers', 'item_10': 'AAC Special Slaw', 'item_11': 'All About Chicken Pizza', 'item_12': 'Angara Aloo Tuk Tuki', 'item_13': 'Angara Boneless Grilled Chicken Breast', 'item_14': 'Angara Grilled Chicken Quarter', 'item_15': 'Angara Grilled Chicken Tangdi (4pcs)', 'item_16': 'Angara Grilled Paneer (8 pcs)', 'item_17': 'Angara Paneer Melt', 'item_18': 'Angara Paneer Steak', 'item_19': 'Angara Rice', 'item_20': 'Angara Sauce', 'item_21': 'Animal Fries', 'item_22': 'Animal Fries .', 'item_23': 'Atomic Veg Burger', 'item_24': 'Atomic Veg Burger .', 'item_25': 'BC Burger', 'item_26': 'Bacon Pepperoni Melt', 'item_27': 'Bageecha Pizza', 'item_28': 'Bageecha Pizza .', 'item_29': \"Bangin' Soya Burger\", 'item_30': 'Bellpepper Onion Pizza', 'item_31': 'Bone in Angara Grilled Chicken', 'item_32': 'Bone in Angara Grilled Chicken .', 'item_33': 'Bone in Jamaican Grilled Chicken', 'item_34': 'Bone in Jamaican Grilled Chicken .', 'item_35': 'Bone in Jamaican Grilled Chicken Quarter + Angara Rice', 'item_36': 'Bone in Kabuli Grilled Chicken', 'item_37': 'Bone in Peri Peri Grilled Chicken', 'item_38': 'Bone in Peri Peri Grilled Chicken .', 'item_39': 'Bone in Smoky Bbq Grilled Chicken', 'item_40': 'Bone in Smoky Bbq Grilled Chicken .', 'item_41': 'Brocolli Onion Pizza', 'item_42': 'Butter Chicken Grilled Burger', 'item_43': 'Cafreal Sauce', 'item_44': 'Cafreal dip', 'item_45': 'Carribean Jerk Boneless Grilled Chicken Breast', 'item_46': 'Carribean Jerk Grilled Chicken Quarter', 'item_47': 'Carribean Jerk Grilled Chicken Tangdi (4pcs)', 'item_48': 'Carribean Jerk dip', 'item_49': 'Cheesy Garlic Bread', 'item_50': 'Cheesy Veg Burger', 'item_51': 'Chicken 65 Boneless Grilled Chicken Breast', 'item_52': 'Chicken 65 Grilled Chicken Quarter', 'item_53': 'Chicken 65 Grilled Chicken Tangdi (4pcs)', 'item_54': 'Chicken 69', 'item_55': 'Chicken Pepperoni Pizza', 'item_56': 'Chicken Smashed Burger', 'item_57': 'Chicken Smashed Burgers .', 'item_58': 'Chicken Smashed Double Burger', 'item_59': 'Chilli Cheese Garlic Bread', 'item_60': 'Chilli Cheese Garlic Bread .', 'item_61': 'Chocolate Walnut Brownie', 'item_62': 'Classic Bacon Melt Tenderloin Burger', 'item_63': 'Classic Bacon Melt Tenderloin Burger .', 'item_64': 'Coleslaw', 'item_65': 'Combo For 1', 'item_66': 'Combo For 1 - Non Veg', 'item_67': 'Combo For 1 - Veg', 'item_68': 'Combo for 2 - Non Veg', 'item_69': 'Combo for 2 - Veg', 'item_70': 'Combo for 4 - Veg', 'item_71': 'Cous Cous', 'item_72': 'Crushed Papad', 'item_73': 'Desi Chicken Pepperoni Pizza', 'item_74': 'Desi Masala Crispers Fries', 'item_75': 'Desi Masala Fries', 'item_76': 'Desi Pepperoni Pizza', 'item_77': 'Dirty Grilled Paneer Burger', 'item_78': 'Dirty Indian Masala Crisper Fries', 'item_79': 'Dirty Indian Masala Fries', 'item_80': 'Dirty Indian Slaw', 'item_81': 'Dirty Indian Soya Chunks', 'item_82': 'Dirty Masala Fries', 'item_83': 'Dirty Saucy Chicken Loaded Fries', 'item_84': 'Dirty Saucy Chicken Loaded Fries .', 'item_85': 'Dirty Saucy Fries', 'item_86': 'Dynamite sauce', 'item_87': 'Fire Alarm Tenderloin Burger', 'item_88': 'Fried Chicken 65 Masala Boneless Bites', 'item_89': 'Fried Chicken Angara Slider', 'item_90': 'Fried Chicken Angara Tender', 'item_91': 'Fried Chicken Angara Tender .', 'item_92': 'Fried Chicken Beast AAC Burger', 'item_93': 'Fried Chicken Beast Burger', 'item_94': 'Fried Chicken Bites (Bone) - 4pcs', 'item_95': 'Fried Chicken Bites (Bone) - 8pcs', 'item_96': 'Fried Chicken Boneless Bites - 10pcs', 'item_97': 'Fried Chicken Boneless Bites - 6pcs', 'item_98': 'Fried Chicken Classic Tender', 'item_99': 'Fried Chicken Classic Tender .', 'item_100': 'Fried Chicken Classic Tenders + AAC Signature Fries', 'item_101': 'Fried Chicken Desi Peri Peri Bites (Bone)', 'item_102': 'Fried Chicken Dirty Burger', 'item_103': 'Fried Chicken Ghostbuster Tender', 'item_104': 'Fried Chicken Kabuli Tender', 'item_105': 'Fried Chicken Kabuli Tender .', 'item_106': 'Fried Chicken Peri Peri Tender', 'item_107': 'Fried Chicken Peri Peri Tender .', 'item_108': 'Fried Chicken Peri Peri Tenders + Peri Peri Fries', 'item_109': 'Fried Chicken Strips', 'item_110': 'Fried Chicken Tangdi - 2pcs', 'item_111': 'Fried Chicken Tangdi - 4pcs', 'item_112': 'Fried Chicken Tenders', 'item_113': 'Fried Mushroom Burger', 'item_114': 'Fried Paneer Angara Slider', 'item_115': 'Fried Paneer Burger .', 'item_116': 'Garlic Aioli', 'item_117': 'GhostBuster Sauce', 'item_118': 'Grilled Chicken 69 Burger', 'item_119': 'Grilled Chicken Afghani Boneless Breast', 'item_120': 'Grilled Chicken Angara Boneless Breast', 'item_121': 'Grilled Chicken Angara Tangdi', 'item_122': 'Grilled Chicken Angara Tender', 'item_123': 'Grilled Chicken Angara Tender .', 'item_124': 'Grilled Chicken Angara Tenders + Salted Fries', 'item_125': 'Grilled Chicken Dirty Burger', 'item_126': 'Grilled Chicken Dirty Burger .', 'item_127': 'Grilled Chicken Double Dirty Burger', 'item_128': 'Grilled Chicken Ghostbuster Tangdi', 'item_129': 'Grilled Chicken Jamaican Boneless Breast', 'item_130': 'Grilled Chicken Jamaican Slider', 'item_131': 'Grilled Chicken Jamaican Tangdi', 'item_132': 'Grilled Chicken Jamaican Tender', 'item_133': 'Grilled Chicken Jamaican Tender .', 'item_134': 'Grilled Chicken Peri Peri Boneless Breast', 'item_135': 'Grilled Chicken Peri Peri Tangdi', 'item_136': 'Grilled Chicken Peri Peri Tender', 'item_137': 'Grilled Chicken Peri Peri Tender .', 'item_138': 'Grilled Chicken Smoky BBQ Tangdi', 'item_139': 'Grilled Chicken Smoky BBQ Tender', 'item_140': 'Grilled Chicken Smoky BBQ Tender .', 'item_141': 'Grilled Chicken Smoky Bbq Boneless Breast', 'item_142': 'Grilled Chicken Tangdi', 'item_143': 'Grilled Chicken Tangdi Jamaican + Salted Krispers', 'item_144': 'Grilled Paneer Afghani Slider', 'item_145': 'Grilled Paneer Angara Slider', 'item_146': 'Grilled Paneer Burger', 'item_147': 'Grilled Paneer Burger .', 'item_148': 'Grilled Tangdis', 'item_149': 'Grlld Masala Fries', 'item_150': 'Grlld Potatoes', 'item_151': 'Grlld Vegetables', 'item_152': 'Harisa Mayo', 'item_153': 'Harissa Mayo', 'item_154': 'Herbed Potato', 'item_155': 'Honey Mustard sauce', 'item_156': 'Iced Green Tea - Mojito', 'item_157': 'Iced Green Tea - Peach', 'item_158': 'India Dynamite sauce', 'item_159': 'Indian Honey Mustard sauce', 'item_160': 'Indian Masala Cripser Fries', 'item_161': 'Indian Masala Fries', 'item_162': 'Indian Pico De-Gallo', 'item_163': 'Indian Salsa', 'item_164': 'Jamaican Chicken Melt', 'item_165': 'Jamaican Chicken Melt .', 'item_166': 'Jamaican Sauce', 'item_167': 'Just Pepperoni Pide', 'item_168': 'Just Pepperoni Pizza', 'item_169': 'Kabuli Grilled Paneer (8 pcs)', 'item_170': 'Korean Fried Chicken Burger', 'item_171': 'Korean Fried Chicken Slider', 'item_172': 'Loaded Chicken Pepperoni Pizza', 'item_173': 'Loaded Jamaican Grilled Chicken Pizza', 'item_174': 'Loaded Korean Grilled Chicken Pizza', 'item_175': 'Loaded Pork Pepperoni Pizza', 'item_176': 'Makhani Paneer Pizza', 'item_177': 'Makhani Paneer Pizza .', 'item_178': 'Malai Gud Pide', 'item_179': 'Malvani Boneless Grilled Chicken Breast', 'item_180': 'Malvani Grilled Chicken Quarter', 'item_181': 'Malvani Grilled Chicken Tangdi (4pcs)', 'item_182': 'Malvani Paneer Steak', 'item_183': 'Margherita Pizza', 'item_184': 'Masala Omelette Pide', 'item_185': 'Masala Paneer Pide', 'item_186': 'Masala Potato Pide', 'item_187': 'Mayonnaise', 'item_188': 'Mint Mayonnaise', 'item_189': 'Murgh Amritsari Garlic Bread', 'item_190': 'Murgh Amritsari Seekh Melt', 'item_191': 'Murgh Amritsari Seekh Pide', 'item_192': 'Murgh Amritsari Seekh Pizza', 'item_193': 'Mushroom Mozzarella Melt', 'item_194': 'Mushroom Pizza', 'item_195': 'Mutton Seekh Pide', 'item_196': 'Mutton Seekh Pizza', 'item_197': 'Mutton Smashed Burger', 'item_198': 'Mutton Smashed Double Burger', 'item_199': 'OG Cheese Burger', 'item_200': 'OG Cheese Pide', 'item_201': 'Og Cheese Burger', 'item_202': 'Onion Bombs', 'item_203': 'Onion Rings', 'item_204': 'Ooh Masala Fries', 'item_205': 'Ooh Saucy Fries', 'item_206': 'Paneer 65 Paneer Steak', 'item_207': 'Peanut Butter Chocolate Pide', 'item_208': 'Pepperoni Garlic Bread', 'item_209': 'Peri Peri Boneless Grilled Chicken Breast', 'item_210': 'Peri Peri Chicken Melt', 'item_211': 'Peri Peri Crisper Fries', 'item_212': 'Peri Peri Crispers Fries', 'item_213': 'Peri Peri Fries', 'item_214': 'Peri Peri Fries .', 'item_215': 'Peri Peri Grilled Chicken Pizza', 'item_216': 'Peri Peri Grilled Chicken Quarter', 'item_217': 'Peri Peri Grilled Chicken Tangdi (4pcs)', 'item_218': 'Peri Peri Ketchup', 'item_219': 'Peri Peri Krispers', 'item_220': 'Peri Peri Paneer Melt', 'item_221': 'Peri Peri Paneer Pizza', 'item_222': 'Peri Peri Sauce', 'item_223': 'Peri Peri dip', 'item_224': 'Raw Masala Lemon Shikanji', 'item_225': 'Raw Mint Mojito Iced Tea', 'item_226': 'Raw Peach Iced Tea', 'item_227': 'Red Rice', 'item_228': 'Salted Crisper Fries', 'item_229': 'Salted Fries', 'item_230': 'Salted Fries .', 'item_231': 'Salted Krispers', 'item_232': 'Signature Smashed Tenderloin Burger', 'item_233': 'Smoky BBQ Boneless Grilled Chicken Breast', 'item_234': 'Smoky BBQ Grilled Chicken Quarter', 'item_235': 'Smoky BBQ Grilled Chicken Tangdi (4pcs)', 'item_236': 'Smoky BBQ Sauce', 'item_237': 'Smoky BBQ dip', 'item_238': 'Spinach Sumac Pide', 'item_239': 'Tenderloin Smashed Burger', 'item_240': 'Tenderloin Smashed Double Burger', 'item_241': 'Tipsy Tiger Fresh Lime Soda', 'item_242': 'Tipsy Tiger Ginger Ale', 'item_243': 'Tripple Cheese Pizza', 'item_244': 'Very Peri Tenderloin Burger'}\n"
     ]
    }
   ],
   "source": [
    "import re\n",
    "\n",
    "# Function to expand an order line into list of items\n",
    "def expand_items(order_str):\n",
    "    parts = re.findall(r\"(\\d+)\\s*x\\s*([^,]+)\", order_str)\n",
    "    items = []\n",
    "    for qty, name in parts:\n",
    "        item_name = name.strip()\n",
    "        items.extend([item_name] * int(qty))\n",
    "    return items\n",
    "\n",
    "# Apply the expansion to each row\n",
    "df[\"expanded_items\"] = df[\"Items in order\"].apply(expand_items)\n",
    "\n",
    "# Create a global list (flattened)\n",
    "all_items = [item for sublist in df[\"expanded_items\"] for item in sublist]\n",
    "\n",
    "# Create a unique global item map\n",
    "unique_items = sorted(set(all_items))\n",
    "item_map = {f\"item_{i+1}\": name for i, name in enumerate(unique_items)}\n",
    "\n",
    "print(df[[\"Items in order\", \"expanded_items\"]])\n",
    "print(\"\\nGlobal item map:\")\n",
    "print(item_map)"
   ]
  },
  {
   "cell_type": "code",
   "execution_count": null,
   "id": "0663ab41",
   "metadata": {},
   "outputs": [
    {
     "name": "stdout",
     "output_type": "stream",
     "text": [
      "=== Full Item Order Frequency List ===\n",
      "\n",
      "                                                  Item  Order Frequency\n",
      "                                        Bageecha Pizza             3334\n",
      "                            Chilli Cheese Garlic Bread             1932\n",
      "                      Bone in Jamaican Grilled Chicken             1770\n",
      "                               All About Chicken Pizza             1728\n",
      "                                  Makhani Paneer Pizza             1524\n",
      "                                      Margherita Pizza             1477\n",
      "                                   Cheesy Garlic Bread             1336\n",
      "                                 Jamaican Chicken Melt             1223\n",
      "                                         Herbed Potato              980\n",
      "                                  Tripple Cheese Pizza              959\n",
      "                           Murgh Amritsari Seekh Pizza              877\n",
      "                     Bone in Smoky Bbq Grilled Chicken              804\n",
      "                                          Animal Fries              779\n",
      "                                Peri Peri Paneer Pizza              767\n",
      "                          Murgh Amritsari Garlic Bread              754\n",
      "                                    Masala Paneer Pide              743\n",
      "                                    Angara Paneer Melt              725\n",
      "                            Murgh Amritsari Seekh Pide              654\n",
      "                       Grilled Chicken Jamaican Tender              636\n",
      "                     Bone in Peri Peri Grilled Chicken              622\n",
      "                        Fried Chicken Peri Peri Tender              594\n",
      "                                  Just Pepperoni Pizza              576\n",
      "                              Mushroom Mozzarella Melt              565\n",
      "                            Murgh Amritsari Seekh Melt              545\n",
      "                               Peri Peri Crisper Fries              544\n",
      "                        Bone in Kabuli Grilled Chicken              537\n",
      "                        Bone in Angara Grilled Chicken              475\n",
      "                                        Mushroom Pizza              452\n",
      "                       Peri Peri Grilled Chicken Pizza              436\n",
      "                          Fried Chicken Classic Tender              413\n",
      "                      Grilled Chicken Smoky BBQ Tender              403\n",
      "                           Fried Chicken Angara Tender              368\n",
      "                      Grilled Chicken Peri Peri Tender              363\n",
      "                                Peri Peri Chicken Melt              334\n",
      "                                Pepperoni Garlic Bread              328\n",
      "                                          Garlic Aioli              317\n",
      "                                       Peri Peri Fries              310\n",
      "                                Bellpepper Onion Pizza              309\n",
      "                                    Spinach Sumac Pide              306\n",
      "                                     Mutton Seekh Pide              301\n",
      "                           Tipsy Tiger Fresh Lime Soda              299\n",
      "                                  Fried Chicken Strips              297\n",
      "                                           Onion Rings              295\n",
      "                               Chicken Pepperoni Pizza              289\n",
      "                                        OG Cheese Pide              281\n",
      "                                          Salted Fries              279\n",
      "                                    Mutton Seekh Pizza              271\n",
      "                                       Grilled Tangdis              267\n",
      "                                   Just Pepperoni Pide              265\n",
      "                         Grilled Chicken Angara Tender              255\n",
      "                      Fried Chicken Ghostbuster Tender              249\n",
      "                                  Salted Crisper Fries              247\n",
      "                                        Malai Gud Pide              234\n",
      "                                    Masala Potato Pide              229\n",
      "                            AAC Grilled Chicken Burger              210\n",
      "                           Indian Masala Cripser Fries              192\n",
      "                                 Fried Chicken Tenders              173\n",
      "                                  Desi Pepperoni Pizza              163\n",
      "                                   Indian Masala Fries              161\n",
      "                        Fried Chicken Beast AAC Burger              146\n",
      "                       Grilled Chicken Jamaican Tangdi              141\n",
      "Bone in Jamaican Grilled Chicken Quarter + Angara Rice              139\n",
      "                                  Bacon Pepperoni Melt              138\n",
      "                                Tipsy Tiger Ginger Ale              135\n",
      "                           Fried Chicken Kabuli Tender              134\n",
      "                          Desi Chicken Pepperoni Pizza              128\n",
      "                                 Peri Peri Paneer Melt              126\n",
      "                      Grilled Chicken Smoky BBQ Tangdi              122\n",
      "                      Grilled Chicken Peri Peri Tangdi              116\n",
      "                                           Harisa Mayo              112\n",
      "                          Peanut Butter Chocolate Pide              112\n",
      "                                           Angara Rice              107\n",
      "                                   AAC Signature Fries              103\n",
      "                         Grilled Chicken Angara Tangdi              100\n",
      "                                       AAC Saucy Fries              100\n",
      "                                Grilled Chicken Tangdi               88\n",
      "     Fried Chicken Peri Peri Tenders + Peri Peri Fries               76\n",
      "                                  Indian Pico De-Gallo               68\n",
      "                           AAC Signature Crisper Fries               66\n",
      "                                 Mutton Smashed Burger               63\n",
      "                                Iced Green Tea - Peach               61\n",
      "                             Raw Masala Lemon Shikanji               59\n",
      "                         Angara Grilled Paneer (8 pcs)               59\n",
      "                    Grilled Chicken Ghostbuster Tangdi               59\n",
      "                                     Dirty Saucy Fries               55\n",
      "                                          Angara Sauce               50\n",
      "                                     GhostBuster Sauce               50\n",
      "                                          Indian Salsa               48\n",
      "              Grilled Chicken Jamaican Boneless Breast               48\n",
      "                                            Mayonnaise               47\n",
      "                                  Masala Omelette Pide               47\n",
      "                               Iced Green Tea - Mojito               47\n",
      "                                      AAC Special Slaw               47\n",
      "                                        Jamaican Sauce               46\n",
      "                                           Onion Bombs               45\n",
      "                          Grilled Chicken Dirty Burger               45\n",
      "     Grilled Chicken Tangdi Jamaican + Salted Krispers               41\n",
      "                                          Harissa Mayo               41\n",
      "                                       Smoky BBQ Sauce               39\n",
      "            Chicken 65 Boneless Grilled Chicken Breast               35\n",
      "                         Kabuli Grilled Paneer (8 pcs)               35\n",
      "                                              Coleslaw               34\n",
      "                             AAC Grilled Paneer Burger               34\n",
      "                Angara Boneless Grilled Chicken Breast               33\n",
      "                                  Angara Aloo Tuk Tuki               32\n",
      "                                         Cafreal Sauce               31\n",
      "                           Loaded Pork Pepperoni Pizza               31\n",
      "         Grilled Chicken Angara Tenders + Salted Fries               30\n",
      "                    Bone in Jamaican Grilled Chicken .               28\n",
      "   Fried Chicken Classic Tenders + AAC Signature Fries               27\n",
      "                   Loaded Korean Grilled Chicken Pizza               27\n",
      "                                         Crushed Papad               27\n",
      "                                        Animal Fries .               27\n",
      "             Grilled Chicken Smoky Bbq Boneless Breast               26\n",
      "                 Loaded Jamaican Grilled Chicken Pizza               25\n",
      "                                  Brocolli Onion Pizza               23\n",
      "                               AAC Fried Paneer Burger               22\n",
      "                Grilled Chicken Angara Boneless Breast               22\n",
      "             Grilled Chicken Peri Peri Boneless Breast               22\n",
      "             Smoky BBQ Boneless Grilled Chicken Breast               22\n",
      "                                     Atomic Veg Burger               21\n",
      "             Peri Peri Boneless Grilled Chicken Breast               21\n",
      "                                           Cafreal dip               21\n",
      "                   Bone in Smoky Bbq Grilled Chicken .               19\n",
      "                                  India Dynamite sauce               19\n",
      "        Carribean Jerk Boneless Grilled Chicken Breast               18\n",
      "                                     Peri Peri Fries .               17\n",
      "                  Classic Bacon Melt Tenderloin Burger               17\n",
      "                      Dirty Saucy Chicken Loaded Fries               16\n",
      "                                        Dynamite sauce               15\n",
      "               Grilled Chicken Afghani Boneless Breast               15\n",
      "                        Fried Chicken Classic Tender .               15\n",
      "                                       Peri Peri Sauce               14\n",
      "                                        Salted Fries .               14\n",
      "                                Chicken Smashed Burger               12\n",
      "                        Loaded Chicken Pepperoni Pizza               12\n",
      "                                 Grilled Paneer Burger               12\n",
      "                                 Combo For 1 - Non Veg               12\n",
      "                             Tenderloin Smashed Burger               11\n",
      "                                       Ooh Saucy Fries               11\n",
      "                      Fried Chicken Peri Peri Tender .               10\n",
      "                   Bone in Peri Peri Grilled Chicken .               10\n",
      "                                     Combo For 1 - Veg               10\n",
      "                             Dirty Indian Masala Fries               10\n",
      "                Carribean Jerk Grilled Chicken Quarter               10\n",
      "                                       Salted Krispers                9\n",
      "                           Fried Chicken Tangdi - 2pcs                9\n",
      "                            Indian Honey Mustard sauce                9\n",
      "                                     Cheesy Veg Burger                8\n",
      "                                    Peri Peri Krispers                8\n",
      "                              AAC Fried Chicken Burger                8\n",
      "                                    Grlld Masala Fries                8\n",
      "                              Chocolate Walnut Brownie                8\n",
      "                                   Honey Mustard sauce                8\n",
      "                   Fried Chicken Boneless Bites - 6pcs                8\n",
      "                                              Red Rice                7\n",
      "               Malvani Boneless Grilled Chicken Breast                7\n",
      "                           Dirty Grilled Paneer Burger                7\n",
      "                                      Grlld Vegetables                7\n",
      "                       Grilled Chicken Angara Tender .                7\n",
      "                         Fried Chicken Angara Tender .                7\n",
      "                          AAC Grilled Chicken Burger .                7\n",
      "                            Fried Chicken Beast Burger                6\n",
      "                                     Desi Masala Fries                6\n",
      "                                AAC Signature Krispers                6\n",
      "                    Grilled Chicken Smoky BBQ Tender .                5\n",
      "                           Korean Fried Chicken Burger                5\n",
      "                                 Fried Mushroom Burger                5\n",
      "                     Grilled Chicken Jamaican Tender .                5\n",
      "                          Chilli Cheese Garlic Bread .                4\n",
      "                      Bone in Angara Grilled Chicken .                4\n",
      "                         Butter Chicken Grilled Burger                4\n",
      "                         Fried Chicken Kabuli Tender .                4\n",
      "                            Fried Chicken Dirty Burger                4\n",
      "                                            Chicken 69                4\n",
      "                            Fried Paneer Angara Slider                4\n",
      "                                 Combo for 2 - Non Veg                4\n",
      "                                        Grlld Potatoes                4\n",
      "          Carribean Jerk Grilled Chicken Tangdi (4pcs)                4\n",
      "                    Chicken 65 Grilled Chicken Quarter                4\n",
      "                          Grilled Paneer Angara Slider                3\n",
      "               Peri Peri Grilled Chicken Tangdi (4pcs)                3\n",
      "                     Fried Chicken Bites (Bone) - 4pcs                3\n",
      "                                             Cous Cous                3\n",
      "                               Jamaican Chicken Melt .                3\n",
      "                          Mutton Smashed Double Burger                3\n",
      "                                      Bageecha Pizza .                3\n",
      "                    Grilled Chicken Peri Peri Tender .                3\n",
      "                              Peri Peri Crispers Fries                2\n",
      "                         Chicken Smashed Double Burger                2\n",
      "                                         Peri Peri dip                2\n",
      "                                      Og Cheese Burger                2\n",
      "               Smoky BBQ Grilled Chicken Tangdi (4pcs)                2\n",
      "                            Desi Masala Crispers Fries                2\n",
      "                           Very Peri Tenderloin Burger                2\n",
      "                                           Combo For 1                2\n",
      "                      Tenderloin Smashed Double Burger                2\n",
      "                     Dirty Indian Masala Crisper Fries                2\n",
      "                           Korean Fried Chicken Slider                2\n",
      "                                       Mint Mayonnaise                2\n",
      "                  Angara Grilled Chicken Tangdi (4pcs)                2\n",
      "                                Makhani Paneer Pizza .                2\n",
      "                   Grilled Chicken Double Dirty Burger                2\n",
      "                                             BC Burger                2\n",
      "                                   Bangin' Soya Burger                2\n",
      "                                         Smoky BBQ dip                2\n",
      "                                    Carribean Jerk dip                2\n",
      "                                   Atomic Veg Burger .                2\n",
      "              Chicken 65 Grilled Chicken Tangdi (4pcs)                2\n",
      "                             Chicken Smashed Burgers .                2\n",
      "                                     Dirty Indian Slaw                2\n",
      "                        Grilled Chicken Dirty Burger .                2\n",
      "                        Angara Grilled Chicken Quarter                2\n",
      "                               Grilled Paneer Burger .                2\n",
      "                       Malvani Grilled Chicken Quarter                2\n",
      "                     Smoky BBQ Grilled Chicken Quarter                2\n",
      "                          Fire Alarm Tenderloin Burger                1\n",
      "                           Fried Chicken Tangdi - 4pcs                1\n",
      "                Fried Chicken 65 Masala Boneless Bites                1\n",
      "                                  Malvani Paneer Steak                1\n",
      "                                    Dirty Masala Fries                1\n",
      "             Fried Chicken Desi Peri Peri Bites (Bone)                1\n",
      "                           Fried Chicken Angara Slider                1\n",
      "                                     Combo for 2 - Veg                1\n",
      "                                     Combo for 4 - Veg                1\n",
      "                                      Ooh Masala Fries                1\n",
      "                                      OG Cheese Burger                1\n",
      "                         Grilled Paneer Afghani Slider                1\n",
      "                  Fried Chicken Boneless Bites - 10pcs                1\n",
      "                                    Raw Peach Iced Tea                1\n",
      "                                     Peri Peri Ketchup                1\n",
      "                     Fried Chicken Bites (Bone) - 8pcs                1\n",
      "                 Malvani Grilled Chicken Tangdi (4pcs)                1\n",
      "                              Dirty Indian Soya Chunks                1\n",
      "                              Raw Mint Mojito Iced Tea                1\n",
      "                   Signature Smashed Tenderloin Burger                1\n",
      "                     Peri Peri Grilled Chicken Quarter                1\n",
      "                    Dirty Saucy Chicken Loaded Fries .                1\n",
      "                Classic Bacon Melt Tenderloin Burger .                1\n",
      "                                 Fried Paneer Burger .                1\n",
      "                                Paneer 65 Paneer Steak                1\n",
      "                                   Angara Paneer Steak                1\n",
      "                             Grilled Chicken 69 Burger                1\n",
      "                       Grilled Chicken Jamaican Slider                1\n"
     ]
    }
   ],
   "source": [
    "import matplotlib.pyplot as plt\n",
    "\n",
    "# --- Step 3: Count frequencies ---\n",
    "item_counts = pd.Series(all_items).value_counts().reset_index()\n",
    "item_counts.columns = [\"Item\", \"Order Frequency\"]\n",
    "\n",
    "# --- Step 4: Print the full list sorted by frequency ---\n",
    "print(\"=== Full Item Order Frequency List ===\\n\")\n",
    "print(item_counts.to_string(index=False))"
   ]
  },
  {
   "cell_type": "code",
   "execution_count": 53,
   "id": "9319634d",
   "metadata": {},
   "outputs": [
    {
     "data": {
      "image/png": "[encoded data removed]",
      "text/plain": [
       "<Figure size 1000x600 with 1 Axes>"
      ]
     },
     "metadata": {},
     "output_type": "display_data"
    }
   ],
   "source": [
    "# --- Step 5: Plot top 20 items ---\n",
    "plt.figure(figsize=(10,6))\n",
    "plt.barh(item_counts[\"Item\"].head(20)[::-1], item_counts[\"Order Frequency\"].head(20)[::-1])\n",
    "plt.title(\"Top 20 Most Popular Dishes\")\n",
    "plt.xlabel(\"Order Frequency\")\n",
    "plt.ylabel(\"Dish Name\")\n",
    "plt.tight_layout()\n",
    "plt.show()"
   ]
  },
  {
   "cell_type": "code",
   "execution_count": 4,
   "id": "c73510f3",
   "metadata": {},
   "outputs": [
    {
     "data": {
      "text/plain": [
       "Index(['Restaurant ID', 'Restaurant name', 'Subzone', 'City', 'Order ID',\n",
       "       'Order Placed At', 'Order Status', 'Delivery', 'Distance',\n",
       "       'Items in order', 'Instructions', 'Discount construct', 'Bill subtotal',\n",
       "       'Packaging charges', 'Restaurant discount (Promo)',\n",
       "       'Restaurant discount (Flat offs, Freebies & others)', 'Gold discount',\n",
       "       'Brand pack discount', 'Total', 'Rating', 'Review',\n",
       "       'Cancellation / Rejection reason',\n",
       "       'Restaurant compensation (Cancellation)',\n",
       "       'Restaurant penalty (Rejection)', 'KPT duration (minutes)',\n",
       "       'Rider wait time (minutes)', 'Order Ready Marked',\n",
       "       'Customer complaint tag', 'Customer ID'],\n",
       "      dtype='object')"
      ]
     },
     "execution_count": 4,
     "metadata": {},
     "output_type": "execute_result"
    }
   ],
   "source": [
    "df.columns"
   ]
  },
  {
   "cell_type": "code",
   "execution_count": 5,
   "id": "ec83a856",
   "metadata": {},
   "outputs": [
    {
     "name": "stdout",
     "output_type": "stream",
     "text": [
      "<class 'pandas.core.frame.DataFrame'>\n",
      "RangeIndex: 21321 entries, 0 to 21320\n",
      "Data columns (total 29 columns):\n",
      " #   Column                                              Non-Null Count  Dtype  \n",
      "---  ------                                              --------------  -----  \n",
      " 0   Restaurant ID                                       21321 non-null  int64  \n",
      " 1   Restaurant name                                     21321 non-null  object \n",
      " 2   Subzone                                             21321 non-null  object \n",
      " 3   City                                                21321 non-null  object \n",
      " 4   Order ID                                            21321 non-null  int64  \n",
      " 5   Order Placed At                                     21321 non-null  object \n",
      " 6   Order Status                                        21321 non-null  object \n",
      " 7   Delivery                                            21321 non-null  object \n",
      " 8   Distance                                            21321 non-null  object \n",
      " 9   Items in order                                      21321 non-null  object \n",
      " 10  Instructions                                        720 non-null    object \n",
      " 11  Discount construct                                  15823 non-null  object \n",
      " 12  Bill subtotal                                       21321 non-null  float64\n",
      " 13  Packaging charges                                   21321 non-null  float64\n",
      " 14  Restaurant discount (Promo)                         21321 non-null  float64\n",
      " 15  Restaurant discount (Flat offs, Freebies & others)  21321 non-null  float64\n",
      " 16  Gold discount                                       21321 non-null  float64\n",
      " 17  Brand pack discount                                 21321 non-null  float64\n",
      " 18  Total                                               21321 non-null  float64\n",
      " 19  Rating                                              2491 non-null   float64\n",
      " 20  Review                                              296 non-null    object \n",
      " 21  Cancellation / Rejection reason                     186 non-null    object \n",
      " 22  Restaurant compensation (Cancellation)              133 non-null    float64\n",
      " 23  Restaurant penalty (Rejection)                      3 non-null      float64\n",
      " 24  KPT duration (minutes)                              21026 non-null  float64\n",
      " 25  Rider wait time (minutes)                           21153 non-null  float64\n",
      " 26  Order Ready Marked                                  21321 non-null  object \n",
      " 27  Customer complaint tag                              469 non-null    object \n",
      " 28  Customer ID                                         21321 non-null  object \n",
      "dtypes: float64(12), int64(2), object(15)\n",
      "memory usage: 4.7+ MB\n"
     ]
    }
   ],
   "source": [
    "df.info()"
   ]
  },
  {
   "cell_type": "code",
   "execution_count": 55,
   "id": "4e451347",
   "metadata": {},
   "outputs": [
    {
     "data": {
      "text/plain": [
       "19114"
      ]
     },
     "execution_count": 55,
     "metadata": {},
     "output_type": "execute_result"
    }
   ],
   "source": [
    "# get all unique day from order date\n",
    "df[\"Order Placed At\"].nunique()"
   ]
  },
  {
   "cell_type": "code",
   "execution_count": 6,
   "id": "cfc8b3b0",
   "metadata": {},
   "outputs": [
    {
     "data": {
      "text/plain": [
       "Subzone\n",
       "Greater Kailash 2 (GK2)    7380\n",
       "Sector 4                   6530\n",
       "DLF Phase 1                3686\n",
       "Sector 135                 2442\n",
       "Vasant Kunj                 920\n",
       "Shahdara                    360\n",
       "Chittaranjan Park             2\n",
       "Sikandarpur                   1\n",
       "Name: count, dtype: int64"
      ]
     },
     "execution_count": 6,
     "metadata": {},
     "output_type": "execute_result"
    }
   ],
   "source": [
    "df[\"Subzone\"].value_counts()"
   ]
  },
  {
   "cell_type": "code",
   "execution_count": 7,
   "id": "1c9a0f14",
   "metadata": {},
   "outputs": [
    {
     "data": {
      "text/plain": [
       "Restaurant name\n",
       "Aura Pizzas             14548\n",
       "Swaad                    6332\n",
       "Dilli Burger Adda         227\n",
       "Tandoori Junction         154\n",
       "The Chicken Junction       32\n",
       "Masala Junction            28\n",
       "Name: count, dtype: int64"
      ]
     },
     "execution_count": 7,
     "metadata": {},
     "output_type": "execute_result"
    }
   ],
   "source": [
    "df[\"Restaurant name\"].value_counts()\n"
   ]
  },
  {
   "cell_type": "code",
   "execution_count": 8,
   "id": "f5501fca",
   "metadata": {},
   "outputs": [],
   "source": [
    "# Convert \"Order Placed At\" to datetime\n",
    "df[\"Order_Datetime\"] = pd.to_datetime(df[\"Order Placed At\"], format=\"%I:%M %p, %B %d %Y\")\n"
   ]
  },
  {
   "cell_type": "code",
   "execution_count": 9,
   "id": "bd0a83d1",
   "metadata": {},
   "outputs": [
    {
     "data": {
      "text/plain": [
       "(array(['Delhi NCR'], dtype=object),\n",
       " array(['Sector 4', 'Greater Kailash 2 (GK2)', 'DLF Phase 1', 'Sector 135',\n",
       "        'Vasant Kunj', 'Shahdara', 'Sikandarpur', 'Chittaranjan Park'],\n",
       "       dtype=object))"
      ]
     },
     "execution_count": 9,
     "metadata": {},
     "output_type": "execute_result"
    }
   ],
   "source": [
    "# Get unique values in city and subzone\n",
    "unique_cities = df[\"City\"].unique()\n",
    "unique_subzones = df[\"Subzone\"].unique()\n",
    "unique_cities, unique_subzones"
   ]
  },
  {
   "cell_type": "code",
   "execution_count": 10,
   "id": "941031e0",
   "metadata": {},
   "outputs": [
    {
     "name": "stderr",
     "output_type": "stream",
     "text": [
      "/var/folders/8h/9yyjtp8d7_zb27yf8xrdgxcr0000gn/T/ipykernel_72702/1976887965.py:56: DeprecationWarning:\n",
      "\n",
      "*scattermapbox* is deprecated! Use *scattermap* instead. Learn more at: https://plotly.com/python/mapbox-to-maplibre/\n",
      "\n",
      "/var/folders/8h/9yyjtp8d7_zb27yf8xrdgxcr0000gn/T/ipykernel_72702/1976887965.py:71: DeprecationWarning:\n",
      "\n",
      "*scattermapbox* is deprecated! Use *scattermap* instead. Learn more at: https://plotly.com/python/mapbox-to-maplibre/\n",
      "\n",
      "/var/folders/8h/9yyjtp8d7_zb27yf8xrdgxcr0000gn/T/ipykernel_72702/1976887965.py:85: DeprecationWarning:\n",
      "\n",
      "*scattermapbox* is deprecated! Use *scattermap* instead. Learn more at: https://plotly.com/python/mapbox-to-maplibre/\n",
      "\n"
     ]
    },
    {
     "data": {
      "application/vnd.plotly.v1+json": {
       "config": {
        "plotlyServerURL": "https://plot.ly"
       },
       "data": [
        {
         "hovertemplate": "Aura Pizzas<br>Avg dist: 4.35 km<br>Max dist: 21.00 km",
         "lat": [
          28.5866
         ],
         "lon": [
          77.223
         ],
         "marker": {
          "color": "blue",
          "size": 10
         },
         "mode": "markers",
         "name": "Aura Pizzas",
         "type": "scattermapbox"
        },
        {
         "lat": [
          28.5866
         ],
         "lon": [
          77.223
         ],
         "marker": {
          "color": "orange",
          "opacity": 0.2,
          "size": 43.478416277151496
         },
         "mode": "markers",
         "name": "Aura Pizzas Avg Distance",
         "showlegend": false,
         "type": "scattermapbox"
        },
        {
         "lat": [
          28.5866
         ],
         "lon": [
          77.223
         ],
         "marker": {
          "color": "red",
          "opacity": 0.2,
          "size": 210
         },
         "mode": "markers",
         "name": "Aura Pizzas Max Distance",
         "showlegend": false,
         "type": "scattermapbox"
        },
        {
         "hovertemplate": "Dilli Burger Adda<br>Avg dist: 3.16 km<br>Max dist: 14.00 km",
         "lat": [
          28.662
         ],
         "lon": [
          77.2365
         ],
         "marker": {
          "color": "blue",
          "size": 10
         },
         "mode": "markers",
         "name": "Dilli Burger Adda",
         "type": "scattermapbox"
        },
        {
         "lat": [
          28.662
         ],
         "lon": [
          77.2365
         ],
         "marker": {
          "color": "orange",
          "opacity": 0.2,
          "size": 31.61674008810573
         },
         "mode": "markers",
         "name": "Dilli Burger Adda Avg Distance",
         "showlegend": false,
         "type": "scattermapbox"
        },
        {
         "lat": [
          28.662
         ],
         "lon": [
          77.2365
         ],
         "marker": {
          "color": "red",
          "opacity": 0.2,
          "size": 140
         },
         "mode": "markers",
         "name": "Dilli Burger Adda Max Distance",
         "showlegend": false,
         "type": "scattermapbox"
        },
        {
         "hovertemplate": "Masala Junction<br>Avg dist: 9.46 km<br>Max dist: 16.00 km",
         "lat": [
          28.5309
         ],
         "lon": [
          77.1466
         ],
         "marker": {
          "color": "blue",
          "size": 10
         },
         "mode": "markers",
         "name": "Masala Junction",
         "type": "scattermapbox"
        },
        {
         "lat": [
          28.5309
         ],
         "lon": [
          77.1466
         ],
         "marker": {
          "color": "orange",
          "opacity": 0.2,
          "size": 94.64285714285714
         },
         "mode": "markers",
         "name": "Masala Junction Avg Distance",
         "showlegend": false,
         "type": "scattermapbox"
        },
        {
         "lat": [
          28.5309
         ],
         "lon": [
          77.1466
         ],
         "marker": {
          "color": "red",
          "opacity": 0.2,
          "size": 160
         },
         "mode": "markers",
         "name": "Masala Junction Max Distance",
         "showlegend": false,
         "type": "scattermapbox"
        },
        {
         "hovertemplate": "Swaad<br>Avg dist: 3.75 km<br>Max dist: 19.00 km",
         "lat": [
          28.5734
         ],
         "lon": [
          77.2581
         ],
         "marker": {
          "color": "blue",
          "size": 10
         },
         "mode": "markers",
         "name": "Swaad",
         "type": "scattermapbox"
        },
        {
         "lat": [
          28.5734
         ],
         "lon": [
          77.2581
         ],
         "marker": {
          "color": "orange",
          "opacity": 0.2,
          "size": 37.47030953885029
         },
         "mode": "markers",
         "name": "Swaad Avg Distance",
         "showlegend": false,
         "type": "scattermapbox"
        },
        {
         "lat": [
          28.5734
         ],
         "lon": [
          77.2581
         ],
         "marker": {
          "color": "red",
          "opacity": 0.2,
          "size": 190
         },
         "mode": "markers",
         "name": "Swaad Max Distance",
         "showlegend": false,
         "type": "scattermapbox"
        },
        {
         "hovertemplate": "Tandoori Junction<br>Avg dist: 5.61 km<br>Max dist: 18.00 km",
         "lat": [
          28.6098
         ],
         "lon": [
          77.0923
         ],
         "marker": {
          "color": "blue",
          "size": 10
         },
         "mode": "markers",
         "name": "Tandoori Junction",
         "type": "scattermapbox"
        },
        {
         "lat": [
          28.6098
         ],
         "lon": [
          77.0923
         ],
         "marker": {
          "color": "orange",
          "opacity": 0.2,
          "size": 56.090909090909086
         },
         "mode": "markers",
         "name": "Tandoori Junction Avg Distance",
         "showlegend": false,
         "type": "scattermapbox"
        },
        {
         "lat": [
          28.6098
         ],
         "lon": [
          77.0923
         ],
         "marker": {
          "color": "red",
          "opacity": 0.2,
          "size": 180
         },
         "mode": "markers",
         "name": "Tandoori Junction Max Distance",
         "showlegend": false,
         "type": "scattermapbox"
        },
        {
         "hovertemplate": "The Chicken Junction<br>Avg dist: 9.06 km<br>Max dist: 16.00 km",
         "lat": [
          28.6412
         ],
         "lon": [
          77.2163
         ],
         "marker": {
          "color": "blue",
          "size": 10
         },
         "mode": "markers",
         "name": "The Chicken Junction",
         "type": "scattermapbox"
        },
        {
         "lat": [
          28.6412
         ],
         "lon": [
          77.2163
         ],
         "marker": {
          "color": "orange",
          "opacity": 0.2,
          "size": 90.625
         },
         "mode": "markers",
         "name": "The Chicken Junction Avg Distance",
         "showlegend": false,
         "type": "scattermapbox"
        },
        {
         "lat": [
          28.6412
         ],
         "lon": [
          77.2163
         ],
         "marker": {
          "color": "red",
          "opacity": 0.2,
          "size": 160
         },
         "mode": "markers",
         "name": "The Chicken Junction Max Distance",
         "showlegend": false,
         "type": "scattermapbox"
        },
        {
         "lat": {
          "bdata": "AAAAAAAA+H8v3SQGgXU8QHuDL0ymijxAUrgeheuRPEDXo3A9Cpc8QAAAAAAAAPh/AAAAAAAA+H9I4XoUroc8QA==",
          "dtype": "f8"
         },
         "lon": {
          "bdata": "AAAAAAAA+H9SuB6F60FTQEGC4seYT1NA16NwPQpXU0CamZmZmVlTQAAAAAAAAPh/AAAAAAAA+H+amZmZmUlTQA==",
          "dtype": "f8"
         },
         "marker": {
          "color": "red",
          "size": {
           "bdata": "AgBmDtQcigmCGWgBAQCYAw==",
           "dtype": "i2"
          },
          "sizemode": "area"
         },
         "mode": "markers",
         "name": "Orders per Subzone",
         "text": [
          "Chittaranjan Park: 2 orders",
          "DLF Phase 1: 3686 orders",
          "Greater Kailash 2 (GK2): 7380 orders",
          "Sector 135: 2442 orders",
          "Sector 4: 6530 orders",
          "Shahdara: 360 orders",
          "Sikandarpur: 1 orders",
          "Vasant Kunj: 920 orders"
         ],
         "type": "scattermapbox"
        }
       ],
       "layout": {
        "mapbox": {
         "center": {
          "lat": 28.6139,
          "lon": 77.209
         },
         "style": "open-street-map",
         "zoom": 11
        },
        "margin": {
         "b": 0,
         "l": 0,
         "r": 0,
         "t": 0
        },
        "template": {
         "data": {
          "bar": [
           {
            "error_x": {
             "color": "#2a3f5f"
            },
            "error_y": {
             "color": "#2a3f5f"
            },
            "marker": {
             "line": {
              "color": "#E5ECF6",
              "width": 0.5
             },
             "pattern": {
              "fillmode": "overlay",
              "size": 10,
              "solidity": 0.2
             }
            },
            "type": "bar"
           }
          ],
          "barpolar": [
           {
            "marker": {
             "line": {
              "color": "#E5ECF6",
              "width": 0.5
             },
             "pattern": {
              "fillmode": "overlay",
              "size": 10,
              "solidity": 0.2
             }
            },
            "type": "barpolar"
           }
          ],
          "carpet": [
           {
            "aaxis": {
             "endlinecolor": "#2a3f5f",
             "gridcolor": "white",
             "linecolor": "white",
             "minorgridcolor": "white",
             "startlinecolor": "#2a3f5f"
            },
            "baxis": {
             "endlinecolor": "#2a3f5f",
             "gridcolor": "white",
             "linecolor": "white",
             "minorgridcolor": "white",
             "startlinecolor": "#2a3f5f"
            },
            "type": "carpet"
           }
          ],
          "choropleth": [
           {
            "colorbar": {
             "outlinewidth": 0,
             "ticks": ""
            },
            "type": "choropleth"
           }
          ],
          "contour": [
           {
            "colorbar": {
             "outlinewidth": 0,
             "ticks": ""
            },
            "colorscale": [
             [
              0,
              "#0d0887"
             ],
             [
              0.1111111111111111,
              "#46039f"
             ],
             [
              0.2222222222222222,
              "#7201a8"
             ],
             [
              0.3333333333333333,
              "#9c179e"
             ],
             [
              0.4444444444444444,
              "#bd3786"
             ],
             [
              0.5555555555555556,
              "#d8576b"
             ],
             [
              0.6666666666666666,
              "#ed7953"
             ],
             [
              0.7777777777777778,
              "#fb9f3a"
             ],
             [
              0.8888888888888888,
              "#fdca26"
             ],
             [
              1,
              "#f0f921"
             ]
            ],
            "type": "contour"
           }
          ],
          "contourcarpet": [
           {
            "colorbar": {
             "outlinewidth": 0,
             "ticks": ""
            },
            "type": "contourcarpet"
           }
          ],
          "heatmap": [
           {
            "colorbar": {
             "outlinewidth": 0,
             "ticks": ""
            },
            "colorscale": [
             [
              0,
              "#0d0887"
             ],
             [
              0.1111111111111111,
              "#46039f"
             ],
             [
              0.2222222222222222,
              "#7201a8"
             ],
             [
              0.3333333333333333,
              "#9c179e"
             ],
             [
              0.4444444444444444,
              "#bd3786"
             ],
             [
              0.5555555555555556,
              "#d8576b"
             ],
             [
              0.6666666666666666,
              "#ed7953"
             ],
             [
              0.7777777777777778,
              "#fb9f3a"
             ],
             [
              0.8888888888888888,
              "#fdca26"
             ],
             [
              1,
              "#f0f921"
             ]
            ],
            "type": "heatmap"
           }
          ],
          "histogram": [
           {
            "marker": {
             "pattern": {
              "fillmode": "overlay",
              "size": 10,
              "solidity": 0.2
             }
            },
            "type": "histogram"
           }
          ],
          "histogram2d": [
           {
            "colorbar": {
             "outlinewidth": 0,
             "ticks": ""
            },
            "colorscale": [
             [
              0,
              "#0d0887"
             ],
             [
              0.1111111111111111,
              "#46039f"
             ],
             [
              0.2222222222222222,
              "#7201a8"
             ],
             [
              0.3333333333333333,
              "#9c179e"
             ],
             [
              0.4444444444444444,
              "#bd3786"
             ],
             [
              0.5555555555555556,
              "#d8576b"
             ],
             [
              0.6666666666666666,
              "#ed7953"
             ],
             [
              0.7777777777777778,
              "#fb9f3a"
             ],
             [
              0.8888888888888888,
              "#fdca26"
             ],
             [
              1,
              "#f0f921"
             ]
            ],
            "type": "histogram2d"
           }
          ],
          "histogram2dcontour": [
           {
            "colorbar": {
             "outlinewidth": 0,
             "ticks": ""
            },
            "colorscale": [
             [
              0,
              "#0d0887"
             ],
             [
              0.1111111111111111,
              "#46039f"
             ],
             [
              0.2222222222222222,
              "#7201a8"
             ],
             [
              0.3333333333333333,
              "#9c179e"
             ],
             [
              0.4444444444444444,
              "#bd3786"
             ],
             [
              0.5555555555555556,
              "#d8576b"
             ],
             [
              0.6666666666666666,
              "#ed7953"
             ],
             [
              0.7777777777777778,
              "#fb9f3a"
             ],
             [
              0.8888888888888888,
              "#fdca26"
             ],
             [
              1,
              "#f0f921"
             ]
            ],
            "type": "histogram2dcontour"
           }
          ],
          "mesh3d": [
           {
            "colorbar": {
             "outlinewidth": 0,
             "ticks": ""
            },
            "type": "mesh3d"
           }
          ],
          "parcoords": [
           {
            "line": {
             "colorbar": {
              "outlinewidth": 0,
              "ticks": ""
             }
            },
            "type": "parcoords"
           }
          ],
          "pie": [
           {
            "automargin": true,
            "type": "pie"
           }
          ],
          "scatter": [
           {
            "fillpattern": {
             "fillmode": "overlay",
             "size": 10,
             "solidity": 0.2
            },
            "type": "scatter"
           }
          ],
          "scatter3d": [
           {
            "line": {
             "colorbar": {
              "outlinewidth": 0,
              "ticks": ""
             }
            },
            "marker": {
             "colorbar": {
              "outlinewidth": 0,
              "ticks": ""
             }
            },
            "type": "scatter3d"
           }
          ],
          "scattercarpet": [
           {
            "marker": {
             "colorbar": {
              "outlinewidth": 0,
              "ticks": ""
             }
            },
            "type": "scattercarpet"
           }
          ],
          "scattergeo": [
           {
            "marker": {
             "colorbar": {
              "outlinewidth": 0,
              "ticks": ""
             }
            },
            "type": "scattergeo"
           }
          ],
          "scattergl": [
           {
            "marker": {
             "colorbar": {
              "outlinewidth": 0,
              "ticks": ""
             }
            },
            "type": "scattergl"
           }
          ],
          "scattermap": [
           {
            "marker": {
             "colorbar": {
              "outlinewidth": 0,
              "ticks": ""
             }
            },
            "type": "scattermap"
           }
          ],
          "scattermapbox": [
           {
            "marker": {
             "colorbar": {
              "outlinewidth": 0,
              "ticks": ""
             }
            },
            "type": "scattermapbox"
           }
          ],
          "scatterpolar": [
           {
            "marker": {
             "colorbar": {
              "outlinewidth": 0,
              "ticks": ""
             }
            },
            "type": "scatterpolar"
           }
          ],
          "scatterpolargl": [
           {
            "marker": {
             "colorbar": {
              "outlinewidth": 0,
              "ticks": ""
             }
            },
            "type": "scatterpolargl"
           }
          ],
          "scatterternary": [
           {
            "marker": {
             "colorbar": {
              "outlinewidth": 0,
              "ticks": ""
             }
            },
            "type": "scatterternary"
           }
          ],
          "surface": [
           {
            "colorbar": {
             "outlinewidth": 0,
             "ticks": ""
            },
            "colorscale": [
             [
              0,
              "#0d0887"
             ],
             [
              0.1111111111111111,
              "#46039f"
             ],
             [
              0.2222222222222222,
              "#7201a8"
             ],
             [
              0.3333333333333333,
              "#9c179e"
             ],
             [
              0.4444444444444444,
              "#bd3786"
             ],
             [
              0.5555555555555556,
              "#d8576b"
             ],
             [
              0.6666666666666666,
              "#ed7953"
             ],
             [
              0.7777777777777778,
              "#fb9f3a"
             ],
             [
              0.8888888888888888,
              "#fdca26"
             ],
             [
              1,
              "#f0f921"
             ]
            ],
            "type": "surface"
           }
          ],
          "table": [
           {
            "cells": {
             "fill": {
              "color": "#EBF0F8"
             },
             "line": {
              "color": "white"
             }
            },
            "header": {
             "fill": {
              "color": "#C8D4E3"
             },
             "line": {
              "color": "white"
             }
            },
            "type": "table"
           }
          ]
         },
         "layout": {
          "annotationdefaults": {
           "arrowcolor": "#2a3f5f",
           "arrowhead": 0,
           "arrowwidth": 1
          },
          "autotypenumbers": "strict",
          "coloraxis": {
           "colorbar": {
            "outlinewidth": 0,
            "ticks": ""
           }
          },
          "colorscale": {
           "diverging": [
            [
             0,
             "#8e0152"
            ],
            [
             0.1,
             "#c51b7d"
            ],
            [
             0.2,
             "#de77ae"
            ],
            [
             0.3,
             "#f1b6da"
            ],
            [
             0.4,
             "#fde0ef"
            ],
            [
             0.5,
             "#f7f7f7"
            ],
            [
             0.6,
             "#e6f5d0"
            ],
            [
             0.7,
             "#b8e186"
            ],
            [
             0.8,
             "#7fbc41"
            ],
            [
             0.9,
             "#4d9221"
            ],
            [
             1,
             "#276419"
            ]
           ],
           "sequential": [
            [
             0,
             "#0d0887"
            ],
            [
             0.1111111111111111,
             "#46039f"
            ],
            [
             0.2222222222222222,
             "#7201a8"
            ],
            [
             0.3333333333333333,
             "#9c179e"
            ],
            [
             0.4444444444444444,
             "#bd3786"
            ],
            [
             0.5555555555555556,
             "#d8576b"
            ],
            [
             0.6666666666666666,
             "#ed7953"
            ],
            [
             0.7777777777777778,
             "#fb9f3a"
            ],
            [
             0.8888888888888888,
             "#fdca26"
            ],
            [
             1,
             "#f0f921"
            ]
           ],
           "sequentialminus": [
            [
             0,
             "#0d0887"
            ],
            [
             0.1111111111111111,
             "#46039f"
            ],
            [
             0.2222222222222222,
             "#7201a8"
            ],
            [
             0.3333333333333333,
             "#9c179e"
            ],
            [
             0.4444444444444444,
             "#bd3786"
            ],
            [
             0.5555555555555556,
             "#d8576b"
            ],
            [
             0.6666666666666666,
             "#ed7953"
            ],
            [
             0.7777777777777778,
             "#fb9f3a"
            ],
            [
             0.8888888888888888,
             "#fdca26"
            ],
            [
             1,
             "#f0f921"
            ]
           ]
          },
          "colorway": [
           "#636efa",
           "#EF553B",
           "#00cc96",
           "#ab63fa",
           "#FFA15A",
           "#19d3f3",
           "#FF6692",
           "#B6E880",
           "#FF97FF",
           "#FECB52"
          ],
          "font": {
           "color": "#2a3f5f"
          },
          "geo": {
           "bgcolor": "white",
           "lakecolor": "white",
           "landcolor": "#E5ECF6",
           "showlakes": true,
           "showland": true,
           "subunitcolor": "white"
          },
          "hoverlabel": {
           "align": "left"
          },
          "hovermode": "closest",
          "mapbox": {
           "style": "light"
          },
          "paper_bgcolor": "white",
          "plot_bgcolor": "#E5ECF6",
          "polar": {
           "angularaxis": {
            "gridcolor": "white",
            "linecolor": "white",
            "ticks": ""
           },
           "bgcolor": "#E5ECF6",
           "radialaxis": {
            "gridcolor": "white",
            "linecolor": "white",
            "ticks": ""
           }
          },
          "scene": {
           "xaxis": {
            "backgroundcolor": "#E5ECF6",
            "gridcolor": "white",
            "gridwidth": 2,
            "linecolor": "white",
            "showbackground": true,
            "ticks": "",
            "zerolinecolor": "white"
           },
           "yaxis": {
            "backgroundcolor": "#E5ECF6",
            "gridcolor": "white",
            "gridwidth": 2,
            "linecolor": "white",
            "showbackground": true,
            "ticks": "",
            "zerolinecolor": "white"
           },
           "zaxis": {
            "backgroundcolor": "#E5ECF6",
            "gridcolor": "white",
            "gridwidth": 2,
            "linecolor": "white",
            "showbackground": true,
            "ticks": "",
            "zerolinecolor": "white"
           }
          },
          "shapedefaults": {
           "line": {
            "color": "#2a3f5f"
           }
          },
          "ternary": {
           "aaxis": {
            "gridcolor": "white",
            "linecolor": "white",
            "ticks": ""
           },
           "baxis": {
            "gridcolor": "white",
            "linecolor": "white",
            "ticks": ""
           },
           "bgcolor": "#E5ECF6",
           "caxis": {
            "gridcolor": "white",
            "linecolor": "white",
            "ticks": ""
           }
          },
          "title": {
           "x": 0.05
          },
          "xaxis": {
           "automargin": true,
           "gridcolor": "white",
           "linecolor": "white",
           "ticks": "",
           "title": {
            "standoff": 15
           },
           "zerolinecolor": "white",
           "zerolinewidth": 2
          },
          "yaxis": {
           "automargin": true,
           "gridcolor": "white",
           "linecolor": "white",
           "ticks": "",
           "title": {
            "standoff": 15
           },
           "zerolinecolor": "white",
           "zerolinewidth": 2
          }
         }
        }
       }
      }
     },
     "metadata": {},
     "output_type": "display_data"
    }
   ],
   "source": [
    "import numpy as np\n",
    "import plotly.graph_objects as go\n",
    "\n",
    "# Step 1: Restaurant coordinates (approximate)\n",
    "restaurant_coords = {\n",
    "    \"Aura Pizzas\": [28.5866, 77.2230],\n",
    "    \"Swaad\": [28.5734, 77.2581],\n",
    "    \"Dilli Burger Adda\": [28.6620, 77.2365],\n",
    "    \"Tandoori Junction\": [28.6098, 77.0923],\n",
    "    \"The Chicken Junction\": [28.6412, 77.2163],\n",
    "    \"Masala Junction\": [28.5309, 77.1466]\n",
    "}\n",
    "\n",
    "# Map lat/lon to df\n",
    "df['rest_lat'] = df['Restaurant name'].map(lambda x: restaurant_coords.get(x, [None, None])[0])\n",
    "df['rest_lon'] = df['Restaurant name'].map(lambda x: restaurant_coords.get(x, [None, None])[1])\n",
    "\n",
    "# Step 2: Convert Distance to float, handle <1 as 0.9\n",
    "def clean_distance(d):\n",
    "    if pd.isna(d):\n",
    "        return np.nan\n",
    "    d = d.replace('km','').strip()\n",
    "    if d.startswith('<'):\n",
    "        return 0.9  # assign 0.9 km for \"<1\"\n",
    "    try:\n",
    "        return float(d)\n",
    "    except:\n",
    "        return np.nan\n",
    "\n",
    "df['Distance_km'] = df['Distance'].apply(clean_distance)\n",
    "\n",
    "# Step 3: Aggregate average and max distances per restaurant\n",
    "dist_stats = df.groupby('Restaurant name')['Distance_km'].agg(['mean','max']).reset_index()\n",
    "\n",
    "# Step 4: Aggregate order counts per Subzone\n",
    "orders_per_subzone = df.groupby('Subzone').size().reset_index(name='Orders')\n",
    "\n",
    "# Approximate subzone centers\n",
    "subzone_coords = {\n",
    "    'Greater Kailash 2 (GK2)': [28.5416, 77.2437],\n",
    "    'Sector 4': [28.5900, 77.4000],\n",
    "    'DLF Phase 1': [28.4590, 77.0300],\n",
    "    'Sector 135': [28.5700, 77.3600],\n",
    "    'Vasant Kunj': [28.5300, 77.1500]\n",
    "}\n",
    "orders_per_subzone['lat'] = orders_per_subzone['Subzone'].map(lambda x: subzone_coords.get(x, [None, None])[0])\n",
    "orders_per_subzone['lon'] = orders_per_subzone['Subzone'].map(lambda x: subzone_coords.get(x, [None, None])[1])\n",
    "\n",
    "# Step 5: Create map\n",
    "fig = go.Figure()\n",
    "\n",
    "# Add restaurants\n",
    "for _, row in dist_stats.iterrows():\n",
    "    rest_name = row['Restaurant name']\n",
    "    lat, lon = restaurant_coords[rest_name]\n",
    "    fig.add_trace(go.Scattermapbox(\n",
    "        lat=[lat],\n",
    "        lon=[lon],\n",
    "        mode='markers',\n",
    "        marker=go.scattermapbox.Marker(size=10, color='blue'),\n",
    "        name=rest_name,\n",
    "        hovertemplate=(\n",
    "            f\"{rest_name}<br>\"\n",
    "            f\"Avg dist: {row['mean']:.2f} km<br>\"\n",
    "            f\"Max dist: {row['max']:.2f} km\"\n",
    "        )\n",
    "    ))\n",
    "    \n",
    "    # Add avg and max distance circles\n",
    "    for dist, color, label in zip([row['mean'], row['max']], ['orange','red'], ['Avg','Max']):\n",
    "        fig.add_trace(go.Scattermapbox(\n",
    "            lat=[lat],\n",
    "            lon=[lon],\n",
    "            mode='markers',\n",
    "            marker=go.scattermapbox.Marker(\n",
    "                size=dist*10,  # scale factor for visibility\n",
    "                color=color,\n",
    "                opacity=0.2\n",
    "            ),\n",
    "            name=f\"{rest_name} {label} Distance\",\n",
    "            showlegend=False\n",
    "        ))\n",
    "\n",
    "# Add subzone order counts\n",
    "fig.add_trace(go.Scattermapbox(\n",
    "    lat=orders_per_subzone['lat'],\n",
    "    lon=orders_per_subzone['lon'],\n",
    "    mode='markers',\n",
    "    marker=go.scattermapbox.Marker(size=orders_per_subzone['Orders'], color='red', sizemode='area'),\n",
    "    text=orders_per_subzone['Subzone'] + ': ' + orders_per_subzone['Orders'].astype(str) + ' orders',\n",
    "    name='Orders per Subzone'\n",
    "))\n",
    "\n",
    "# Layout\n",
    "fig.update_layout(\n",
    "    mapbox_style=\"open-street-map\",\n",
    "    mapbox_zoom=11,\n",
    "    mapbox_center={\"lat\":28.6139, \"lon\":77.2090},\n",
    "    margin={\"r\":0,\"t\":0,\"l\":0,\"b\":0},\n",
    ")\n",
    "\n",
    "fig.show()\n"
   ]
  },
  {
   "cell_type": "code",
   "execution_count": 11,
   "id": "2f726af7",
   "metadata": {},
   "outputs": [
    {
     "name": "stderr",
     "output_type": "stream",
     "text": [
      "/var/folders/8h/9yyjtp8d7_zb27yf8xrdgxcr0000gn/T/ipykernel_72702/415630738.py:61: DeprecationWarning:\n",
      "\n",
      "*scattermapbox* is deprecated! Use *scattermap* instead. Learn more at: https://plotly.com/python/mapbox-to-maplibre/\n",
      "\n",
      "/var/folders/8h/9yyjtp8d7_zb27yf8xrdgxcr0000gn/T/ipykernel_72702/415630738.py:72: DeprecationWarning:\n",
      "\n",
      "*scattermapbox* is deprecated! Use *scattermap* instead. Learn more at: https://plotly.com/python/mapbox-to-maplibre/\n",
      "\n",
      "/var/folders/8h/9yyjtp8d7_zb27yf8xrdgxcr0000gn/T/ipykernel_72702/415630738.py:85: DeprecationWarning:\n",
      "\n",
      "*scattermapbox* is deprecated! Use *scattermap* instead. Learn more at: https://plotly.com/python/mapbox-to-maplibre/\n",
      "\n"
     ]
    },
    {
     "data": {
      "application/vnd.plotly.v1+json": {
       "config": {
        "plotlyServerURL": "https://plot.ly"
       },
       "data": [
        {
         "hoverinfo": "none",
         "lat": [
          28.55,
          28.459
         ],
         "line": {
          "color": "green",
          "width": 4
         },
         "lon": [
          77.25,
          77.03
         ],
         "mode": "lines",
         "showlegend": false,
         "type": "scattermapbox"
        },
        {
         "hoverinfo": "none",
         "lat": [
          28.55,
          28.5416
         ],
         "line": {
          "color": "green",
          "width": 4
         },
         "lon": [
          77.25,
          77.2437
         ],
         "mode": "lines",
         "showlegend": false,
         "type": "scattermapbox"
        },
        {
         "hoverinfo": "none",
         "lat": [
          28.55,
          28.57
         ],
         "line": {
          "color": "green",
          "width": 4
         },
         "lon": [
          77.25,
          77.36
         ],
         "mode": "lines",
         "showlegend": false,
         "type": "scattermapbox"
        },
        {
         "hoverinfo": "none",
         "lat": [
          28.55,
          28.59
         ],
         "line": {
          "color": "green",
          "width": 4
         },
         "lon": [
          77.25,
          77.4
         ],
         "mode": "lines",
         "showlegend": false,
         "type": "scattermapbox"
        },
        {
         "hoverinfo": "none",
         "lat": [
          28.55,
          28.53
         ],
         "line": {
          "color": "green",
          "width": 4
         },
         "lon": [
          77.25,
          77.15
         ],
         "mode": "lines",
         "showlegend": false,
         "type": "scattermapbox"
        },
        {
         "hoverinfo": "none",
         "lat": [
          28.5,
          28.459
         ],
         "line": {
          "color": "green",
          "width": 4
         },
         "lon": [
          77.2,
          77.03
         ],
         "mode": "lines",
         "showlegend": false,
         "type": "scattermapbox"
        },
        {
         "hoverinfo": "none",
         "lat": [
          28.5,
          28.5416
         ],
         "line": {
          "color": "green",
          "width": 4
         },
         "lon": [
          77.2,
          77.2437
         ],
         "mode": "lines",
         "showlegend": false,
         "type": "scattermapbox"
        },
        {
         "hoverinfo": "none",
         "lat": [
          28.5,
          28.57
         ],
         "line": {
          "color": "green",
          "width": 4
         },
         "lon": [
          77.2,
          77.36
         ],
         "mode": "lines",
         "showlegend": false,
         "type": "scattermapbox"
        },
        {
         "hoverinfo": "none",
         "lat": [
          28.5,
          28.59
         ],
         "line": {
          "color": "green",
          "width": 4
         },
         "lon": [
          77.2,
          77.4
         ],
         "mode": "lines",
         "showlegend": false,
         "type": "scattermapbox"
        },
        {
         "hoverinfo": "none",
         "lat": [
          28.5,
          28.6667
         ],
         "line": {
          "color": "green",
          "width": 4
         },
         "lon": [
          77.2,
          77.27
         ],
         "mode": "lines",
         "showlegend": false,
         "type": "scattermapbox"
        },
        {
         "hoverinfo": "none",
         "lat": [
          28.57,
          28.59
         ],
         "line": {
          "color": "green",
          "width": 4
         },
         "lon": [
          77.35,
          77.4
         ],
         "mode": "lines",
         "showlegend": false,
         "type": "scattermapbox"
        },
        {
         "hoverinfo": "none",
         "lat": [
          28.59,
          28.459
         ],
         "line": {
          "color": "green",
          "width": 4
         },
         "lon": [
          77.36,
          77.03
         ],
         "mode": "lines",
         "showlegend": false,
         "type": "scattermapbox"
        },
        {
         "hoverinfo": "none",
         "lat": [
          28.59,
          28.5416
         ],
         "line": {
          "color": "green",
          "width": 4
         },
         "lon": [
          77.36,
          77.2437
         ],
         "mode": "lines",
         "showlegend": false,
         "type": "scattermapbox"
        },
        {
         "hoverinfo": "none",
         "lat": [
          28.59,
          28.57
         ],
         "line": {
          "color": "green",
          "width": 4
         },
         "lon": [
          77.36,
          77.36
         ],
         "mode": "lines",
         "showlegend": false,
         "type": "scattermapbox"
        },
        {
         "hoverinfo": "none",
         "lat": [
          28.59,
          28.59
         ],
         "line": {
          "color": "green",
          "width": 4
         },
         "lon": [
          77.36,
          77.4
         ],
         "mode": "lines",
         "showlegend": false,
         "type": "scattermapbox"
        },
        {
         "hoverinfo": "none",
         "lat": [
          28.59,
          28.6667
         ],
         "line": {
          "color": "green",
          "width": 4
         },
         "lon": [
          77.36,
          77.27
         ],
         "mode": "lines",
         "showlegend": false,
         "type": "scattermapbox"
        },
        {
         "hoverinfo": "none",
         "lat": [
          28.53,
          28.459
         ],
         "line": {
          "color": "green",
          "width": 4
         },
         "lon": [
          77.15,
          77.03
         ],
         "mode": "lines",
         "showlegend": false,
         "type": "scattermapbox"
        },
        {
         "hoverinfo": "none",
         "lat": [
          28.53,
          28.5416
         ],
         "line": {
          "color": "green",
          "width": 4
         },
         "lon": [
          77.15,
          77.2437
         ],
         "mode": "lines",
         "showlegend": false,
         "type": "scattermapbox"
        },
        {
         "hoverinfo": "none",
         "lat": [
          28.53,
          28.57
         ],
         "line": {
          "color": "green",
          "width": 4
         },
         "lon": [
          77.15,
          77.36
         ],
         "mode": "lines",
         "showlegend": false,
         "type": "scattermapbox"
        },
        {
         "hoverinfo": "none",
         "lat": [
          28.53,
          28.59
         ],
         "line": {
          "color": "green",
          "width": 4
         },
         "lon": [
          77.15,
          77.4
         ],
         "mode": "lines",
         "showlegend": false,
         "type": "scattermapbox"
        },
        {
         "hoverinfo": "none",
         "lat": [
          28.53,
          28.6667
         ],
         "line": {
          "color": "green",
          "width": 4
         },
         "lon": [
          77.15,
          77.27
         ],
         "mode": "lines",
         "showlegend": false,
         "type": "scattermapbox"
        },
        {
         "hoverinfo": "none",
         "lat": [
          28.52,
          28.553
         ],
         "line": {
          "color": "green",
          "width": 4
         },
         "lon": [
          77.21,
          77.258
         ],
         "mode": "lines",
         "showlegend": false,
         "type": "scattermapbox"
        },
        {
         "hoverinfo": "none",
         "lat": [
          28.52,
          28.59
         ],
         "line": {
          "color": "green",
          "width": 4
         },
         "lon": [
          77.21,
          77.4
         ],
         "mode": "lines",
         "showlegend": false,
         "type": "scattermapbox"
        },
        {
         "hoverinfo": "none",
         "lat": [
          28.52,
          28.497
         ],
         "line": {
          "color": "green",
          "width": 4
         },
         "lon": [
          77.21,
          77.083
         ],
         "mode": "lines",
         "showlegend": false,
         "type": "scattermapbox"
        },
        {
         "hoverinfo": "text",
         "hovertext": "Greater Kailash 2 (GK2)<br>Deliveries from restaurants:<br>Aura Pizzas: 4418<br>Dilli Burger Adda: 109<br>Swaad: 2781<br>Tandoori Junction: 72<br>",
         "lat": [
          28.5416
         ],
         "lon": [
          77.2437
         ],
         "marker": {
          "color": "blue",
          "opacity": 0.7,
          "size": 36
         },
         "mode": "markers",
         "name": "Greater Kailash 2 (GK2)",
         "type": "scattermapbox"
        },
        {
         "hoverinfo": "text",
         "hovertext": "Sector 4<br>Deliveries from restaurants:<br>Aura Pizzas: 4614<br>Dilli Burger Adda: 47<br>Masala Junction: 28<br>Swaad: 1774<br>Tandoori Junction: 38<br>The Chicken Junction: 29<br>",
         "lat": [
          28.59
         ],
         "lon": [
          77.4
         ],
         "marker": {
          "color": "blue",
          "opacity": 0.7,
          "size": 36
         },
         "mode": "markers",
         "name": "Sector 4",
         "type": "scattermapbox"
        },
        {
         "hoverinfo": "text",
         "hovertext": "DLF Phase 1<br>Deliveries from restaurants:<br>Aura Pizzas: 2545<br>Dilli Burger Adda: 34<br>Swaad: 1079<br>Tandoori Junction: 28<br>",
         "lat": [
          28.459
         ],
         "lon": [
          77.03
         ],
         "marker": {
          "color": "blue",
          "opacity": 0.7,
          "size": 36
         },
         "mode": "markers",
         "name": "DLF Phase 1",
         "type": "scattermapbox"
        },
        {
         "hoverinfo": "text",
         "hovertext": "Sector 135<br>Deliveries from restaurants:<br>Aura Pizzas: 2051<br>Dilli Burger Adda: 23<br>Swaad: 367<br>Tandoori Junction: 1<br>",
         "lat": [
          28.57
         ],
         "lon": [
          77.36
         ],
         "marker": {
          "color": "blue",
          "opacity": 0.7,
          "size": 36
         },
         "mode": "markers",
         "name": "Sector 135",
         "type": "scattermapbox"
        },
        {
         "hoverinfo": "text",
         "hovertext": "Vasant Kunj<br>Deliveries from restaurants:<br>Aura Pizzas: 920<br>",
         "lat": [
          28.53
         ],
         "lon": [
          77.15
         ],
         "marker": {
          "color": "blue",
          "opacity": 0.7,
          "size": 36
         },
         "mode": "markers",
         "name": "Vasant Kunj",
         "type": "scattermapbox"
        },
        {
         "hoverinfo": "text",
         "hovertext": "Shahdara<br>Deliveries from restaurants:<br>Dilli Burger Adda: 14<br>Swaad: 331<br>Tandoori Junction: 15<br>",
         "lat": [
          28.6667
         ],
         "lon": [
          77.27
         ],
         "marker": {
          "color": "blue",
          "opacity": 0.7,
          "size": 36
         },
         "mode": "markers",
         "name": "Shahdara",
         "type": "scattermapbox"
        },
        {
         "hoverinfo": "text",
         "hovertext": "Chittaranjan Park<br>Deliveries from restaurants:<br>The Chicken Junction: 2<br>",
         "lat": [
          28.553
         ],
         "lon": [
          77.258
         ],
         "marker": {
          "color": "blue",
          "opacity": 0.7,
          "size": 36
         },
         "mode": "markers",
         "name": "Chittaranjan Park",
         "type": "scattermapbox"
        },
        {
         "hoverinfo": "text",
         "hovertext": "Sikandarpur<br>Deliveries from restaurants:<br>The Chicken Junction: 1<br>",
         "lat": [
          28.497
         ],
         "lon": [
          77.083
         ],
         "marker": {
          "color": "blue",
          "opacity": 0.7,
          "size": 36
         },
         "mode": "markers",
         "name": "Sikandarpur",
         "type": "scattermapbox"
        },
        {
         "hoverinfo": "text",
         "hovertext": "Aura Pizzas<br>Deliveries to sectors:<br>DLF Phase 1: 2545<br>Greater Kailash 2 (GK2): 4418<br>Sector 135: 2051<br>Sector 4: 4614<br>Vasant Kunj: 920<br>",
         "lat": [
          28.54981137777686
         ],
         "lon": [
          77.25015296182859
         ],
         "marker": {
          "color": "red",
          "size": 12
         },
         "mode": "markers",
         "name": "Aura Pizzas",
         "type": "scattermapbox"
        },
        {
         "hoverinfo": "text",
         "hovertext": "Swaad<br>Deliveries to sectors:<br>DLF Phase 1: 1079<br>Greater Kailash 2 (GK2): 2781<br>Sector 135: 367<br>Sector 4: 1774<br>Shahdara: 331<br>",
         "lat": [
          28.590408849779358
         ],
         "lon": [
          77.3597796789818
         ],
         "marker": {
          "color": "red",
          "size": 12
         },
         "mode": "markers",
         "name": "Swaad",
         "type": "scattermapbox"
        },
        {
         "hoverinfo": "text",
         "hovertext": "Dilli Burger Adda<br>Deliveries to sectors:<br>DLF Phase 1: 34<br>Greater Kailash 2 (GK2): 109<br>Sector 135: 23<br>Sector 4: 47<br>Shahdara: 14<br>",
         "lat": [
          28.49976990815807
         ],
         "lon": [
          77.20014712935799
         ],
         "marker": {
          "color": "red",
          "size": 12
         },
         "mode": "markers",
         "name": "Dilli Burger Adda",
         "type": "scattermapbox"
        },
        {
         "hoverinfo": "text",
         "hovertext": "Tandoori Junction<br>Deliveries to sectors:<br>DLF Phase 1: 28<br>Greater Kailash 2 (GK2): 72<br>Sector 135: 1<br>Sector 4: 38<br>Shahdara: 15<br>",
         "lat": [
          28.530178240797667
         ],
         "lon": [
          77.15047287141998
         ],
         "marker": {
          "color": "red",
          "size": 12
         },
         "mode": "markers",
         "name": "Tandoori Junction",
         "type": "scattermapbox"
        },
        {
         "hoverinfo": "text",
         "hovertext": "The Chicken Junction<br>Deliveries to sectors:<br>Chittaranjan Park: 2<br>Sector 4: 29<br>Sikandarpur: 1<br>",
         "lat": [
          28.519810671753483
         ],
         "lon": [
          77.21026626075424
         ],
         "marker": {
          "color": "red",
          "size": 12
         },
         "mode": "markers",
         "name": "The Chicken Junction",
         "type": "scattermapbox"
        },
        {
         "hoverinfo": "text",
         "hovertext": "Masala Junction<br>Deliveries to sectors:<br>Sector 4: 28<br>",
         "lat": [
          28.569662602692304
         ],
         "lon": [
          77.35001195337699
         ],
         "marker": {
          "color": "red",
          "size": 12
         },
         "mode": "markers",
         "name": "Masala Junction",
         "type": "scattermapbox"
        }
       ],
       "layout": {
        "height": 900,
        "legend": {
         "font": {
          "size": 10
         }
        },
        "mapbox": {
         "center": {
          "lat": 28.6139,
          "lon": 77.209
         },
         "style": "open-street-map",
         "zoom": 11
        },
        "margin": {
         "b": 0,
         "l": 0,
         "r": 0,
         "t": 0
        },
        "template": {
         "data": {
          "bar": [
           {
            "error_x": {
             "color": "#2a3f5f"
            },
            "error_y": {
             "color": "#2a3f5f"
            },
            "marker": {
             "line": {
              "color": "#E5ECF6",
              "width": 0.5
             },
             "pattern": {
              "fillmode": "overlay",
              "size": 10,
              "solidity": 0.2
             }
            },
            "type": "bar"
           }
          ],
          "barpolar": [
           {
            "marker": {
             "line": {
              "color": "#E5ECF6",
              "width": 0.5
             },
             "pattern": {
              "fillmode": "overlay",
              "size": 10,
              "solidity": 0.2
             }
            },
            "type": "barpolar"
           }
          ],
          "carpet": [
           {
            "aaxis": {
             "endlinecolor": "#2a3f5f",
             "gridcolor": "white",
             "linecolor": "white",
             "minorgridcolor": "white",
             "startlinecolor": "#2a3f5f"
            },
            "baxis": {
             "endlinecolor": "#2a3f5f",
             "gridcolor": "white",
             "linecolor": "white",
             "minorgridcolor": "white",
             "startlinecolor": "#2a3f5f"
            },
            "type": "carpet"
           }
          ],
          "choropleth": [
           {
            "colorbar": {
             "outlinewidth": 0,
             "ticks": ""
            },
            "type": "choropleth"
           }
          ],
          "contour": [
           {
            "colorbar": {
             "outlinewidth": 0,
             "ticks": ""
            },
            "colorscale": [
             [
              0,
              "#0d0887"
             ],
             [
              0.1111111111111111,
              "#46039f"
             ],
             [
              0.2222222222222222,
              "#7201a8"
             ],
             [
              0.3333333333333333,
              "#9c179e"
             ],
             [
              0.4444444444444444,
              "#bd3786"
             ],
             [
              0.5555555555555556,
              "#d8576b"
             ],
             [
              0.6666666666666666,
              "#ed7953"
             ],
             [
              0.7777777777777778,
              "#fb9f3a"
             ],
             [
              0.8888888888888888,
              "#fdca26"
             ],
             [
              1,
              "#f0f921"
             ]
            ],
            "type": "contour"
           }
          ],
          "contourcarpet": [
           {
            "colorbar": {
             "outlinewidth": 0,
             "ticks": ""
            },
            "type": "contourcarpet"
           }
          ],
          "heatmap": [
           {
            "colorbar": {
             "outlinewidth": 0,
             "ticks": ""
            },
            "colorscale": [
             [
              0,
              "#0d0887"
             ],
             [
              0.1111111111111111,
              "#46039f"
             ],
             [
              0.2222222222222222,
              "#7201a8"
             ],
             [
              0.3333333333333333,
              "#9c179e"
             ],
             [
              0.4444444444444444,
              "#bd3786"
             ],
             [
              0.5555555555555556,
              "#d8576b"
             ],
             [
              0.6666666666666666,
              "#ed7953"
             ],
             [
              0.7777777777777778,
              "#fb9f3a"
             ],
             [
              0.8888888888888888,
              "#fdca26"
             ],
             [
              1,
              "#f0f921"
             ]
            ],
            "type": "heatmap"
           }
          ],
          "histogram": [
           {
            "marker": {
             "pattern": {
              "fillmode": "overlay",
              "size": 10,
              "solidity": 0.2
             }
            },
            "type": "histogram"
           }
          ],
          "histogram2d": [
           {
            "colorbar": {
             "outlinewidth": 0,
             "ticks": ""
            },
            "colorscale": [
             [
              0,
              "#0d0887"
             ],
             [
              0.1111111111111111,
              "#46039f"
             ],
             [
              0.2222222222222222,
              "#7201a8"
             ],
             [
              0.3333333333333333,
              "#9c179e"
             ],
             [
              0.4444444444444444,
              "#bd3786"
             ],
             [
              0.5555555555555556,
              "#d8576b"
             ],
             [
              0.6666666666666666,
              "#ed7953"
             ],
             [
              0.7777777777777778,
              "#fb9f3a"
             ],
             [
              0.8888888888888888,
              "#fdca26"
             ],
             [
              1,
              "#f0f921"
             ]
            ],
            "type": "histogram2d"
           }
          ],
          "histogram2dcontour": [
           {
            "colorbar": {
             "outlinewidth": 0,
             "ticks": ""
            },
            "colorscale": [
             [
              0,
              "#0d0887"
             ],
             [
              0.1111111111111111,
              "#46039f"
             ],
             [
              0.2222222222222222,
              "#7201a8"
             ],
             [
              0.3333333333333333,
              "#9c179e"
             ],
             [
              0.4444444444444444,
              "#bd3786"
             ],
             [
              0.5555555555555556,
              "#d8576b"
             ],
             [
              0.6666666666666666,
              "#ed7953"
             ],
             [
              0.7777777777777778,
              "#fb9f3a"
             ],
             [
              0.8888888888888888,
              "#fdca26"
             ],
             [
              1,
              "#f0f921"
             ]
            ],
            "type": "histogram2dcontour"
           }
          ],
          "mesh3d": [
           {
            "colorbar": {
             "outlinewidth": 0,
             "ticks": ""
            },
            "type": "mesh3d"
           }
          ],
          "parcoords": [
           {
            "line": {
             "colorbar": {
              "outlinewidth": 0,
              "ticks": ""
             }
            },
            "type": "parcoords"
           }
          ],
          "pie": [
           {
            "automargin": true,
            "type": "pie"
           }
          ],
          "scatter": [
           {
            "fillpattern": {
             "fillmode": "overlay",
             "size": 10,
             "solidity": 0.2
            },
            "type": "scatter"
           }
          ],
          "scatter3d": [
           {
            "line": {
             "colorbar": {
              "outlinewidth": 0,
              "ticks": ""
             }
            },
            "marker": {
             "colorbar": {
              "outlinewidth": 0,
              "ticks": ""
             }
            },
            "type": "scatter3d"
           }
          ],
          "scattercarpet": [
           {
            "marker": {
             "colorbar": {
              "outlinewidth": 0,
              "ticks": ""
             }
            },
            "type": "scattercarpet"
           }
          ],
          "scattergeo": [
           {
            "marker": {
             "colorbar": {
              "outlinewidth": 0,
              "ticks": ""
             }
            },
            "type": "scattergeo"
           }
          ],
          "scattergl": [
           {
            "marker": {
             "colorbar": {
              "outlinewidth": 0,
              "ticks": ""
             }
            },
            "type": "scattergl"
           }
          ],
          "scattermap": [
           {
            "marker": {
             "colorbar": {
              "outlinewidth": 0,
              "ticks": ""
             }
            },
            "type": "scattermap"
           }
          ],
          "scattermapbox": [
           {
            "marker": {
             "colorbar": {
              "outlinewidth": 0,
              "ticks": ""
             }
            },
            "type": "scattermapbox"
           }
          ],
          "scatterpolar": [
           {
            "marker": {
             "colorbar": {
              "outlinewidth": 0,
              "ticks": ""
             }
            },
            "type": "scatterpolar"
           }
          ],
          "scatterpolargl": [
           {
            "marker": {
             "colorbar": {
              "outlinewidth": 0,
              "ticks": ""
             }
            },
            "type": "scatterpolargl"
           }
          ],
          "scatterternary": [
           {
            "marker": {
             "colorbar": {
              "outlinewidth": 0,
              "ticks": ""
             }
            },
            "type": "scatterternary"
           }
          ],
          "surface": [
           {
            "colorbar": {
             "outlinewidth": 0,
             "ticks": ""
            },
            "colorscale": [
             [
              0,
              "#0d0887"
             ],
             [
              0.1111111111111111,
              "#46039f"
             ],
             [
              0.2222222222222222,
              "#7201a8"
             ],
             [
              0.3333333333333333,
              "#9c179e"
             ],
             [
              0.4444444444444444,
              "#bd3786"
             ],
             [
              0.5555555555555556,
              "#d8576b"
             ],
             [
              0.6666666666666666,
              "#ed7953"
             ],
             [
              0.7777777777777778,
              "#fb9f3a"
             ],
             [
              0.8888888888888888,
              "#fdca26"
             ],
             [
              1,
              "#f0f921"
             ]
            ],
            "type": "surface"
           }
          ],
          "table": [
           {
            "cells": {
             "fill": {
              "color": "#EBF0F8"
             },
             "line": {
              "color": "white"
             }
            },
            "header": {
             "fill": {
              "color": "#C8D4E3"
             },
             "line": {
              "color": "white"
             }
            },
            "type": "table"
           }
          ]
         },
         "layout": {
          "annotationdefaults": {
           "arrowcolor": "#2a3f5f",
           "arrowhead": 0,
           "arrowwidth": 1
          },
          "autotypenumbers": "strict",
          "coloraxis": {
           "colorbar": {
            "outlinewidth": 0,
            "ticks": ""
           }
          },
          "colorscale": {
           "diverging": [
            [
             0,
             "#8e0152"
            ],
            [
             0.1,
             "#c51b7d"
            ],
            [
             0.2,
             "#de77ae"
            ],
            [
             0.3,
             "#f1b6da"
            ],
            [
             0.4,
             "#fde0ef"
            ],
            [
             0.5,
             "#f7f7f7"
            ],
            [
             0.6,
             "#e6f5d0"
            ],
            [
             0.7,
             "#b8e186"
            ],
            [
             0.8,
             "#7fbc41"
            ],
            [
             0.9,
             "#4d9221"
            ],
            [
             1,
             "#276419"
            ]
           ],
           "sequential": [
            [
             0,
             "#0d0887"
            ],
            [
             0.1111111111111111,
             "#46039f"
            ],
            [
             0.2222222222222222,
             "#7201a8"
            ],
            [
             0.3333333333333333,
             "#9c179e"
            ],
            [
             0.4444444444444444,
             "#bd3786"
            ],
            [
             0.5555555555555556,
             "#d8576b"
            ],
            [
             0.6666666666666666,
             "#ed7953"
            ],
            [
             0.7777777777777778,
             "#fb9f3a"
            ],
            [
             0.8888888888888888,
             "#fdca26"
            ],
            [
             1,
             "#f0f921"
            ]
           ],
           "sequentialminus": [
            [
             0,
             "#0d0887"
            ],
            [
             0.1111111111111111,
             "#46039f"
            ],
            [
             0.2222222222222222,
             "#7201a8"
            ],
            [
             0.3333333333333333,
             "#9c179e"
            ],
            [
             0.4444444444444444,
             "#bd3786"
            ],
            [
             0.5555555555555556,
             "#d8576b"
            ],
            [
             0.6666666666666666,
             "#ed7953"
            ],
            [
             0.7777777777777778,
             "#fb9f3a"
            ],
            [
             0.8888888888888888,
             "#fdca26"
            ],
            [
             1,
             "#f0f921"
            ]
           ]
          },
          "colorway": [
           "#636efa",
           "#EF553B",
           "#00cc96",
           "#ab63fa",
           "#FFA15A",
           "#19d3f3",
           "#FF6692",
           "#B6E880",
           "#FF97FF",
           "#FECB52"
          ],
          "font": {
           "color": "#2a3f5f"
          },
          "geo": {
           "bgcolor": "white",
           "lakecolor": "white",
           "landcolor": "#E5ECF6",
           "showlakes": true,
           "showland": true,
           "subunitcolor": "white"
          },
          "hoverlabel": {
           "align": "left"
          },
          "hovermode": "closest",
          "mapbox": {
           "style": "light"
          },
          "paper_bgcolor": "white",
          "plot_bgcolor": "#E5ECF6",
          "polar": {
           "angularaxis": {
            "gridcolor": "white",
            "linecolor": "white",
            "ticks": ""
           },
           "bgcolor": "#E5ECF6",
           "radialaxis": {
            "gridcolor": "white",
            "linecolor": "white",
            "ticks": ""
           }
          },
          "scene": {
           "xaxis": {
            "backgroundcolor": "#E5ECF6",
            "gridcolor": "white",
            "gridwidth": 2,
            "linecolor": "white",
            "showbackground": true,
            "ticks": "",
            "zerolinecolor": "white"
           },
           "yaxis": {
            "backgroundcolor": "#E5ECF6",
            "gridcolor": "white",
            "gridwidth": 2,
            "linecolor": "white",
            "showbackground": true,
            "ticks": "",
            "zerolinecolor": "white"
           },
           "zaxis": {
            "backgroundcolor": "#E5ECF6",
            "gridcolor": "white",
            "gridwidth": 2,
            "linecolor": "white",
            "showbackground": true,
            "ticks": "",
            "zerolinecolor": "white"
           }
          },
          "shapedefaults": {
           "line": {
            "color": "#2a3f5f"
           }
          },
          "ternary": {
           "aaxis": {
            "gridcolor": "white",
            "linecolor": "white",
            "ticks": ""
           },
           "baxis": {
            "gridcolor": "white",
            "linecolor": "white",
            "ticks": ""
           },
           "bgcolor": "#E5ECF6",
           "caxis": {
            "gridcolor": "white",
            "linecolor": "white",
            "ticks": ""
           }
          },
          "title": {
           "x": 0.05
          },
          "xaxis": {
           "automargin": true,
           "gridcolor": "white",
           "linecolor": "white",
           "ticks": "",
           "title": {
            "standoff": 15
           },
           "zerolinecolor": "white",
           "zerolinewidth": 2
          },
          "yaxis": {
           "automargin": true,
           "gridcolor": "white",
           "linecolor": "white",
           "ticks": "",
           "title": {
            "standoff": 15
           },
           "zerolinecolor": "white",
           "zerolinewidth": 2
          }
         }
        },
        "width": 1600
       }
      }
     },
     "metadata": {},
     "output_type": "display_data"
    }
   ],
   "source": [
    "import random\n",
    "\n",
    "# --- Example restaurant_coords and subzone_coords (use your actual data) ---\n",
    "restaurant_coords = {\n",
    "    'Aura Pizzas': [28.55, 77.25],\n",
    "    'Swaad': [28.59, 77.36],\n",
    "    'Dilli Burger Adda': [28.50, 77.20],\n",
    "    'Tandoori Junction': [28.53, 77.15],\n",
    "    'The Chicken Junction': [28.52, 77.21],\n",
    "    'Masala Junction': [28.57, 77.35]\n",
    "}\n",
    "\n",
    "subzone_coords = {\n",
    "    'Greater Kailash 2 (GK2)': [28.5416, 77.2437],\n",
    "    'Sector 4': [28.5900, 77.4000],\n",
    "    'DLF Phase 1': [28.4590, 77.0300],\n",
    "    'Sector 135': [28.5700, 77.3600],\n",
    "    'Vasant Kunj': [28.5300, 77.1500],\n",
    "    'Shahdara': [28.6667, 77.2700],\n",
    "    'Chittaranjan Park': [28.5530, 77.2580],\n",
    "    'Sikandarpur': [28.4970, 77.0830]\n",
    "}\n",
    "\n",
    "# --- Your DataFrame `df` is already loaded ---\n",
    "# Step 1: clean Distance column\n",
    "df['Distance_km'] = df['Distance'].str.replace(r'\\s*km','', regex=True)\n",
    "df['Distance_km'] = df['Distance_km'].replace('<1', '0.9').astype(float)\n",
    "\n",
    "# Step 2: aggregate delivery counts\n",
    "delivery_counts = df.groupby(['Restaurant name','Subzone']).size().reset_index(name='count')\n",
    "\n",
    "# Step 3: Prepare hover text for restaurants\n",
    "restaurant_hover = {}\n",
    "for rest in df['Restaurant name'].unique():\n",
    "    deliveries = delivery_counts[delivery_counts['Restaurant name']==rest]\n",
    "    hover_text = f\"{rest}<br>Deliveries to sectors:<br>\"\n",
    "    for _, row in deliveries.iterrows():\n",
    "        hover_text += f\"{row['Subzone']}: {row['count']}<br>\"\n",
    "    restaurant_hover[rest] = hover_text\n",
    "\n",
    "# Step 4: Prepare hover text for subzones\n",
    "subzone_hover = {}\n",
    "for sub in df['Subzone'].unique():\n",
    "    deliveries = delivery_counts[delivery_counts['Subzone']==sub]\n",
    "    hover_text = f\"{sub}<br>Deliveries from restaurants:<br>\"\n",
    "    for _, row in deliveries.iterrows():\n",
    "        hover_text += f\"{row['Restaurant name']}: {row['count']}<br>\"\n",
    "    subzone_hover[sub] = hover_text\n",
    "\n",
    "# --- Function to slightly jitter overlapping markers ---\n",
    "def jitter(lat, lon, scale=0.0005):\n",
    "    return lat + random.uniform(-scale, scale), lon + random.uniform(-scale, scale)\n",
    "\n",
    "# Step 5: Plot\n",
    "fig = go.Figure()\n",
    "\n",
    "# Lines (constant thickness)\n",
    "for _, row in delivery_counts.iterrows():\n",
    "    r = row['Restaurant name']\n",
    "    s = row['Subzone']\n",
    "    fig.add_trace(go.Scattermapbox(\n",
    "        lat=[restaurant_coords[r][0], subzone_coords[s][0]],\n",
    "        lon=[restaurant_coords[r][1], subzone_coords[s][1]],\n",
    "        mode='lines',\n",
    "        line=go.scattermapbox.Line(width=4, color='green'),\n",
    "        hoverinfo='none',\n",
    "        showlegend=False\n",
    "    ))\n",
    "\n",
    "# Subzones (keep bigger for clarity)\n",
    "for sub in subzone_coords:\n",
    "    fig.add_trace(go.Scattermapbox(\n",
    "        lat=[subzone_coords[sub][0]],\n",
    "        lon=[subzone_coords[sub][1]],\n",
    "        mode='markers',\n",
    "        marker=go.scattermapbox.Marker(size=36, color='blue', opacity=0.7),\n",
    "        name=sub,\n",
    "        hoverinfo='text',\n",
    "        hovertext=subzone_hover.get(sub, sub)\n",
    "    ))\n",
    "\n",
    "# Restaurants with jitter\n",
    "for rest in restaurant_coords:\n",
    "    lat, lon = jitter(restaurant_coords[rest][0], restaurant_coords[rest][1])\n",
    "    fig.add_trace(go.Scattermapbox(\n",
    "        lat=[lat],\n",
    "        lon=[lon],\n",
    "        mode='markers',\n",
    "        marker=go.scattermapbox.Marker(size=12, color='red'),\n",
    "        name=rest,\n",
    "        hoverinfo='text',\n",
    "        hovertext=restaurant_hover.get(rest, rest)\n",
    "    ))\n",
    "\n",
    "# Layout\n",
    "fig.update_layout(\n",
    "    mapbox_style=\"open-street-map\",\n",
    "    mapbox_zoom=11,\n",
    "    mapbox_center={\"lat\":28.6139, \"lon\":77.2090},\n",
    "    margin={\"r\":0,\"t\":0,\"l\":0,\"b\":0},\n",
    "    legend=dict(font=dict(size=10)),\n",
    "    height=900,\n",
    "    width=1600\n",
    ")\n",
    "\n",
    "fig.show()\n"
   ]
  },
  {
   "cell_type": "code",
   "execution_count": 12,
   "id": "9093db53",
   "metadata": {},
   "outputs": [
    {
     "data": {
      "text/plain": [
       "11607"
      ]
     },
     "execution_count": 12,
     "metadata": {},
     "output_type": "execute_result"
    }
   ],
   "source": [
    "df[\"Customer ID\"].nunique()"
   ]
  },
  {
   "cell_type": "code",
   "execution_count": 13,
   "id": "574102bc",
   "metadata": {},
   "outputs": [],
   "source": [
    "df_weather = df[[\"Order Placed At\"]]"
   ]
  },
  {
   "cell_type": "code",
   "execution_count": 14,
   "id": "5dd1b50b",
   "metadata": {},
   "outputs": [
    {
     "data": {
      "text/html": [
       "<div>\n",
       "<style scoped>\n",
       "    .dataframe tbody tr th:only-of-type {\n",
       "        vertical-align: middle;\n",
       "    }\n",
       "\n",
       "    .dataframe tbody tr th {\n",
       "        vertical-align: top;\n",
       "    }\n",
       "\n",
       "    .dataframe thead th {\n",
       "        text-align: right;\n",
       "    }\n",
       "</style>\n",
       "<table border=\"1\" class=\"dataframe\">\n",
       "  <thead>\n",
       "    <tr style=\"text-align: right;\">\n",
       "      <th></th>\n",
       "      <th>Order Placed At</th>\n",
       "    </tr>\n",
       "  </thead>\n",
       "  <tbody>\n",
       "    <tr>\n",
       "      <th>0</th>\n",
       "      <td>11:38 PM, September 10 2024</td>\n",
       "    </tr>\n",
       "    <tr>\n",
       "      <th>1</th>\n",
       "      <td>11:34 PM, September 10 2024</td>\n",
       "    </tr>\n",
       "    <tr>\n",
       "      <th>2</th>\n",
       "      <td>03:52 PM, September 10 2024</td>\n",
       "    </tr>\n",
       "    <tr>\n",
       "      <th>3</th>\n",
       "      <td>03:45 PM, September 10 2024</td>\n",
       "    </tr>\n",
       "    <tr>\n",
       "      <th>4</th>\n",
       "      <td>03:04 PM, September 10 2024</td>\n",
       "    </tr>\n",
       "    <tr>\n",
       "      <th>...</th>\n",
       "      <td>...</td>\n",
       "    </tr>\n",
       "    <tr>\n",
       "      <th>21316</th>\n",
       "      <td>03:26 AM, January 30 2025</td>\n",
       "    </tr>\n",
       "    <tr>\n",
       "      <th>21317</th>\n",
       "      <td>02:44 AM, January 29 2025</td>\n",
       "    </tr>\n",
       "    <tr>\n",
       "      <th>21318</th>\n",
       "      <td>10:05 PM, January 24 2025</td>\n",
       "    </tr>\n",
       "    <tr>\n",
       "      <th>21319</th>\n",
       "      <td>02:27 PM, January 21 2025</td>\n",
       "    </tr>\n",
       "    <tr>\n",
       "      <th>21320</th>\n",
       "      <td>02:55 AM, January 21 2025</td>\n",
       "    </tr>\n",
       "  </tbody>\n",
       "</table>\n",
       "<p>21321 rows × 1 columns</p>\n",
       "</div>"
      ],
      "text/plain": [
       "                   Order Placed At\n",
       "0      11:38 PM, September 10 2024\n",
       "1      11:34 PM, September 10 2024\n",
       "2      03:52 PM, September 10 2024\n",
       "3      03:45 PM, September 10 2024\n",
       "4      03:04 PM, September 10 2024\n",
       "...                            ...\n",
       "21316    03:26 AM, January 30 2025\n",
       "21317    02:44 AM, January 29 2025\n",
       "21318    10:05 PM, January 24 2025\n",
       "21319    02:27 PM, January 21 2025\n",
       "21320    02:55 AM, January 21 2025\n",
       "\n",
       "[21321 rows x 1 columns]"
      ]
     },
     "execution_count": 14,
     "metadata": {},
     "output_type": "execute_result"
    }
   ],
   "source": [
    "df_weather"
   ]
  },
  {
   "cell_type": "code",
   "execution_count": 15,
   "id": "48bfa450",
   "metadata": {},
   "outputs": [
    {
     "name": "stderr",
     "output_type": "stream",
     "text": [
      "/var/folders/8h/9yyjtp8d7_zb27yf8xrdgxcr0000gn/T/ipykernel_72702/1882046731.py:1: SettingWithCopyWarning:\n",
      "\n",
      "\n",
      "A value is trying to be set on a copy of a slice from a DataFrame.\n",
      "Try using .loc[row_indexer,col_indexer] = value instead\n",
      "\n",
      "See the caveats in the documentation: https://pandas.pydata.org/pandas-docs/stable/user_guide/indexing.html#returning-a-view-versus-a-copy\n",
      "\n"
     ]
    }
   ],
   "source": [
    "df_weather[\"Order Datetime\"] = pd.to_datetime(\n",
    "    df_weather[\"Order Placed At\"], \n",
    "    format=\"%I:%M %p, %B %d %Y\"\n",
    ")"
   ]
  },
  {
   "cell_type": "code",
   "execution_count": 16,
   "id": "efc90713",
   "metadata": {},
   "outputs": [
    {
     "name": "stderr",
     "output_type": "stream",
     "text": [
      "/var/folders/8h/9yyjtp8d7_zb27yf8xrdgxcr0000gn/T/ipykernel_72702/3133367414.py:1: SettingWithCopyWarning:\n",
      "\n",
      "\n",
      "A value is trying to be set on a copy of a slice from a DataFrame\n",
      "\n",
      "See the caveats in the documentation: https://pandas.pydata.org/pandas-docs/stable/user_guide/indexing.html#returning-a-view-versus-a-copy\n",
      "\n"
     ]
    }
   ],
   "source": [
    "df_weather.drop(columns=[\"Order Placed At\"], inplace=True)"
   ]
  },
  {
   "cell_type": "code",
   "execution_count": 17,
   "id": "03f38eb6",
   "metadata": {},
   "outputs": [
    {
     "data": {
      "text/html": [
       "<div>\n",
       "<style scoped>\n",
       "    .dataframe tbody tr th:only-of-type {\n",
       "        vertical-align: middle;\n",
       "    }\n",
       "\n",
       "    .dataframe tbody tr th {\n",
       "        vertical-align: top;\n",
       "    }\n",
       "\n",
       "    .dataframe thead th {\n",
       "        text-align: right;\n",
       "    }\n",
       "</style>\n",
       "<table border=\"1\" class=\"dataframe\">\n",
       "  <thead>\n",
       "    <tr style=\"text-align: right;\">\n",
       "      <th></th>\n",
       "      <th>Order Datetime</th>\n",
       "    </tr>\n",
       "  </thead>\n",
       "  <tbody>\n",
       "    <tr>\n",
       "      <th>0</th>\n",
       "      <td>2024-09-10 23:38:00</td>\n",
       "    </tr>\n",
       "    <tr>\n",
       "      <th>1</th>\n",
       "      <td>2024-09-10 23:34:00</td>\n",
       "    </tr>\n",
       "    <tr>\n",
       "      <th>2</th>\n",
       "      <td>2024-09-10 15:52:00</td>\n",
       "    </tr>\n",
       "    <tr>\n",
       "      <th>3</th>\n",
       "      <td>2024-09-10 15:45:00</td>\n",
       "    </tr>\n",
       "    <tr>\n",
       "      <th>4</th>\n",
       "      <td>2024-09-10 15:04:00</td>\n",
       "    </tr>\n",
       "    <tr>\n",
       "      <th>...</th>\n",
       "      <td>...</td>\n",
       "    </tr>\n",
       "    <tr>\n",
       "      <th>21316</th>\n",
       "      <td>2025-01-30 03:26:00</td>\n",
       "    </tr>\n",
       "    <tr>\n",
       "      <th>21317</th>\n",
       "      <td>2025-01-29 02:44:00</td>\n",
       "    </tr>\n",
       "    <tr>\n",
       "      <th>21318</th>\n",
       "      <td>2025-01-24 22:05:00</td>\n",
       "    </tr>\n",
       "    <tr>\n",
       "      <th>21319</th>\n",
       "      <td>2025-01-21 14:27:00</td>\n",
       "    </tr>\n",
       "    <tr>\n",
       "      <th>21320</th>\n",
       "      <td>2025-01-21 02:55:00</td>\n",
       "    </tr>\n",
       "  </tbody>\n",
       "</table>\n",
       "<p>21321 rows × 1 columns</p>\n",
       "</div>"
      ],
      "text/plain": [
       "           Order Datetime\n",
       "0     2024-09-10 23:38:00\n",
       "1     2024-09-10 23:34:00\n",
       "2     2024-09-10 15:52:00\n",
       "3     2024-09-10 15:45:00\n",
       "4     2024-09-10 15:04:00\n",
       "...                   ...\n",
       "21316 2025-01-30 03:26:00\n",
       "21317 2025-01-29 02:44:00\n",
       "21318 2025-01-24 22:05:00\n",
       "21319 2025-01-21 14:27:00\n",
       "21320 2025-01-21 02:55:00\n",
       "\n",
       "[21321 rows x 1 columns]"
      ]
     },
     "execution_count": 17,
     "metadata": {},
     "output_type": "execute_result"
    }
   ],
   "source": [
    "df_weather"
   ]
  },
  {
   "cell_type": "code",
   "execution_count": 18,
   "id": "294b3f36",
   "metadata": {},
   "outputs": [
    {
     "name": "stderr",
     "output_type": "stream",
     "text": [
      "/var/folders/8h/9yyjtp8d7_zb27yf8xrdgxcr0000gn/T/ipykernel_72702/3071644783.py:2: FutureWarning:\n",
      "\n",
      "'H' is deprecated and will be removed in a future version, please use 'h' instead.\n",
      "\n",
      "/var/folders/8h/9yyjtp8d7_zb27yf8xrdgxcr0000gn/T/ipykernel_72702/3071644783.py:2: SettingWithCopyWarning:\n",
      "\n",
      "\n",
      "A value is trying to be set on a copy of a slice from a DataFrame.\n",
      "Try using .loc[row_indexer,col_indexer] = value instead\n",
      "\n",
      "See the caveats in the documentation: https://pandas.pydata.org/pandas-docs/stable/user_guide/indexing.html#returning-a-view-versus-a-copy\n",
      "\n"
     ]
    }
   ],
   "source": [
    "# Remove the minutes and seconds and remove duplicates\n",
    "df_weather[\"Order Datetime\"] = df_weather[\"Order Datetime\"].dt.floor('H')\n",
    "df_weather = df_weather.drop_duplicates().reset_index(drop=True)"
   ]
  },
  {
   "cell_type": "code",
   "execution_count": 19,
   "id": "ca9866b7",
   "metadata": {},
   "outputs": [
    {
     "data": {
      "text/html": [
       "<div>\n",
       "<style scoped>\n",
       "    .dataframe tbody tr th:only-of-type {\n",
       "        vertical-align: middle;\n",
       "    }\n",
       "\n",
       "    .dataframe tbody tr th {\n",
       "        vertical-align: top;\n",
       "    }\n",
       "\n",
       "    .dataframe thead th {\n",
       "        text-align: right;\n",
       "    }\n",
       "</style>\n",
       "<table border=\"1\" class=\"dataframe\">\n",
       "  <thead>\n",
       "    <tr style=\"text-align: right;\">\n",
       "      <th></th>\n",
       "      <th>Order Datetime</th>\n",
       "    </tr>\n",
       "  </thead>\n",
       "  <tbody>\n",
       "    <tr>\n",
       "      <th>0</th>\n",
       "      <td>2024-09-10 23:00:00</td>\n",
       "    </tr>\n",
       "    <tr>\n",
       "      <th>1</th>\n",
       "      <td>2024-09-10 15:00:00</td>\n",
       "    </tr>\n",
       "    <tr>\n",
       "      <th>2</th>\n",
       "      <td>2024-09-10 12:00:00</td>\n",
       "    </tr>\n",
       "    <tr>\n",
       "      <th>3</th>\n",
       "      <td>2024-09-10 00:00:00</td>\n",
       "    </tr>\n",
       "    <tr>\n",
       "      <th>4</th>\n",
       "      <td>2024-09-09 22:00:00</td>\n",
       "    </tr>\n",
       "    <tr>\n",
       "      <th>...</th>\n",
       "      <td>...</td>\n",
       "    </tr>\n",
       "    <tr>\n",
       "      <th>2550</th>\n",
       "      <td>2025-01-21 15:00:00</td>\n",
       "    </tr>\n",
       "    <tr>\n",
       "      <th>2551</th>\n",
       "      <td>2025-01-21 11:00:00</td>\n",
       "    </tr>\n",
       "    <tr>\n",
       "      <th>2552</th>\n",
       "      <td>2025-01-29 02:00:00</td>\n",
       "    </tr>\n",
       "    <tr>\n",
       "      <th>2553</th>\n",
       "      <td>2025-01-22 17:00:00</td>\n",
       "    </tr>\n",
       "    <tr>\n",
       "      <th>2554</th>\n",
       "      <td>2025-01-24 15:00:00</td>\n",
       "    </tr>\n",
       "  </tbody>\n",
       "</table>\n",
       "<p>2555 rows × 1 columns</p>\n",
       "</div>"
      ],
      "text/plain": [
       "          Order Datetime\n",
       "0    2024-09-10 23:00:00\n",
       "1    2024-09-10 15:00:00\n",
       "2    2024-09-10 12:00:00\n",
       "3    2024-09-10 00:00:00\n",
       "4    2024-09-09 22:00:00\n",
       "...                  ...\n",
       "2550 2025-01-21 15:00:00\n",
       "2551 2025-01-21 11:00:00\n",
       "2552 2025-01-29 02:00:00\n",
       "2553 2025-01-22 17:00:00\n",
       "2554 2025-01-24 15:00:00\n",
       "\n",
       "[2555 rows x 1 columns]"
      ]
     },
     "execution_count": 19,
     "metadata": {},
     "output_type": "execute_result"
    }
   ],
   "source": [
    "df_weather"
   ]
  },
  {
   "cell_type": "code",
   "execution_count": 20,
   "id": "9c811438",
   "metadata": {},
   "outputs": [
    {
     "data": {
      "text/plain": [
       "153"
      ]
     },
     "execution_count": 20,
     "metadata": {},
     "output_type": "execute_result"
    }
   ],
   "source": [
    "# how many unique days are there?\n",
    "df_weather[\"Order Datetime\"].dt.date.nunique()"
   ]
  },
  {
   "cell_type": "code",
   "execution_count": 21,
   "id": "acd0c0f0",
   "metadata": {},
   "outputs": [
    {
     "data": {
      "text/html": [
       "<div>\n",
       "<style scoped>\n",
       "    .dataframe tbody tr th:only-of-type {\n",
       "        vertical-align: middle;\n",
       "    }\n",
       "\n",
       "    .dataframe tbody tr th {\n",
       "        vertical-align: top;\n",
       "    }\n",
       "\n",
       "    .dataframe thead th {\n",
       "        text-align: right;\n",
       "    }\n",
       "</style>\n",
       "<table border=\"1\" class=\"dataframe\">\n",
       "  <thead>\n",
       "    <tr style=\"text-align: right;\">\n",
       "      <th></th>\n",
       "      <th>Restaurant ID</th>\n",
       "      <th>Restaurant name</th>\n",
       "      <th>Subzone</th>\n",
       "      <th>City</th>\n",
       "      <th>Order ID</th>\n",
       "      <th>Order Placed At</th>\n",
       "      <th>Order Status</th>\n",
       "      <th>Delivery</th>\n",
       "      <th>Distance</th>\n",
       "      <th>Items in order</th>\n",
       "      <th>Instructions</th>\n",
       "      <th>Discount construct</th>\n",
       "      <th>Bill subtotal</th>\n",
       "      <th>Packaging charges</th>\n",
       "      <th>Restaurant discount (Promo)</th>\n",
       "      <th>Restaurant discount (Flat offs, Freebies &amp; others)</th>\n",
       "      <th>Gold discount</th>\n",
       "      <th>Brand pack discount</th>\n",
       "      <th>Total</th>\n",
       "      <th>Rating</th>\n",
       "      <th>Review</th>\n",
       "      <th>Cancellation / Rejection reason</th>\n",
       "      <th>Restaurant compensation (Cancellation)</th>\n",
       "      <th>Restaurant penalty (Rejection)</th>\n",
       "      <th>KPT duration (minutes)</th>\n",
       "      <th>Rider wait time (minutes)</th>\n",
       "      <th>Order Ready Marked</th>\n",
       "      <th>Customer complaint tag</th>\n",
       "      <th>Customer ID</th>\n",
       "      <th>Order_Datetime</th>\n",
       "      <th>rest_lat</th>\n",
       "      <th>rest_lon</th>\n",
       "      <th>Distance_km</th>\n",
       "    </tr>\n",
       "  </thead>\n",
       "  <tbody>\n",
       "    <tr>\n",
       "      <th>0</th>\n",
       "      <td>20320607</td>\n",
       "      <td>Swaad</td>\n",
       "      <td>Sector 4</td>\n",
       "      <td>Delhi NCR</td>\n",
       "      <td>6168884918</td>\n",
       "      <td>11:38 PM, September 10 2024</td>\n",
       "      <td>Delivered</td>\n",
       "      <td>Zomato Delivery</td>\n",
       "      <td>3km</td>\n",
       "      <td>1 x Grilled Chicken Jamaican Tender, 1 x Grill...</td>\n",
       "      <td>NaN</td>\n",
       "      <td>40% off upto Rs.80</td>\n",
       "      <td>715.0</td>\n",
       "      <td>31.75</td>\n",
       "      <td>80.0</td>\n",
       "      <td>0.0</td>\n",
       "      <td>0.0</td>\n",
       "      <td>0.0</td>\n",
       "      <td>666.75</td>\n",
       "      <td>NaN</td>\n",
       "      <td>NaN</td>\n",
       "      <td>NaN</td>\n",
       "      <td>NaN</td>\n",
       "      <td>NaN</td>\n",
       "      <td>18.35</td>\n",
       "      <td>11.6</td>\n",
       "      <td>Correctly</td>\n",
       "      <td>NaN</td>\n",
       "      <td>5d6c2b96db963098bc69768bea504c8bf46106a8a5178e...</td>\n",
       "      <td>2024-09-10 23:38:00</td>\n",
       "      <td>28.5734</td>\n",
       "      <td>77.2581</td>\n",
       "      <td>3.0</td>\n",
       "    </tr>\n",
       "    <tr>\n",
       "      <th>1</th>\n",
       "      <td>20320607</td>\n",
       "      <td>Swaad</td>\n",
       "      <td>Sector 4</td>\n",
       "      <td>Delhi NCR</td>\n",
       "      <td>6170707559</td>\n",
       "      <td>11:34 PM, September 10 2024</td>\n",
       "      <td>Delivered</td>\n",
       "      <td>Zomato Delivery</td>\n",
       "      <td>2km</td>\n",
       "      <td>1 x Peri Peri Fries, 1 x Fried Chicken Angara ...</td>\n",
       "      <td>NaN</td>\n",
       "      <td>Flat Rs.175 off</td>\n",
       "      <td>1179.0</td>\n",
       "      <td>50.20</td>\n",
       "      <td>175.0</td>\n",
       "      <td>0.0</td>\n",
       "      <td>0.0</td>\n",
       "      <td>0.0</td>\n",
       "      <td>1054.20</td>\n",
       "      <td>NaN</td>\n",
       "      <td>NaN</td>\n",
       "      <td>NaN</td>\n",
       "      <td>NaN</td>\n",
       "      <td>NaN</td>\n",
       "      <td>16.95</td>\n",
       "      <td>3.6</td>\n",
       "      <td>Correctly</td>\n",
       "      <td>NaN</td>\n",
       "      <td>0781815deb4a10a574e9fee4fa0b86b074d4a0b36175d5...</td>\n",
       "      <td>2024-09-10 23:34:00</td>\n",
       "      <td>28.5734</td>\n",
       "      <td>77.2581</td>\n",
       "      <td>2.0</td>\n",
       "    </tr>\n",
       "    <tr>\n",
       "      <th>2</th>\n",
       "      <td>20320607</td>\n",
       "      <td>Swaad</td>\n",
       "      <td>Sector 4</td>\n",
       "      <td>Delhi NCR</td>\n",
       "      <td>6169375019</td>\n",
       "      <td>03:52 PM, September 10 2024</td>\n",
       "      <td>Delivered</td>\n",
       "      <td>Zomato Delivery</td>\n",
       "      <td>&lt;1km</td>\n",
       "      <td>1 x Bone in Peri Peri Grilled Chicken</td>\n",
       "      <td>NaN</td>\n",
       "      <td>40% off upto Rs.80</td>\n",
       "      <td>310.0</td>\n",
       "      <td>11.50</td>\n",
       "      <td>80.0</td>\n",
       "      <td>0.0</td>\n",
       "      <td>0.0</td>\n",
       "      <td>0.0</td>\n",
       "      <td>241.50</td>\n",
       "      <td>NaN</td>\n",
       "      <td>NaN</td>\n",
       "      <td>NaN</td>\n",
       "      <td>NaN</td>\n",
       "      <td>NaN</td>\n",
       "      <td>14.05</td>\n",
       "      <td>12.2</td>\n",
       "      <td>Correctly</td>\n",
       "      <td>NaN</td>\n",
       "      <td>f93362f5ce5382657482d164e368186bcec9c6225fd93d...</td>\n",
       "      <td>2024-09-10 15:52:00</td>\n",
       "      <td>28.5734</td>\n",
       "      <td>77.2581</td>\n",
       "      <td>0.9</td>\n",
       "    </tr>\n",
       "    <tr>\n",
       "      <th>3</th>\n",
       "      <td>20320607</td>\n",
       "      <td>Swaad</td>\n",
       "      <td>Sector 4</td>\n",
       "      <td>Delhi NCR</td>\n",
       "      <td>6151677434</td>\n",
       "      <td>03:45 PM, September 10 2024</td>\n",
       "      <td>Delivered</td>\n",
       "      <td>Zomato Delivery</td>\n",
       "      <td>2km</td>\n",
       "      <td>1 x Fried Chicken Ghostbuster Tender, 1 x Anga...</td>\n",
       "      <td>NaN</td>\n",
       "      <td>40% off upto Rs.80</td>\n",
       "      <td>620.0</td>\n",
       "      <td>27.00</td>\n",
       "      <td>80.0</td>\n",
       "      <td>0.0</td>\n",
       "      <td>0.0</td>\n",
       "      <td>0.0</td>\n",
       "      <td>567.00</td>\n",
       "      <td>4.0</td>\n",
       "      <td>NaN</td>\n",
       "      <td>NaN</td>\n",
       "      <td>NaN</td>\n",
       "      <td>NaN</td>\n",
       "      <td>19.00</td>\n",
       "      <td>3.3</td>\n",
       "      <td>Correctly</td>\n",
       "      <td>NaN</td>\n",
       "      <td>1ed226d1b8a5f7acee12fc1d6676558330a3b2b742af5d...</td>\n",
       "      <td>2024-09-10 15:45:00</td>\n",
       "      <td>28.5734</td>\n",
       "      <td>77.2581</td>\n",
       "      <td>2.0</td>\n",
       "    </tr>\n",
       "    <tr>\n",
       "      <th>4</th>\n",
       "      <td>20320607</td>\n",
       "      <td>Swaad</td>\n",
       "      <td>Sector 4</td>\n",
       "      <td>Delhi NCR</td>\n",
       "      <td>6167540897</td>\n",
       "      <td>03:04 PM, September 10 2024</td>\n",
       "      <td>Delivered</td>\n",
       "      <td>Zomato Delivery</td>\n",
       "      <td>2km</td>\n",
       "      <td>1 x Peri Peri Krispers, 1 x Fried Chicken Anga...</td>\n",
       "      <td>NaN</td>\n",
       "      <td>40% off upto Rs.80</td>\n",
       "      <td>584.0</td>\n",
       "      <td>25.20</td>\n",
       "      <td>80.0</td>\n",
       "      <td>0.0</td>\n",
       "      <td>0.0</td>\n",
       "      <td>0.0</td>\n",
       "      <td>529.20</td>\n",
       "      <td>NaN</td>\n",
       "      <td>NaN</td>\n",
       "      <td>NaN</td>\n",
       "      <td>NaN</td>\n",
       "      <td>NaN</td>\n",
       "      <td>15.97</td>\n",
       "      <td>1.0</td>\n",
       "      <td>Correctly</td>\n",
       "      <td>NaN</td>\n",
       "      <td>d21a2ac6ea06b31cc3288ab20c4ef2f292066c096f2c5f...</td>\n",
       "      <td>2024-09-10 15:04:00</td>\n",
       "      <td>28.5734</td>\n",
       "      <td>77.2581</td>\n",
       "      <td>2.0</td>\n",
       "    </tr>\n",
       "  </tbody>\n",
       "</table>\n",
       "</div>"
      ],
      "text/plain": [
       "   Restaurant ID Restaurant name   Subzone       City    Order ID  \\\n",
       "0       20320607           Swaad  Sector 4  Delhi NCR  6168884918   \n",
       "1       20320607           Swaad  Sector 4  Delhi NCR  6170707559   \n",
       "2       20320607           Swaad  Sector 4  Delhi NCR  6169375019   \n",
       "3       20320607           Swaad  Sector 4  Delhi NCR  6151677434   \n",
       "4       20320607           Swaad  Sector 4  Delhi NCR  6167540897   \n",
       "\n",
       "               Order Placed At Order Status         Delivery Distance  \\\n",
       "0  11:38 PM, September 10 2024    Delivered  Zomato Delivery      3km   \n",
       "1  11:34 PM, September 10 2024    Delivered  Zomato Delivery      2km   \n",
       "2  03:52 PM, September 10 2024    Delivered  Zomato Delivery     <1km   \n",
       "3  03:45 PM, September 10 2024    Delivered  Zomato Delivery      2km   \n",
       "4  03:04 PM, September 10 2024    Delivered  Zomato Delivery      2km   \n",
       "\n",
       "                                      Items in order Instructions  \\\n",
       "0  1 x Grilled Chicken Jamaican Tender, 1 x Grill...          NaN   \n",
       "1  1 x Peri Peri Fries, 1 x Fried Chicken Angara ...          NaN   \n",
       "2              1 x Bone in Peri Peri Grilled Chicken          NaN   \n",
       "3  1 x Fried Chicken Ghostbuster Tender, 1 x Anga...          NaN   \n",
       "4  1 x Peri Peri Krispers, 1 x Fried Chicken Anga...          NaN   \n",
       "\n",
       "   Discount construct  Bill subtotal  Packaging charges  \\\n",
       "0  40% off upto Rs.80          715.0              31.75   \n",
       "1     Flat Rs.175 off         1179.0              50.20   \n",
       "2  40% off upto Rs.80          310.0              11.50   \n",
       "3  40% off upto Rs.80          620.0              27.00   \n",
       "4  40% off upto Rs.80          584.0              25.20   \n",
       "\n",
       "   Restaurant discount (Promo)  \\\n",
       "0                         80.0   \n",
       "1                        175.0   \n",
       "2                         80.0   \n",
       "3                         80.0   \n",
       "4                         80.0   \n",
       "\n",
       "   Restaurant discount (Flat offs, Freebies & others)  Gold discount  \\\n",
       "0                                                0.0             0.0   \n",
       "1                                                0.0             0.0   \n",
       "2                                                0.0             0.0   \n",
       "3                                                0.0             0.0   \n",
       "4                                                0.0             0.0   \n",
       "\n",
       "   Brand pack discount    Total  Rating Review  \\\n",
       "0                  0.0   666.75     NaN    NaN   \n",
       "1                  0.0  1054.20     NaN    NaN   \n",
       "2                  0.0   241.50     NaN    NaN   \n",
       "3                  0.0   567.00     4.0    NaN   \n",
       "4                  0.0   529.20     NaN    NaN   \n",
       "\n",
       "  Cancellation / Rejection reason  Restaurant compensation (Cancellation)  \\\n",
       "0                             NaN                                     NaN   \n",
       "1                             NaN                                     NaN   \n",
       "2                             NaN                                     NaN   \n",
       "3                             NaN                                     NaN   \n",
       "4                             NaN                                     NaN   \n",
       "\n",
       "   Restaurant penalty (Rejection)  KPT duration (minutes)  \\\n",
       "0                             NaN                   18.35   \n",
       "1                             NaN                   16.95   \n",
       "2                             NaN                   14.05   \n",
       "3                             NaN                   19.00   \n",
       "4                             NaN                   15.97   \n",
       "\n",
       "   Rider wait time (minutes) Order Ready Marked Customer complaint tag  \\\n",
       "0                       11.6          Correctly                    NaN   \n",
       "1                        3.6          Correctly                    NaN   \n",
       "2                       12.2          Correctly                    NaN   \n",
       "3                        3.3          Correctly                    NaN   \n",
       "4                        1.0          Correctly                    NaN   \n",
       "\n",
       "                                         Customer ID      Order_Datetime  \\\n",
       "0  5d6c2b96db963098bc69768bea504c8bf46106a8a5178e... 2024-09-10 23:38:00   \n",
       "1  0781815deb4a10a574e9fee4fa0b86b074d4a0b36175d5... 2024-09-10 23:34:00   \n",
       "2  f93362f5ce5382657482d164e368186bcec9c6225fd93d... 2024-09-10 15:52:00   \n",
       "3  1ed226d1b8a5f7acee12fc1d6676558330a3b2b742af5d... 2024-09-10 15:45:00   \n",
       "4  d21a2ac6ea06b31cc3288ab20c4ef2f292066c096f2c5f... 2024-09-10 15:04:00   \n",
       "\n",
       "   rest_lat  rest_lon  Distance_km  \n",
       "0   28.5734   77.2581          3.0  \n",
       "1   28.5734   77.2581          2.0  \n",
       "2   28.5734   77.2581          0.9  \n",
       "3   28.5734   77.2581          2.0  \n",
       "4   28.5734   77.2581          2.0  "
      ]
     },
     "execution_count": 21,
     "metadata": {},
     "output_type": "execute_result"
    }
   ],
   "source": [
    "df.head()"
   ]
  },
  {
   "cell_type": "code",
   "execution_count": 22,
   "id": "f2fa5f5c",
   "metadata": {},
   "outputs": [
    {
     "name": "stderr",
     "output_type": "stream",
     "text": [
      "Fetching weather data: 100%|██████████| 21321/21321 [00:00<00:00, 38349.82it/s]\n"
     ]
    }
   ],
   "source": [
    "import os\n",
    "import pickle\n",
    "from datetime import timedelta\n",
    "from meteostat import Hourly, Point\n",
    "from tqdm import tqdm\n",
    "\n",
    "# -------------------------------------------------------\n",
    "# 1️⃣ Cache Setup\n",
    "# -------------------------------------------------------\n",
    "CACHE_FILE = \"weather_cache.pkl\"\n",
    "\n",
    "if os.path.exists(CACHE_FILE):\n",
    "    with open(CACHE_FILE, \"rb\") as f:\n",
    "        weather_cache = pickle.load(f)\n",
    "else:\n",
    "    weather_cache = {}\n",
    "\n",
    "def save_cache():\n",
    "    with open(CACHE_FILE, \"wb\") as f:\n",
    "        pickle.dump(weather_cache, f)\n",
    "\n",
    "# -------------------------------------------------------\n",
    "# 2️⃣ Coordinates\n",
    "# -------------------------------------------------------\n",
    "restaurant_coords = {\n",
    "    'Aura Pizzas': [28.55, 77.25],\n",
    "    'Swaad': [28.59, 77.36],\n",
    "    'Dilli Burger Adda': [28.50, 77.20],\n",
    "    'Tandoori Junction': [28.53, 77.15],\n",
    "    'The Chicken Junction': [28.52, 77.21],\n",
    "    'Masala Junction': [28.57, 77.35]\n",
    "}\n",
    "\n",
    "subzone_coords = {\n",
    "    'Greater Kailash 2 (GK2)': [28.5416, 77.2437],\n",
    "    'Sector 4': [28.5900, 77.4000],\n",
    "    'DLF Phase 1': [28.4590, 77.0300],\n",
    "    'Sector 135': [28.5700, 77.3600],\n",
    "    'Vasant Kunj': [28.5300, 77.1500],\n",
    "    'Shahdara': [28.6667, 77.2700],\n",
    "    'Chittaranjan Park': [28.5530, 77.2580],\n",
    "    'Sikandarpur': [28.4970, 77.0830]\n",
    "}\n",
    "\n",
    "# -------------------------------------------------------\n",
    "# 3️⃣ Weather Code Mapping\n",
    "# -------------------------------------------------------\n",
    "def map_weather_condition(code):\n",
    "    \"\"\"Simplify Meteostat COCO code to human-readable label.\"\"\"\n",
    "    if pd.isna(code):\n",
    "        return np.nan\n",
    "    code = int(code)\n",
    "    if code in [1, 2]:\n",
    "        return \"Clear\"\n",
    "    elif code in [3, 4]:\n",
    "        return \"Cloudy\"\n",
    "    elif code in [6, 7, 8, 16]:\n",
    "        return \"Rainy\"\n",
    "    elif code in [9, 10]:\n",
    "        return \"Stormy\"\n",
    "    elif code in [5, 17]:\n",
    "        return \"Foggy\"\n",
    "    elif code in [11, 12, 13, 14, 15]:\n",
    "        return \"Snowy\"\n",
    "    else:\n",
    "        return \"Other\"\n",
    "\n",
    "# -------------------------------------------------------\n",
    "# 4️⃣ Main Fetch Function (Cache-Aware)\n",
    "# -------------------------------------------------------\n",
    "def get_weather_for_time(lat, lon, timestamp):\n",
    "    \"\"\"Fetch hourly weather for given lat/lon and timestamp (with pickle caching).\"\"\"\n",
    "    key = (round(lat, 3), round(lon, 3), timestamp.strftime(\"%Y-%m-%d %H\"))\n",
    "    if key in weather_cache:\n",
    "        return weather_cache[key]\n",
    "\n",
    "    location = Point(lat, lon)\n",
    "    start = timestamp - timedelta(hours=1)\n",
    "    end = timestamp + timedelta(hours=1)\n",
    "    data = Hourly(location, start, end).fetch()\n",
    "\n",
    "    if not data.empty:\n",
    "        idx = np.argmin(np.abs((data.index - timestamp).total_seconds()))\n",
    "        row = data.iloc[idx]\n",
    "\n",
    "        result = {\n",
    "            \"temperature\": row.get(\"temp\", np.nan),\n",
    "            \"humidity\": row.get(\"rhum\", np.nan),\n",
    "            \"precipitation\": row.get(\"prcp\", 0),\n",
    "            \"wind_speed\": row.get(\"wspd\", np.nan),\n",
    "            \"weather_condition\": map_weather_condition(row.get(\"coco\", np.nan))\n",
    "        }\n",
    "    else:\n",
    "        result = {\n",
    "            \"temperature\": np.nan,\n",
    "            \"humidity\": np.nan,\n",
    "            \"precipitation\": 0,\n",
    "            \"wind_speed\": np.nan,\n",
    "            \"weather_condition\": np.nan\n",
    "        }\n",
    "\n",
    "    weather_cache[key] = result\n",
    "    return result\n",
    "\n",
    "# -------------------------------------------------------\n",
    "# 5️⃣ Coordinate Helper\n",
    "# -------------------------------------------------------\n",
    "def get_coordinates(row):\n",
    "    \"\"\"Return coordinates based on Restaurant name or Subzone.\"\"\"\n",
    "    if row[\"Restaurant name\"] in restaurant_coords:\n",
    "        return restaurant_coords[row[\"Restaurant name\"]]\n",
    "    elif row[\"Subzone\"] in subzone_coords:\n",
    "        return subzone_coords[row[\"Subzone\"]]\n",
    "    else:\n",
    "        return [28.6139, 77.2090]  # Default to Delhi NCR center\n",
    "\n",
    "# -------------------------------------------------------\n",
    "# 6️⃣ Fetch Weather for Each Order\n",
    "# -------------------------------------------------------\n",
    "records = []\n",
    "for _, row in tqdm(df.iterrows(), total=len(df), desc=\"Fetching weather data\"):\n",
    "    lat, lon = get_coordinates(row)\n",
    "    weather = get_weather_for_time(lat, lon, row[\"Order_Datetime\"])\n",
    "    weather[\"is_weekend_or_holiday\"] = row[\"Order_Datetime\"].weekday() >= 5\n",
    "    records.append(weather)\n",
    "\n",
    "# Build weather DataFrame\n",
    "weather_df = pd.DataFrame(records)\n",
    "\n",
    "# Drop existing weather columns if they exist to overwrite\n",
    "for col in [\"temperature\", \"humidity\", \"precipitation\", \"wind_speed\", \"weather_condition\", \"is_weekend_or_holiday\"]:\n",
    "    if col in df.columns:\n",
    "        df.drop(columns=[col], inplace=True)\n",
    "\n",
    "# Concatenate new weather columns\n",
    "df = pd.concat([df.reset_index(drop=True), weather_df], axis=1)\n",
    "\n",
    "save_cache()  # persist new results\n"
   ]
  },
  {
   "cell_type": "code",
   "execution_count": 23,
   "id": "7968a65d",
   "metadata": {},
   "outputs": [
    {
     "data": {
      "text/html": [
       "<div>\n",
       "<style scoped>\n",
       "    .dataframe tbody tr th:only-of-type {\n",
       "        vertical-align: middle;\n",
       "    }\n",
       "\n",
       "    .dataframe tbody tr th {\n",
       "        vertical-align: top;\n",
       "    }\n",
       "\n",
       "    .dataframe thead th {\n",
       "        text-align: right;\n",
       "    }\n",
       "</style>\n",
       "<table border=\"1\" class=\"dataframe\">\n",
       "  <thead>\n",
       "    <tr style=\"text-align: right;\">\n",
       "      <th></th>\n",
       "      <th>Restaurant ID</th>\n",
       "      <th>Restaurant name</th>\n",
       "      <th>Subzone</th>\n",
       "      <th>City</th>\n",
       "      <th>Order ID</th>\n",
       "      <th>Order Placed At</th>\n",
       "      <th>Order Status</th>\n",
       "      <th>Delivery</th>\n",
       "      <th>Distance</th>\n",
       "      <th>Items in order</th>\n",
       "      <th>Instructions</th>\n",
       "      <th>Discount construct</th>\n",
       "      <th>Bill subtotal</th>\n",
       "      <th>Packaging charges</th>\n",
       "      <th>Restaurant discount (Promo)</th>\n",
       "      <th>Restaurant discount (Flat offs, Freebies &amp; others)</th>\n",
       "      <th>Gold discount</th>\n",
       "      <th>Brand pack discount</th>\n",
       "      <th>Total</th>\n",
       "      <th>Rating</th>\n",
       "      <th>Review</th>\n",
       "      <th>Cancellation / Rejection reason</th>\n",
       "      <th>Restaurant compensation (Cancellation)</th>\n",
       "      <th>Restaurant penalty (Rejection)</th>\n",
       "      <th>KPT duration (minutes)</th>\n",
       "      <th>Rider wait time (minutes)</th>\n",
       "      <th>Order Ready Marked</th>\n",
       "      <th>Customer complaint tag</th>\n",
       "      <th>Customer ID</th>\n",
       "      <th>Order_Datetime</th>\n",
       "      <th>rest_lat</th>\n",
       "      <th>rest_lon</th>\n",
       "      <th>Distance_km</th>\n",
       "      <th>temperature</th>\n",
       "      <th>humidity</th>\n",
       "      <th>precipitation</th>\n",
       "      <th>wind_speed</th>\n",
       "      <th>weather_condition</th>\n",
       "      <th>is_weekend_or_holiday</th>\n",
       "    </tr>\n",
       "  </thead>\n",
       "  <tbody>\n",
       "    <tr>\n",
       "      <th>0</th>\n",
       "      <td>20320607</td>\n",
       "      <td>Swaad</td>\n",
       "      <td>Sector 4</td>\n",
       "      <td>Delhi NCR</td>\n",
       "      <td>6168884918</td>\n",
       "      <td>11:38 PM, September 10 2024</td>\n",
       "      <td>Delivered</td>\n",
       "      <td>Zomato Delivery</td>\n",
       "      <td>3km</td>\n",
       "      <td>1 x Grilled Chicken Jamaican Tender, 1 x Grill...</td>\n",
       "      <td>NaN</td>\n",
       "      <td>40% off upto Rs.80</td>\n",
       "      <td>715.0</td>\n",
       "      <td>31.75</td>\n",
       "      <td>80.0</td>\n",
       "      <td>0.0</td>\n",
       "      <td>0.0</td>\n",
       "      <td>0.0</td>\n",
       "      <td>666.75</td>\n",
       "      <td>NaN</td>\n",
       "      <td>NaN</td>\n",
       "      <td>NaN</td>\n",
       "      <td>NaN</td>\n",
       "      <td>NaN</td>\n",
       "      <td>18.35</td>\n",
       "      <td>11.6</td>\n",
       "      <td>Correctly</td>\n",
       "      <td>NaN</td>\n",
       "      <td>5d6c2b96db963098bc69768bea504c8bf46106a8a5178e...</td>\n",
       "      <td>2024-09-10 23:38:00</td>\n",
       "      <td>28.5734</td>\n",
       "      <td>77.2581</td>\n",
       "      <td>3.0</td>\n",
       "      <td>26.0</td>\n",
       "      <td>96.0</td>\n",
       "      <td>0.0</td>\n",
       "      <td>0.0</td>\n",
       "      <td>Cloudy</td>\n",
       "      <td>False</td>\n",
       "    </tr>\n",
       "    <tr>\n",
       "      <th>1</th>\n",
       "      <td>20320607</td>\n",
       "      <td>Swaad</td>\n",
       "      <td>Sector 4</td>\n",
       "      <td>Delhi NCR</td>\n",
       "      <td>6170707559</td>\n",
       "      <td>11:34 PM, September 10 2024</td>\n",
       "      <td>Delivered</td>\n",
       "      <td>Zomato Delivery</td>\n",
       "      <td>2km</td>\n",
       "      <td>1 x Peri Peri Fries, 1 x Fried Chicken Angara ...</td>\n",
       "      <td>NaN</td>\n",
       "      <td>Flat Rs.175 off</td>\n",
       "      <td>1179.0</td>\n",
       "      <td>50.20</td>\n",
       "      <td>175.0</td>\n",
       "      <td>0.0</td>\n",
       "      <td>0.0</td>\n",
       "      <td>0.0</td>\n",
       "      <td>1054.20</td>\n",
       "      <td>NaN</td>\n",
       "      <td>NaN</td>\n",
       "      <td>NaN</td>\n",
       "      <td>NaN</td>\n",
       "      <td>NaN</td>\n",
       "      <td>16.95</td>\n",
       "      <td>3.6</td>\n",
       "      <td>Correctly</td>\n",
       "      <td>NaN</td>\n",
       "      <td>0781815deb4a10a574e9fee4fa0b86b074d4a0b36175d5...</td>\n",
       "      <td>2024-09-10 23:34:00</td>\n",
       "      <td>28.5734</td>\n",
       "      <td>77.2581</td>\n",
       "      <td>2.0</td>\n",
       "      <td>26.0</td>\n",
       "      <td>96.0</td>\n",
       "      <td>0.0</td>\n",
       "      <td>0.0</td>\n",
       "      <td>Cloudy</td>\n",
       "      <td>False</td>\n",
       "    </tr>\n",
       "    <tr>\n",
       "      <th>2</th>\n",
       "      <td>20320607</td>\n",
       "      <td>Swaad</td>\n",
       "      <td>Sector 4</td>\n",
       "      <td>Delhi NCR</td>\n",
       "      <td>6169375019</td>\n",
       "      <td>03:52 PM, September 10 2024</td>\n",
       "      <td>Delivered</td>\n",
       "      <td>Zomato Delivery</td>\n",
       "      <td>&lt;1km</td>\n",
       "      <td>1 x Bone in Peri Peri Grilled Chicken</td>\n",
       "      <td>NaN</td>\n",
       "      <td>40% off upto Rs.80</td>\n",
       "      <td>310.0</td>\n",
       "      <td>11.50</td>\n",
       "      <td>80.0</td>\n",
       "      <td>0.0</td>\n",
       "      <td>0.0</td>\n",
       "      <td>0.0</td>\n",
       "      <td>241.50</td>\n",
       "      <td>NaN</td>\n",
       "      <td>NaN</td>\n",
       "      <td>NaN</td>\n",
       "      <td>NaN</td>\n",
       "      <td>NaN</td>\n",
       "      <td>14.05</td>\n",
       "      <td>12.2</td>\n",
       "      <td>Correctly</td>\n",
       "      <td>NaN</td>\n",
       "      <td>f93362f5ce5382657482d164e368186bcec9c6225fd93d...</td>\n",
       "      <td>2024-09-10 15:52:00</td>\n",
       "      <td>28.5734</td>\n",
       "      <td>77.2581</td>\n",
       "      <td>0.9</td>\n",
       "      <td>26.1</td>\n",
       "      <td>95.0</td>\n",
       "      <td>0.0</td>\n",
       "      <td>0.0</td>\n",
       "      <td>Cloudy</td>\n",
       "      <td>False</td>\n",
       "    </tr>\n",
       "    <tr>\n",
       "      <th>3</th>\n",
       "      <td>20320607</td>\n",
       "      <td>Swaad</td>\n",
       "      <td>Sector 4</td>\n",
       "      <td>Delhi NCR</td>\n",
       "      <td>6151677434</td>\n",
       "      <td>03:45 PM, September 10 2024</td>\n",
       "      <td>Delivered</td>\n",
       "      <td>Zomato Delivery</td>\n",
       "      <td>2km</td>\n",
       "      <td>1 x Fried Chicken Ghostbuster Tender, 1 x Anga...</td>\n",
       "      <td>NaN</td>\n",
       "      <td>40% off upto Rs.80</td>\n",
       "      <td>620.0</td>\n",
       "      <td>27.00</td>\n",
       "      <td>80.0</td>\n",
       "      <td>0.0</td>\n",
       "      <td>0.0</td>\n",
       "      <td>0.0</td>\n",
       "      <td>567.00</td>\n",
       "      <td>4.0</td>\n",
       "      <td>NaN</td>\n",
       "      <td>NaN</td>\n",
       "      <td>NaN</td>\n",
       "      <td>NaN</td>\n",
       "      <td>19.00</td>\n",
       "      <td>3.3</td>\n",
       "      <td>Correctly</td>\n",
       "      <td>NaN</td>\n",
       "      <td>1ed226d1b8a5f7acee12fc1d6676558330a3b2b742af5d...</td>\n",
       "      <td>2024-09-10 15:45:00</td>\n",
       "      <td>28.5734</td>\n",
       "      <td>77.2581</td>\n",
       "      <td>2.0</td>\n",
       "      <td>26.1</td>\n",
       "      <td>95.0</td>\n",
       "      <td>0.0</td>\n",
       "      <td>0.0</td>\n",
       "      <td>Cloudy</td>\n",
       "      <td>False</td>\n",
       "    </tr>\n",
       "    <tr>\n",
       "      <th>4</th>\n",
       "      <td>20320607</td>\n",
       "      <td>Swaad</td>\n",
       "      <td>Sector 4</td>\n",
       "      <td>Delhi NCR</td>\n",
       "      <td>6167540897</td>\n",
       "      <td>03:04 PM, September 10 2024</td>\n",
       "      <td>Delivered</td>\n",
       "      <td>Zomato Delivery</td>\n",
       "      <td>2km</td>\n",
       "      <td>1 x Peri Peri Krispers, 1 x Fried Chicken Anga...</td>\n",
       "      <td>NaN</td>\n",
       "      <td>40% off upto Rs.80</td>\n",
       "      <td>584.0</td>\n",
       "      <td>25.20</td>\n",
       "      <td>80.0</td>\n",
       "      <td>0.0</td>\n",
       "      <td>0.0</td>\n",
       "      <td>0.0</td>\n",
       "      <td>529.20</td>\n",
       "      <td>NaN</td>\n",
       "      <td>NaN</td>\n",
       "      <td>NaN</td>\n",
       "      <td>NaN</td>\n",
       "      <td>NaN</td>\n",
       "      <td>15.97</td>\n",
       "      <td>1.0</td>\n",
       "      <td>Correctly</td>\n",
       "      <td>NaN</td>\n",
       "      <td>d21a2ac6ea06b31cc3288ab20c4ef2f292066c096f2c5f...</td>\n",
       "      <td>2024-09-10 15:04:00</td>\n",
       "      <td>28.5734</td>\n",
       "      <td>77.2581</td>\n",
       "      <td>2.0</td>\n",
       "      <td>26.1</td>\n",
       "      <td>95.0</td>\n",
       "      <td>0.0</td>\n",
       "      <td>0.0</td>\n",
       "      <td>Cloudy</td>\n",
       "      <td>False</td>\n",
       "    </tr>\n",
       "  </tbody>\n",
       "</table>\n",
       "</div>"
      ],
      "text/plain": [
       "   Restaurant ID Restaurant name   Subzone       City    Order ID  \\\n",
       "0       20320607           Swaad  Sector 4  Delhi NCR  6168884918   \n",
       "1       20320607           Swaad  Sector 4  Delhi NCR  6170707559   \n",
       "2       20320607           Swaad  Sector 4  Delhi NCR  6169375019   \n",
       "3       20320607           Swaad  Sector 4  Delhi NCR  6151677434   \n",
       "4       20320607           Swaad  Sector 4  Delhi NCR  6167540897   \n",
       "\n",
       "               Order Placed At Order Status         Delivery Distance  \\\n",
       "0  11:38 PM, September 10 2024    Delivered  Zomato Delivery      3km   \n",
       "1  11:34 PM, September 10 2024    Delivered  Zomato Delivery      2km   \n",
       "2  03:52 PM, September 10 2024    Delivered  Zomato Delivery     <1km   \n",
       "3  03:45 PM, September 10 2024    Delivered  Zomato Delivery      2km   \n",
       "4  03:04 PM, September 10 2024    Delivered  Zomato Delivery      2km   \n",
       "\n",
       "                                      Items in order Instructions  \\\n",
       "0  1 x Grilled Chicken Jamaican Tender, 1 x Grill...          NaN   \n",
       "1  1 x Peri Peri Fries, 1 x Fried Chicken Angara ...          NaN   \n",
       "2              1 x Bone in Peri Peri Grilled Chicken          NaN   \n",
       "3  1 x Fried Chicken Ghostbuster Tender, 1 x Anga...          NaN   \n",
       "4  1 x Peri Peri Krispers, 1 x Fried Chicken Anga...          NaN   \n",
       "\n",
       "   Discount construct  Bill subtotal  Packaging charges  \\\n",
       "0  40% off upto Rs.80          715.0              31.75   \n",
       "1     Flat Rs.175 off         1179.0              50.20   \n",
       "2  40% off upto Rs.80          310.0              11.50   \n",
       "3  40% off upto Rs.80          620.0              27.00   \n",
       "4  40% off upto Rs.80          584.0              25.20   \n",
       "\n",
       "   Restaurant discount (Promo)  \\\n",
       "0                         80.0   \n",
       "1                        175.0   \n",
       "2                         80.0   \n",
       "3                         80.0   \n",
       "4                         80.0   \n",
       "\n",
       "   Restaurant discount (Flat offs, Freebies & others)  Gold discount  \\\n",
       "0                                                0.0             0.0   \n",
       "1                                                0.0             0.0   \n",
       "2                                                0.0             0.0   \n",
       "3                                                0.0             0.0   \n",
       "4                                                0.0             0.0   \n",
       "\n",
       "   Brand pack discount    Total  Rating Review  \\\n",
       "0                  0.0   666.75     NaN    NaN   \n",
       "1                  0.0  1054.20     NaN    NaN   \n",
       "2                  0.0   241.50     NaN    NaN   \n",
       "3                  0.0   567.00     4.0    NaN   \n",
       "4                  0.0   529.20     NaN    NaN   \n",
       "\n",
       "  Cancellation / Rejection reason  Restaurant compensation (Cancellation)  \\\n",
       "0                             NaN                                     NaN   \n",
       "1                             NaN                                     NaN   \n",
       "2                             NaN                                     NaN   \n",
       "3                             NaN                                     NaN   \n",
       "4                             NaN                                     NaN   \n",
       "\n",
       "   Restaurant penalty (Rejection)  KPT duration (minutes)  \\\n",
       "0                             NaN                   18.35   \n",
       "1                             NaN                   16.95   \n",
       "2                             NaN                   14.05   \n",
       "3                             NaN                   19.00   \n",
       "4                             NaN                   15.97   \n",
       "\n",
       "   Rider wait time (minutes) Order Ready Marked Customer complaint tag  \\\n",
       "0                       11.6          Correctly                    NaN   \n",
       "1                        3.6          Correctly                    NaN   \n",
       "2                       12.2          Correctly                    NaN   \n",
       "3                        3.3          Correctly                    NaN   \n",
       "4                        1.0          Correctly                    NaN   \n",
       "\n",
       "                                         Customer ID      Order_Datetime  \\\n",
       "0  5d6c2b96db963098bc69768bea504c8bf46106a8a5178e... 2024-09-10 23:38:00   \n",
       "1  0781815deb4a10a574e9fee4fa0b86b074d4a0b36175d5... 2024-09-10 23:34:00   \n",
       "2  f93362f5ce5382657482d164e368186bcec9c6225fd93d... 2024-09-10 15:52:00   \n",
       "3  1ed226d1b8a5f7acee12fc1d6676558330a3b2b742af5d... 2024-09-10 15:45:00   \n",
       "4  d21a2ac6ea06b31cc3288ab20c4ef2f292066c096f2c5f... 2024-09-10 15:04:00   \n",
       "\n",
       "   rest_lat  rest_lon  Distance_km  temperature  humidity precipitation  \\\n",
       "0   28.5734   77.2581          3.0         26.0      96.0           0.0   \n",
       "1   28.5734   77.2581          2.0         26.0      96.0           0.0   \n",
       "2   28.5734   77.2581          0.9         26.1      95.0           0.0   \n",
       "3   28.5734   77.2581          2.0         26.1      95.0           0.0   \n",
       "4   28.5734   77.2581          2.0         26.1      95.0           0.0   \n",
       "\n",
       "   wind_speed weather_condition  is_weekend_or_holiday  \n",
       "0         0.0            Cloudy                  False  \n",
       "1         0.0            Cloudy                  False  \n",
       "2         0.0            Cloudy                  False  \n",
       "3         0.0            Cloudy                  False  \n",
       "4         0.0            Cloudy                  False  "
      ]
     },
     "execution_count": 23,
     "metadata": {},
     "output_type": "execute_result"
    }
   ],
   "source": [
    "df.head()"
   ]
  },
  {
   "cell_type": "code",
   "execution_count": 24,
   "id": "a6df9a6e",
   "metadata": {},
   "outputs": [
    {
     "data": {
      "text/plain": [
       "11607"
      ]
     },
     "execution_count": 24,
     "metadata": {},
     "output_type": "execute_result"
    }
   ],
   "source": [
    "df[\"Customer ID\"].nunique()"
   ]
  },
  {
   "cell_type": "code",
   "execution_count": 25,
   "id": "0aefdb6a",
   "metadata": {},
   "outputs": [
    {
     "data": {
      "text/html": [
       "<div>\n",
       "<style scoped>\n",
       "    .dataframe tbody tr th:only-of-type {\n",
       "        vertical-align: middle;\n",
       "    }\n",
       "\n",
       "    .dataframe tbody tr th {\n",
       "        vertical-align: top;\n",
       "    }\n",
       "\n",
       "    .dataframe thead th {\n",
       "        text-align: right;\n",
       "    }\n",
       "</style>\n",
       "<table border=\"1\" class=\"dataframe\">\n",
       "  <thead>\n",
       "    <tr style=\"text-align: right;\">\n",
       "      <th></th>\n",
       "      <th>Restaurant ID</th>\n",
       "      <th>Order ID</th>\n",
       "      <th>Bill subtotal</th>\n",
       "      <th>Packaging charges</th>\n",
       "      <th>Restaurant discount (Promo)</th>\n",
       "      <th>Restaurant discount (Flat offs, Freebies &amp; others)</th>\n",
       "      <th>Gold discount</th>\n",
       "      <th>Brand pack discount</th>\n",
       "      <th>Total</th>\n",
       "      <th>Rating</th>\n",
       "      <th>Restaurant compensation (Cancellation)</th>\n",
       "      <th>Restaurant penalty (Rejection)</th>\n",
       "      <th>KPT duration (minutes)</th>\n",
       "      <th>Rider wait time (minutes)</th>\n",
       "      <th>Order_Datetime</th>\n",
       "      <th>rest_lat</th>\n",
       "      <th>rest_lon</th>\n",
       "      <th>Distance_km</th>\n",
       "      <th>temperature</th>\n",
       "      <th>humidity</th>\n",
       "      <th>wind_speed</th>\n",
       "    </tr>\n",
       "  </thead>\n",
       "  <tbody>\n",
       "    <tr>\n",
       "      <th>count</th>\n",
       "      <td>2.132100e+04</td>\n",
       "      <td>2.132100e+04</td>\n",
       "      <td>21321.000000</td>\n",
       "      <td>21321.000000</td>\n",
       "      <td>21321.000000</td>\n",
       "      <td>21321.000000</td>\n",
       "      <td>21321.000000</td>\n",
       "      <td>21321.000000</td>\n",
       "      <td>21321.000000</td>\n",
       "      <td>2491.000000</td>\n",
       "      <td>133.000000</td>\n",
       "      <td>3.0</td>\n",
       "      <td>21026.000000</td>\n",
       "      <td>21153.000000</td>\n",
       "      <td>21321</td>\n",
       "      <td>21321.000000</td>\n",
       "      <td>21321.000000</td>\n",
       "      <td>21321.000000</td>\n",
       "      <td>21321.000000</td>\n",
       "      <td>21321.000000</td>\n",
       "      <td>21321.000000</td>\n",
       "    </tr>\n",
       "    <tr>\n",
       "      <th>mean</th>\n",
       "      <td>2.074413e+07</td>\n",
       "      <td>6.354622e+09</td>\n",
       "      <td>750.076838</td>\n",
       "      <td>32.564592</td>\n",
       "      <td>65.091816</td>\n",
       "      <td>31.795058</td>\n",
       "      <td>0.099128</td>\n",
       "      <td>3.039324</td>\n",
       "      <td>682.616113</td>\n",
       "      <td>4.356885</td>\n",
       "      <td>356.409549</td>\n",
       "      <td>0.0</td>\n",
       "      <td>17.332960</td>\n",
       "      <td>4.825070</td>\n",
       "      <td>2024-11-16 05:27:51.124243456</td>\n",
       "      <td>28.583659</td>\n",
       "      <td>77.232513</td>\n",
       "      <td>4.179687</td>\n",
       "      <td>18.433085</td>\n",
       "      <td>88.833169</td>\n",
       "      <td>1.562914</td>\n",
       "    </tr>\n",
       "    <tr>\n",
       "      <th>min</th>\n",
       "      <td>2.032061e+07</td>\n",
       "      <td>6.086767e+09</td>\n",
       "      <td>50.000000</td>\n",
       "      <td>0.000000</td>\n",
       "      <td>0.000000</td>\n",
       "      <td>0.000000</td>\n",
       "      <td>0.000000</td>\n",
       "      <td>0.000000</td>\n",
       "      <td>52.500000</td>\n",
       "      <td>1.000000</td>\n",
       "      <td>83.580000</td>\n",
       "      <td>0.0</td>\n",
       "      <td>0.000000</td>\n",
       "      <td>0.100000</td>\n",
       "      <td>2024-09-01 00:13:00</td>\n",
       "      <td>28.530900</td>\n",
       "      <td>77.092300</td>\n",
       "      <td>0.900000</td>\n",
       "      <td>4.800000</td>\n",
       "      <td>35.000000</td>\n",
       "      <td>0.000000</td>\n",
       "    </tr>\n",
       "    <tr>\n",
       "      <th>25%</th>\n",
       "      <td>2.063570e+07</td>\n",
       "      <td>6.250751e+09</td>\n",
       "      <td>459.000000</td>\n",
       "      <td>18.450000</td>\n",
       "      <td>0.000000</td>\n",
       "      <td>0.000000</td>\n",
       "      <td>0.000000</td>\n",
       "      <td>0.000000</td>\n",
       "      <td>387.450000</td>\n",
       "      <td>4.000000</td>\n",
       "      <td>191.950000</td>\n",
       "      <td>0.0</td>\n",
       "      <td>13.380000</td>\n",
       "      <td>1.000000</td>\n",
       "      <td>2024-10-09 23:34:00</td>\n",
       "      <td>28.573400</td>\n",
       "      <td>77.223000</td>\n",
       "      <td>2.000000</td>\n",
       "      <td>12.000000</td>\n",
       "      <td>85.000000</td>\n",
       "      <td>0.000000</td>\n",
       "    </tr>\n",
       "    <tr>\n",
       "      <th>50%</th>\n",
       "      <td>2.065987e+07</td>\n",
       "      <td>6.357715e+09</td>\n",
       "      <td>629.000000</td>\n",
       "      <td>28.450000</td>\n",
       "      <td>80.000000</td>\n",
       "      <td>0.000000</td>\n",
       "      <td>0.000000</td>\n",
       "      <td>0.000000</td>\n",
       "      <td>597.450000</td>\n",
       "      <td>5.000000</td>\n",
       "      <td>272.580000</td>\n",
       "      <td>0.0</td>\n",
       "      <td>16.330000</td>\n",
       "      <td>3.100000</td>\n",
       "      <td>2024-11-15 23:38:00</td>\n",
       "      <td>28.586600</td>\n",
       "      <td>77.223000</td>\n",
       "      <td>3.000000</td>\n",
       "      <td>18.300000</td>\n",
       "      <td>92.000000</td>\n",
       "      <td>0.000000</td>\n",
       "    </tr>\n",
       "    <tr>\n",
       "      <th>75%</th>\n",
       "      <td>2.088265e+07</td>\n",
       "      <td>6.456827e+09</td>\n",
       "      <td>899.000000</td>\n",
       "      <td>39.950000</td>\n",
       "      <td>100.000000</td>\n",
       "      <td>0.000000</td>\n",
       "      <td>0.000000</td>\n",
       "      <td>0.000000</td>\n",
       "      <td>837.900000</td>\n",
       "      <td>5.000000</td>\n",
       "      <td>397.840000</td>\n",
       "      <td>0.0</td>\n",
       "      <td>20.050000</td>\n",
       "      <td>7.400000</td>\n",
       "      <td>2024-12-22 14:49:00</td>\n",
       "      <td>28.586600</td>\n",
       "      <td>77.258100</td>\n",
       "      <td>6.000000</td>\n",
       "      <td>25.200000</td>\n",
       "      <td>96.000000</td>\n",
       "      <td>1.800000</td>\n",
       "    </tr>\n",
       "    <tr>\n",
       "      <th>max</th>\n",
       "      <td>2.152306e+07</td>\n",
       "      <td>6.573392e+09</td>\n",
       "      <td>16080.000000</td>\n",
       "      <td>603.000000</td>\n",
       "      <td>4020.000000</td>\n",
       "      <td>7787.000000</td>\n",
       "      <td>280.100000</td>\n",
       "      <td>554.800000</td>\n",
       "      <td>12663.000000</td>\n",
       "      <td>5.000000</td>\n",
       "      <td>3236.980000</td>\n",
       "      <td>0.0</td>\n",
       "      <td>90.870000</td>\n",
       "      <td>73.800000</td>\n",
       "      <td>2025-01-31 23:59:00</td>\n",
       "      <td>28.662000</td>\n",
       "      <td>77.258100</td>\n",
       "      <td>21.000000</td>\n",
       "      <td>35.700000</td>\n",
       "      <td>100.000000</td>\n",
       "      <td>16.600000</td>\n",
       "    </tr>\n",
       "    <tr>\n",
       "      <th>std</th>\n",
       "      <td>2.447193e+05</td>\n",
       "      <td>1.230263e+08</td>\n",
       "      <td>498.759428</td>\n",
       "      <td>22.235898</td>\n",
       "      <td>85.401604</td>\n",
       "      <td>131.487091</td>\n",
       "      <td>3.264261</td>\n",
       "      <td>17.070780</td>\n",
       "      <td>465.313977</td>\n",
       "      <td>1.181472</td>\n",
       "      <td>328.128240</td>\n",
       "      <td>0.0</td>\n",
       "      <td>6.283388</td>\n",
       "      <td>4.982591</td>\n",
       "      <td>NaN</td>\n",
       "      <td>0.010773</td>\n",
       "      <td>0.020210</td>\n",
       "      <td>2.980514</td>\n",
       "      <td>7.108936</td>\n",
       "      <td>10.083045</td>\n",
       "      <td>2.404022</td>\n",
       "    </tr>\n",
       "  </tbody>\n",
       "</table>\n",
       "</div>"
      ],
      "text/plain": [
       "       Restaurant ID      Order ID  Bill subtotal  Packaging charges  \\\n",
       "count   2.132100e+04  2.132100e+04   21321.000000       21321.000000   \n",
       "mean    2.074413e+07  6.354622e+09     750.076838          32.564592   \n",
       "min     2.032061e+07  6.086767e+09      50.000000           0.000000   \n",
       "25%     2.063570e+07  6.250751e+09     459.000000          18.450000   \n",
       "50%     2.065987e+07  6.357715e+09     629.000000          28.450000   \n",
       "75%     2.088265e+07  6.456827e+09     899.000000          39.950000   \n",
       "max     2.152306e+07  6.573392e+09   16080.000000         603.000000   \n",
       "std     2.447193e+05  1.230263e+08     498.759428          22.235898   \n",
       "\n",
       "       Restaurant discount (Promo)  \\\n",
       "count                 21321.000000   \n",
       "mean                     65.091816   \n",
       "min                       0.000000   \n",
       "25%                       0.000000   \n",
       "50%                      80.000000   \n",
       "75%                     100.000000   \n",
       "max                    4020.000000   \n",
       "std                      85.401604   \n",
       "\n",
       "       Restaurant discount (Flat offs, Freebies & others)  Gold discount  \\\n",
       "count                                       21321.000000    21321.000000   \n",
       "mean                                           31.795058        0.099128   \n",
       "min                                             0.000000        0.000000   \n",
       "25%                                             0.000000        0.000000   \n",
       "50%                                             0.000000        0.000000   \n",
       "75%                                             0.000000        0.000000   \n",
       "max                                          7787.000000      280.100000   \n",
       "std                                           131.487091        3.264261   \n",
       "\n",
       "       Brand pack discount         Total       Rating  \\\n",
       "count         21321.000000  21321.000000  2491.000000   \n",
       "mean              3.039324    682.616113     4.356885   \n",
       "min               0.000000     52.500000     1.000000   \n",
       "25%               0.000000    387.450000     4.000000   \n",
       "50%               0.000000    597.450000     5.000000   \n",
       "75%               0.000000    837.900000     5.000000   \n",
       "max             554.800000  12663.000000     5.000000   \n",
       "std              17.070780    465.313977     1.181472   \n",
       "\n",
       "       Restaurant compensation (Cancellation)  Restaurant penalty (Rejection)  \\\n",
       "count                              133.000000                             3.0   \n",
       "mean                               356.409549                             0.0   \n",
       "min                                 83.580000                             0.0   \n",
       "25%                                191.950000                             0.0   \n",
       "50%                                272.580000                             0.0   \n",
       "75%                                397.840000                             0.0   \n",
       "max                               3236.980000                             0.0   \n",
       "std                                328.128240                             0.0   \n",
       "\n",
       "       KPT duration (minutes)  Rider wait time (minutes)  \\\n",
       "count            21026.000000               21153.000000   \n",
       "mean                17.332960                   4.825070   \n",
       "min                  0.000000                   0.100000   \n",
       "25%                 13.380000                   1.000000   \n",
       "50%                 16.330000                   3.100000   \n",
       "75%                 20.050000                   7.400000   \n",
       "max                 90.870000                  73.800000   \n",
       "std                  6.283388                   4.982591   \n",
       "\n",
       "                      Order_Datetime      rest_lat      rest_lon  \\\n",
       "count                          21321  21321.000000  21321.000000   \n",
       "mean   2024-11-16 05:27:51.124243456     28.583659     77.232513   \n",
       "min              2024-09-01 00:13:00     28.530900     77.092300   \n",
       "25%              2024-10-09 23:34:00     28.573400     77.223000   \n",
       "50%              2024-11-15 23:38:00     28.586600     77.223000   \n",
       "75%              2024-12-22 14:49:00     28.586600     77.258100   \n",
       "max              2025-01-31 23:59:00     28.662000     77.258100   \n",
       "std                              NaN      0.010773      0.020210   \n",
       "\n",
       "        Distance_km   temperature      humidity    wind_speed  \n",
       "count  21321.000000  21321.000000  21321.000000  21321.000000  \n",
       "mean       4.179687     18.433085     88.833169      1.562914  \n",
       "min        0.900000      4.800000     35.000000      0.000000  \n",
       "25%        2.000000     12.000000     85.000000      0.000000  \n",
       "50%        3.000000     18.300000     92.000000      0.000000  \n",
       "75%        6.000000     25.200000     96.000000      1.800000  \n",
       "max       21.000000     35.700000    100.000000     16.600000  \n",
       "std        2.980514      7.108936     10.083045      2.404022  "
      ]
     },
     "execution_count": 25,
     "metadata": {},
     "output_type": "execute_result"
    }
   ],
   "source": [
    "df.describe()"
   ]
  },
  {
   "cell_type": "code",
   "execution_count": 26,
   "id": "3e3aa07a",
   "metadata": {},
   "outputs": [
    {
     "data": {
      "text/plain": [
       "(21321, 39)"
      ]
     },
     "execution_count": 26,
     "metadata": {},
     "output_type": "execute_result"
    }
   ],
   "source": [
    "df.shape"
   ]
  },
  {
   "cell_type": "code",
   "execution_count": 27,
   "id": "afc0f19f",
   "metadata": {},
   "outputs": [
    {
     "name": "stderr",
     "output_type": "stream",
     "text": [
      "FutureWarning: \n",
      "\n",
      "Passing `palette` without assigning `hue` is deprecated and will be removed in v0.14.0. Assign the `x` variable to `hue` and set `legend=False` for the same effect.\n",
      "\n"
     ]
    },
    {
     "data": {
      "image/png": "[encoded data removed]",
      "text/plain": [
       "<Figure size 1000x500 with 1 Axes>"
      ]
     },
     "metadata": {},
     "output_type": "display_data"
    }
   ],
   "source": [
    "import matplotlib.pyplot as plt\n",
    "import seaborn as sns\n",
    "\n",
    "df['hour'] = df['Order_Datetime'].dt.hour\n",
    "orders_by_hour = df.groupby('hour')['Order ID'].count()\n",
    "\n",
    "plt.figure(figsize=(10,5))\n",
    "sns.barplot(x=orders_by_hour.index, y=orders_by_hour.values, palette=\"viridis\")\n",
    "plt.title(\"Hourly Order Count\")\n",
    "plt.xlabel(\"Hour of Day\")\n",
    "plt.ylabel(\"Number of Orders\")\n",
    "plt.show()\n"
   ]
  },
  {
   "cell_type": "code",
   "execution_count": 28,
   "id": "a9dbec23",
   "metadata": {},
   "outputs": [
    {
     "name": "stderr",
     "output_type": "stream",
     "text": [
      "FutureWarning: \n",
      "\n",
      "Passing `palette` without assigning `hue` is deprecated and will be removed in v0.14.0. Assign the `x` variable to `hue` and set `legend=False` for the same effect.\n",
      "\n"
     ]
    },
    {
     "data": {
      "image/png": "[encoded data removed]",
      "text/plain": [
       "<Figure size 1000x500 with 1 Axes>"
      ]
     },
     "metadata": {},
     "output_type": "display_data"
    }
   ],
   "source": [
    "df['day_of_week'] = df['Order_Datetime'].dt.day_name()\n",
    "orders_by_day = df.groupby('day_of_week')['Order ID'].count().reindex([\n",
    "    \"Monday\",\"Tuesday\",\"Wednesday\",\"Thursday\",\"Friday\",\"Saturday\",\"Sunday\"\n",
    "])\n",
    "\n",
    "plt.figure(figsize=(10,5))\n",
    "sns.barplot(x=orders_by_day.index, y=orders_by_day.values, palette=\"coolwarm\")\n",
    "plt.title(\"Orders by Day of Week\")\n",
    "plt.ylabel(\"Number of Orders\")\n",
    "plt.xticks(rotation=45)\n",
    "plt.show()\n"
   ]
  },
  {
   "cell_type": "code",
   "execution_count": 29,
   "id": "838e4211",
   "metadata": {},
   "outputs": [
    {
     "data": {
      "image/png": "[encoded data removed]",
      "text/plain": [
       "<Figure size 1000x500 with 1 Axes>"
      ]
     },
     "metadata": {},
     "output_type": "display_data"
    }
   ],
   "source": [
    "plt.figure(figsize=(10,5))\n",
    "sns.scatterplot(x='temperature', y='hour', data=df, alpha=0.5)\n",
    "plt.title(\"Temperature vs Hour of Order\")\n",
    "plt.show()\n"
   ]
  },
  {
   "cell_type": "markdown",
   "id": "90cb3d0f",
   "metadata": {},
   "source": [
    "### Observations\n",
    "\n",
    "1. **Two main clusters of hours**:\n",
    "\n",
    "   * **Early morning / late night**: Hours 0–4, very few orders.\n",
    "   * **Daytime / evening**: Hours 10–23, dense cluster — most orders happen here.\n",
    "\n",
    "2. **Temperature range shifts with time**:\n",
    "\n",
    "   * Early morning hours (0–4) have **lower temperatures** (~5–15°C), fewer orders.\n",
    "   * Daytime hours (10–23) see **higher temperatures** (~15–35°C), dense order volume.\n",
    "\n",
    "3. **Orders are concentrated in warm periods**:\n",
    "\n",
    "   * Most orders occur when temperature is **roughly 15–30°C**.\n",
    "   * Very few orders in cold (<10°C) or extremely hot (>35°C) temperatures.\n",
    "\n",
    "4. **Scatterplot density**:\n",
    "\n",
    "   * Overlap is high because there are **multiple orders per hour**.\n",
    "   * Suggests a better visualization could be **line plot of average temperature per hour** or **bar plot of order counts per hour**, maybe with temperature as background.\n",
    "\n",
    "---\n",
    "\n",
    "### Preliminary deductions\n",
    "\n",
    "* **Customer demand is heavily time-dependent**, peaking in daytime/evening.\n",
    "* **Temperature may influence order volume**, but since temperature also follows a **daily cycle**, it may be partially confounded with hour-of-day effect.\n",
    "* Early morning and late-night orders are rare regardless of temperature.\n"
   ]
  },
  {
   "cell_type": "code",
   "execution_count": 30,
   "id": "874613eb",
   "metadata": {},
   "outputs": [
    {
     "data": {
      "image/png": "[encoded data removed]",
      "text/plain": [
       "<Figure size 800x500 with 1 Axes>"
      ]
     },
     "metadata": {},
     "output_type": "display_data"
    }
   ],
   "source": [
    "orders_weather = df.groupby('weather_condition')['Order ID'].count()\n",
    "orders_weather.plot(kind='bar', figsize=(8,5), color='skyblue')\n",
    "plt.title(\"Orders by Weather Condition\")\n",
    "plt.ylabel(\"Number of Orders\")\n",
    "plt.show()\n"
   ]
  },
  {
   "cell_type": "code",
   "execution_count": 31,
   "id": "a8c1f867",
   "metadata": {},
   "outputs": [
    {
     "name": "stderr",
     "output_type": "stream",
     "text": [
      "FutureWarning: \n",
      "\n",
      "Passing `palette` without assigning `hue` is deprecated and will be removed in v0.14.0. Assign the `x` variable to `hue` and set `legend=False` for the same effect.\n",
      "\n"
     ]
    },
    {
     "data": {
      "image/png": "[encoded data removed]",
      "text/plain": [
       "<Figure size 640x480 with 1 Axes>"
      ]
     },
     "metadata": {},
     "output_type": "display_data"
    }
   ],
   "source": [
    "sns.countplot(x='is_weekend_or_holiday', data=df, palette=\"Set2\")\n",
    "plt.title(\"Orders: Weekend vs Weekday\")\n",
    "plt.show()"
   ]
  },
  {
   "cell_type": "code",
   "execution_count": 32,
   "id": "c469984a",
   "metadata": {},
   "outputs": [
    {
     "data": {
      "image/png": "[encoded data removed]",
      "text/plain": [
       "<Figure size 1000x500 with 1 Axes>"
      ]
     },
     "metadata": {},
     "output_type": "display_data"
    },
    {
     "data": {
      "image/png": "[encoded data removed]",
      "text/plain": [
       "<Figure size 1000x500 with 1 Axes>"
      ]
     },
     "metadata": {},
     "output_type": "display_data"
    }
   ],
   "source": [
    "top_restaurants = df.groupby('Restaurant name')['Order ID'].count().sort_values(ascending=False)\n",
    "top_restaurants.plot(kind='bar', figsize=(10,5), color='coral')\n",
    "plt.title(\"Orders per Restaurant\")\n",
    "plt.ylabel(\"Number of Orders\")\n",
    "plt.show()\n",
    "\n",
    "top_subzones = df.groupby('Subzone')['Order ID'].count().sort_values(ascending=False)\n",
    "top_subzones.plot(kind='bar', figsize=(10,5), color='lightgreen')\n",
    "plt.title(\"Orders per Subzone\")\n",
    "plt.ylabel(\"Number of Orders\")\n",
    "plt.show()"
   ]
  },
  {
   "cell_type": "code",
   "execution_count": 33,
   "id": "0bf47b5f",
   "metadata": {},
   "outputs": [
    {
     "data": {
      "image/png": "[encoded data removed]",
      "text/plain": [
       "<Figure size 1000x800 with 2 Axes>"
      ]
     },
     "metadata": {},
     "output_type": "display_data"
    }
   ],
   "source": [
    "numeric_cols = ['Distance_km', 'Bill subtotal', 'Packaging charges', 'Total', \n",
    "                'temperature', 'humidity', 'precipitation', 'wind_speed']\n",
    "\n",
    "# Convert to float and fill missing with np.nan\n",
    "df[numeric_cols] = df[numeric_cols].apply(pd.to_numeric, errors='coerce')\n",
    "\n",
    "corr = df[numeric_cols].corr()\n",
    "\n",
    "plt.figure(figsize=(10,8))\n",
    "sns.heatmap(corr, annot=True, cmap='coolwarm')\n",
    "plt.title(\"Correlation Heatmap\")\n",
    "plt.show()\n"
   ]
  },
  {
   "cell_type": "code",
   "execution_count": 34,
   "id": "71ec0ca9",
   "metadata": {},
   "outputs": [
    {
     "data": {
      "image/png": "[encoded data removed]",
      "text/plain": [
       "<Figure size 1200x500 with 1 Axes>"
      ]
     },
     "metadata": {},
     "output_type": "display_data"
    }
   ],
   "source": [
    "df['date'] = df['Order_Datetime'].dt.date\n",
    "daily_orders = df.groupby('date')['Order ID'].count()\n",
    "daily_orders.plot(figsize=(12,5), marker='o')\n",
    "plt.title(\"Daily Orders\")\n",
    "plt.ylabel(\"Number of Orders\")\n",
    "plt.show()"
   ]
  },
  {
   "cell_type": "code",
   "execution_count": 35,
   "id": "37689221",
   "metadata": {},
   "outputs": [
    {
     "name": "stderr",
     "output_type": "stream",
     "text": [
      "FutureWarning: 'H' is deprecated and will be removed in a future version, please use 'h' instead.\n"
     ]
    }
   ],
   "source": [
    "# Hourly aggregation\n",
    "df['hour'] = df['Order_Datetime'].dt.floor('H')\n",
    "df['day_of_week'] = df['Order_Datetime'].dt.dayofweek  # 0=Mon, 6=Sun"
   ]
  },
  {
   "cell_type": "code",
   "execution_count": 36,
   "id": "d6a780e9",
   "metadata": {},
   "outputs": [],
   "source": [
    "cols_to_drop = [\n",
    "    'Instructions',                   # a lot of missing values\n",
    "    'Rating',                         # a lot of missing values\n",
    "    'Review',                         # a lot of missing values\n",
    "    'Cancellation / Rejection reason',# a lot of missing values\n",
    "    'Restaurant compensation (Cancellation)', # a lot of missing values\n",
    "    'Restaurant penalty (Rejection)',          # a lot of missing values\n",
    "    'Customer complaint tag'           # a lot of missing values\n",
    "]\n",
    "df = df.drop(columns=cols_to_drop)"
   ]
  },
  {
   "cell_type": "code",
   "execution_count": 37,
   "id": "0cf430f1",
   "metadata": {},
   "outputs": [
    {
     "data": {
      "text/plain": [
       "Restaurant ID                                            0\n",
       "Restaurant name                                          0\n",
       "Subzone                                                  0\n",
       "City                                                     0\n",
       "Order ID                                                 0\n",
       "Order Placed At                                          0\n",
       "Order Status                                             0\n",
       "Delivery                                                 0\n",
       "Distance                                                 0\n",
       "Items in order                                           0\n",
       "Discount construct                                    5498\n",
       "Bill subtotal                                            0\n",
       "Packaging charges                                        0\n",
       "Restaurant discount (Promo)                              0\n",
       "Restaurant discount (Flat offs, Freebies & others)       0\n",
       "Gold discount                                            0\n",
       "Brand pack discount                                      0\n",
       "Total                                                    0\n",
       "KPT duration (minutes)                                 295\n",
       "Rider wait time (minutes)                              168\n",
       "Order Ready Marked                                       0\n",
       "Customer ID                                              0\n",
       "Order_Datetime                                           0\n",
       "rest_lat                                                 0\n",
       "rest_lon                                                 0\n",
       "Distance_km                                              0\n",
       "temperature                                              0\n",
       "humidity                                                 0\n",
       "precipitation                                          508\n",
       "wind_speed                                               0\n",
       "weather_condition                                       43\n",
       "is_weekend_or_holiday                                    0\n",
       "hour                                                     0\n",
       "day_of_week                                              0\n",
       "date                                                     0\n",
       "dtype: int64"
      ]
     },
     "execution_count": 37,
     "metadata": {},
     "output_type": "execute_result"
    }
   ],
   "source": [
    "df.isna().sum()"
   ]
  },
  {
   "cell_type": "code",
   "execution_count": null,
   "id": "bef90973",
   "metadata": {},
   "outputs": [],
   "source": [
    "# -------------------------------\n",
    "# 3️⃣ Fill missing values only where relevant\n",
    "# -------------------------------\n",
    "# Numeric features\n",
    "numeric_cols = [\n",
    "    'precipitation', 'KPT duration (minutes)', 'Rider wait time (minutes)'\n",
    "]\n",
    "# Fill with 0 only where it makes sense\n",
    "df['precipitation'] = df['precipitation'].fillna(0)\n",
    "df['KPT duration (minutes)'] = df['KPT duration (minutes)'].fillna(df['KPT duration (minutes)'].median())\n",
    "df['Rider wait time (minutes)'] = df['Rider wait time (minutes)'].fillna(df['Rider wait time (minutes)'].median())\n",
    "\n",
    "# Distance / items\n",
    "df['num_items'] = df['Items in order'].str.count('x')\n",
    "df['Distance_km'] = df['Distance_km'].fillna(df['Distance_km'].median())\n",
    "\n",
    "# Discounts / Bill (numeric)\n",
    "discount_cols = [\n",
    "    'Bill subtotal','Packaging charges','Restaurant discount (Promo)',\n",
    "    'Restaurant discount (Flat offs, Freebies & others)','Gold discount','Brand pack discount','Total'\n",
    "]\n",
    "for col in discount_cols:\n",
    "    df[col] = df[col].fillna(0)\n",
    "\n",
    "# Categorical columns\n",
    "df['Discount construct'] = df['Discount construct'].fillna('None')\n",
    "df['weather_condition'] = df['weather_condition'].fillna('Unknown')\n"
   ]
  },
  {
   "cell_type": "code",
   "execution_count": 39,
   "id": "7ce12a54",
   "metadata": {},
   "outputs": [],
   "source": [
    "# -------------------------------\n",
    "# 4️⃣ Encode categorical variables\n",
    "# -------------------------------\n",
    "cat_cols = ['Restaurant ID','Subzone','City','Delivery','Discount construct','weather_condition']\n",
    "df = pd.get_dummies(df, columns=cat_cols, drop_first=True)\n"
   ]
  },
  {
   "cell_type": "code",
   "execution_count": 40,
   "id": "de2edd5b",
   "metadata": {},
   "outputs": [],
   "source": [
    "# -------------------------------\n",
    "# 5️⃣ Aggregate hourly for demand prediction\n",
    "# -------------------------------\n",
    "# Numeric features: mean per hour\n",
    "numeric_features = [c for c in df.columns if df[c].dtype in [int,float] and c not in ['hour','day_of_week']]\n",
    "X_hourly = df.groupby('hour')[numeric_features].mean().reset_index()"
   ]
  },
  {
   "cell_type": "code",
   "execution_count": 41,
   "id": "5699b58c",
   "metadata": {},
   "outputs": [],
   "source": [
    "# Merge with target: orders per hour\n",
    "y_hourly = df.groupby('hour').size().reset_index(name='orders')\n",
    "data = X_hourly.merge(y_hourly, on='hour')"
   ]
  },
  {
   "cell_type": "code",
   "execution_count": 42,
   "id": "9244b53d",
   "metadata": {},
   "outputs": [
    {
     "name": "stdout",
     "output_type": "stream",
     "text": [
      "X_train shape: (2044, 18)\n",
      "X_test shape: (511, 18)\n",
      "y_train shape: (2044,)\n",
      "y_test shape: (511,)\n"
     ]
    }
   ],
   "source": [
    "from sklearn.model_selection import train_test_split\n",
    "# -------------------------------\n",
    "# 6️⃣ Split features and target\n",
    "# -------------------------------\n",
    "features = data.drop(columns=['hour','orders'])\n",
    "target = data['orders']\n",
    "\n",
    "X_train, X_test, y_train, y_test = train_test_split(features, target, test_size=0.2, random_state=42)\n",
    "\n",
    "print(\"X_train shape:\", X_train.shape)\n",
    "print(\"X_test shape:\", X_test.shape)\n",
    "print(\"y_train shape:\", y_train.shape)\n",
    "print(\"y_test shape:\", y_test.shape)"
   ]
  },
  {
   "cell_type": "code",
   "execution_count": 43,
   "id": "dd319e4f",
   "metadata": {},
   "outputs": [],
   "source": [
    "from sklearn.model_selection import TimeSeriesSplit\n",
    "from sklearn.preprocessing import StandardScaler\n",
    "from sklearn.metrics import mean_squared_error\n",
    "import numpy as np\n",
    "\n",
    "# Target\n",
    "y = target.values\n",
    "\n",
    "# TimeSeries split\n",
    "tscv = TimeSeriesSplit(n_splits=5)"
   ]
  },
  {
   "cell_type": "code",
   "execution_count": 44,
   "id": "bbedb6de",
   "metadata": {},
   "outputs": [],
   "source": [
    "from sklearn.preprocessing import PolynomialFeatures\n",
    "\n",
    "poly = PolynomialFeatures(degree=2, include_bias=False)\n",
    "X_poly = poly.fit_transform(features)\n"
   ]
  },
  {
   "cell_type": "code",
   "execution_count": 45,
   "id": "c4257740",
   "metadata": {},
   "outputs": [],
   "source": [
    "scaler = StandardScaler()\n",
    "X_poly_scaled = scaler.fit_transform(X_poly)"
   ]
  },
  {
   "cell_type": "markdown",
   "id": "0a0407fb",
   "metadata": {},
   "source": [
    "# LINEAR REGRESSION"
   ]
  },
  {
   "cell_type": "code",
   "execution_count": null,
   "id": "51d9b227",
   "metadata": {},
   "outputs": [],
   "source": [
    "from sklearn.linear_model import Ridge, Lasso, ElasticNet\n",
    "\n",
    "models = {\n",
    "    'Ridge': {'model': Ridge(), 'params': {'model__alpha': [0.01,0.1,1,10,100]}},\n",
    "    'Lasso': {'model': Lasso(max_iter=10000, tol=1e-3, warm_start=True, random_state=42),\n",
    "              'params': {'model__alpha':[0.001,0.01,0.1,1,10]}},\n",
    "    'ElasticNet': {'model': ElasticNet(max_iter=10000, tol=1e-3, warm_start=True, random_state=42),\n",
    "                   'params': {'model__alpha':[0.001,0.01,0.1,1], 'model__l1_ratio':[0.2,0.5,0.8]}}\n",
    "}\n"
   ]
  },
  {
   "cell_type": "code",
   "execution_count": null,
   "id": "bf739863",
   "metadata": {},
   "outputs": [],
   "source": [
    "from sklearn.pipeline import Pipeline\n",
    "from sklearn.model_selection import GridSearchCV\n",
    "from sklearn.metrics import mean_squared_error, r2_score\n",
    "\n",
    "best_models = {}\n",
    "\n",
    "for name, m in models.items():\n",
    "    print(f\"Running GridSearchCV for {name}...\")\n",
    "    \n",
    "    pipeline = Pipeline([\n",
    "        ('model', m['model'])\n",
    "    ])\n",
    "    \n",
    "    gsearch = GridSearchCV(\n",
    "        estimator=pipeline,\n",
    "        param_grid=m['params'],\n",
    "        scoring='r2',\n",
    "        cv=tscv,\n",
    "        n_jobs=-1\n",
    "    )\n",
    "    \n",
    "    gsearch.fit(X_poly_scaled, y)\n",
    "    best_models[name] = gsearch.best_estimator_\n",
    "    \n",
    "    # Evaluate on first fold\n",
    "    for train_index, test_index in tscv.split(X_poly_scaled):\n",
    "        X_train, X_test = X_poly_scaled[train_index], X_poly_scaled[test_index]\n",
    "        y_train, y_test = y[train_index], y[test_index]\n",
    "        break\n",
    "    \n",
    "    y_pred = gsearch.best_estimator_.predict(X_test)\n",
    "    rmse = np.sqrt(mean_squared_error(y_test, y_pred))\n",
    "    r2 = r2_score(y_test, y_pred)\n",
    "    \n",
    "    print(f\"{name} Best Params: {gsearch.best_params_}\")\n",
    "    print(f\"{name} RMSE: {rmse:.3f}\")\n",
    "    print(f\"{name} R2: {r2:.3f}\\n\")\n"
   ]
  },
  {
   "cell_type": "markdown",
   "id": "0a0a2bfa",
   "metadata": {},
   "source": [
    "# RANDOM FOREST"
   ]
  },
  {
   "cell_type": "code",
   "execution_count": null,
   "id": "7791ed20",
   "metadata": {},
   "outputs": [],
   "source": [
    "# Random Forest doesn't need scaling or polynomial features\n",
    "X_rf = features.values  # use original features\n",
    "y_rf = target.values"
   ]
  },
  {
   "cell_type": "code",
   "execution_count": null,
   "id": "3aadc657",
   "metadata": {},
   "outputs": [],
   "source": [
    "from sklearn.ensemble import RandomForestRegressor\n",
    "\n",
    "rf_model = RandomForestRegressor(random_state=42)  # fixed seed for reproducibility\n",
    "\n",
    "rf_params = {\n",
    "    'model__n_estimators': [100, 200, 500],\n",
    "    'model__max_depth': [None, 5, 10, 20],\n",
    "    'model__min_samples_split': [2, 5, 10],\n",
    "    'model__min_samples_leaf': [1, 2, 4]\n",
    "}"
   ]
  },
  {
   "cell_type": "code",
   "execution_count": null,
   "id": "abb63cd7",
   "metadata": {},
   "outputs": [],
   "source": [
    "from sklearn.pipeline import Pipeline\n",
    "from sklearn.model_selection import GridSearchCV\n",
    "\n",
    "pipeline_rf = Pipeline([\n",
    "    ('model', rf_model)\n",
    "])\n",
    "\n",
    "gsearch_rf = GridSearchCV(\n",
    "    estimator=pipeline_rf,\n",
    "    param_grid=rf_params,\n",
    "    scoring='r2',\n",
    "    cv=tscv,\n",
    "    n_jobs=-1\n",
    ")\n"
   ]
  },
  {
   "cell_type": "code",
   "execution_count": null,
   "id": "8b774f98",
   "metadata": {},
   "outputs": [],
   "source": [
    "gsearch_rf.fit(X_rf, y_rf)\n",
    "best_rf = gsearch_rf.best_estimator_\n",
    "print(\"Best Random Forest Params:\", gsearch_rf.best_params_)"
   ]
  },
  {
   "cell_type": "code",
   "execution_count": null,
   "id": "ae366489",
   "metadata": {},
   "outputs": [],
   "source": [
    "from sklearn.metrics import mean_squared_error, r2_score\n",
    "import numpy as np\n",
    "\n",
    "# Evaluate on first fold\n",
    "for train_index, test_index in tscv.split(X_rf):\n",
    "    X_train, X_test = X_rf[train_index], X_rf[test_index]\n",
    "    y_train, y_test = y_rf[train_index], y_rf[test_index]\n",
    "    break  # just first fold\n",
    "\n",
    "y_pred = best_rf.predict(X_test)\n",
    "rmse = np.sqrt(mean_squared_error(y_test, y_pred))\n",
    "r2 = r2_score(y_test, y_pred)\n",
    "\n",
    "print(f\"Random Forest RMSE: {rmse:.3f}\")\n",
    "print(f\"Random Forest R2: {r2:.3f}\")\n"
   ]
  },
  {
   "cell_type": "code",
   "execution_count": null,
   "id": "a9251527",
   "metadata": {},
   "outputs": [],
   "source": [
    "# Random Forest feature importances\n",
    "rf_importances = best_rf.named_steps['model'].feature_importances_\n",
    "\n",
    "rf_df = pd.DataFrame({\n",
    "    'Feature': features.columns,  # use original features for interpretability\n",
    "    'Importance': rf_importances\n",
    "}).sort_values(by='Importance', ascending=False)\n",
    "\n",
    "print(\"Random Forest Top Features:\")\n",
    "print(rf_df.head(10))\n",
    "\n",
    "# Plot top 10 feature importances\n",
    "plt.figure(figsize=(10,5))\n",
    "plt.barh(rf_df['Feature'].head(10), rf_df['Importance'].head(10))\n",
    "plt.title(\"Random Forest Top 10 Feature Importances\")\n",
    "plt.gca().invert_yaxis()\n",
    "plt.show()\n"
   ]
  },
  {
   "cell_type": "code",
   "execution_count": null,
   "id": "9053de1c",
   "metadata": {},
   "outputs": [],
   "source": [
    "# Random Forest feature importances\n",
    "rf_importances = best_rf.named_steps['model'].feature_importances_\n",
    "\n",
    "rf_df = pd.DataFrame({\n",
    "    'Feature': features.columns,  # use original features for interpretability\n",
    "    'Importance': rf_importances\n",
    "}).sort_values(by='Importance', ascending=False)\n",
    "\n",
    "print(\"Random Forest Top Features:\")\n",
    "print(rf_df.head(10))\n",
    "\n",
    "# Plot top 10 feature importances\n",
    "plt.figure(figsize=(10,5))\n",
    "plt.barh(rf_df['Feature'].head(10), rf_df['Importance'].head(10))\n",
    "plt.title(\"Random Forest Top 10 Feature Importances\")\n",
    "plt.gca().invert_yaxis()\n",
    "plt.show()\n"
   ]
  }
 ],
 "metadata": {
  "kernelspec": {
   "display_name": "Python 3",
   "language": "python",
   "name": "python3"
  },
  "language_info": {
   "codemirror_mode": {
    "name": "ipython",
    "version": 3
   },
   "file_extension": ".py",
   "mimetype": "text/x-python",
   "name": "python",
   "nbconvert_exporter": "python",
   "pygments_lexer": "ipython3",
   "version": "3.9.6"
  }
 },
 "nbformat": 4,
 "nbformat_minor": 5
}
