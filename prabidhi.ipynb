{
 "cells": [
  {
   "cell_type": "code",
   "execution_count": 1,
   "id": "aba727ae",
   "metadata": {},
   "outputs": [],
   "source": [
    "import pandas as pd"
   ]
  },
  {
   "cell_type": "code",
   "execution_count": 2,
   "id": "f72994d7",
   "metadata": {},
   "outputs": [],
   "source": [
    "pd.set_option('display.max_columns', None)"
   ]
  },
  {
   "cell_type": "code",
   "execution_count": 3,
   "id": "199932ce",
   "metadata": {},
   "outputs": [
    {
     "data": {
      "text/html": [
       "<div>\n",
       "<style scoped>\n",
       "    .dataframe tbody tr th:only-of-type {\n",
       "        vertical-align: middle;\n",
       "    }\n",
       "\n",
       "    .dataframe tbody tr th {\n",
       "        vertical-align: top;\n",
       "    }\n",
       "\n",
       "    .dataframe thead th {\n",
       "        text-align: right;\n",
       "    }\n",
       "</style>\n",
       "<table border=\"1\" class=\"dataframe\">\n",
       "  <thead>\n",
       "    <tr style=\"text-align: right;\">\n",
       "      <th></th>\n",
       "      <th>Restaurant ID</th>\n",
       "      <th>Restaurant name</th>\n",
       "      <th>Subzone</th>\n",
       "      <th>City</th>\n",
       "      <th>Order ID</th>\n",
       "      <th>Order Placed At</th>\n",
       "      <th>Order Status</th>\n",
       "      <th>Delivery</th>\n",
       "      <th>Distance</th>\n",
       "      <th>Items in order</th>\n",
       "      <th>Instructions</th>\n",
       "      <th>Discount construct</th>\n",
       "      <th>Bill subtotal</th>\n",
       "      <th>Packaging charges</th>\n",
       "      <th>Restaurant discount (Promo)</th>\n",
       "      <th>Restaurant discount (Flat offs, Freebies &amp; others)</th>\n",
       "      <th>Gold discount</th>\n",
       "      <th>Brand pack discount</th>\n",
       "      <th>Total</th>\n",
       "      <th>Rating</th>\n",
       "      <th>Review</th>\n",
       "      <th>Cancellation / Rejection reason</th>\n",
       "      <th>Restaurant compensation (Cancellation)</th>\n",
       "      <th>Restaurant penalty (Rejection)</th>\n",
       "      <th>KPT duration (minutes)</th>\n",
       "      <th>Rider wait time (minutes)</th>\n",
       "      <th>Order Ready Marked</th>\n",
       "      <th>Customer complaint tag</th>\n",
       "      <th>Customer ID</th>\n",
       "    </tr>\n",
       "  </thead>\n",
       "  <tbody>\n",
       "    <tr>\n",
       "      <th>0</th>\n",
       "      <td>20320607</td>\n",
       "      <td>Swaad</td>\n",
       "      <td>Sector 4</td>\n",
       "      <td>Delhi NCR</td>\n",
       "      <td>6168884918</td>\n",
       "      <td>11:38 PM, September 10 2024</td>\n",
       "      <td>Delivered</td>\n",
       "      <td>Zomato Delivery</td>\n",
       "      <td>3km</td>\n",
       "      <td>1 x Grilled Chicken Jamaican Tender, 1 x Grill...</td>\n",
       "      <td>NaN</td>\n",
       "      <td>40% off upto Rs.80</td>\n",
       "      <td>715.0</td>\n",
       "      <td>31.75</td>\n",
       "      <td>80.0</td>\n",
       "      <td>0.0</td>\n",
       "      <td>0.0</td>\n",
       "      <td>0.0</td>\n",
       "      <td>666.75</td>\n",
       "      <td>NaN</td>\n",
       "      <td>NaN</td>\n",
       "      <td>NaN</td>\n",
       "      <td>NaN</td>\n",
       "      <td>NaN</td>\n",
       "      <td>18.35</td>\n",
       "      <td>11.6</td>\n",
       "      <td>Correctly</td>\n",
       "      <td>NaN</td>\n",
       "      <td>5d6c2b96db963098bc69768bea504c8bf46106a8a5178e...</td>\n",
       "    </tr>\n",
       "    <tr>\n",
       "      <th>1</th>\n",
       "      <td>20320607</td>\n",
       "      <td>Swaad</td>\n",
       "      <td>Sector 4</td>\n",
       "      <td>Delhi NCR</td>\n",
       "      <td>6170707559</td>\n",
       "      <td>11:34 PM, September 10 2024</td>\n",
       "      <td>Delivered</td>\n",
       "      <td>Zomato Delivery</td>\n",
       "      <td>2km</td>\n",
       "      <td>1 x Peri Peri Fries, 1 x Fried Chicken Angara ...</td>\n",
       "      <td>NaN</td>\n",
       "      <td>Flat Rs.175 off</td>\n",
       "      <td>1179.0</td>\n",
       "      <td>50.20</td>\n",
       "      <td>175.0</td>\n",
       "      <td>0.0</td>\n",
       "      <td>0.0</td>\n",
       "      <td>0.0</td>\n",
       "      <td>1054.20</td>\n",
       "      <td>NaN</td>\n",
       "      <td>NaN</td>\n",
       "      <td>NaN</td>\n",
       "      <td>NaN</td>\n",
       "      <td>NaN</td>\n",
       "      <td>16.95</td>\n",
       "      <td>3.6</td>\n",
       "      <td>Correctly</td>\n",
       "      <td>NaN</td>\n",
       "      <td>0781815deb4a10a574e9fee4fa0b86b074d4a0b36175d5...</td>\n",
       "    </tr>\n",
       "    <tr>\n",
       "      <th>2</th>\n",
       "      <td>20320607</td>\n",
       "      <td>Swaad</td>\n",
       "      <td>Sector 4</td>\n",
       "      <td>Delhi NCR</td>\n",
       "      <td>6169375019</td>\n",
       "      <td>03:52 PM, September 10 2024</td>\n",
       "      <td>Delivered</td>\n",
       "      <td>Zomato Delivery</td>\n",
       "      <td>&lt;1km</td>\n",
       "      <td>1 x Bone in Peri Peri Grilled Chicken</td>\n",
       "      <td>NaN</td>\n",
       "      <td>40% off upto Rs.80</td>\n",
       "      <td>310.0</td>\n",
       "      <td>11.50</td>\n",
       "      <td>80.0</td>\n",
       "      <td>0.0</td>\n",
       "      <td>0.0</td>\n",
       "      <td>0.0</td>\n",
       "      <td>241.50</td>\n",
       "      <td>NaN</td>\n",
       "      <td>NaN</td>\n",
       "      <td>NaN</td>\n",
       "      <td>NaN</td>\n",
       "      <td>NaN</td>\n",
       "      <td>14.05</td>\n",
       "      <td>12.2</td>\n",
       "      <td>Correctly</td>\n",
       "      <td>NaN</td>\n",
       "      <td>f93362f5ce5382657482d164e368186bcec9c6225fd93d...</td>\n",
       "    </tr>\n",
       "    <tr>\n",
       "      <th>3</th>\n",
       "      <td>20320607</td>\n",
       "      <td>Swaad</td>\n",
       "      <td>Sector 4</td>\n",
       "      <td>Delhi NCR</td>\n",
       "      <td>6151677434</td>\n",
       "      <td>03:45 PM, September 10 2024</td>\n",
       "      <td>Delivered</td>\n",
       "      <td>Zomato Delivery</td>\n",
       "      <td>2km</td>\n",
       "      <td>1 x Fried Chicken Ghostbuster Tender, 1 x Anga...</td>\n",
       "      <td>NaN</td>\n",
       "      <td>40% off upto Rs.80</td>\n",
       "      <td>620.0</td>\n",
       "      <td>27.00</td>\n",
       "      <td>80.0</td>\n",
       "      <td>0.0</td>\n",
       "      <td>0.0</td>\n",
       "      <td>0.0</td>\n",
       "      <td>567.00</td>\n",
       "      <td>4.0</td>\n",
       "      <td>NaN</td>\n",
       "      <td>NaN</td>\n",
       "      <td>NaN</td>\n",
       "      <td>NaN</td>\n",
       "      <td>19.00</td>\n",
       "      <td>3.3</td>\n",
       "      <td>Correctly</td>\n",
       "      <td>NaN</td>\n",
       "      <td>1ed226d1b8a5f7acee12fc1d6676558330a3b2b742af5d...</td>\n",
       "    </tr>\n",
       "    <tr>\n",
       "      <th>4</th>\n",
       "      <td>20320607</td>\n",
       "      <td>Swaad</td>\n",
       "      <td>Sector 4</td>\n",
       "      <td>Delhi NCR</td>\n",
       "      <td>6167540897</td>\n",
       "      <td>03:04 PM, September 10 2024</td>\n",
       "      <td>Delivered</td>\n",
       "      <td>Zomato Delivery</td>\n",
       "      <td>2km</td>\n",
       "      <td>1 x Peri Peri Krispers, 1 x Fried Chicken Anga...</td>\n",
       "      <td>NaN</td>\n",
       "      <td>40% off upto Rs.80</td>\n",
       "      <td>584.0</td>\n",
       "      <td>25.20</td>\n",
       "      <td>80.0</td>\n",
       "      <td>0.0</td>\n",
       "      <td>0.0</td>\n",
       "      <td>0.0</td>\n",
       "      <td>529.20</td>\n",
       "      <td>NaN</td>\n",
       "      <td>NaN</td>\n",
       "      <td>NaN</td>\n",
       "      <td>NaN</td>\n",
       "      <td>NaN</td>\n",
       "      <td>15.97</td>\n",
       "      <td>1.0</td>\n",
       "      <td>Correctly</td>\n",
       "      <td>NaN</td>\n",
       "      <td>d21a2ac6ea06b31cc3288ab20c4ef2f292066c096f2c5f...</td>\n",
       "    </tr>\n",
       "  </tbody>\n",
       "</table>\n",
       "</div>"
      ],
      "text/plain": [
       "   Restaurant ID Restaurant name   Subzone       City    Order ID  \\\n",
       "0       20320607           Swaad  Sector 4  Delhi NCR  6168884918   \n",
       "1       20320607           Swaad  Sector 4  Delhi NCR  6170707559   \n",
       "2       20320607           Swaad  Sector 4  Delhi NCR  6169375019   \n",
       "3       20320607           Swaad  Sector 4  Delhi NCR  6151677434   \n",
       "4       20320607           Swaad  Sector 4  Delhi NCR  6167540897   \n",
       "\n",
       "               Order Placed At Order Status         Delivery Distance  \\\n",
       "0  11:38 PM, September 10 2024    Delivered  Zomato Delivery      3km   \n",
       "1  11:34 PM, September 10 2024    Delivered  Zomato Delivery      2km   \n",
       "2  03:52 PM, September 10 2024    Delivered  Zomato Delivery     <1km   \n",
       "3  03:45 PM, September 10 2024    Delivered  Zomato Delivery      2km   \n",
       "4  03:04 PM, September 10 2024    Delivered  Zomato Delivery      2km   \n",
       "\n",
       "                                      Items in order Instructions  \\\n",
       "0  1 x Grilled Chicken Jamaican Tender, 1 x Grill...          NaN   \n",
       "1  1 x Peri Peri Fries, 1 x Fried Chicken Angara ...          NaN   \n",
       "2              1 x Bone in Peri Peri Grilled Chicken          NaN   \n",
       "3  1 x Fried Chicken Ghostbuster Tender, 1 x Anga...          NaN   \n",
       "4  1 x Peri Peri Krispers, 1 x Fried Chicken Anga...          NaN   \n",
       "\n",
       "   Discount construct  Bill subtotal  Packaging charges  \\\n",
       "0  40% off upto Rs.80          715.0              31.75   \n",
       "1     Flat Rs.175 off         1179.0              50.20   \n",
       "2  40% off upto Rs.80          310.0              11.50   \n",
       "3  40% off upto Rs.80          620.0              27.00   \n",
       "4  40% off upto Rs.80          584.0              25.20   \n",
       "\n",
       "   Restaurant discount (Promo)  \\\n",
       "0                         80.0   \n",
       "1                        175.0   \n",
       "2                         80.0   \n",
       "3                         80.0   \n",
       "4                         80.0   \n",
       "\n",
       "   Restaurant discount (Flat offs, Freebies & others)  Gold discount  \\\n",
       "0                                                0.0             0.0   \n",
       "1                                                0.0             0.0   \n",
       "2                                                0.0             0.0   \n",
       "3                                                0.0             0.0   \n",
       "4                                                0.0             0.0   \n",
       "\n",
       "   Brand pack discount    Total  Rating Review  \\\n",
       "0                  0.0   666.75     NaN    NaN   \n",
       "1                  0.0  1054.20     NaN    NaN   \n",
       "2                  0.0   241.50     NaN    NaN   \n",
       "3                  0.0   567.00     4.0    NaN   \n",
       "4                  0.0   529.20     NaN    NaN   \n",
       "\n",
       "  Cancellation / Rejection reason  Restaurant compensation (Cancellation)  \\\n",
       "0                             NaN                                     NaN   \n",
       "1                             NaN                                     NaN   \n",
       "2                             NaN                                     NaN   \n",
       "3                             NaN                                     NaN   \n",
       "4                             NaN                                     NaN   \n",
       "\n",
       "   Restaurant penalty (Rejection)  KPT duration (minutes)  \\\n",
       "0                             NaN                   18.35   \n",
       "1                             NaN                   16.95   \n",
       "2                             NaN                   14.05   \n",
       "3                             NaN                   19.00   \n",
       "4                             NaN                   15.97   \n",
       "\n",
       "   Rider wait time (minutes) Order Ready Marked Customer complaint tag  \\\n",
       "0                       11.6          Correctly                    NaN   \n",
       "1                        3.6          Correctly                    NaN   \n",
       "2                       12.2          Correctly                    NaN   \n",
       "3                        3.3          Correctly                    NaN   \n",
       "4                        1.0          Correctly                    NaN   \n",
       "\n",
       "                                         Customer ID  \n",
       "0  5d6c2b96db963098bc69768bea504c8bf46106a8a5178e...  \n",
       "1  0781815deb4a10a574e9fee4fa0b86b074d4a0b36175d5...  \n",
       "2  f93362f5ce5382657482d164e368186bcec9c6225fd93d...  \n",
       "3  1ed226d1b8a5f7acee12fc1d6676558330a3b2b742af5d...  \n",
       "4  d21a2ac6ea06b31cc3288ab20c4ef2f292066c096f2c5f...  "
      ]
     },
     "execution_count": 3,
     "metadata": {},
     "output_type": "execute_result"
    }
   ],
   "source": [
    "df =pd.read_csv('data/data.csv')\n",
    "df.head()"
   ]
  },
  {
   "cell_type": "code",
   "execution_count": 4,
   "id": "2ef8d8f8",
   "metadata": {},
   "outputs": [
    {
     "data": {
      "text/plain": [
       "Items in order\n",
       "1 x Bageecha Pizza                                                                                                                                  877\n",
       "1 x Bone in Jamaican Grilled Chicken                                                                                                                594\n",
       "1 x All About Chicken Pizza                                                                                                                         449\n",
       "1 x Margherita Pizza                                                                                                                                408\n",
       "1 x Makhani Paneer Pizza                                                                                                                            353\n",
       "                                                                                                                                                   ... \n",
       "1 x Bone in Peri Peri Grilled Chicken, 2 x Bone in Jamaican Grilled Chicken, 1 x Bone in Smoky Bbq Grilled Chicken                                    1\n",
       "1 x Salted Crisper Fries, 1 x AAC Signature Fries, 1 x Bone in Jamaican Grilled Chicken, 1 x Fried Chicken Classic Tenders + AAC Signature Fries      1\n",
       "1 x Salted Crisper Fries, 1 x Grilled Chicken Angara Tangdi                                                                                           1\n",
       "1 x Grilled Chicken Angara Tenders + Salted Fries, 1 x Garlic Aioli                                                                                   1\n",
       "1 x Grilled Chicken Jamaican Slider                                                                                                                   1\n",
       "Name: count, Length: 6123, dtype: int64"
      ]
     },
     "execution_count": 4,
     "metadata": {},
     "output_type": "execute_result"
    }
   ],
   "source": [
    "df[\"Items in order\"].value_counts()"
   ]
  },
  {
   "cell_type": "code",
   "execution_count": 5,
   "id": "f5d4939f",
   "metadata": {},
   "outputs": [
    {
     "name": "stdout",
     "output_type": "stream",
     "text": [
      "                                          Items in order  \\\n",
      "0      1 x Grilled Chicken Jamaican Tender, 1 x Grill...   \n",
      "1      1 x Peri Peri Fries, 1 x Fried Chicken Angara ...   \n",
      "2                  1 x Bone in Peri Peri Grilled Chicken   \n",
      "3      1 x Fried Chicken Ghostbuster Tender, 1 x Anga...   \n",
      "4      1 x Peri Peri Krispers, 1 x Fried Chicken Anga...   \n",
      "...                                                  ...   \n",
      "21316      1 x Fried Chicken Desi Peri Peri Bites (Bone)   \n",
      "21317         1 x Fried Chicken 65 Masala Boneless Bites   \n",
      "21318                    1 x Korean Fried Chicken Slider   \n",
      "21319                                1 x Ooh Saucy Fries   \n",
      "21320                1 x Grilled Chicken Jamaican Slider   \n",
      "\n",
      "                                          expanded_items  \n",
      "0      [Grilled Chicken Jamaican Tender, Grilled Chic...  \n",
      "1      [Peri Peri Fries, Fried Chicken Angara Tender,...  \n",
      "2                    [Bone in Peri Peri Grilled Chicken]  \n",
      "3      [Fried Chicken Ghostbuster Tender, Angara Gril...  \n",
      "4      [Peri Peri Krispers, Fried Chicken Angara Tender]  \n",
      "...                                                  ...  \n",
      "21316        [Fried Chicken Desi Peri Peri Bites (Bone)]  \n",
      "21317           [Fried Chicken 65 Masala Boneless Bites]  \n",
      "21318                      [Korean Fried Chicken Slider]  \n",
      "21319                                  [Ooh Saucy Fries]  \n",
      "21320                  [Grilled Chicken Jamaican Slider]  \n",
      "\n",
      "[21321 rows x 2 columns]\n",
      "\n",
      "Global item map:\n",
      "{'item_1': 'AAC Fried Chicken Burger', 'item_2': 'AAC Fried Paneer Burger', 'item_3': 'AAC Grilled Chicken Burger', 'item_4': 'AAC Grilled Chicken Burger .', 'item_5': 'AAC Grilled Paneer Burger', 'item_6': 'AAC Saucy Fries', 'item_7': 'AAC Signature Crisper Fries', 'item_8': 'AAC Signature Fries', 'item_9': 'AAC Signature Krispers', 'item_10': 'AAC Special Slaw', 'item_11': 'All About Chicken Pizza', 'item_12': 'Angara Aloo Tuk Tuki', 'item_13': 'Angara Boneless Grilled Chicken Breast', 'item_14': 'Angara Grilled Chicken Quarter', 'item_15': 'Angara Grilled Chicken Tangdi (4pcs)', 'item_16': 'Angara Grilled Paneer (8 pcs)', 'item_17': 'Angara Paneer Melt', 'item_18': 'Angara Paneer Steak', 'item_19': 'Angara Rice', 'item_20': 'Angara Sauce', 'item_21': 'Animal Fries', 'item_22': 'Animal Fries .', 'item_23': 'Atomic Veg Burger', 'item_24': 'Atomic Veg Burger .', 'item_25': 'BC Burger', 'item_26': 'Bacon Pepperoni Melt', 'item_27': 'Bageecha Pizza', 'item_28': 'Bageecha Pizza .', 'item_29': \"Bangin' Soya Burger\", 'item_30': 'Bellpepper Onion Pizza', 'item_31': 'Bone in Angara Grilled Chicken', 'item_32': 'Bone in Angara Grilled Chicken .', 'item_33': 'Bone in Jamaican Grilled Chicken', 'item_34': 'Bone in Jamaican Grilled Chicken .', 'item_35': 'Bone in Jamaican Grilled Chicken Quarter + Angara Rice', 'item_36': 'Bone in Kabuli Grilled Chicken', 'item_37': 'Bone in Peri Peri Grilled Chicken', 'item_38': 'Bone in Peri Peri Grilled Chicken .', 'item_39': 'Bone in Smoky Bbq Grilled Chicken', 'item_40': 'Bone in Smoky Bbq Grilled Chicken .', 'item_41': 'Brocolli Onion Pizza', 'item_42': 'Butter Chicken Grilled Burger', 'item_43': 'Cafreal Sauce', 'item_44': 'Cafreal dip', 'item_45': 'Carribean Jerk Boneless Grilled Chicken Breast', 'item_46': 'Carribean Jerk Grilled Chicken Quarter', 'item_47': 'Carribean Jerk Grilled Chicken Tangdi (4pcs)', 'item_48': 'Carribean Jerk dip', 'item_49': 'Cheesy Garlic Bread', 'item_50': 'Cheesy Veg Burger', 'item_51': 'Chicken 65 Boneless Grilled Chicken Breast', 'item_52': 'Chicken 65 Grilled Chicken Quarter', 'item_53': 'Chicken 65 Grilled Chicken Tangdi (4pcs)', 'item_54': 'Chicken 69', 'item_55': 'Chicken Pepperoni Pizza', 'item_56': 'Chicken Smashed Burger', 'item_57': 'Chicken Smashed Burgers .', 'item_58': 'Chicken Smashed Double Burger', 'item_59': 'Chilli Cheese Garlic Bread', 'item_60': 'Chilli Cheese Garlic Bread .', 'item_61': 'Chocolate Walnut Brownie', 'item_62': 'Classic Bacon Melt Tenderloin Burger', 'item_63': 'Classic Bacon Melt Tenderloin Burger .', 'item_64': 'Coleslaw', 'item_65': 'Combo For 1', 'item_66': 'Combo For 1 - Non Veg', 'item_67': 'Combo For 1 - Veg', 'item_68': 'Combo for 2 - Non Veg', 'item_69': 'Combo for 2 - Veg', 'item_70': 'Combo for 4 - Veg', 'item_71': 'Cous Cous', 'item_72': 'Crushed Papad', 'item_73': 'Desi Chicken Pepperoni Pizza', 'item_74': 'Desi Masala Crispers Fries', 'item_75': 'Desi Masala Fries', 'item_76': 'Desi Pepperoni Pizza', 'item_77': 'Dirty Grilled Paneer Burger', 'item_78': 'Dirty Indian Masala Crisper Fries', 'item_79': 'Dirty Indian Masala Fries', 'item_80': 'Dirty Indian Slaw', 'item_81': 'Dirty Indian Soya Chunks', 'item_82': 'Dirty Masala Fries', 'item_83': 'Dirty Saucy Chicken Loaded Fries', 'item_84': 'Dirty Saucy Chicken Loaded Fries .', 'item_85': 'Dirty Saucy Fries', 'item_86': 'Dynamite sauce', 'item_87': 'Fire Alarm Tenderloin Burger', 'item_88': 'Fried Chicken 65 Masala Boneless Bites', 'item_89': 'Fried Chicken Angara Slider', 'item_90': 'Fried Chicken Angara Tender', 'item_91': 'Fried Chicken Angara Tender .', 'item_92': 'Fried Chicken Beast AAC Burger', 'item_93': 'Fried Chicken Beast Burger', 'item_94': 'Fried Chicken Bites (Bone) - 4pcs', 'item_95': 'Fried Chicken Bites (Bone) - 8pcs', 'item_96': 'Fried Chicken Boneless Bites - 10pcs', 'item_97': 'Fried Chicken Boneless Bites - 6pcs', 'item_98': 'Fried Chicken Classic Tender', 'item_99': 'Fried Chicken Classic Tender .', 'item_100': 'Fried Chicken Classic Tenders + AAC Signature Fries', 'item_101': 'Fried Chicken Desi Peri Peri Bites (Bone)', 'item_102': 'Fried Chicken Dirty Burger', 'item_103': 'Fried Chicken Ghostbuster Tender', 'item_104': 'Fried Chicken Kabuli Tender', 'item_105': 'Fried Chicken Kabuli Tender .', 'item_106': 'Fried Chicken Peri Peri Tender', 'item_107': 'Fried Chicken Peri Peri Tender .', 'item_108': 'Fried Chicken Peri Peri Tenders + Peri Peri Fries', 'item_109': 'Fried Chicken Strips', 'item_110': 'Fried Chicken Tangdi - 2pcs', 'item_111': 'Fried Chicken Tangdi - 4pcs', 'item_112': 'Fried Chicken Tenders', 'item_113': 'Fried Mushroom Burger', 'item_114': 'Fried Paneer Angara Slider', 'item_115': 'Fried Paneer Burger .', 'item_116': 'Garlic Aioli', 'item_117': 'GhostBuster Sauce', 'item_118': 'Grilled Chicken 69 Burger', 'item_119': 'Grilled Chicken Afghani Boneless Breast', 'item_120': 'Grilled Chicken Angara Boneless Breast', 'item_121': 'Grilled Chicken Angara Tangdi', 'item_122': 'Grilled Chicken Angara Tender', 'item_123': 'Grilled Chicken Angara Tender .', 'item_124': 'Grilled Chicken Angara Tenders + Salted Fries', 'item_125': 'Grilled Chicken Dirty Burger', 'item_126': 'Grilled Chicken Dirty Burger .', 'item_127': 'Grilled Chicken Double Dirty Burger', 'item_128': 'Grilled Chicken Ghostbuster Tangdi', 'item_129': 'Grilled Chicken Jamaican Boneless Breast', 'item_130': 'Grilled Chicken Jamaican Slider', 'item_131': 'Grilled Chicken Jamaican Tangdi', 'item_132': 'Grilled Chicken Jamaican Tender', 'item_133': 'Grilled Chicken Jamaican Tender .', 'item_134': 'Grilled Chicken Peri Peri Boneless Breast', 'item_135': 'Grilled Chicken Peri Peri Tangdi', 'item_136': 'Grilled Chicken Peri Peri Tender', 'item_137': 'Grilled Chicken Peri Peri Tender .', 'item_138': 'Grilled Chicken Smoky BBQ Tangdi', 'item_139': 'Grilled Chicken Smoky BBQ Tender', 'item_140': 'Grilled Chicken Smoky BBQ Tender .', 'item_141': 'Grilled Chicken Smoky Bbq Boneless Breast', 'item_142': 'Grilled Chicken Tangdi', 'item_143': 'Grilled Chicken Tangdi Jamaican + Salted Krispers', 'item_144': 'Grilled Paneer Afghani Slider', 'item_145': 'Grilled Paneer Angara Slider', 'item_146': 'Grilled Paneer Burger', 'item_147': 'Grilled Paneer Burger .', 'item_148': 'Grilled Tangdis', 'item_149': 'Grlld Masala Fries', 'item_150': 'Grlld Potatoes', 'item_151': 'Grlld Vegetables', 'item_152': 'Harisa Mayo', 'item_153': 'Harissa Mayo', 'item_154': 'Herbed Potato', 'item_155': 'Honey Mustard sauce', 'item_156': 'Iced Green Tea - Mojito', 'item_157': 'Iced Green Tea - Peach', 'item_158': 'India Dynamite sauce', 'item_159': 'Indian Honey Mustard sauce', 'item_160': 'Indian Masala Cripser Fries', 'item_161': 'Indian Masala Fries', 'item_162': 'Indian Pico De-Gallo', 'item_163': 'Indian Salsa', 'item_164': 'Jamaican Chicken Melt', 'item_165': 'Jamaican Chicken Melt .', 'item_166': 'Jamaican Sauce', 'item_167': 'Just Pepperoni Pide', 'item_168': 'Just Pepperoni Pizza', 'item_169': 'Kabuli Grilled Paneer (8 pcs)', 'item_170': 'Korean Fried Chicken Burger', 'item_171': 'Korean Fried Chicken Slider', 'item_172': 'Loaded Chicken Pepperoni Pizza', 'item_173': 'Loaded Jamaican Grilled Chicken Pizza', 'item_174': 'Loaded Korean Grilled Chicken Pizza', 'item_175': 'Loaded Pork Pepperoni Pizza', 'item_176': 'Makhani Paneer Pizza', 'item_177': 'Makhani Paneer Pizza .', 'item_178': 'Malai Gud Pide', 'item_179': 'Malvani Boneless Grilled Chicken Breast', 'item_180': 'Malvani Grilled Chicken Quarter', 'item_181': 'Malvani Grilled Chicken Tangdi (4pcs)', 'item_182': 'Malvani Paneer Steak', 'item_183': 'Margherita Pizza', 'item_184': 'Masala Omelette Pide', 'item_185': 'Masala Paneer Pide', 'item_186': 'Masala Potato Pide', 'item_187': 'Mayonnaise', 'item_188': 'Mint Mayonnaise', 'item_189': 'Murgh Amritsari Garlic Bread', 'item_190': 'Murgh Amritsari Seekh Melt', 'item_191': 'Murgh Amritsari Seekh Pide', 'item_192': 'Murgh Amritsari Seekh Pizza', 'item_193': 'Mushroom Mozzarella Melt', 'item_194': 'Mushroom Pizza', 'item_195': 'Mutton Seekh Pide', 'item_196': 'Mutton Seekh Pizza', 'item_197': 'Mutton Smashed Burger', 'item_198': 'Mutton Smashed Double Burger', 'item_199': 'OG Cheese Burger', 'item_200': 'OG Cheese Pide', 'item_201': 'Og Cheese Burger', 'item_202': 'Onion Bombs', 'item_203': 'Onion Rings', 'item_204': 'Ooh Masala Fries', 'item_205': 'Ooh Saucy Fries', 'item_206': 'Paneer 65 Paneer Steak', 'item_207': 'Peanut Butter Chocolate Pide', 'item_208': 'Pepperoni Garlic Bread', 'item_209': 'Peri Peri Boneless Grilled Chicken Breast', 'item_210': 'Peri Peri Chicken Melt', 'item_211': 'Peri Peri Crisper Fries', 'item_212': 'Peri Peri Crispers Fries', 'item_213': 'Peri Peri Fries', 'item_214': 'Peri Peri Fries .', 'item_215': 'Peri Peri Grilled Chicken Pizza', 'item_216': 'Peri Peri Grilled Chicken Quarter', 'item_217': 'Peri Peri Grilled Chicken Tangdi (4pcs)', 'item_218': 'Peri Peri Ketchup', 'item_219': 'Peri Peri Krispers', 'item_220': 'Peri Peri Paneer Melt', 'item_221': 'Peri Peri Paneer Pizza', 'item_222': 'Peri Peri Sauce', 'item_223': 'Peri Peri dip', 'item_224': 'Raw Masala Lemon Shikanji', 'item_225': 'Raw Mint Mojito Iced Tea', 'item_226': 'Raw Peach Iced Tea', 'item_227': 'Red Rice', 'item_228': 'Salted Crisper Fries', 'item_229': 'Salted Fries', 'item_230': 'Salted Fries .', 'item_231': 'Salted Krispers', 'item_232': 'Signature Smashed Tenderloin Burger', 'item_233': 'Smoky BBQ Boneless Grilled Chicken Breast', 'item_234': 'Smoky BBQ Grilled Chicken Quarter', 'item_235': 'Smoky BBQ Grilled Chicken Tangdi (4pcs)', 'item_236': 'Smoky BBQ Sauce', 'item_237': 'Smoky BBQ dip', 'item_238': 'Spinach Sumac Pide', 'item_239': 'Tenderloin Smashed Burger', 'item_240': 'Tenderloin Smashed Double Burger', 'item_241': 'Tipsy Tiger Fresh Lime Soda', 'item_242': 'Tipsy Tiger Ginger Ale', 'item_243': 'Tripple Cheese Pizza', 'item_244': 'Very Peri Tenderloin Burger'}\n"
     ]
    }
   ],
   "source": [
    "import re\n",
    "\n",
    "# Function to expand an order line into list of items\n",
    "def expand_items(order_str):\n",
    "    parts = re.findall(r\"(\\d+)\\s*x\\s*([^,]+)\", order_str)\n",
    "    items = []\n",
    "    for qty, name in parts:\n",
    "        item_name = name.strip()\n",
    "        items.extend([item_name] * int(qty))\n",
    "    return items\n",
    "\n",
    "# Apply the expansion to each row\n",
    "df[\"expanded_items\"] = df[\"Items in order\"].apply(expand_items)\n",
    "\n",
    "# Create a global list (flattened)\n",
    "all_items = [item for sublist in df[\"expanded_items\"] for item in sublist]\n",
    "\n",
    "# Create a unique global item map\n",
    "unique_items = sorted(set(all_items))\n",
    "item_map = {f\"item_{i+1}\": name for i, name in enumerate(unique_items)}\n",
    "\n",
    "print(df[[\"Items in order\", \"expanded_items\"]])\n",
    "print(\"\\nGlobal item map:\")\n",
    "print(item_map)"
   ]
  },
  {
   "cell_type": "code",
   "execution_count": 6,
   "id": "0a453686",
   "metadata": {},
   "outputs": [
    {
     "name": "stdout",
     "output_type": "stream",
     "text": [
      "=== Full Item Order Frequency List ===\n",
      "\n",
      "                                                  Item  Order Frequency\n",
      "                                        Bageecha Pizza             3334\n",
      "                            Chilli Cheese Garlic Bread             1932\n",
      "                      Bone in Jamaican Grilled Chicken             1770\n",
      "                               All About Chicken Pizza             1728\n",
      "                                  Makhani Paneer Pizza             1524\n",
      "                                      Margherita Pizza             1477\n",
      "                                   Cheesy Garlic Bread             1336\n",
      "                                 Jamaican Chicken Melt             1223\n",
      "                                         Herbed Potato              980\n",
      "                                  Tripple Cheese Pizza              959\n",
      "                           Murgh Amritsari Seekh Pizza              877\n",
      "                     Bone in Smoky Bbq Grilled Chicken              804\n",
      "                                          Animal Fries              779\n",
      "                                Peri Peri Paneer Pizza              767\n",
      "                          Murgh Amritsari Garlic Bread              754\n",
      "                                    Masala Paneer Pide              743\n",
      "                                    Angara Paneer Melt              725\n",
      "                            Murgh Amritsari Seekh Pide              654\n",
      "                       Grilled Chicken Jamaican Tender              636\n",
      "                     Bone in Peri Peri Grilled Chicken              622\n",
      "                        Fried Chicken Peri Peri Tender              594\n",
      "                                  Just Pepperoni Pizza              576\n",
      "                              Mushroom Mozzarella Melt              565\n",
      "                            Murgh Amritsari Seekh Melt              545\n",
      "                               Peri Peri Crisper Fries              544\n",
      "                        Bone in Kabuli Grilled Chicken              537\n",
      "                        Bone in Angara Grilled Chicken              475\n",
      "                                        Mushroom Pizza              452\n",
      "                       Peri Peri Grilled Chicken Pizza              436\n",
      "                          Fried Chicken Classic Tender              413\n",
      "                      Grilled Chicken Smoky BBQ Tender              403\n",
      "                           Fried Chicken Angara Tender              368\n",
      "                      Grilled Chicken Peri Peri Tender              363\n",
      "                                Peri Peri Chicken Melt              334\n",
      "                                Pepperoni Garlic Bread              328\n",
      "                                          Garlic Aioli              317\n",
      "                                       Peri Peri Fries              310\n",
      "                                Bellpepper Onion Pizza              309\n",
      "                                    Spinach Sumac Pide              306\n",
      "                                     Mutton Seekh Pide              301\n",
      "                           Tipsy Tiger Fresh Lime Soda              299\n",
      "                                  Fried Chicken Strips              297\n",
      "                                           Onion Rings              295\n",
      "                               Chicken Pepperoni Pizza              289\n",
      "                                        OG Cheese Pide              281\n",
      "                                          Salted Fries              279\n",
      "                                    Mutton Seekh Pizza              271\n",
      "                                       Grilled Tangdis              267\n",
      "                                   Just Pepperoni Pide              265\n",
      "                         Grilled Chicken Angara Tender              255\n",
      "                      Fried Chicken Ghostbuster Tender              249\n",
      "                                  Salted Crisper Fries              247\n",
      "                                        Malai Gud Pide              234\n",
      "                                    Masala Potato Pide              229\n",
      "                            AAC Grilled Chicken Burger              210\n",
      "                           Indian Masala Cripser Fries              192\n",
      "                                 Fried Chicken Tenders              173\n",
      "                                  Desi Pepperoni Pizza              163\n",
      "                                   Indian Masala Fries              161\n",
      "                        Fried Chicken Beast AAC Burger              146\n",
      "                       Grilled Chicken Jamaican Tangdi              141\n",
      "Bone in Jamaican Grilled Chicken Quarter + Angara Rice              139\n",
      "                                  Bacon Pepperoni Melt              138\n",
      "                                Tipsy Tiger Ginger Ale              135\n",
      "                           Fried Chicken Kabuli Tender              134\n",
      "                          Desi Chicken Pepperoni Pizza              128\n",
      "                                 Peri Peri Paneer Melt              126\n",
      "                      Grilled Chicken Smoky BBQ Tangdi              122\n",
      "                      Grilled Chicken Peri Peri Tangdi              116\n",
      "                                           Harisa Mayo              112\n",
      "                          Peanut Butter Chocolate Pide              112\n",
      "                                           Angara Rice              107\n",
      "                                   AAC Signature Fries              103\n",
      "                         Grilled Chicken Angara Tangdi              100\n",
      "                                       AAC Saucy Fries              100\n",
      "                                Grilled Chicken Tangdi               88\n",
      "     Fried Chicken Peri Peri Tenders + Peri Peri Fries               76\n",
      "                                  Indian Pico De-Gallo               68\n",
      "                           AAC Signature Crisper Fries               66\n",
      "                                 Mutton Smashed Burger               63\n",
      "                                Iced Green Tea - Peach               61\n",
      "                             Raw Masala Lemon Shikanji               59\n",
      "                         Angara Grilled Paneer (8 pcs)               59\n",
      "                    Grilled Chicken Ghostbuster Tangdi               59\n",
      "                                     Dirty Saucy Fries               55\n",
      "                                          Angara Sauce               50\n",
      "                                     GhostBuster Sauce               50\n",
      "                                          Indian Salsa               48\n",
      "              Grilled Chicken Jamaican Boneless Breast               48\n",
      "                                            Mayonnaise               47\n",
      "                                  Masala Omelette Pide               47\n",
      "                               Iced Green Tea - Mojito               47\n",
      "                                      AAC Special Slaw               47\n",
      "                                        Jamaican Sauce               46\n",
      "                                           Onion Bombs               45\n",
      "                          Grilled Chicken Dirty Burger               45\n",
      "     Grilled Chicken Tangdi Jamaican + Salted Krispers               41\n",
      "                                          Harissa Mayo               41\n",
      "                                       Smoky BBQ Sauce               39\n",
      "            Chicken 65 Boneless Grilled Chicken Breast               35\n",
      "                         Kabuli Grilled Paneer (8 pcs)               35\n",
      "                                              Coleslaw               34\n",
      "                             AAC Grilled Paneer Burger               34\n",
      "                Angara Boneless Grilled Chicken Breast               33\n",
      "                                  Angara Aloo Tuk Tuki               32\n",
      "                                         Cafreal Sauce               31\n",
      "                           Loaded Pork Pepperoni Pizza               31\n",
      "         Grilled Chicken Angara Tenders + Salted Fries               30\n",
      "                    Bone in Jamaican Grilled Chicken .               28\n",
      "   Fried Chicken Classic Tenders + AAC Signature Fries               27\n",
      "                   Loaded Korean Grilled Chicken Pizza               27\n",
      "                                         Crushed Papad               27\n",
      "                                        Animal Fries .               27\n",
      "             Grilled Chicken Smoky Bbq Boneless Breast               26\n",
      "                 Loaded Jamaican Grilled Chicken Pizza               25\n",
      "                                  Brocolli Onion Pizza               23\n",
      "                               AAC Fried Paneer Burger               22\n",
      "                Grilled Chicken Angara Boneless Breast               22\n",
      "             Grilled Chicken Peri Peri Boneless Breast               22\n",
      "             Smoky BBQ Boneless Grilled Chicken Breast               22\n",
      "                                     Atomic Veg Burger               21\n",
      "             Peri Peri Boneless Grilled Chicken Breast               21\n",
      "                                           Cafreal dip               21\n",
      "                   Bone in Smoky Bbq Grilled Chicken .               19\n",
      "                                  India Dynamite sauce               19\n",
      "        Carribean Jerk Boneless Grilled Chicken Breast               18\n",
      "                                     Peri Peri Fries .               17\n",
      "                  Classic Bacon Melt Tenderloin Burger               17\n",
      "                      Dirty Saucy Chicken Loaded Fries               16\n",
      "                                        Dynamite sauce               15\n",
      "               Grilled Chicken Afghani Boneless Breast               15\n",
      "                        Fried Chicken Classic Tender .               15\n",
      "                                       Peri Peri Sauce               14\n",
      "                                        Salted Fries .               14\n",
      "                                Chicken Smashed Burger               12\n",
      "                        Loaded Chicken Pepperoni Pizza               12\n",
      "                                 Grilled Paneer Burger               12\n",
      "                                 Combo For 1 - Non Veg               12\n",
      "                             Tenderloin Smashed Burger               11\n",
      "                                       Ooh Saucy Fries               11\n",
      "                      Fried Chicken Peri Peri Tender .               10\n",
      "                   Bone in Peri Peri Grilled Chicken .               10\n",
      "                                     Combo For 1 - Veg               10\n",
      "                             Dirty Indian Masala Fries               10\n",
      "                Carribean Jerk Grilled Chicken Quarter               10\n",
      "                                       Salted Krispers                9\n",
      "                           Fried Chicken Tangdi - 2pcs                9\n",
      "                            Indian Honey Mustard sauce                9\n",
      "                                     Cheesy Veg Burger                8\n",
      "                                    Peri Peri Krispers                8\n",
      "                              AAC Fried Chicken Burger                8\n",
      "                                    Grlld Masala Fries                8\n",
      "                              Chocolate Walnut Brownie                8\n",
      "                                   Honey Mustard sauce                8\n",
      "                   Fried Chicken Boneless Bites - 6pcs                8\n",
      "                                              Red Rice                7\n",
      "               Malvani Boneless Grilled Chicken Breast                7\n",
      "                           Dirty Grilled Paneer Burger                7\n",
      "                                      Grlld Vegetables                7\n",
      "                       Grilled Chicken Angara Tender .                7\n",
      "                         Fried Chicken Angara Tender .                7\n",
      "                          AAC Grilled Chicken Burger .                7\n",
      "                            Fried Chicken Beast Burger                6\n",
      "                                     Desi Masala Fries                6\n",
      "                                AAC Signature Krispers                6\n",
      "                    Grilled Chicken Smoky BBQ Tender .                5\n",
      "                           Korean Fried Chicken Burger                5\n",
      "                                 Fried Mushroom Burger                5\n",
      "                     Grilled Chicken Jamaican Tender .                5\n",
      "                          Chilli Cheese Garlic Bread .                4\n",
      "                      Bone in Angara Grilled Chicken .                4\n",
      "                         Butter Chicken Grilled Burger                4\n",
      "                         Fried Chicken Kabuli Tender .                4\n",
      "                            Fried Chicken Dirty Burger                4\n",
      "                                            Chicken 69                4\n",
      "                            Fried Paneer Angara Slider                4\n",
      "                                 Combo for 2 - Non Veg                4\n",
      "                                        Grlld Potatoes                4\n",
      "          Carribean Jerk Grilled Chicken Tangdi (4pcs)                4\n",
      "                    Chicken 65 Grilled Chicken Quarter                4\n",
      "                          Grilled Paneer Angara Slider                3\n",
      "               Peri Peri Grilled Chicken Tangdi (4pcs)                3\n",
      "                     Fried Chicken Bites (Bone) - 4pcs                3\n",
      "                                             Cous Cous                3\n",
      "                               Jamaican Chicken Melt .                3\n",
      "                          Mutton Smashed Double Burger                3\n",
      "                                      Bageecha Pizza .                3\n",
      "                    Grilled Chicken Peri Peri Tender .                3\n",
      "                              Peri Peri Crispers Fries                2\n",
      "                         Chicken Smashed Double Burger                2\n",
      "                                         Peri Peri dip                2\n",
      "                                      Og Cheese Burger                2\n",
      "               Smoky BBQ Grilled Chicken Tangdi (4pcs)                2\n",
      "                            Desi Masala Crispers Fries                2\n",
      "                           Very Peri Tenderloin Burger                2\n",
      "                                           Combo For 1                2\n",
      "                      Tenderloin Smashed Double Burger                2\n",
      "                     Dirty Indian Masala Crisper Fries                2\n",
      "                           Korean Fried Chicken Slider                2\n",
      "                                       Mint Mayonnaise                2\n",
      "                  Angara Grilled Chicken Tangdi (4pcs)                2\n",
      "                                Makhani Paneer Pizza .                2\n",
      "                   Grilled Chicken Double Dirty Burger                2\n",
      "                                             BC Burger                2\n",
      "                                   Bangin' Soya Burger                2\n",
      "                                         Smoky BBQ dip                2\n",
      "                                    Carribean Jerk dip                2\n",
      "                                   Atomic Veg Burger .                2\n",
      "              Chicken 65 Grilled Chicken Tangdi (4pcs)                2\n",
      "                             Chicken Smashed Burgers .                2\n",
      "                                     Dirty Indian Slaw                2\n",
      "                        Grilled Chicken Dirty Burger .                2\n",
      "                        Angara Grilled Chicken Quarter                2\n",
      "                               Grilled Paneer Burger .                2\n",
      "                       Malvani Grilled Chicken Quarter                2\n",
      "                     Smoky BBQ Grilled Chicken Quarter                2\n",
      "                          Fire Alarm Tenderloin Burger                1\n",
      "                           Fried Chicken Tangdi - 4pcs                1\n",
      "                Fried Chicken 65 Masala Boneless Bites                1\n",
      "                                  Malvani Paneer Steak                1\n",
      "                                    Dirty Masala Fries                1\n",
      "             Fried Chicken Desi Peri Peri Bites (Bone)                1\n",
      "                           Fried Chicken Angara Slider                1\n",
      "                                     Combo for 2 - Veg                1\n",
      "                                     Combo for 4 - Veg                1\n",
      "                                      Ooh Masala Fries                1\n",
      "                                      OG Cheese Burger                1\n",
      "                         Grilled Paneer Afghani Slider                1\n",
      "                  Fried Chicken Boneless Bites - 10pcs                1\n",
      "                                    Raw Peach Iced Tea                1\n",
      "                                     Peri Peri Ketchup                1\n",
      "                     Fried Chicken Bites (Bone) - 8pcs                1\n",
      "                 Malvani Grilled Chicken Tangdi (4pcs)                1\n",
      "                              Dirty Indian Soya Chunks                1\n",
      "                              Raw Mint Mojito Iced Tea                1\n",
      "                   Signature Smashed Tenderloin Burger                1\n",
      "                     Peri Peri Grilled Chicken Quarter                1\n",
      "                    Dirty Saucy Chicken Loaded Fries .                1\n",
      "                Classic Bacon Melt Tenderloin Burger .                1\n",
      "                                 Fried Paneer Burger .                1\n",
      "                                Paneer 65 Paneer Steak                1\n",
      "                                   Angara Paneer Steak                1\n",
      "                             Grilled Chicken 69 Burger                1\n",
      "                       Grilled Chicken Jamaican Slider                1\n"
     ]
    }
   ],
   "source": [
    "import matplotlib.pyplot as plt\n",
    "\n",
    "# --- Step 3: Count frequencies ---\n",
    "item_counts = pd.Series(all_items).value_counts().reset_index()\n",
    "item_counts.columns = [\"Item\", \"Order Frequency\"]\n",
    "\n",
    "# --- Step 4: Print the full list sorted by frequency ---\n",
    "print(\"=== Full Item Order Frequency List ===\\n\")\n",
    "print(item_counts.to_string(index=False))"
   ]
  },
  {
   "cell_type": "code",
   "execution_count": 7,
   "id": "4d4ebe14",
   "metadata": {},
   "outputs": [
    {
     "data": {
      "image/png": "[encoded data removed]",
      "text/plain": [
       "<Figure size 1000x600 with 1 Axes>"
      ]
     },
     "metadata": {},
     "output_type": "display_data"
    }
   ],
   "source": [
    "# --- Step 5: Plot top 20 items ---\n",
    "plt.figure(figsize=(10,6))\n",
    "plt.barh(item_counts[\"Item\"].head(20)[::-1], item_counts[\"Order Frequency\"].head(20)[::-1])\n",
    "plt.title(\"Top 20 Most Popular Dishes\")\n",
    "plt.xlabel(\"Order Frequency\")\n",
    "plt.ylabel(\"Dish Name\")\n",
    "plt.tight_layout()\n",
    "plt.show()"
   ]
  },
  {
   "cell_type": "code",
   "execution_count": 8,
   "id": "7031d6cc",
   "metadata": {},
   "outputs": [
    {
     "data": {
      "text/plain": [
       "Index(['Restaurant ID', 'Restaurant name', 'Subzone', 'City', 'Order ID',\n",
       "       'Order Placed At', 'Order Status', 'Delivery', 'Distance',\n",
       "       'Items in order', 'Instructions', 'Discount construct', 'Bill subtotal',\n",
       "       'Packaging charges', 'Restaurant discount (Promo)',\n",
       "       'Restaurant discount (Flat offs, Freebies & others)', 'Gold discount',\n",
       "       'Brand pack discount', 'Total', 'Rating', 'Review',\n",
       "       'Cancellation / Rejection reason',\n",
       "       'Restaurant compensation (Cancellation)',\n",
       "       'Restaurant penalty (Rejection)', 'KPT duration (minutes)',\n",
       "       'Rider wait time (minutes)', 'Order Ready Marked',\n",
       "       'Customer complaint tag', 'Customer ID', 'expanded_items'],\n",
       "      dtype='object')"
      ]
     },
     "execution_count": 8,
     "metadata": {},
     "output_type": "execute_result"
    }
   ],
   "source": [
    "df.columns"
   ]
  },
  {
   "cell_type": "code",
   "execution_count": 9,
   "id": "a9880ab9",
   "metadata": {},
   "outputs": [
    {
     "name": "stdout",
     "output_type": "stream",
     "text": [
      "<class 'pandas.core.frame.DataFrame'>\n",
      "RangeIndex: 21321 entries, 0 to 21320\n",
      "Data columns (total 30 columns):\n",
      " #   Column                                              Non-Null Count  Dtype  \n",
      "---  ------                                              --------------  -----  \n",
      " 0   Restaurant ID                                       21321 non-null  int64  \n",
      " 1   Restaurant name                                     21321 non-null  object \n",
      " 2   Subzone                                             21321 non-null  object \n",
      " 3   City                                                21321 non-null  object \n",
      " 4   Order ID                                            21321 non-null  int64  \n",
      " 5   Order Placed At                                     21321 non-null  object \n",
      " 6   Order Status                                        21321 non-null  object \n",
      " 7   Delivery                                            21321 non-null  object \n",
      " 8   Distance                                            21321 non-null  object \n",
      " 9   Items in order                                      21321 non-null  object \n",
      " 10  Instructions                                        720 non-null    object \n",
      " 11  Discount construct                                  15823 non-null  object \n",
      " 12  Bill subtotal                                       21321 non-null  float64\n",
      " 13  Packaging charges                                   21321 non-null  float64\n",
      " 14  Restaurant discount (Promo)                         21321 non-null  float64\n",
      " 15  Restaurant discount (Flat offs, Freebies & others)  21321 non-null  float64\n",
      " 16  Gold discount                                       21321 non-null  float64\n",
      " 17  Brand pack discount                                 21321 non-null  float64\n",
      " 18  Total                                               21321 non-null  float64\n",
      " 19  Rating                                              2491 non-null   float64\n",
      " 20  Review                                              296 non-null    object \n",
      " 21  Cancellation / Rejection reason                     186 non-null    object \n",
      " 22  Restaurant compensation (Cancellation)              133 non-null    float64\n",
      " 23  Restaurant penalty (Rejection)                      3 non-null      float64\n",
      " 24  KPT duration (minutes)                              21026 non-null  float64\n",
      " 25  Rider wait time (minutes)                           21153 non-null  float64\n",
      " 26  Order Ready Marked                                  21321 non-null  object \n",
      " 27  Customer complaint tag                              469 non-null    object \n",
      " 28  Customer ID                                         21321 non-null  object \n",
      " 29  expanded_items                                      21321 non-null  object \n",
      "dtypes: float64(12), int64(2), object(16)\n",
      "memory usage: 4.9+ MB\n"
     ]
    }
   ],
   "source": [
    "df.info()"
   ]
  },
  {
   "cell_type": "code",
   "execution_count": 10,
   "id": "9cabb282",
   "metadata": {},
   "outputs": [
    {
     "data": {
      "text/plain": [
       "19114"
      ]
     },
     "execution_count": 10,
     "metadata": {},
     "output_type": "execute_result"
    }
   ],
   "source": [
    "# get all unique day from order date\n",
    "df[\"Order Placed At\"].nunique()"
   ]
  },
  {
   "cell_type": "code",
   "execution_count": 11,
   "id": "ff209930",
   "metadata": {},
   "outputs": [
    {
     "data": {
      "text/plain": [
       "Subzone\n",
       "Greater Kailash 2 (GK2)    7380\n",
       "Sector 4                   6530\n",
       "DLF Phase 1                3686\n",
       "Sector 135                 2442\n",
       "Vasant Kunj                 920\n",
       "Shahdara                    360\n",
       "Chittaranjan Park             2\n",
       "Sikandarpur                   1\n",
       "Name: count, dtype: int64"
      ]
     },
     "execution_count": 11,
     "metadata": {},
     "output_type": "execute_result"
    }
   ],
   "source": [
    "df[\"Subzone\"].value_counts()"
   ]
  },
  {
   "cell_type": "code",
   "execution_count": 12,
   "id": "fb131f15",
   "metadata": {},
   "outputs": [
    {
     "data": {
      "text/plain": [
       "Restaurant name\n",
       "Aura Pizzas             14548\n",
       "Swaad                    6332\n",
       "Dilli Burger Adda         227\n",
       "Tandoori Junction         154\n",
       "The Chicken Junction       32\n",
       "Masala Junction            28\n",
       "Name: count, dtype: int64"
      ]
     },
     "execution_count": 12,
     "metadata": {},
     "output_type": "execute_result"
    }
   ],
   "source": [
    "df[\"Restaurant name\"].value_counts()"
   ]
  },
  {
   "cell_type": "code",
   "execution_count": 13,
   "id": "e47e54c5",
   "metadata": {},
   "outputs": [],
   "source": [
    "# Convert \"Order Placed At\" to datetime\n",
    "df[\"Order_Datetime\"] = pd.to_datetime(df[\"Order Placed At\"], format=\"%I:%M %p, %B %d %Y\")"
   ]
  },
  {
   "cell_type": "code",
   "execution_count": 14,
   "id": "fc893914",
   "metadata": {},
   "outputs": [
    {
     "data": {
      "text/plain": [
       "(array(['Delhi NCR'], dtype=object),\n",
       " array(['Sector 4', 'Greater Kailash 2 (GK2)', 'DLF Phase 1', 'Sector 135',\n",
       "        'Vasant Kunj', 'Shahdara', 'Sikandarpur', 'Chittaranjan Park'],\n",
       "       dtype=object))"
      ]
     },
     "execution_count": 14,
     "metadata": {},
     "output_type": "execute_result"
    }
   ],
   "source": [
    "# Get unique values in city and subzone\n",
    "unique_cities = df[\"City\"].unique()\n",
    "unique_subzones = df[\"Subzone\"].unique()\n",
    "unique_cities, unique_subzones"
   ]
  },
  {
   "cell_type": "code",
   "execution_count": 15,
   "id": "637fe75e",
   "metadata": {},
   "outputs": [
    {
     "name": "stderr",
     "output_type": "stream",
     "text": [
      "/var/folders/28/vn55ny5s5114jn9bjs666k2w0000gn/T/ipykernel_96412/1603766483.py:8: FutureWarning: \n",
      "\n",
      "Passing `palette` without assigning `hue` is deprecated and will be removed in v0.14.0. Assign the `x` variable to `hue` and set `legend=False` for the same effect.\n",
      "\n",
      "  sns.barplot(x=orders_by_hour.index, y=orders_by_hour.values, palette=\"viridis\")\n"
     ]
    },
    {
     "data": {
      "image/png": "[encoded data removed]",
      "text/plain": [
       "<Figure size 1000x500 with 1 Axes>"
      ]
     },
     "metadata": {},
     "output_type": "display_data"
    }
   ],
   "source": [
    "import matplotlib.pyplot as plt\n",
    "import seaborn as sns\n",
    "\n",
    "df['hour'] = df['Order_Datetime'].dt.hour\n",
    "orders_by_hour = df.groupby('hour')['Order ID'].count()\n",
    "\n",
    "plt.figure(figsize=(10,5))\n",
    "sns.barplot(x=orders_by_hour.index, y=orders_by_hour.values, palette=\"viridis\")\n",
    "plt.title(\"Hourly Order Count\")\n",
    "plt.xlabel(\"Hour of Day\")\n",
    "plt.ylabel(\"Number of Orders\")\n",
    "plt.show()\n"
   ]
  },
  {
   "cell_type": "code",
   "execution_count": 16,
   "id": "38e8a3f1",
   "metadata": {},
   "outputs": [
    {
     "name": "stderr",
     "output_type": "stream",
     "text": [
      "/var/folders/28/vn55ny5s5114jn9bjs666k2w0000gn/T/ipykernel_96412/918526561.py:7: FutureWarning: \n",
      "\n",
      "Passing `palette` without assigning `hue` is deprecated and will be removed in v0.14.0. Assign the `x` variable to `hue` and set `legend=False` for the same effect.\n",
      "\n",
      "  sns.barplot(x=orders_by_day.index, y=orders_by_day.values, palette=\"coolwarm\")\n"
     ]
    },
    {
     "data": {
      "image/png": "[encoded data removed]",
      "text/plain": [
       "<Figure size 1000x500 with 1 Axes>"
      ]
     },
     "metadata": {},
     "output_type": "display_data"
    }
   ],
   "source": [
    "df['day_of_week'] = df['Order_Datetime'].dt.day_name()\n",
    "orders_by_day = df.groupby('day_of_week')['Order ID'].count().reindex([\n",
    "    \"Monday\",\"Tuesday\",\"Wednesday\",\"Thursday\",\"Friday\",\"Saturday\",\"Sunday\"\n",
    "])\n",
    "\n",
    "plt.figure(figsize=(10,5))\n",
    "sns.barplot(x=orders_by_day.index, y=orders_by_day.values, palette=\"coolwarm\")\n",
    "plt.title(\"Orders by Day of Week\")\n",
    "plt.ylabel(\"Number of Orders\")\n",
    "plt.xticks(rotation=45)\n",
    "plt.show()"
   ]
  },
  {
   "cell_type": "code",
   "execution_count": 17,
   "id": "40a45d3c",
   "metadata": {},
   "outputs": [
    {
     "data": {
      "image/png": "[encoded data removed]",
      "text/plain": [
       "<Figure size 1200x500 with 1 Axes>"
      ]
     },
     "metadata": {},
     "output_type": "display_data"
    }
   ],
   "source": [
    "df['date'] = df['Order_Datetime'].dt.date\n",
    "daily_orders = df.groupby('date')['Order ID'].count()\n",
    "daily_orders.plot(figsize=(12,5), marker='o')\n",
    "plt.title(\"Daily Orders\")\n",
    "plt.ylabel(\"Number of Orders\")\n",
    "plt.show()"
   ]
  },
  {
   "cell_type": "code",
   "execution_count": 18,
   "id": "5c40f5c0",
   "metadata": {},
   "outputs": [
    {
     "name": "stderr",
     "output_type": "stream",
     "text": [
      "/var/folders/28/vn55ny5s5114jn9bjs666k2w0000gn/T/ipykernel_96412/987644834.py:56: DeprecationWarning:\n",
      "\n",
      "*scattermapbox* is deprecated! Use *scattermap* instead. Learn more at: https://plotly.com/python/mapbox-to-maplibre/\n",
      "\n",
      "/var/folders/28/vn55ny5s5114jn9bjs666k2w0000gn/T/ipykernel_96412/987644834.py:71: DeprecationWarning:\n",
      "\n",
      "*scattermapbox* is deprecated! Use *scattermap* instead. Learn more at: https://plotly.com/python/mapbox-to-maplibre/\n",
      "\n",
      "/var/folders/28/vn55ny5s5114jn9bjs666k2w0000gn/T/ipykernel_96412/987644834.py:85: DeprecationWarning:\n",
      "\n",
      "*scattermapbox* is deprecated! Use *scattermap* instead. Learn more at: https://plotly.com/python/mapbox-to-maplibre/\n",
      "\n"
     ]
    },
    {
     "data": {
      "application/vnd.plotly.v1+json": {
       "config": {
        "plotlyServerURL": "https://plot.ly"
       },
       "data": [
        {
         "hovertemplate": "Aura Pizzas<br>Avg dist: 4.35 km<br>Max dist: 21.00 km",
         "lat": [
          28.5866
         ],
         "lon": [
          77.223
         ],
         "marker": {
          "color": "blue",
          "size": 10
         },
         "mode": "markers",
         "name": "Aura Pizzas",
         "type": "scattermapbox"
        },
        {
         "lat": [
          28.5866
         ],
         "lon": [
          77.223
         ],
         "marker": {
          "color": "green",
          "opacity": 0.3,
          "size": 43.478416277151496
         },
         "mode": "markers",
         "name": "Aura Pizzas Avg Distance",
         "showlegend": false,
         "type": "scattermapbox"
        },
        {
         "lat": [
          28.5866
         ],
         "lon": [
          77.223
         ],
         "marker": {
          "color": "red",
          "opacity": 0.3,
          "size": 210
         },
         "mode": "markers",
         "name": "Aura Pizzas Max Distance",
         "showlegend": false,
         "type": "scattermapbox"
        },
        {
         "hovertemplate": "Dilli Burger Adda<br>Avg dist: 3.16 km<br>Max dist: 14.00 km",
         "lat": [
          28.662
         ],
         "lon": [
          77.2365
         ],
         "marker": {
          "color": "blue",
          "size": 10
         },
         "mode": "markers",
         "name": "Dilli Burger Adda",
         "type": "scattermapbox"
        },
        {
         "lat": [
          28.662
         ],
         "lon": [
          77.2365
         ],
         "marker": {
          "color": "green",
          "opacity": 0.3,
          "size": 31.61674008810573
         },
         "mode": "markers",
         "name": "Dilli Burger Adda Avg Distance",
         "showlegend": false,
         "type": "scattermapbox"
        },
        {
         "lat": [
          28.662
         ],
         "lon": [
          77.2365
         ],
         "marker": {
          "color": "red",
          "opacity": 0.3,
          "size": 140
         },
         "mode": "markers",
         "name": "Dilli Burger Adda Max Distance",
         "showlegend": false,
         "type": "scattermapbox"
        },
        {
         "hovertemplate": "Masala Junction<br>Avg dist: 9.46 km<br>Max dist: 16.00 km",
         "lat": [
          28.5309
         ],
         "lon": [
          77.1466
         ],
         "marker": {
          "color": "blue",
          "size": 10
         },
         "mode": "markers",
         "name": "Masala Junction",
         "type": "scattermapbox"
        },
        {
         "lat": [
          28.5309
         ],
         "lon": [
          77.1466
         ],
         "marker": {
          "color": "green",
          "opacity": 0.3,
          "size": 94.64285714285714
         },
         "mode": "markers",
         "name": "Masala Junction Avg Distance",
         "showlegend": false,
         "type": "scattermapbox"
        },
        {
         "lat": [
          28.5309
         ],
         "lon": [
          77.1466
         ],
         "marker": {
          "color": "red",
          "opacity": 0.3,
          "size": 160
         },
         "mode": "markers",
         "name": "Masala Junction Max Distance",
         "showlegend": false,
         "type": "scattermapbox"
        },
        {
         "hovertemplate": "Swaad<br>Avg dist: 3.75 km<br>Max dist: 19.00 km",
         "lat": [
          28.5734
         ],
         "lon": [
          77.2581
         ],
         "marker": {
          "color": "blue",
          "size": 10
         },
         "mode": "markers",
         "name": "Swaad",
         "type": "scattermapbox"
        },
        {
         "lat": [
          28.5734
         ],
         "lon": [
          77.2581
         ],
         "marker": {
          "color": "green",
          "opacity": 0.3,
          "size": 37.47030953885029
         },
         "mode": "markers",
         "name": "Swaad Avg Distance",
         "showlegend": false,
         "type": "scattermapbox"
        },
        {
         "lat": [
          28.5734
         ],
         "lon": [
          77.2581
         ],
         "marker": {
          "color": "red",
          "opacity": 0.3,
          "size": 190
         },
         "mode": "markers",
         "name": "Swaad Max Distance",
         "showlegend": false,
         "type": "scattermapbox"
        },
        {
         "hovertemplate": "Tandoori Junction<br>Avg dist: 5.61 km<br>Max dist: 18.00 km",
         "lat": [
          28.6098
         ],
         "lon": [
          77.0923
         ],
         "marker": {
          "color": "blue",
          "size": 10
         },
         "mode": "markers",
         "name": "Tandoori Junction",
         "type": "scattermapbox"
        },
        {
         "lat": [
          28.6098
         ],
         "lon": [
          77.0923
         ],
         "marker": {
          "color": "green",
          "opacity": 0.3,
          "size": 56.090909090909086
         },
         "mode": "markers",
         "name": "Tandoori Junction Avg Distance",
         "showlegend": false,
         "type": "scattermapbox"
        },
        {
         "lat": [
          28.6098
         ],
         "lon": [
          77.0923
         ],
         "marker": {
          "color": "red",
          "opacity": 0.3,
          "size": 180
         },
         "mode": "markers",
         "name": "Tandoori Junction Max Distance",
         "showlegend": false,
         "type": "scattermapbox"
        },
        {
         "hovertemplate": "The Chicken Junction<br>Avg dist: 9.06 km<br>Max dist: 16.00 km",
         "lat": [
          28.6412
         ],
         "lon": [
          77.2163
         ],
         "marker": {
          "color": "blue",
          "size": 10
         },
         "mode": "markers",
         "name": "The Chicken Junction",
         "type": "scattermapbox"
        },
        {
         "lat": [
          28.6412
         ],
         "lon": [
          77.2163
         ],
         "marker": {
          "color": "green",
          "opacity": 0.3,
          "size": 90.625
         },
         "mode": "markers",
         "name": "The Chicken Junction Avg Distance",
         "showlegend": false,
         "type": "scattermapbox"
        },
        {
         "lat": [
          28.6412
         ],
         "lon": [
          77.2163
         ],
         "marker": {
          "color": "red",
          "opacity": 0.3,
          "size": 160
         },
         "mode": "markers",
         "name": "The Chicken Junction Max Distance",
         "showlegend": false,
         "type": "scattermapbox"
        },
        {
         "lat": {
          "bdata": "AAAAAAAA+H8v3SQGgXU8QHuDL0ymijxAUrgeheuRPEDXo3A9Cpc8QAAAAAAAAPh/AAAAAAAA+H9I4XoUroc8QA==",
          "dtype": "f8"
         },
         "lon": {
          "bdata": "AAAAAAAA+H9SuB6F60FTQEGC4seYT1NA16NwPQpXU0CamZmZmVlTQAAAAAAAAPh/AAAAAAAA+H+amZmZmUlTQA==",
          "dtype": "f8"
         },
         "marker": {
          "color": "red",
          "size": {
           "bdata": "AgBmDtQcigmCGWgBAQCYAw==",
           "dtype": "i2"
          },
          "sizemode": "area"
         },
         "mode": "markers",
         "name": "Orders per Subzone",
         "text": [
          "Chittaranjan Park: 2 orders",
          "DLF Phase 1: 3686 orders",
          "Greater Kailash 2 (GK2): 7380 orders",
          "Sector 135: 2442 orders",
          "Sector 4: 6530 orders",
          "Shahdara: 360 orders",
          "Sikandarpur: 1 orders",
          "Vasant Kunj: 920 orders"
         ],
         "type": "scattermapbox"
        }
       ],
       "layout": {
        "mapbox": {
         "center": {
          "lat": 28.6139,
          "lon": 77.209
         },
         "style": "open-street-map",
         "zoom": 11
        },
        "margin": {
         "b": 0,
         "l": 0,
         "r": 0,
         "t": 0
        },
        "template": {
         "data": {
          "bar": [
           {
            "error_x": {
             "color": "#2a3f5f"
            },
            "error_y": {
             "color": "#2a3f5f"
            },
            "marker": {
             "line": {
              "color": "#E5ECF6",
              "width": 0.5
             },
             "pattern": {
              "fillmode": "overlay",
              "size": 10,
              "solidity": 0.2
             }
            },
            "type": "bar"
           }
          ],
          "barpolar": [
           {
            "marker": {
             "line": {
              "color": "#E5ECF6",
              "width": 0.5
             },
             "pattern": {
              "fillmode": "overlay",
              "size": 10,
              "solidity": 0.2
             }
            },
            "type": "barpolar"
           }
          ],
          "carpet": [
           {
            "aaxis": {
             "endlinecolor": "#2a3f5f",
             "gridcolor": "white",
             "linecolor": "white",
             "minorgridcolor": "white",
             "startlinecolor": "#2a3f5f"
            },
            "baxis": {
             "endlinecolor": "#2a3f5f",
             "gridcolor": "white",
             "linecolor": "white",
             "minorgridcolor": "white",
             "startlinecolor": "#2a3f5f"
            },
            "type": "carpet"
           }
          ],
          "choropleth": [
           {
            "colorbar": {
             "outlinewidth": 0,
             "ticks": ""
            },
            "type": "choropleth"
           }
          ],
          "contour": [
           {
            "colorbar": {
             "outlinewidth": 0,
             "ticks": ""
            },
            "colorscale": [
             [
              0,
              "#0d0887"
             ],
             [
              0.1111111111111111,
              "#46039f"
             ],
             [
              0.2222222222222222,
              "#7201a8"
             ],
             [
              0.3333333333333333,
              "#9c179e"
             ],
             [
              0.4444444444444444,
              "#bd3786"
             ],
             [
              0.5555555555555556,
              "#d8576b"
             ],
             [
              0.6666666666666666,
              "#ed7953"
             ],
             [
              0.7777777777777778,
              "#fb9f3a"
             ],
             [
              0.8888888888888888,
              "#fdca26"
             ],
             [
              1,
              "#f0f921"
             ]
            ],
            "type": "contour"
           }
          ],
          "contourcarpet": [
           {
            "colorbar": {
             "outlinewidth": 0,
             "ticks": ""
            },
            "type": "contourcarpet"
           }
          ],
          "heatmap": [
           {
            "colorbar": {
             "outlinewidth": 0,
             "ticks": ""
            },
            "colorscale": [
             [
              0,
              "#0d0887"
             ],
             [
              0.1111111111111111,
              "#46039f"
             ],
             [
              0.2222222222222222,
              "#7201a8"
             ],
             [
              0.3333333333333333,
              "#9c179e"
             ],
             [
              0.4444444444444444,
              "#bd3786"
             ],
             [
              0.5555555555555556,
              "#d8576b"
             ],
             [
              0.6666666666666666,
              "#ed7953"
             ],
             [
              0.7777777777777778,
              "#fb9f3a"
             ],
             [
              0.8888888888888888,
              "#fdca26"
             ],
             [
              1,
              "#f0f921"
             ]
            ],
            "type": "heatmap"
           }
          ],
          "histogram": [
           {
            "marker": {
             "pattern": {
              "fillmode": "overlay",
              "size": 10,
              "solidity": 0.2
             }
            },
            "type": "histogram"
           }
          ],
          "histogram2d": [
           {
            "colorbar": {
             "outlinewidth": 0,
             "ticks": ""
            },
            "colorscale": [
             [
              0,
              "#0d0887"
             ],
             [
              0.1111111111111111,
              "#46039f"
             ],
             [
              0.2222222222222222,
              "#7201a8"
             ],
             [
              0.3333333333333333,
              "#9c179e"
             ],
             [
              0.4444444444444444,
              "#bd3786"
             ],
             [
              0.5555555555555556,
              "#d8576b"
             ],
             [
              0.6666666666666666,
              "#ed7953"
             ],
             [
              0.7777777777777778,
              "#fb9f3a"
             ],
             [
              0.8888888888888888,
              "#fdca26"
             ],
             [
              1,
              "#f0f921"
             ]
            ],
            "type": "histogram2d"
           }
          ],
          "histogram2dcontour": [
           {
            "colorbar": {
             "outlinewidth": 0,
             "ticks": ""
            },
            "colorscale": [
             [
              0,
              "#0d0887"
             ],
             [
              0.1111111111111111,
              "#46039f"
             ],
             [
              0.2222222222222222,
              "#7201a8"
             ],
             [
              0.3333333333333333,
              "#9c179e"
             ],
             [
              0.4444444444444444,
              "#bd3786"
             ],
             [
              0.5555555555555556,
              "#d8576b"
             ],
             [
              0.6666666666666666,
              "#ed7953"
             ],
             [
              0.7777777777777778,
              "#fb9f3a"
             ],
             [
              0.8888888888888888,
              "#fdca26"
             ],
             [
              1,
              "#f0f921"
             ]
            ],
            "type": "histogram2dcontour"
           }
          ],
          "mesh3d": [
           {
            "colorbar": {
             "outlinewidth": 0,
             "ticks": ""
            },
            "type": "mesh3d"
           }
          ],
          "parcoords": [
           {
            "line": {
             "colorbar": {
              "outlinewidth": 0,
              "ticks": ""
             }
            },
            "type": "parcoords"
           }
          ],
          "pie": [
           {
            "automargin": true,
            "type": "pie"
           }
          ],
          "scatter": [
           {
            "fillpattern": {
             "fillmode": "overlay",
             "size": 10,
             "solidity": 0.2
            },
            "type": "scatter"
           }
          ],
          "scatter3d": [
           {
            "line": {
             "colorbar": {
              "outlinewidth": 0,
              "ticks": ""
             }
            },
            "marker": {
             "colorbar": {
              "outlinewidth": 0,
              "ticks": ""
             }
            },
            "type": "scatter3d"
           }
          ],
          "scattercarpet": [
           {
            "marker": {
             "colorbar": {
              "outlinewidth": 0,
              "ticks": ""
             }
            },
            "type": "scattercarpet"
           }
          ],
          "scattergeo": [
           {
            "marker": {
             "colorbar": {
              "outlinewidth": 0,
              "ticks": ""
             }
            },
            "type": "scattergeo"
           }
          ],
          "scattergl": [
           {
            "marker": {
             "colorbar": {
              "outlinewidth": 0,
              "ticks": ""
             }
            },
            "type": "scattergl"
           }
          ],
          "scattermap": [
           {
            "marker": {
             "colorbar": {
              "outlinewidth": 0,
              "ticks": ""
             }
            },
            "type": "scattermap"
           }
          ],
          "scattermapbox": [
           {
            "marker": {
             "colorbar": {
              "outlinewidth": 0,
              "ticks": ""
             }
            },
            "type": "scattermapbox"
           }
          ],
          "scatterpolar": [
           {
            "marker": {
             "colorbar": {
              "outlinewidth": 0,
              "ticks": ""
             }
            },
            "type": "scatterpolar"
           }
          ],
          "scatterpolargl": [
           {
            "marker": {
             "colorbar": {
              "outlinewidth": 0,
              "ticks": ""
             }
            },
            "type": "scatterpolargl"
           }
          ],
          "scatterternary": [
           {
            "marker": {
             "colorbar": {
              "outlinewidth": 0,
              "ticks": ""
             }
            },
            "type": "scatterternary"
           }
          ],
          "surface": [
           {
            "colorbar": {
             "outlinewidth": 0,
             "ticks": ""
            },
            "colorscale": [
             [
              0,
              "#0d0887"
             ],
             [
              0.1111111111111111,
              "#46039f"
             ],
             [
              0.2222222222222222,
              "#7201a8"
             ],
             [
              0.3333333333333333,
              "#9c179e"
             ],
             [
              0.4444444444444444,
              "#bd3786"
             ],
             [
              0.5555555555555556,
              "#d8576b"
             ],
             [
              0.6666666666666666,
              "#ed7953"
             ],
             [
              0.7777777777777778,
              "#fb9f3a"
             ],
             [
              0.8888888888888888,
              "#fdca26"
             ],
             [
              1,
              "#f0f921"
             ]
            ],
            "type": "surface"
           }
          ],
          "table": [
           {
            "cells": {
             "fill": {
              "color": "#EBF0F8"
             },
             "line": {
              "color": "white"
             }
            },
            "header": {
             "fill": {
              "color": "#C8D4E3"
             },
             "line": {
              "color": "white"
             }
            },
            "type": "table"
           }
          ]
         },
         "layout": {
          "annotationdefaults": {
           "arrowcolor": "#2a3f5f",
           "arrowhead": 0,
           "arrowwidth": 1
          },
          "autotypenumbers": "strict",
          "coloraxis": {
           "colorbar": {
            "outlinewidth": 0,
            "ticks": ""
           }
          },
          "colorscale": {
           "diverging": [
            [
             0,
             "#8e0152"
            ],
            [
             0.1,
             "#c51b7d"
            ],
            [
             0.2,
             "#de77ae"
            ],
            [
             0.3,
             "#f1b6da"
            ],
            [
             0.4,
             "#fde0ef"
            ],
            [
             0.5,
             "#f7f7f7"
            ],
            [
             0.6,
             "#e6f5d0"
            ],
            [
             0.7,
             "#b8e186"
            ],
            [
             0.8,
             "#7fbc41"
            ],
            [
             0.9,
             "#4d9221"
            ],
            [
             1,
             "#276419"
            ]
           ],
           "sequential": [
            [
             0,
             "#0d0887"
            ],
            [
             0.1111111111111111,
             "#46039f"
            ],
            [
             0.2222222222222222,
             "#7201a8"
            ],
            [
             0.3333333333333333,
             "#9c179e"
            ],
            [
             0.4444444444444444,
             "#bd3786"
            ],
            [
             0.5555555555555556,
             "#d8576b"
            ],
            [
             0.6666666666666666,
             "#ed7953"
            ],
            [
             0.7777777777777778,
             "#fb9f3a"
            ],
            [
             0.8888888888888888,
             "#fdca26"
            ],
            [
             1,
             "#f0f921"
            ]
           ],
           "sequentialminus": [
            [
             0,
             "#0d0887"
            ],
            [
             0.1111111111111111,
             "#46039f"
            ],
            [
             0.2222222222222222,
             "#7201a8"
            ],
            [
             0.3333333333333333,
             "#9c179e"
            ],
            [
             0.4444444444444444,
             "#bd3786"
            ],
            [
             0.5555555555555556,
             "#d8576b"
            ],
            [
             0.6666666666666666,
             "#ed7953"
            ],
            [
             0.7777777777777778,
             "#fb9f3a"
            ],
            [
             0.8888888888888888,
             "#fdca26"
            ],
            [
             1,
             "#f0f921"
            ]
           ]
          },
          "colorway": [
           "#636efa",
           "#EF553B",
           "#00cc96",
           "#ab63fa",
           "#FFA15A",
           "#19d3f3",
           "#FF6692",
           "#B6E880",
           "#FF97FF",
           "#FECB52"
          ],
          "font": {
           "color": "#2a3f5f"
          },
          "geo": {
           "bgcolor": "white",
           "lakecolor": "white",
           "landcolor": "#E5ECF6",
           "showlakes": true,
           "showland": true,
           "subunitcolor": "white"
          },
          "hoverlabel": {
           "align": "left"
          },
          "hovermode": "closest",
          "mapbox": {
           "style": "light"
          },
          "paper_bgcolor": "white",
          "plot_bgcolor": "#E5ECF6",
          "polar": {
           "angularaxis": {
            "gridcolor": "white",
            "linecolor": "white",
            "ticks": ""
           },
           "bgcolor": "#E5ECF6",
           "radialaxis": {
            "gridcolor": "white",
            "linecolor": "white",
            "ticks": ""
           }
          },
          "scene": {
           "xaxis": {
            "backgroundcolor": "#E5ECF6",
            "gridcolor": "white",
            "gridwidth": 2,
            "linecolor": "white",
            "showbackground": true,
            "ticks": "",
            "zerolinecolor": "white"
           },
           "yaxis": {
            "backgroundcolor": "#E5ECF6",
            "gridcolor": "white",
            "gridwidth": 2,
            "linecolor": "white",
            "showbackground": true,
            "ticks": "",
            "zerolinecolor": "white"
           },
           "zaxis": {
            "backgroundcolor": "#E5ECF6",
            "gridcolor": "white",
            "gridwidth": 2,
            "linecolor": "white",
            "showbackground": true,
            "ticks": "",
            "zerolinecolor": "white"
           }
          },
          "shapedefaults": {
           "line": {
            "color": "#2a3f5f"
           }
          },
          "ternary": {
           "aaxis": {
            "gridcolor": "white",
            "linecolor": "white",
            "ticks": ""
           },
           "baxis": {
            "gridcolor": "white",
            "linecolor": "white",
            "ticks": ""
           },
           "bgcolor": "#E5ECF6",
           "caxis": {
            "gridcolor": "white",
            "linecolor": "white",
            "ticks": ""
           }
          },
          "title": {
           "x": 0.05
          },
          "xaxis": {
           "automargin": true,
           "gridcolor": "white",
           "linecolor": "white",
           "ticks": "",
           "title": {
            "standoff": 15
           },
           "zerolinecolor": "white",
           "zerolinewidth": 2
          },
          "yaxis": {
           "automargin": true,
           "gridcolor": "white",
           "linecolor": "white",
           "ticks": "",
           "title": {
            "standoff": 15
           },
           "zerolinecolor": "white",
           "zerolinewidth": 2
          }
         }
        }
       }
      }
     },
     "metadata": {},
     "output_type": "display_data"
    }
   ],
   "source": [
    "import numpy as np\n",
    "import plotly.graph_objects as go\n",
    "\n",
    "# Step 1: Restaurant coordinates (approximate)\n",
    "restaurant_coords = {\n",
    "    \"Aura Pizzas\": [28.5866, 77.2230],\n",
    "    \"Swaad\": [28.5734, 77.2581],\n",
    "    \"Dilli Burger Adda\": [28.6620, 77.2365],\n",
    "    \"Tandoori Junction\": [28.6098, 77.0923],\n",
    "    \"The Chicken Junction\": [28.6412, 77.2163],\n",
    "    \"Masala Junction\": [28.5309, 77.1466]\n",
    "}\n",
    "\n",
    "# Map lat/lon to df\n",
    "df['rest_lat'] = df['Restaurant name'].map(lambda x: restaurant_coords.get(x, [None, None])[0])\n",
    "df['rest_lon'] = df['Restaurant name'].map(lambda x: restaurant_coords.get(x, [None, None])[1])\n",
    "\n",
    "# Step 2: Convert Distance to float, handle <1 as 0.9\n",
    "def clean_distance(d):\n",
    "    if pd.isna(d):\n",
    "        return np.nan\n",
    "    d = d.replace('km','').strip()  \n",
    "    if d.startswith('<'):\n",
    "        return 0.9  # assign 0.9 km for \"<1\"\n",
    "    try:\n",
    "        return float(d)\n",
    "    except:\n",
    "        return np.nan\n",
    "\n",
    "df['Distance_km'] = df['Distance'].apply(clean_distance)\n",
    "\n",
    "# Step 3: Aggregate average and max distances per restaurant\n",
    "dist_stats = df.groupby('Restaurant name')['Distance_km'].agg(['mean','max']).reset_index()\n",
    "\n",
    "# Step 4: Aggregate order counts per Subzone\n",
    "orders_per_subzone = df.groupby('Subzone').size().reset_index(name='Orders')\n",
    "\n",
    "# Approximate subzone centers\n",
    "subzone_coords = {\n",
    "    'Greater Kailash 2 (GK2)': [28.5416, 77.2437],\n",
    "    'Sector 4': [28.5900, 77.4000],\n",
    "    'DLF Phase 1': [28.4590, 77.0300],\n",
    "    'Sector 135': [28.5700, 77.3600],\n",
    "    'Vasant Kunj': [28.5300, 77.1500]\n",
    "}\n",
    "orders_per_subzone['lat'] = orders_per_subzone['Subzone'].map(lambda x: subzone_coords.get(x, [None, None])[0])\n",
    "orders_per_subzone['lon'] = orders_per_subzone['Subzone'].map(lambda x: subzone_coords.get(x, [None, None])[1])\n",
    "\n",
    "# Step 5: Create map\n",
    "fig = go.Figure()\n",
    "\n",
    "# Add restaurants\n",
    "for _, row in dist_stats.iterrows():\n",
    "    rest_name = row['Restaurant name']\n",
    "    lat, lon = restaurant_coords[rest_name]\n",
    "    fig.add_trace(go.Scattermapbox(\n",
    "        lat=[lat],\n",
    "        lon=[lon],\n",
    "        mode='markers',\n",
    "        marker=go.scattermapbox.Marker(size=10, color='blue'),\n",
    "        name=rest_name,\n",
    "        hovertemplate=(\n",
    "            f\"{rest_name}<br>\"\n",
    "            f\"Avg dist: {row['mean']:.2f} km<br>\"\n",
    "            f\"Max dist: {row['max']:.2f} km\"\n",
    "        )\n",
    "    ))\n",
    "    \n",
    "    # Add avg and max distance circles\n",
    "    for dist, color, label in zip([row['mean'], row['max']], ['green','red'], ['Avg','Max']):\n",
    "        fig.add_trace(go.Scattermapbox(\n",
    "            lat=[lat],\n",
    "            lon=[lon],\n",
    "            mode='markers',\n",
    "            marker=go.scattermapbox.Marker(\n",
    "                size=dist*10,  # scale factor for visibility\n",
    "                color=color,\n",
    "                opacity=0.3\n",
    "            ),\n",
    "            name=f\"{rest_name} {label} Distance\",\n",
    "            showlegend=False\n",
    "        ))\n",
    "\n",
    "# Add subzone order counts\n",
    "fig.add_trace(go.Scattermapbox(\n",
    "    lat=orders_per_subzone['lat'],\n",
    "    lon=orders_per_subzone['lon'],\n",
    "    mode='markers',\n",
    "    marker=go.scattermapbox.Marker(size=orders_per_subzone['Orders'], color='red', sizemode='area'),\n",
    "    text=orders_per_subzone['Subzone'] + ': ' + orders_per_subzone['Orders'].astype(str) + ' orders',\n",
    "    name='Orders per Subzone'\n",
    "))\n",
    "\n",
    "# Layout\n",
    "fig.update_layout(\n",
    "    mapbox_style=\"open-street-map\",\n",
    "    mapbox_zoom=11,\n",
    "    mapbox_center={\"lat\":28.6139, \"lon\":77.2090},\n",
    "    margin={\"r\":0,\"t\":0,\"l\":0,\"b\":0},\n",
    ")\n",
    "\n",
    "fig.show()\n"
   ]
  },
  {
   "cell_type": "code",
   "execution_count": 19,
   "id": "640e9399",
   "metadata": {},
   "outputs": [
    {
     "name": "stderr",
     "output_type": "stream",
     "text": [
      "/var/folders/28/vn55ny5s5114jn9bjs666k2w0000gn/T/ipykernel_96412/415630738.py:61: DeprecationWarning:\n",
      "\n",
      "*scattermapbox* is deprecated! Use *scattermap* instead. Learn more at: https://plotly.com/python/mapbox-to-maplibre/\n",
      "\n",
      "/var/folders/28/vn55ny5s5114jn9bjs666k2w0000gn/T/ipykernel_96412/415630738.py:72: DeprecationWarning:\n",
      "\n",
      "*scattermapbox* is deprecated! Use *scattermap* instead. Learn more at: https://plotly.com/python/mapbox-to-maplibre/\n",
      "\n",
      "/var/folders/28/vn55ny5s5114jn9bjs666k2w0000gn/T/ipykernel_96412/415630738.py:85: DeprecationWarning:\n",
      "\n",
      "*scattermapbox* is deprecated! Use *scattermap* instead. Learn more at: https://plotly.com/python/mapbox-to-maplibre/\n",
      "\n"
     ]
    },
    {
     "data": {
      "application/vnd.plotly.v1+json": {
       "config": {
        "plotlyServerURL": "https://plot.ly"
       },
       "data": [
        {
         "hoverinfo": "none",
         "lat": [
          28.55,
          28.459
         ],
         "line": {
          "color": "green",
          "width": 4
         },
         "lon": [
          77.25,
          77.03
         ],
         "mode": "lines",
         "showlegend": false,
         "type": "scattermapbox"
        },
        {
         "hoverinfo": "none",
         "lat": [
          28.55,
          28.5416
         ],
         "line": {
          "color": "green",
          "width": 4
         },
         "lon": [
          77.25,
          77.2437
         ],
         "mode": "lines",
         "showlegend": false,
         "type": "scattermapbox"
        },
        {
         "hoverinfo": "none",
         "lat": [
          28.55,
          28.57
         ],
         "line": {
          "color": "green",
          "width": 4
         },
         "lon": [
          77.25,
          77.36
         ],
         "mode": "lines",
         "showlegend": false,
         "type": "scattermapbox"
        },
        {
         "hoverinfo": "none",
         "lat": [
          28.55,
          28.59
         ],
         "line": {
          "color": "green",
          "width": 4
         },
         "lon": [
          77.25,
          77.4
         ],
         "mode": "lines",
         "showlegend": false,
         "type": "scattermapbox"
        },
        {
         "hoverinfo": "none",
         "lat": [
          28.55,
          28.53
         ],
         "line": {
          "color": "green",
          "width": 4
         },
         "lon": [
          77.25,
          77.15
         ],
         "mode": "lines",
         "showlegend": false,
         "type": "scattermapbox"
        },
        {
         "hoverinfo": "none",
         "lat": [
          28.5,
          28.459
         ],
         "line": {
          "color": "green",
          "width": 4
         },
         "lon": [
          77.2,
          77.03
         ],
         "mode": "lines",
         "showlegend": false,
         "type": "scattermapbox"
        },
        {
         "hoverinfo": "none",
         "lat": [
          28.5,
          28.5416
         ],
         "line": {
          "color": "green",
          "width": 4
         },
         "lon": [
          77.2,
          77.2437
         ],
         "mode": "lines",
         "showlegend": false,
         "type": "scattermapbox"
        },
        {
         "hoverinfo": "none",
         "lat": [
          28.5,
          28.57
         ],
         "line": {
          "color": "green",
          "width": 4
         },
         "lon": [
          77.2,
          77.36
         ],
         "mode": "lines",
         "showlegend": false,
         "type": "scattermapbox"
        },
        {
         "hoverinfo": "none",
         "lat": [
          28.5,
          28.59
         ],
         "line": {
          "color": "green",
          "width": 4
         },
         "lon": [
          77.2,
          77.4
         ],
         "mode": "lines",
         "showlegend": false,
         "type": "scattermapbox"
        },
        {
         "hoverinfo": "none",
         "lat": [
          28.5,
          28.6667
         ],
         "line": {
          "color": "green",
          "width": 4
         },
         "lon": [
          77.2,
          77.27
         ],
         "mode": "lines",
         "showlegend": false,
         "type": "scattermapbox"
        },
        {
         "hoverinfo": "none",
         "lat": [
          28.57,
          28.59
         ],
         "line": {
          "color": "green",
          "width": 4
         },
         "lon": [
          77.35,
          77.4
         ],
         "mode": "lines",
         "showlegend": false,
         "type": "scattermapbox"
        },
        {
         "hoverinfo": "none",
         "lat": [
          28.59,
          28.459
         ],
         "line": {
          "color": "green",
          "width": 4
         },
         "lon": [
          77.36,
          77.03
         ],
         "mode": "lines",
         "showlegend": false,
         "type": "scattermapbox"
        },
        {
         "hoverinfo": "none",
         "lat": [
          28.59,
          28.5416
         ],
         "line": {
          "color": "green",
          "width": 4
         },
         "lon": [
          77.36,
          77.2437
         ],
         "mode": "lines",
         "showlegend": false,
         "type": "scattermapbox"
        },
        {
         "hoverinfo": "none",
         "lat": [
          28.59,
          28.57
         ],
         "line": {
          "color": "green",
          "width": 4
         },
         "lon": [
          77.36,
          77.36
         ],
         "mode": "lines",
         "showlegend": false,
         "type": "scattermapbox"
        },
        {
         "hoverinfo": "none",
         "lat": [
          28.59,
          28.59
         ],
         "line": {
          "color": "green",
          "width": 4
         },
         "lon": [
          77.36,
          77.4
         ],
         "mode": "lines",
         "showlegend": false,
         "type": "scattermapbox"
        },
        {
         "hoverinfo": "none",
         "lat": [
          28.59,
          28.6667
         ],
         "line": {
          "color": "green",
          "width": 4
         },
         "lon": [
          77.36,
          77.27
         ],
         "mode": "lines",
         "showlegend": false,
         "type": "scattermapbox"
        },
        {
         "hoverinfo": "none",
         "lat": [
          28.53,
          28.459
         ],
         "line": {
          "color": "green",
          "width": 4
         },
         "lon": [
          77.15,
          77.03
         ],
         "mode": "lines",
         "showlegend": false,
         "type": "scattermapbox"
        },
        {
         "hoverinfo": "none",
         "lat": [
          28.53,
          28.5416
         ],
         "line": {
          "color": "green",
          "width": 4
         },
         "lon": [
          77.15,
          77.2437
         ],
         "mode": "lines",
         "showlegend": false,
         "type": "scattermapbox"
        },
        {
         "hoverinfo": "none",
         "lat": [
          28.53,
          28.57
         ],
         "line": {
          "color": "green",
          "width": 4
         },
         "lon": [
          77.15,
          77.36
         ],
         "mode": "lines",
         "showlegend": false,
         "type": "scattermapbox"
        },
        {
         "hoverinfo": "none",
         "lat": [
          28.53,
          28.59
         ],
         "line": {
          "color": "green",
          "width": 4
         },
         "lon": [
          77.15,
          77.4
         ],
         "mode": "lines",
         "showlegend": false,
         "type": "scattermapbox"
        },
        {
         "hoverinfo": "none",
         "lat": [
          28.53,
          28.6667
         ],
         "line": {
          "color": "green",
          "width": 4
         },
         "lon": [
          77.15,
          77.27
         ],
         "mode": "lines",
         "showlegend": false,
         "type": "scattermapbox"
        },
        {
         "hoverinfo": "none",
         "lat": [
          28.52,
          28.553
         ],
         "line": {
          "color": "green",
          "width": 4
         },
         "lon": [
          77.21,
          77.258
         ],
         "mode": "lines",
         "showlegend": false,
         "type": "scattermapbox"
        },
        {
         "hoverinfo": "none",
         "lat": [
          28.52,
          28.59
         ],
         "line": {
          "color": "green",
          "width": 4
         },
         "lon": [
          77.21,
          77.4
         ],
         "mode": "lines",
         "showlegend": false,
         "type": "scattermapbox"
        },
        {
         "hoverinfo": "none",
         "lat": [
          28.52,
          28.497
         ],
         "line": {
          "color": "green",
          "width": 4
         },
         "lon": [
          77.21,
          77.083
         ],
         "mode": "lines",
         "showlegend": false,
         "type": "scattermapbox"
        },
        {
         "hoverinfo": "text",
         "hovertext": "Greater Kailash 2 (GK2)<br>Deliveries from restaurants:<br>Aura Pizzas: 4418<br>Dilli Burger Adda: 109<br>Swaad: 2781<br>Tandoori Junction: 72<br>",
         "lat": [
          28.5416
         ],
         "lon": [
          77.2437
         ],
         "marker": {
          "color": "blue",
          "opacity": 0.7,
          "size": 36
         },
         "mode": "markers",
         "name": "Greater Kailash 2 (GK2)",
         "type": "scattermapbox"
        },
        {
         "hoverinfo": "text",
         "hovertext": "Sector 4<br>Deliveries from restaurants:<br>Aura Pizzas: 4614<br>Dilli Burger Adda: 47<br>Masala Junction: 28<br>Swaad: 1774<br>Tandoori Junction: 38<br>The Chicken Junction: 29<br>",
         "lat": [
          28.59
         ],
         "lon": [
          77.4
         ],
         "marker": {
          "color": "blue",
          "opacity": 0.7,
          "size": 36
         },
         "mode": "markers",
         "name": "Sector 4",
         "type": "scattermapbox"
        },
        {
         "hoverinfo": "text",
         "hovertext": "DLF Phase 1<br>Deliveries from restaurants:<br>Aura Pizzas: 2545<br>Dilli Burger Adda: 34<br>Swaad: 1079<br>Tandoori Junction: 28<br>",
         "lat": [
          28.459
         ],
         "lon": [
          77.03
         ],
         "marker": {
          "color": "blue",
          "opacity": 0.7,
          "size": 36
         },
         "mode": "markers",
         "name": "DLF Phase 1",
         "type": "scattermapbox"
        },
        {
         "hoverinfo": "text",
         "hovertext": "Sector 135<br>Deliveries from restaurants:<br>Aura Pizzas: 2051<br>Dilli Burger Adda: 23<br>Swaad: 367<br>Tandoori Junction: 1<br>",
         "lat": [
          28.57
         ],
         "lon": [
          77.36
         ],
         "marker": {
          "color": "blue",
          "opacity": 0.7,
          "size": 36
         },
         "mode": "markers",
         "name": "Sector 135",
         "type": "scattermapbox"
        },
        {
         "hoverinfo": "text",
         "hovertext": "Vasant Kunj<br>Deliveries from restaurants:<br>Aura Pizzas: 920<br>",
         "lat": [
          28.53
         ],
         "lon": [
          77.15
         ],
         "marker": {
          "color": "blue",
          "opacity": 0.7,
          "size": 36
         },
         "mode": "markers",
         "name": "Vasant Kunj",
         "type": "scattermapbox"
        },
        {
         "hoverinfo": "text",
         "hovertext": "Shahdara<br>Deliveries from restaurants:<br>Dilli Burger Adda: 14<br>Swaad: 331<br>Tandoori Junction: 15<br>",
         "lat": [
          28.6667
         ],
         "lon": [
          77.27
         ],
         "marker": {
          "color": "blue",
          "opacity": 0.7,
          "size": 36
         },
         "mode": "markers",
         "name": "Shahdara",
         "type": "scattermapbox"
        },
        {
         "hoverinfo": "text",
         "hovertext": "Chittaranjan Park<br>Deliveries from restaurants:<br>The Chicken Junction: 2<br>",
         "lat": [
          28.553
         ],
         "lon": [
          77.258
         ],
         "marker": {
          "color": "blue",
          "opacity": 0.7,
          "size": 36
         },
         "mode": "markers",
         "name": "Chittaranjan Park",
         "type": "scattermapbox"
        },
        {
         "hoverinfo": "text",
         "hovertext": "Sikandarpur<br>Deliveries from restaurants:<br>The Chicken Junction: 1<br>",
         "lat": [
          28.497
         ],
         "lon": [
          77.083
         ],
         "marker": {
          "color": "blue",
          "opacity": 0.7,
          "size": 36
         },
         "mode": "markers",
         "name": "Sikandarpur",
         "type": "scattermapbox"
        },
        {
         "hoverinfo": "text",
         "hovertext": "Aura Pizzas<br>Deliveries to sectors:<br>DLF Phase 1: 2545<br>Greater Kailash 2 (GK2): 4418<br>Sector 135: 2051<br>Sector 4: 4614<br>Vasant Kunj: 920<br>",
         "lat": [
          28.54994738262859
         ],
         "lon": [
          77.25034262502432
         ],
         "marker": {
          "color": "red",
          "size": 12
         },
         "mode": "markers",
         "name": "Aura Pizzas",
         "type": "scattermapbox"
        },
        {
         "hoverinfo": "text",
         "hovertext": "Swaad<br>Deliveries to sectors:<br>DLF Phase 1: 1079<br>Greater Kailash 2 (GK2): 2781<br>Sector 135: 367<br>Sector 4: 1774<br>Shahdara: 331<br>",
         "lat": [
          28.59033165837392
         ],
         "lon": [
          77.35999077767546
         ],
         "marker": {
          "color": "red",
          "size": 12
         },
         "mode": "markers",
         "name": "Swaad",
         "type": "scattermapbox"
        },
        {
         "hoverinfo": "text",
         "hovertext": "Dilli Burger Adda<br>Deliveries to sectors:<br>DLF Phase 1: 34<br>Greater Kailash 2 (GK2): 109<br>Sector 135: 23<br>Sector 4: 47<br>Shahdara: 14<br>",
         "lat": [
          28.49983746254648
         ],
         "lon": [
          77.19986207242258
         ],
         "marker": {
          "color": "red",
          "size": 12
         },
         "mode": "markers",
         "name": "Dilli Burger Adda",
         "type": "scattermapbox"
        },
        {
         "hoverinfo": "text",
         "hovertext": "Tandoori Junction<br>Deliveries to sectors:<br>DLF Phase 1: 28<br>Greater Kailash 2 (GK2): 72<br>Sector 135: 1<br>Sector 4: 38<br>Shahdara: 15<br>",
         "lat": [
          28.530279626057613
         ],
         "lon": [
          77.1500513857352
         ],
         "marker": {
          "color": "red",
          "size": 12
         },
         "mode": "markers",
         "name": "Tandoori Junction",
         "type": "scattermapbox"
        },
        {
         "hoverinfo": "text",
         "hovertext": "The Chicken Junction<br>Deliveries to sectors:<br>Chittaranjan Park: 2<br>Sector 4: 29<br>Sikandarpur: 1<br>",
         "lat": [
          28.519959690649095
         ],
         "lon": [
          77.21027534810446
         ],
         "marker": {
          "color": "red",
          "size": 12
         },
         "mode": "markers",
         "name": "The Chicken Junction",
         "type": "scattermapbox"
        },
        {
         "hoverinfo": "text",
         "hovertext": "Masala Junction<br>Deliveries to sectors:<br>Sector 4: 28<br>",
         "lat": [
          28.570022955976953
         ],
         "lon": [
          77.3495399670756
         ],
         "marker": {
          "color": "red",
          "size": 12
         },
         "mode": "markers",
         "name": "Masala Junction",
         "type": "scattermapbox"
        }
       ],
       "layout": {
        "height": 900,
        "legend": {
         "font": {
          "size": 10
         }
        },
        "mapbox": {
         "center": {
          "lat": 28.6139,
          "lon": 77.209
         },
         "style": "open-street-map",
         "zoom": 11
        },
        "margin": {
         "b": 0,
         "l": 0,
         "r": 0,
         "t": 0
        },
        "template": {
         "data": {
          "bar": [
           {
            "error_x": {
             "color": "#2a3f5f"
            },
            "error_y": {
             "color": "#2a3f5f"
            },
            "marker": {
             "line": {
              "color": "#E5ECF6",
              "width": 0.5
             },
             "pattern": {
              "fillmode": "overlay",
              "size": 10,
              "solidity": 0.2
             }
            },
            "type": "bar"
           }
          ],
          "barpolar": [
           {
            "marker": {
             "line": {
              "color": "#E5ECF6",
              "width": 0.5
             },
             "pattern": {
              "fillmode": "overlay",
              "size": 10,
              "solidity": 0.2
             }
            },
            "type": "barpolar"
           }
          ],
          "carpet": [
           {
            "aaxis": {
             "endlinecolor": "#2a3f5f",
             "gridcolor": "white",
             "linecolor": "white",
             "minorgridcolor": "white",
             "startlinecolor": "#2a3f5f"
            },
            "baxis": {
             "endlinecolor": "#2a3f5f",
             "gridcolor": "white",
             "linecolor": "white",
             "minorgridcolor": "white",
             "startlinecolor": "#2a3f5f"
            },
            "type": "carpet"
           }
          ],
          "choropleth": [
           {
            "colorbar": {
             "outlinewidth": 0,
             "ticks": ""
            },
            "type": "choropleth"
           }
          ],
          "contour": [
           {
            "colorbar": {
             "outlinewidth": 0,
             "ticks": ""
            },
            "colorscale": [
             [
              0,
              "#0d0887"
             ],
             [
              0.1111111111111111,
              "#46039f"
             ],
             [
              0.2222222222222222,
              "#7201a8"
             ],
             [
              0.3333333333333333,
              "#9c179e"
             ],
             [
              0.4444444444444444,
              "#bd3786"
             ],
             [
              0.5555555555555556,
              "#d8576b"
             ],
             [
              0.6666666666666666,
              "#ed7953"
             ],
             [
              0.7777777777777778,
              "#fb9f3a"
             ],
             [
              0.8888888888888888,
              "#fdca26"
             ],
             [
              1,
              "#f0f921"
             ]
            ],
            "type": "contour"
           }
          ],
          "contourcarpet": [
           {
            "colorbar": {
             "outlinewidth": 0,
             "ticks": ""
            },
            "type": "contourcarpet"
           }
          ],
          "heatmap": [
           {
            "colorbar": {
             "outlinewidth": 0,
             "ticks": ""
            },
            "colorscale": [
             [
              0,
              "#0d0887"
             ],
             [
              0.1111111111111111,
              "#46039f"
             ],
             [
              0.2222222222222222,
              "#7201a8"
             ],
             [
              0.3333333333333333,
              "#9c179e"
             ],
             [
              0.4444444444444444,
              "#bd3786"
             ],
             [
              0.5555555555555556,
              "#d8576b"
             ],
             [
              0.6666666666666666,
              "#ed7953"
             ],
             [
              0.7777777777777778,
              "#fb9f3a"
             ],
             [
              0.8888888888888888,
              "#fdca26"
             ],
             [
              1,
              "#f0f921"
             ]
            ],
            "type": "heatmap"
           }
          ],
          "histogram": [
           {
            "marker": {
             "pattern": {
              "fillmode": "overlay",
              "size": 10,
              "solidity": 0.2
             }
            },
            "type": "histogram"
           }
          ],
          "histogram2d": [
           {
            "colorbar": {
             "outlinewidth": 0,
             "ticks": ""
            },
            "colorscale": [
             [
              0,
              "#0d0887"
             ],
             [
              0.1111111111111111,
              "#46039f"
             ],
             [
              0.2222222222222222,
              "#7201a8"
             ],
             [
              0.3333333333333333,
              "#9c179e"
             ],
             [
              0.4444444444444444,
              "#bd3786"
             ],
             [
              0.5555555555555556,
              "#d8576b"
             ],
             [
              0.6666666666666666,
              "#ed7953"
             ],
             [
              0.7777777777777778,
              "#fb9f3a"
             ],
             [
              0.8888888888888888,
              "#fdca26"
             ],
             [
              1,
              "#f0f921"
             ]
            ],
            "type": "histogram2d"
           }
          ],
          "histogram2dcontour": [
           {
            "colorbar": {
             "outlinewidth": 0,
             "ticks": ""
            },
            "colorscale": [
             [
              0,
              "#0d0887"
             ],
             [
              0.1111111111111111,
              "#46039f"
             ],
             [
              0.2222222222222222,
              "#7201a8"
             ],
             [
              0.3333333333333333,
              "#9c179e"
             ],
             [
              0.4444444444444444,
              "#bd3786"
             ],
             [
              0.5555555555555556,
              "#d8576b"
             ],
             [
              0.6666666666666666,
              "#ed7953"
             ],
             [
              0.7777777777777778,
              "#fb9f3a"
             ],
             [
              0.8888888888888888,
              "#fdca26"
             ],
             [
              1,
              "#f0f921"
             ]
            ],
            "type": "histogram2dcontour"
           }
          ],
          "mesh3d": [
           {
            "colorbar": {
             "outlinewidth": 0,
             "ticks": ""
            },
            "type": "mesh3d"
           }
          ],
          "parcoords": [
           {
            "line": {
             "colorbar": {
              "outlinewidth": 0,
              "ticks": ""
             }
            },
            "type": "parcoords"
           }
          ],
          "pie": [
           {
            "automargin": true,
            "type": "pie"
           }
          ],
          "scatter": [
           {
            "fillpattern": {
             "fillmode": "overlay",
             "size": 10,
             "solidity": 0.2
            },
            "type": "scatter"
           }
          ],
          "scatter3d": [
           {
            "line": {
             "colorbar": {
              "outlinewidth": 0,
              "ticks": ""
             }
            },
            "marker": {
             "colorbar": {
              "outlinewidth": 0,
              "ticks": ""
             }
            },
            "type": "scatter3d"
           }
          ],
          "scattercarpet": [
           {
            "marker": {
             "colorbar": {
              "outlinewidth": 0,
              "ticks": ""
             }
            },
            "type": "scattercarpet"
           }
          ],
          "scattergeo": [
           {
            "marker": {
             "colorbar": {
              "outlinewidth": 0,
              "ticks": ""
             }
            },
            "type": "scattergeo"
           }
          ],
          "scattergl": [
           {
            "marker": {
             "colorbar": {
              "outlinewidth": 0,
              "ticks": ""
             }
            },
            "type": "scattergl"
           }
          ],
          "scattermap": [
           {
            "marker": {
             "colorbar": {
              "outlinewidth": 0,
              "ticks": ""
             }
            },
            "type": "scattermap"
           }
          ],
          "scattermapbox": [
           {
            "marker": {
             "colorbar": {
              "outlinewidth": 0,
              "ticks": ""
             }
            },
            "type": "scattermapbox"
           }
          ],
          "scatterpolar": [
           {
            "marker": {
             "colorbar": {
              "outlinewidth": 0,
              "ticks": ""
             }
            },
            "type": "scatterpolar"
           }
          ],
          "scatterpolargl": [
           {
            "marker": {
             "colorbar": {
              "outlinewidth": 0,
              "ticks": ""
             }
            },
            "type": "scatterpolargl"
           }
          ],
          "scatterternary": [
           {
            "marker": {
             "colorbar": {
              "outlinewidth": 0,
              "ticks": ""
             }
            },
            "type": "scatterternary"
           }
          ],
          "surface": [
           {
            "colorbar": {
             "outlinewidth": 0,
             "ticks": ""
            },
            "colorscale": [
             [
              0,
              "#0d0887"
             ],
             [
              0.1111111111111111,
              "#46039f"
             ],
             [
              0.2222222222222222,
              "#7201a8"
             ],
             [
              0.3333333333333333,
              "#9c179e"
             ],
             [
              0.4444444444444444,
              "#bd3786"
             ],
             [
              0.5555555555555556,
              "#d8576b"
             ],
             [
              0.6666666666666666,
              "#ed7953"
             ],
             [
              0.7777777777777778,
              "#fb9f3a"
             ],
             [
              0.8888888888888888,
              "#fdca26"
             ],
             [
              1,
              "#f0f921"
             ]
            ],
            "type": "surface"
           }
          ],
          "table": [
           {
            "cells": {
             "fill": {
              "color": "#EBF0F8"
             },
             "line": {
              "color": "white"
             }
            },
            "header": {
             "fill": {
              "color": "#C8D4E3"
             },
             "line": {
              "color": "white"
             }
            },
            "type": "table"
           }
          ]
         },
         "layout": {
          "annotationdefaults": {
           "arrowcolor": "#2a3f5f",
           "arrowhead": 0,
           "arrowwidth": 1
          },
          "autotypenumbers": "strict",
          "coloraxis": {
           "colorbar": {
            "outlinewidth": 0,
            "ticks": ""
           }
          },
          "colorscale": {
           "diverging": [
            [
             0,
             "#8e0152"
            ],
            [
             0.1,
             "#c51b7d"
            ],
            [
             0.2,
             "#de77ae"
            ],
            [
             0.3,
             "#f1b6da"
            ],
            [
             0.4,
             "#fde0ef"
            ],
            [
             0.5,
             "#f7f7f7"
            ],
            [
             0.6,
             "#e6f5d0"
            ],
            [
             0.7,
             "#b8e186"
            ],
            [
             0.8,
             "#7fbc41"
            ],
            [
             0.9,
             "#4d9221"
            ],
            [
             1,
             "#276419"
            ]
           ],
           "sequential": [
            [
             0,
             "#0d0887"
            ],
            [
             0.1111111111111111,
             "#46039f"
            ],
            [
             0.2222222222222222,
             "#7201a8"
            ],
            [
             0.3333333333333333,
             "#9c179e"
            ],
            [
             0.4444444444444444,
             "#bd3786"
            ],
            [
             0.5555555555555556,
             "#d8576b"
            ],
            [
             0.6666666666666666,
             "#ed7953"
            ],
            [
             0.7777777777777778,
             "#fb9f3a"
            ],
            [
             0.8888888888888888,
             "#fdca26"
            ],
            [
             1,
             "#f0f921"
            ]
           ],
           "sequentialminus": [
            [
             0,
             "#0d0887"
            ],
            [
             0.1111111111111111,
             "#46039f"
            ],
            [
             0.2222222222222222,
             "#7201a8"
            ],
            [
             0.3333333333333333,
             "#9c179e"
            ],
            [
             0.4444444444444444,
             "#bd3786"
            ],
            [
             0.5555555555555556,
             "#d8576b"
            ],
            [
             0.6666666666666666,
             "#ed7953"
            ],
            [
             0.7777777777777778,
             "#fb9f3a"
            ],
            [
             0.8888888888888888,
             "#fdca26"
            ],
            [
             1,
             "#f0f921"
            ]
           ]
          },
          "colorway": [
           "#636efa",
           "#EF553B",
           "#00cc96",
           "#ab63fa",
           "#FFA15A",
           "#19d3f3",
           "#FF6692",
           "#B6E880",
           "#FF97FF",
           "#FECB52"
          ],
          "font": {
           "color": "#2a3f5f"
          },
          "geo": {
           "bgcolor": "white",
           "lakecolor": "white",
           "landcolor": "#E5ECF6",
           "showlakes": true,
           "showland": true,
           "subunitcolor": "white"
          },
          "hoverlabel": {
           "align": "left"
          },
          "hovermode": "closest",
          "mapbox": {
           "style": "light"
          },
          "paper_bgcolor": "white",
          "plot_bgcolor": "#E5ECF6",
          "polar": {
           "angularaxis": {
            "gridcolor": "white",
            "linecolor": "white",
            "ticks": ""
           },
           "bgcolor": "#E5ECF6",
           "radialaxis": {
            "gridcolor": "white",
            "linecolor": "white",
            "ticks": ""
           }
          },
          "scene": {
           "xaxis": {
            "backgroundcolor": "#E5ECF6",
            "gridcolor": "white",
            "gridwidth": 2,
            "linecolor": "white",
            "showbackground": true,
            "ticks": "",
            "zerolinecolor": "white"
           },
           "yaxis": {
            "backgroundcolor": "#E5ECF6",
            "gridcolor": "white",
            "gridwidth": 2,
            "linecolor": "white",
            "showbackground": true,
            "ticks": "",
            "zerolinecolor": "white"
           },
           "zaxis": {
            "backgroundcolor": "#E5ECF6",
            "gridcolor": "white",
            "gridwidth": 2,
            "linecolor": "white",
            "showbackground": true,
            "ticks": "",
            "zerolinecolor": "white"
           }
          },
          "shapedefaults": {
           "line": {
            "color": "#2a3f5f"
           }
          },
          "ternary": {
           "aaxis": {
            "gridcolor": "white",
            "linecolor": "white",
            "ticks": ""
           },
           "baxis": {
            "gridcolor": "white",
            "linecolor": "white",
            "ticks": ""
           },
           "bgcolor": "#E5ECF6",
           "caxis": {
            "gridcolor": "white",
            "linecolor": "white",
            "ticks": ""
           }
          },
          "title": {
           "x": 0.05
          },
          "xaxis": {
           "automargin": true,
           "gridcolor": "white",
           "linecolor": "white",
           "ticks": "",
           "title": {
            "standoff": 15
           },
           "zerolinecolor": "white",
           "zerolinewidth": 2
          },
          "yaxis": {
           "automargin": true,
           "gridcolor": "white",
           "linecolor": "white",
           "ticks": "",
           "title": {
            "standoff": 15
           },
           "zerolinecolor": "white",
           "zerolinewidth": 2
          }
         }
        },
        "width": 1600
       }
      }
     },
     "metadata": {},
     "output_type": "display_data"
    }
   ],
   "source": [
    "import random\n",
    "\n",
    "# --- Example restaurant_coords and subzone_coords (use your actual data) ---\n",
    "restaurant_coords = {\n",
    "    'Aura Pizzas': [28.55, 77.25],\n",
    "    'Swaad': [28.59, 77.36],\n",
    "    'Dilli Burger Adda': [28.50, 77.20],\n",
    "    'Tandoori Junction': [28.53, 77.15],\n",
    "    'The Chicken Junction': [28.52, 77.21],\n",
    "    'Masala Junction': [28.57, 77.35]\n",
    "}\n",
    "\n",
    "subzone_coords = {\n",
    "    'Greater Kailash 2 (GK2)': [28.5416, 77.2437],\n",
    "    'Sector 4': [28.5900, 77.4000],\n",
    "    'DLF Phase 1': [28.4590, 77.0300],\n",
    "    'Sector 135': [28.5700, 77.3600],\n",
    "    'Vasant Kunj': [28.5300, 77.1500],\n",
    "    'Shahdara': [28.6667, 77.2700],\n",
    "    'Chittaranjan Park': [28.5530, 77.2580],\n",
    "    'Sikandarpur': [28.4970, 77.0830]\n",
    "}\n",
    "\n",
    "# --- Your DataFrame `df` is already loaded ---\n",
    "# Step 1: clean Distance column\n",
    "df['Distance_km'] = df['Distance'].str.replace(r'\\s*km','', regex=True)\n",
    "df['Distance_km'] = df['Distance_km'].replace('<1', '0.9').astype(float)\n",
    "\n",
    "# Step 2: aggregate delivery counts\n",
    "delivery_counts = df.groupby(['Restaurant name','Subzone']).size().reset_index(name='count')\n",
    "\n",
    "# Step 3: Prepare hover text for restaurants\n",
    "restaurant_hover = {}\n",
    "for rest in df['Restaurant name'].unique():\n",
    "    deliveries = delivery_counts[delivery_counts['Restaurant name']==rest]\n",
    "    hover_text = f\"{rest}<br>Deliveries to sectors:<br>\"\n",
    "    for _, row in deliveries.iterrows():\n",
    "        hover_text += f\"{row['Subzone']}: {row['count']}<br>\"\n",
    "    restaurant_hover[rest] = hover_text\n",
    "\n",
    "# Step 4: Prepare hover text for subzones\n",
    "subzone_hover = {}\n",
    "for sub in df['Subzone'].unique():\n",
    "    deliveries = delivery_counts[delivery_counts['Subzone']==sub]\n",
    "    hover_text = f\"{sub}<br>Deliveries from restaurants:<br>\"\n",
    "    for _, row in deliveries.iterrows():\n",
    "        hover_text += f\"{row['Restaurant name']}: {row['count']}<br>\"\n",
    "    subzone_hover[sub] = hover_text\n",
    "\n",
    "# --- Function to slightly jitter overlapping markers ---\n",
    "def jitter(lat, lon, scale=0.0005):\n",
    "    return lat + random.uniform(-scale, scale), lon + random.uniform(-scale, scale)\n",
    "\n",
    "# Step 5: Plot\n",
    "fig = go.Figure()\n",
    "\n",
    "# Lines (constant thickness)\n",
    "for _, row in delivery_counts.iterrows():\n",
    "    r = row['Restaurant name']\n",
    "    s = row['Subzone']\n",
    "    fig.add_trace(go.Scattermapbox(\n",
    "        lat=[restaurant_coords[r][0], subzone_coords[s][0]],\n",
    "        lon=[restaurant_coords[r][1], subzone_coords[s][1]],\n",
    "        mode='lines',\n",
    "        line=go.scattermapbox.Line(width=4, color='green'),\n",
    "        hoverinfo='none',\n",
    "        showlegend=False\n",
    "    ))\n",
    "\n",
    "# Subzones (keep bigger for clarity)\n",
    "for sub in subzone_coords:\n",
    "    fig.add_trace(go.Scattermapbox(\n",
    "        lat=[subzone_coords[sub][0]],\n",
    "        lon=[subzone_coords[sub][1]],\n",
    "        mode='markers',\n",
    "        marker=go.scattermapbox.Marker(size=36, color='blue', opacity=0.7),\n",
    "        name=sub,\n",
    "        hoverinfo='text',\n",
    "        hovertext=subzone_hover.get(sub, sub)\n",
    "    ))\n",
    "\n",
    "# Restaurants with jitter\n",
    "for rest in restaurant_coords:\n",
    "    lat, lon = jitter(restaurant_coords[rest][0], restaurant_coords[rest][1])\n",
    "    fig.add_trace(go.Scattermapbox(\n",
    "        lat=[lat],\n",
    "        lon=[lon],\n",
    "        mode='markers',\n",
    "        marker=go.scattermapbox.Marker(size=12, color='red'),\n",
    "        name=rest,\n",
    "        hoverinfo='text',\n",
    "        hovertext=restaurant_hover.get(rest, rest)\n",
    "    ))\n",
    "\n",
    "# Layout\n",
    "fig.update_layout(\n",
    "    mapbox_style=\"open-street-map\",\n",
    "    mapbox_zoom=11,\n",
    "    mapbox_center={\"lat\":28.6139, \"lon\":77.2090},\n",
    "    margin={\"r\":0,\"t\":0,\"l\":0,\"b\":0},\n",
    "    legend=dict(font=dict(size=10)),\n",
    "    height=900,\n",
    "    width=1600\n",
    ")\n",
    "\n",
    "fig.show()\n"
   ]
  },
  {
   "cell_type": "code",
   "execution_count": 20,
   "id": "18717252",
   "metadata": {},
   "outputs": [
    {
     "data": {
      "text/plain": [
       "11607"
      ]
     },
     "execution_count": 20,
     "metadata": {},
     "output_type": "execute_result"
    }
   ],
   "source": [
    "df[\"Customer ID\"].nunique()"
   ]
  },
  {
   "cell_type": "code",
   "execution_count": 21,
   "id": "14b1c461",
   "metadata": {},
   "outputs": [
    {
     "data": {
      "text/html": [
       "<div>\n",
       "<style scoped>\n",
       "    .dataframe tbody tr th:only-of-type {\n",
       "        vertical-align: middle;\n",
       "    }\n",
       "\n",
       "    .dataframe tbody tr th {\n",
       "        vertical-align: top;\n",
       "    }\n",
       "\n",
       "    .dataframe thead th {\n",
       "        text-align: right;\n",
       "    }\n",
       "</style>\n",
       "<table border=\"1\" class=\"dataframe\">\n",
       "  <thead>\n",
       "    <tr style=\"text-align: right;\">\n",
       "      <th></th>\n",
       "      <th>Order Placed At</th>\n",
       "    </tr>\n",
       "  </thead>\n",
       "  <tbody>\n",
       "    <tr>\n",
       "      <th>0</th>\n",
       "      <td>11:38 PM, September 10 2024</td>\n",
       "    </tr>\n",
       "    <tr>\n",
       "      <th>1</th>\n",
       "      <td>11:34 PM, September 10 2024</td>\n",
       "    </tr>\n",
       "    <tr>\n",
       "      <th>2</th>\n",
       "      <td>03:52 PM, September 10 2024</td>\n",
       "    </tr>\n",
       "    <tr>\n",
       "      <th>3</th>\n",
       "      <td>03:45 PM, September 10 2024</td>\n",
       "    </tr>\n",
       "    <tr>\n",
       "      <th>4</th>\n",
       "      <td>03:04 PM, September 10 2024</td>\n",
       "    </tr>\n",
       "    <tr>\n",
       "      <th>...</th>\n",
       "      <td>...</td>\n",
       "    </tr>\n",
       "    <tr>\n",
       "      <th>21316</th>\n",
       "      <td>03:26 AM, January 30 2025</td>\n",
       "    </tr>\n",
       "    <tr>\n",
       "      <th>21317</th>\n",
       "      <td>02:44 AM, January 29 2025</td>\n",
       "    </tr>\n",
       "    <tr>\n",
       "      <th>21318</th>\n",
       "      <td>10:05 PM, January 24 2025</td>\n",
       "    </tr>\n",
       "    <tr>\n",
       "      <th>21319</th>\n",
       "      <td>02:27 PM, January 21 2025</td>\n",
       "    </tr>\n",
       "    <tr>\n",
       "      <th>21320</th>\n",
       "      <td>02:55 AM, January 21 2025</td>\n",
       "    </tr>\n",
       "  </tbody>\n",
       "</table>\n",
       "<p>21321 rows × 1 columns</p>\n",
       "</div>"
      ],
      "text/plain": [
       "                   Order Placed At\n",
       "0      11:38 PM, September 10 2024\n",
       "1      11:34 PM, September 10 2024\n",
       "2      03:52 PM, September 10 2024\n",
       "3      03:45 PM, September 10 2024\n",
       "4      03:04 PM, September 10 2024\n",
       "...                            ...\n",
       "21316    03:26 AM, January 30 2025\n",
       "21317    02:44 AM, January 29 2025\n",
       "21318    10:05 PM, January 24 2025\n",
       "21319    02:27 PM, January 21 2025\n",
       "21320    02:55 AM, January 21 2025\n",
       "\n",
       "[21321 rows x 1 columns]"
      ]
     },
     "execution_count": 21,
     "metadata": {},
     "output_type": "execute_result"
    }
   ],
   "source": [
    "df_weather = df[[\"Order Placed At\"]]\n",
    "df_weather"
   ]
  },
  {
   "cell_type": "code",
   "execution_count": 22,
   "id": "1cc1f8f5",
   "metadata": {},
   "outputs": [
    {
     "data": {
      "text/plain": [
       "dtype('O')"
      ]
     },
     "execution_count": 22,
     "metadata": {},
     "output_type": "execute_result"
    }
   ],
   "source": [
    "df_weather[\"Order Placed At\"].dtype"
   ]
  },
  {
   "cell_type": "code",
   "execution_count": 23,
   "id": "f121cd96",
   "metadata": {},
   "outputs": [
    {
     "name": "stderr",
     "output_type": "stream",
     "text": [
      "/var/folders/28/vn55ny5s5114jn9bjs666k2w0000gn/T/ipykernel_96412/1882046731.py:1: SettingWithCopyWarning:\n",
      "\n",
      "\n",
      "A value is trying to be set on a copy of a slice from a DataFrame.\n",
      "Try using .loc[row_indexer,col_indexer] = value instead\n",
      "\n",
      "See the caveats in the documentation: https://pandas.pydata.org/pandas-docs/stable/user_guide/indexing.html#returning-a-view-versus-a-copy\n",
      "\n"
     ]
    }
   ],
   "source": [
    "df_weather[\"Order Datetime\"] = pd.to_datetime(\n",
    "    df_weather[\"Order Placed At\"], \n",
    "    format=\"%I:%M %p, %B %d %Y\"\n",
    ")"
   ]
  },
  {
   "cell_type": "code",
   "execution_count": 24,
   "id": "74ceb376",
   "metadata": {},
   "outputs": [
    {
     "name": "stderr",
     "output_type": "stream",
     "text": [
      "/var/folders/28/vn55ny5s5114jn9bjs666k2w0000gn/T/ipykernel_96412/1903418876.py:1: SettingWithCopyWarning:\n",
      "\n",
      "\n",
      "A value is trying to be set on a copy of a slice from a DataFrame\n",
      "\n",
      "See the caveats in the documentation: https://pandas.pydata.org/pandas-docs/stable/user_guide/indexing.html#returning-a-view-versus-a-copy\n",
      "\n"
     ]
    },
    {
     "data": {
      "text/html": [
       "<div>\n",
       "<style scoped>\n",
       "    .dataframe tbody tr th:only-of-type {\n",
       "        vertical-align: middle;\n",
       "    }\n",
       "\n",
       "    .dataframe tbody tr th {\n",
       "        vertical-align: top;\n",
       "    }\n",
       "\n",
       "    .dataframe thead th {\n",
       "        text-align: right;\n",
       "    }\n",
       "</style>\n",
       "<table border=\"1\" class=\"dataframe\">\n",
       "  <thead>\n",
       "    <tr style=\"text-align: right;\">\n",
       "      <th></th>\n",
       "      <th>Order Datetime</th>\n",
       "    </tr>\n",
       "  </thead>\n",
       "  <tbody>\n",
       "    <tr>\n",
       "      <th>0</th>\n",
       "      <td>2024-09-10 23:38:00</td>\n",
       "    </tr>\n",
       "    <tr>\n",
       "      <th>1</th>\n",
       "      <td>2024-09-10 23:34:00</td>\n",
       "    </tr>\n",
       "    <tr>\n",
       "      <th>2</th>\n",
       "      <td>2024-09-10 15:52:00</td>\n",
       "    </tr>\n",
       "    <tr>\n",
       "      <th>3</th>\n",
       "      <td>2024-09-10 15:45:00</td>\n",
       "    </tr>\n",
       "    <tr>\n",
       "      <th>4</th>\n",
       "      <td>2024-09-10 15:04:00</td>\n",
       "    </tr>\n",
       "    <tr>\n",
       "      <th>...</th>\n",
       "      <td>...</td>\n",
       "    </tr>\n",
       "    <tr>\n",
       "      <th>21316</th>\n",
       "      <td>2025-01-30 03:26:00</td>\n",
       "    </tr>\n",
       "    <tr>\n",
       "      <th>21317</th>\n",
       "      <td>2025-01-29 02:44:00</td>\n",
       "    </tr>\n",
       "    <tr>\n",
       "      <th>21318</th>\n",
       "      <td>2025-01-24 22:05:00</td>\n",
       "    </tr>\n",
       "    <tr>\n",
       "      <th>21319</th>\n",
       "      <td>2025-01-21 14:27:00</td>\n",
       "    </tr>\n",
       "    <tr>\n",
       "      <th>21320</th>\n",
       "      <td>2025-01-21 02:55:00</td>\n",
       "    </tr>\n",
       "  </tbody>\n",
       "</table>\n",
       "<p>21321 rows × 1 columns</p>\n",
       "</div>"
      ],
      "text/plain": [
       "           Order Datetime\n",
       "0     2024-09-10 23:38:00\n",
       "1     2024-09-10 23:34:00\n",
       "2     2024-09-10 15:52:00\n",
       "3     2024-09-10 15:45:00\n",
       "4     2024-09-10 15:04:00\n",
       "...                   ...\n",
       "21316 2025-01-30 03:26:00\n",
       "21317 2025-01-29 02:44:00\n",
       "21318 2025-01-24 22:05:00\n",
       "21319 2025-01-21 14:27:00\n",
       "21320 2025-01-21 02:55:00\n",
       "\n",
       "[21321 rows x 1 columns]"
      ]
     },
     "execution_count": 24,
     "metadata": {},
     "output_type": "execute_result"
    }
   ],
   "source": [
    "df_weather.drop(columns=[\"Order Placed At\"], inplace=True)\n",
    "df_weather"
   ]
  },
  {
   "cell_type": "code",
   "execution_count": 25,
   "id": "87dfaff1",
   "metadata": {},
   "outputs": [
    {
     "name": "stderr",
     "output_type": "stream",
     "text": [
      "/var/folders/28/vn55ny5s5114jn9bjs666k2w0000gn/T/ipykernel_96412/344345041.py:2: FutureWarning:\n",
      "\n",
      "'H' is deprecated and will be removed in a future version, please use 'h' instead.\n",
      "\n",
      "/var/folders/28/vn55ny5s5114jn9bjs666k2w0000gn/T/ipykernel_96412/344345041.py:2: SettingWithCopyWarning:\n",
      "\n",
      "\n",
      "A value is trying to be set on a copy of a slice from a DataFrame.\n",
      "Try using .loc[row_indexer,col_indexer] = value instead\n",
      "\n",
      "See the caveats in the documentation: https://pandas.pydata.org/pandas-docs/stable/user_guide/indexing.html#returning-a-view-versus-a-copy\n",
      "\n"
     ]
    },
    {
     "data": {
      "text/html": [
       "<div>\n",
       "<style scoped>\n",
       "    .dataframe tbody tr th:only-of-type {\n",
       "        vertical-align: middle;\n",
       "    }\n",
       "\n",
       "    .dataframe tbody tr th {\n",
       "        vertical-align: top;\n",
       "    }\n",
       "\n",
       "    .dataframe thead th {\n",
       "        text-align: right;\n",
       "    }\n",
       "</style>\n",
       "<table border=\"1\" class=\"dataframe\">\n",
       "  <thead>\n",
       "    <tr style=\"text-align: right;\">\n",
       "      <th></th>\n",
       "      <th>Order Datetime</th>\n",
       "    </tr>\n",
       "  </thead>\n",
       "  <tbody>\n",
       "    <tr>\n",
       "      <th>0</th>\n",
       "      <td>2024-09-10 23:00:00</td>\n",
       "    </tr>\n",
       "    <tr>\n",
       "      <th>1</th>\n",
       "      <td>2024-09-10 15:00:00</td>\n",
       "    </tr>\n",
       "    <tr>\n",
       "      <th>2</th>\n",
       "      <td>2024-09-10 12:00:00</td>\n",
       "    </tr>\n",
       "    <tr>\n",
       "      <th>3</th>\n",
       "      <td>2024-09-10 00:00:00</td>\n",
       "    </tr>\n",
       "    <tr>\n",
       "      <th>4</th>\n",
       "      <td>2024-09-09 22:00:00</td>\n",
       "    </tr>\n",
       "    <tr>\n",
       "      <th>...</th>\n",
       "      <td>...</td>\n",
       "    </tr>\n",
       "    <tr>\n",
       "      <th>2550</th>\n",
       "      <td>2025-01-21 15:00:00</td>\n",
       "    </tr>\n",
       "    <tr>\n",
       "      <th>2551</th>\n",
       "      <td>2025-01-21 11:00:00</td>\n",
       "    </tr>\n",
       "    <tr>\n",
       "      <th>2552</th>\n",
       "      <td>2025-01-29 02:00:00</td>\n",
       "    </tr>\n",
       "    <tr>\n",
       "      <th>2553</th>\n",
       "      <td>2025-01-22 17:00:00</td>\n",
       "    </tr>\n",
       "    <tr>\n",
       "      <th>2554</th>\n",
       "      <td>2025-01-24 15:00:00</td>\n",
       "    </tr>\n",
       "  </tbody>\n",
       "</table>\n",
       "<p>2555 rows × 1 columns</p>\n",
       "</div>"
      ],
      "text/plain": [
       "          Order Datetime\n",
       "0    2024-09-10 23:00:00\n",
       "1    2024-09-10 15:00:00\n",
       "2    2024-09-10 12:00:00\n",
       "3    2024-09-10 00:00:00\n",
       "4    2024-09-09 22:00:00\n",
       "...                  ...\n",
       "2550 2025-01-21 15:00:00\n",
       "2551 2025-01-21 11:00:00\n",
       "2552 2025-01-29 02:00:00\n",
       "2553 2025-01-22 17:00:00\n",
       "2554 2025-01-24 15:00:00\n",
       "\n",
       "[2555 rows x 1 columns]"
      ]
     },
     "execution_count": 25,
     "metadata": {},
     "output_type": "execute_result"
    }
   ],
   "source": [
    "# Remove the minutes and seconds and remove duplicates\n",
    "df_weather[\"Order Datetime\"] = df_weather[\"Order Datetime\"].dt.floor('H')\n",
    "df_weather = df_weather.drop_duplicates().reset_index(drop=True)\n",
    "\n",
    "df_weather"
   ]
  },
  {
   "cell_type": "code",
   "execution_count": 26,
   "id": "4c73cd96",
   "metadata": {},
   "outputs": [
    {
     "data": {
      "text/plain": [
       "153"
      ]
     },
     "execution_count": 26,
     "metadata": {},
     "output_type": "execute_result"
    }
   ],
   "source": [
    "# how many unique days are there?\n",
    "df_weather[\"Order Datetime\"].dt.date.nunique()"
   ]
  },
  {
   "cell_type": "code",
   "execution_count": 27,
   "id": "d6dff5a3",
   "metadata": {},
   "outputs": [
    {
     "data": {
      "text/html": [
       "<div>\n",
       "<style scoped>\n",
       "    .dataframe tbody tr th:only-of-type {\n",
       "        vertical-align: middle;\n",
       "    }\n",
       "\n",
       "    .dataframe tbody tr th {\n",
       "        vertical-align: top;\n",
       "    }\n",
       "\n",
       "    .dataframe thead th {\n",
       "        text-align: right;\n",
       "    }\n",
       "</style>\n",
       "<table border=\"1\" class=\"dataframe\">\n",
       "  <thead>\n",
       "    <tr style=\"text-align: right;\">\n",
       "      <th></th>\n",
       "      <th>Restaurant ID</th>\n",
       "      <th>Restaurant name</th>\n",
       "      <th>Subzone</th>\n",
       "      <th>City</th>\n",
       "      <th>Order ID</th>\n",
       "      <th>Order Placed At</th>\n",
       "      <th>Order Status</th>\n",
       "      <th>Delivery</th>\n",
       "      <th>Distance</th>\n",
       "      <th>Items in order</th>\n",
       "      <th>Instructions</th>\n",
       "      <th>Discount construct</th>\n",
       "      <th>Bill subtotal</th>\n",
       "      <th>Packaging charges</th>\n",
       "      <th>Restaurant discount (Promo)</th>\n",
       "      <th>Restaurant discount (Flat offs, Freebies &amp; others)</th>\n",
       "      <th>Gold discount</th>\n",
       "      <th>Brand pack discount</th>\n",
       "      <th>Total</th>\n",
       "      <th>Rating</th>\n",
       "      <th>Review</th>\n",
       "      <th>Cancellation / Rejection reason</th>\n",
       "      <th>Restaurant compensation (Cancellation)</th>\n",
       "      <th>Restaurant penalty (Rejection)</th>\n",
       "      <th>KPT duration (minutes)</th>\n",
       "      <th>Rider wait time (minutes)</th>\n",
       "      <th>Order Ready Marked</th>\n",
       "      <th>Customer complaint tag</th>\n",
       "      <th>Customer ID</th>\n",
       "      <th>expanded_items</th>\n",
       "      <th>Order_Datetime</th>\n",
       "      <th>hour</th>\n",
       "      <th>day_of_week</th>\n",
       "      <th>date</th>\n",
       "      <th>rest_lat</th>\n",
       "      <th>rest_lon</th>\n",
       "      <th>Distance_km</th>\n",
       "    </tr>\n",
       "  </thead>\n",
       "  <tbody>\n",
       "    <tr>\n",
       "      <th>0</th>\n",
       "      <td>20320607</td>\n",
       "      <td>Swaad</td>\n",
       "      <td>Sector 4</td>\n",
       "      <td>Delhi NCR</td>\n",
       "      <td>6168884918</td>\n",
       "      <td>11:38 PM, September 10 2024</td>\n",
       "      <td>Delivered</td>\n",
       "      <td>Zomato Delivery</td>\n",
       "      <td>3km</td>\n",
       "      <td>1 x Grilled Chicken Jamaican Tender, 1 x Grill...</td>\n",
       "      <td>NaN</td>\n",
       "      <td>40% off upto Rs.80</td>\n",
       "      <td>715.0</td>\n",
       "      <td>31.75</td>\n",
       "      <td>80.0</td>\n",
       "      <td>0.0</td>\n",
       "      <td>0.0</td>\n",
       "      <td>0.0</td>\n",
       "      <td>666.75</td>\n",
       "      <td>NaN</td>\n",
       "      <td>NaN</td>\n",
       "      <td>NaN</td>\n",
       "      <td>NaN</td>\n",
       "      <td>NaN</td>\n",
       "      <td>18.35</td>\n",
       "      <td>11.6</td>\n",
       "      <td>Correctly</td>\n",
       "      <td>NaN</td>\n",
       "      <td>5d6c2b96db963098bc69768bea504c8bf46106a8a5178e...</td>\n",
       "      <td>[Grilled Chicken Jamaican Tender, Grilled Chic...</td>\n",
       "      <td>2024-09-10 23:38:00</td>\n",
       "      <td>23</td>\n",
       "      <td>Tuesday</td>\n",
       "      <td>2024-09-10</td>\n",
       "      <td>28.5734</td>\n",
       "      <td>77.2581</td>\n",
       "      <td>3.0</td>\n",
       "    </tr>\n",
       "    <tr>\n",
       "      <th>1</th>\n",
       "      <td>20320607</td>\n",
       "      <td>Swaad</td>\n",
       "      <td>Sector 4</td>\n",
       "      <td>Delhi NCR</td>\n",
       "      <td>6170707559</td>\n",
       "      <td>11:34 PM, September 10 2024</td>\n",
       "      <td>Delivered</td>\n",
       "      <td>Zomato Delivery</td>\n",
       "      <td>2km</td>\n",
       "      <td>1 x Peri Peri Fries, 1 x Fried Chicken Angara ...</td>\n",
       "      <td>NaN</td>\n",
       "      <td>Flat Rs.175 off</td>\n",
       "      <td>1179.0</td>\n",
       "      <td>50.20</td>\n",
       "      <td>175.0</td>\n",
       "      <td>0.0</td>\n",
       "      <td>0.0</td>\n",
       "      <td>0.0</td>\n",
       "      <td>1054.20</td>\n",
       "      <td>NaN</td>\n",
       "      <td>NaN</td>\n",
       "      <td>NaN</td>\n",
       "      <td>NaN</td>\n",
       "      <td>NaN</td>\n",
       "      <td>16.95</td>\n",
       "      <td>3.6</td>\n",
       "      <td>Correctly</td>\n",
       "      <td>NaN</td>\n",
       "      <td>0781815deb4a10a574e9fee4fa0b86b074d4a0b36175d5...</td>\n",
       "      <td>[Peri Peri Fries, Fried Chicken Angara Tender,...</td>\n",
       "      <td>2024-09-10 23:34:00</td>\n",
       "      <td>23</td>\n",
       "      <td>Tuesday</td>\n",
       "      <td>2024-09-10</td>\n",
       "      <td>28.5734</td>\n",
       "      <td>77.2581</td>\n",
       "      <td>2.0</td>\n",
       "    </tr>\n",
       "    <tr>\n",
       "      <th>2</th>\n",
       "      <td>20320607</td>\n",
       "      <td>Swaad</td>\n",
       "      <td>Sector 4</td>\n",
       "      <td>Delhi NCR</td>\n",
       "      <td>6169375019</td>\n",
       "      <td>03:52 PM, September 10 2024</td>\n",
       "      <td>Delivered</td>\n",
       "      <td>Zomato Delivery</td>\n",
       "      <td>&lt;1km</td>\n",
       "      <td>1 x Bone in Peri Peri Grilled Chicken</td>\n",
       "      <td>NaN</td>\n",
       "      <td>40% off upto Rs.80</td>\n",
       "      <td>310.0</td>\n",
       "      <td>11.50</td>\n",
       "      <td>80.0</td>\n",
       "      <td>0.0</td>\n",
       "      <td>0.0</td>\n",
       "      <td>0.0</td>\n",
       "      <td>241.50</td>\n",
       "      <td>NaN</td>\n",
       "      <td>NaN</td>\n",
       "      <td>NaN</td>\n",
       "      <td>NaN</td>\n",
       "      <td>NaN</td>\n",
       "      <td>14.05</td>\n",
       "      <td>12.2</td>\n",
       "      <td>Correctly</td>\n",
       "      <td>NaN</td>\n",
       "      <td>f93362f5ce5382657482d164e368186bcec9c6225fd93d...</td>\n",
       "      <td>[Bone in Peri Peri Grilled Chicken]</td>\n",
       "      <td>2024-09-10 15:52:00</td>\n",
       "      <td>15</td>\n",
       "      <td>Tuesday</td>\n",
       "      <td>2024-09-10</td>\n",
       "      <td>28.5734</td>\n",
       "      <td>77.2581</td>\n",
       "      <td>0.9</td>\n",
       "    </tr>\n",
       "    <tr>\n",
       "      <th>3</th>\n",
       "      <td>20320607</td>\n",
       "      <td>Swaad</td>\n",
       "      <td>Sector 4</td>\n",
       "      <td>Delhi NCR</td>\n",
       "      <td>6151677434</td>\n",
       "      <td>03:45 PM, September 10 2024</td>\n",
       "      <td>Delivered</td>\n",
       "      <td>Zomato Delivery</td>\n",
       "      <td>2km</td>\n",
       "      <td>1 x Fried Chicken Ghostbuster Tender, 1 x Anga...</td>\n",
       "      <td>NaN</td>\n",
       "      <td>40% off upto Rs.80</td>\n",
       "      <td>620.0</td>\n",
       "      <td>27.00</td>\n",
       "      <td>80.0</td>\n",
       "      <td>0.0</td>\n",
       "      <td>0.0</td>\n",
       "      <td>0.0</td>\n",
       "      <td>567.00</td>\n",
       "      <td>4.0</td>\n",
       "      <td>NaN</td>\n",
       "      <td>NaN</td>\n",
       "      <td>NaN</td>\n",
       "      <td>NaN</td>\n",
       "      <td>19.00</td>\n",
       "      <td>3.3</td>\n",
       "      <td>Correctly</td>\n",
       "      <td>NaN</td>\n",
       "      <td>1ed226d1b8a5f7acee12fc1d6676558330a3b2b742af5d...</td>\n",
       "      <td>[Fried Chicken Ghostbuster Tender, Angara Gril...</td>\n",
       "      <td>2024-09-10 15:45:00</td>\n",
       "      <td>15</td>\n",
       "      <td>Tuesday</td>\n",
       "      <td>2024-09-10</td>\n",
       "      <td>28.5734</td>\n",
       "      <td>77.2581</td>\n",
       "      <td>2.0</td>\n",
       "    </tr>\n",
       "    <tr>\n",
       "      <th>4</th>\n",
       "      <td>20320607</td>\n",
       "      <td>Swaad</td>\n",
       "      <td>Sector 4</td>\n",
       "      <td>Delhi NCR</td>\n",
       "      <td>6167540897</td>\n",
       "      <td>03:04 PM, September 10 2024</td>\n",
       "      <td>Delivered</td>\n",
       "      <td>Zomato Delivery</td>\n",
       "      <td>2km</td>\n",
       "      <td>1 x Peri Peri Krispers, 1 x Fried Chicken Anga...</td>\n",
       "      <td>NaN</td>\n",
       "      <td>40% off upto Rs.80</td>\n",
       "      <td>584.0</td>\n",
       "      <td>25.20</td>\n",
       "      <td>80.0</td>\n",
       "      <td>0.0</td>\n",
       "      <td>0.0</td>\n",
       "      <td>0.0</td>\n",
       "      <td>529.20</td>\n",
       "      <td>NaN</td>\n",
       "      <td>NaN</td>\n",
       "      <td>NaN</td>\n",
       "      <td>NaN</td>\n",
       "      <td>NaN</td>\n",
       "      <td>15.97</td>\n",
       "      <td>1.0</td>\n",
       "      <td>Correctly</td>\n",
       "      <td>NaN</td>\n",
       "      <td>d21a2ac6ea06b31cc3288ab20c4ef2f292066c096f2c5f...</td>\n",
       "      <td>[Peri Peri Krispers, Fried Chicken Angara Tender]</td>\n",
       "      <td>2024-09-10 15:04:00</td>\n",
       "      <td>15</td>\n",
       "      <td>Tuesday</td>\n",
       "      <td>2024-09-10</td>\n",
       "      <td>28.5734</td>\n",
       "      <td>77.2581</td>\n",
       "      <td>2.0</td>\n",
       "    </tr>\n",
       "  </tbody>\n",
       "</table>\n",
       "</div>"
      ],
      "text/plain": [
       "   Restaurant ID Restaurant name   Subzone       City    Order ID  \\\n",
       "0       20320607           Swaad  Sector 4  Delhi NCR  6168884918   \n",
       "1       20320607           Swaad  Sector 4  Delhi NCR  6170707559   \n",
       "2       20320607           Swaad  Sector 4  Delhi NCR  6169375019   \n",
       "3       20320607           Swaad  Sector 4  Delhi NCR  6151677434   \n",
       "4       20320607           Swaad  Sector 4  Delhi NCR  6167540897   \n",
       "\n",
       "               Order Placed At Order Status         Delivery Distance  \\\n",
       "0  11:38 PM, September 10 2024    Delivered  Zomato Delivery      3km   \n",
       "1  11:34 PM, September 10 2024    Delivered  Zomato Delivery      2km   \n",
       "2  03:52 PM, September 10 2024    Delivered  Zomato Delivery     <1km   \n",
       "3  03:45 PM, September 10 2024    Delivered  Zomato Delivery      2km   \n",
       "4  03:04 PM, September 10 2024    Delivered  Zomato Delivery      2km   \n",
       "\n",
       "                                      Items in order Instructions  \\\n",
       "0  1 x Grilled Chicken Jamaican Tender, 1 x Grill...          NaN   \n",
       "1  1 x Peri Peri Fries, 1 x Fried Chicken Angara ...          NaN   \n",
       "2              1 x Bone in Peri Peri Grilled Chicken          NaN   \n",
       "3  1 x Fried Chicken Ghostbuster Tender, 1 x Anga...          NaN   \n",
       "4  1 x Peri Peri Krispers, 1 x Fried Chicken Anga...          NaN   \n",
       "\n",
       "   Discount construct  Bill subtotal  Packaging charges  \\\n",
       "0  40% off upto Rs.80          715.0              31.75   \n",
       "1     Flat Rs.175 off         1179.0              50.20   \n",
       "2  40% off upto Rs.80          310.0              11.50   \n",
       "3  40% off upto Rs.80          620.0              27.00   \n",
       "4  40% off upto Rs.80          584.0              25.20   \n",
       "\n",
       "   Restaurant discount (Promo)  \\\n",
       "0                         80.0   \n",
       "1                        175.0   \n",
       "2                         80.0   \n",
       "3                         80.0   \n",
       "4                         80.0   \n",
       "\n",
       "   Restaurant discount (Flat offs, Freebies & others)  Gold discount  \\\n",
       "0                                                0.0             0.0   \n",
       "1                                                0.0             0.0   \n",
       "2                                                0.0             0.0   \n",
       "3                                                0.0             0.0   \n",
       "4                                                0.0             0.0   \n",
       "\n",
       "   Brand pack discount    Total  Rating Review  \\\n",
       "0                  0.0   666.75     NaN    NaN   \n",
       "1                  0.0  1054.20     NaN    NaN   \n",
       "2                  0.0   241.50     NaN    NaN   \n",
       "3                  0.0   567.00     4.0    NaN   \n",
       "4                  0.0   529.20     NaN    NaN   \n",
       "\n",
       "  Cancellation / Rejection reason  Restaurant compensation (Cancellation)  \\\n",
       "0                             NaN                                     NaN   \n",
       "1                             NaN                                     NaN   \n",
       "2                             NaN                                     NaN   \n",
       "3                             NaN                                     NaN   \n",
       "4                             NaN                                     NaN   \n",
       "\n",
       "   Restaurant penalty (Rejection)  KPT duration (minutes)  \\\n",
       "0                             NaN                   18.35   \n",
       "1                             NaN                   16.95   \n",
       "2                             NaN                   14.05   \n",
       "3                             NaN                   19.00   \n",
       "4                             NaN                   15.97   \n",
       "\n",
       "   Rider wait time (minutes) Order Ready Marked Customer complaint tag  \\\n",
       "0                       11.6          Correctly                    NaN   \n",
       "1                        3.6          Correctly                    NaN   \n",
       "2                       12.2          Correctly                    NaN   \n",
       "3                        3.3          Correctly                    NaN   \n",
       "4                        1.0          Correctly                    NaN   \n",
       "\n",
       "                                         Customer ID  \\\n",
       "0  5d6c2b96db963098bc69768bea504c8bf46106a8a5178e...   \n",
       "1  0781815deb4a10a574e9fee4fa0b86b074d4a0b36175d5...   \n",
       "2  f93362f5ce5382657482d164e368186bcec9c6225fd93d...   \n",
       "3  1ed226d1b8a5f7acee12fc1d6676558330a3b2b742af5d...   \n",
       "4  d21a2ac6ea06b31cc3288ab20c4ef2f292066c096f2c5f...   \n",
       "\n",
       "                                      expanded_items      Order_Datetime  \\\n",
       "0  [Grilled Chicken Jamaican Tender, Grilled Chic... 2024-09-10 23:38:00   \n",
       "1  [Peri Peri Fries, Fried Chicken Angara Tender,... 2024-09-10 23:34:00   \n",
       "2                [Bone in Peri Peri Grilled Chicken] 2024-09-10 15:52:00   \n",
       "3  [Fried Chicken Ghostbuster Tender, Angara Gril... 2024-09-10 15:45:00   \n",
       "4  [Peri Peri Krispers, Fried Chicken Angara Tender] 2024-09-10 15:04:00   \n",
       "\n",
       "   hour day_of_week        date  rest_lat  rest_lon  Distance_km  \n",
       "0    23     Tuesday  2024-09-10   28.5734   77.2581          3.0  \n",
       "1    23     Tuesday  2024-09-10   28.5734   77.2581          2.0  \n",
       "2    15     Tuesday  2024-09-10   28.5734   77.2581          0.9  \n",
       "3    15     Tuesday  2024-09-10   28.5734   77.2581          2.0  \n",
       "4    15     Tuesday  2024-09-10   28.5734   77.2581          2.0  "
      ]
     },
     "execution_count": 27,
     "metadata": {},
     "output_type": "execute_result"
    }
   ],
   "source": [
    "df.head()"
   ]
  },
  {
   "cell_type": "code",
   "execution_count": 28,
   "id": "33a6d556",
   "metadata": {},
   "outputs": [
    {
     "data": {
      "text/plain": [
       "(21321, 37)"
      ]
     },
     "execution_count": 28,
     "metadata": {},
     "output_type": "execute_result"
    }
   ],
   "source": [
    "df.shape"
   ]
  },
  {
   "cell_type": "code",
   "execution_count": 29,
   "id": "b654564d",
   "metadata": {},
   "outputs": [
    {
     "data": {
      "text/plain": [
       "dtype('<M8[ns]')"
      ]
     },
     "execution_count": 29,
     "metadata": {},
     "output_type": "execute_result"
    }
   ],
   "source": [
    "df_weather[\"Order Datetime\"].dtype"
   ]
  },
  {
   "cell_type": "code",
   "execution_count": 30,
   "id": "5581d444",
   "metadata": {},
   "outputs": [
    {
     "name": "stderr",
     "output_type": "stream",
     "text": [
      "Fetching weather data: 100%|██████████| 21321/21321 [00:00<00:00, 68954.29it/s]\n"
     ]
    }
   ],
   "source": [
    "import os\n",
    "import pickle\n",
    "from datetime import timedelta\n",
    "from meteostat import Hourly, Point\n",
    "from tqdm import tqdm\n",
    "\n",
    "# -------------------------------------------------------\n",
    "# 1️⃣ Cache Setup\n",
    "# -------------------------------------------------------\n",
    "CACHE_FILE = \"weather_cache.pkl\"\n",
    "\n",
    "if os.path.exists(CACHE_FILE):\n",
    "    with open(CACHE_FILE, \"rb\") as f:\n",
    "        weather_cache = pickle.load(f)\n",
    "else:\n",
    "    weather_cache = {}\n",
    "\n",
    "def save_cache():\n",
    "    with open(CACHE_FILE, \"wb\") as f:\n",
    "        pickle.dump(weather_cache, f)\n",
    "\n",
    "# -------------------------------------------------------\n",
    "# 2️⃣ Coordinates\n",
    "# -------------------------------------------------------\n",
    "restaurant_coords = {\n",
    "    'Aura Pizzas': [28.55, 77.25],\n",
    "    'Swaad': [28.59, 77.36],\n",
    "    'Dilli Burger Adda': [28.50, 77.20],\n",
    "    'Tandoori Junction': [28.53, 77.15],\n",
    "    'The Chicken Junction': [28.52, 77.21],\n",
    "    'Masala Junction': [28.57, 77.35]\n",
    "}\n",
    "\n",
    "subzone_coords = {\n",
    "    'Greater Kailash 2 (GK2)': [28.5416, 77.2437],\n",
    "    'Sector 4': [28.5900, 77.4000],\n",
    "    'DLF Phase 1': [28.4590, 77.0300],\n",
    "    'Sector 135': [28.5700, 77.3600],\n",
    "    'Vasant Kunj': [28.5300, 77.1500],\n",
    "    'Shahdara': [28.6667, 77.2700],\n",
    "    'Chittaranjan Park': [28.5530, 77.2580],\n",
    "    'Sikandarpur': [28.4970, 77.0830]\n",
    "}\n",
    "\n",
    "# -------------------------------------------------------\n",
    "# 3️⃣ Weather Code Mapping\n",
    "# -------------------------------------------------------\n",
    "def map_weather_condition(code):\n",
    "    \"\"\"Simplify Meteostat COCO code to human-readable label.\"\"\"\n",
    "    if pd.isna(code):\n",
    "        return np.nan\n",
    "    code = int(code)\n",
    "    if code in [1, 2]:\n",
    "        return \"Clear\"\n",
    "    elif code in [3, 4]:\n",
    "        return \"Cloudy\"\n",
    "    elif code in [6, 7, 8, 16]:\n",
    "        return \"Rainy\"\n",
    "    elif code in [9, 10]:\n",
    "        return \"Stormy\"\n",
    "    elif code in [5, 17]:\n",
    "        return \"Foggy\"\n",
    "    elif code in [11, 12, 13, 14, 15]:\n",
    "        return \"Snowy\"\n",
    "    else:\n",
    "        return \"Other\"\n",
    "\n",
    "# -------------------------------------------------------\n",
    "# 4️⃣ Main Fetch Function (Cache-Aware)\n",
    "# -------------------------------------------------------\n",
    "def get_weather_for_time(lat, lon, timestamp):\n",
    "    \"\"\"Fetch hourly weather for given lat/lon and timestamp (with pickle caching).\"\"\"\n",
    "    key = (round(lat, 3), round(lon, 3), timestamp.strftime(\"%Y-%m-%d %H\"))\n",
    "    if key in weather_cache:\n",
    "        return weather_cache[key]\n",
    "\n",
    "    location = Point(lat, lon)\n",
    "    start = timestamp - timedelta(hours=1)\n",
    "    end = timestamp + timedelta(hours=1)\n",
    "    data = Hourly(location, start, end).fetch()\n",
    "\n",
    "    if not data.empty:\n",
    "        idx = np.argmin(np.abs((data.index - timestamp).total_seconds()))\n",
    "        row = data.iloc[idx]\n",
    "\n",
    "        result = {\n",
    "            \"temperature\": row.get(\"temp\", np.nan),\n",
    "            \"humidity\": row.get(\"rhum\", np.nan),\n",
    "            \"precipitation\": row.get(\"prcp\", 0),\n",
    "            \"wind_speed\": row.get(\"wspd\", np.nan),\n",
    "            \"weather_condition\": map_weather_condition(row.get(\"coco\", np.nan))\n",
    "        }\n",
    "    else:\n",
    "        result = {\n",
    "            \"temperature\": np.nan,\n",
    "            \"humidity\": np.nan,\n",
    "            \"precipitation\": 0,\n",
    "            \"wind_speed\": np.nan, \n",
    "            \"weather_condition\": np.nan\n",
    "        }\n",
    "\n",
    "    weather_cache[key] = result\n",
    "    return result\n",
    "\n",
    "# -------------------------------------------------------\n",
    "# 5️⃣ Coordinate Helper\n",
    "# -------------------------------------------------------\n",
    "def get_coordinates(row):\n",
    "    \"\"\"Return coordinates based on Restaurant name or Subzone.\"\"\"\n",
    "    if row[\"Restaurant name\"] in restaurant_coords:\n",
    "        return restaurant_coords[row[\"Restaurant name\"]]\n",
    "    elif row[\"Subzone\"] in subzone_coords:\n",
    "        return subzone_coords[row[\"Subzone\"]]\n",
    "    else:\n",
    "        return [28.6139, 77.2090]  # Default to Delhi NCR center\n",
    "\n",
    "# -------------------------------------------------------\n",
    "# 6️⃣ Fetch Weather for Each Order\n",
    "# -------------------------------------------------------\n",
    "records = []\n",
    "for _, row in tqdm(df.iterrows(), total=len(df), desc=\"Fetching weather data\"):\n",
    "    lat, lon = get_coordinates(row)\n",
    "    weather = get_weather_for_time(lat, lon, row[\"Order_Datetime\"])\n",
    "    weather[\"is_weekend_or_holiday\"] = row[\"Order_Datetime\"].weekday() >= 5\n",
    "    records.append(weather)\n",
    "\n",
    "# Build weather DataFrame\n",
    "weather_df = pd.DataFrame(records)\n",
    "\n",
    "# Drop existing weather columns if they exist to overwrite\n",
    "for col in [\"temperature\", \"humidity\", \"precipitation\", \"wind_speed\", \"weather_condition\", \"is_weekend_or_holiday\"]:\n",
    "    if col in df.columns:\n",
    "        df.drop(columns=[col], inplace=True)\n",
    "\n",
    "# Concatenate new weather columns\n",
    "df = pd.concat([df.reset_index(drop=True), weather_df], axis=1)\n",
    "\n",
    "save_cache()  # persist new results\n"
   ]
  },
  {
   "cell_type": "code",
   "execution_count": 31,
   "id": "23a1b72e",
   "metadata": {},
   "outputs": [
    {
     "data": {
      "text/html": [
       "<div>\n",
       "<style scoped>\n",
       "    .dataframe tbody tr th:only-of-type {\n",
       "        vertical-align: middle;\n",
       "    }\n",
       "\n",
       "    .dataframe tbody tr th {\n",
       "        vertical-align: top;\n",
       "    }\n",
       "\n",
       "    .dataframe thead th {\n",
       "        text-align: right;\n",
       "    }\n",
       "</style>\n",
       "<table border=\"1\" class=\"dataframe\">\n",
       "  <thead>\n",
       "    <tr style=\"text-align: right;\">\n",
       "      <th></th>\n",
       "      <th>Restaurant ID</th>\n",
       "      <th>Restaurant name</th>\n",
       "      <th>Subzone</th>\n",
       "      <th>City</th>\n",
       "      <th>Order ID</th>\n",
       "      <th>Order Placed At</th>\n",
       "      <th>Order Status</th>\n",
       "      <th>Delivery</th>\n",
       "      <th>Distance</th>\n",
       "      <th>Items in order</th>\n",
       "      <th>Instructions</th>\n",
       "      <th>Discount construct</th>\n",
       "      <th>Bill subtotal</th>\n",
       "      <th>Packaging charges</th>\n",
       "      <th>Restaurant discount (Promo)</th>\n",
       "      <th>Restaurant discount (Flat offs, Freebies &amp; others)</th>\n",
       "      <th>Gold discount</th>\n",
       "      <th>Brand pack discount</th>\n",
       "      <th>Total</th>\n",
       "      <th>Rating</th>\n",
       "      <th>Review</th>\n",
       "      <th>Cancellation / Rejection reason</th>\n",
       "      <th>Restaurant compensation (Cancellation)</th>\n",
       "      <th>Restaurant penalty (Rejection)</th>\n",
       "      <th>KPT duration (minutes)</th>\n",
       "      <th>Rider wait time (minutes)</th>\n",
       "      <th>Order Ready Marked</th>\n",
       "      <th>Customer complaint tag</th>\n",
       "      <th>Customer ID</th>\n",
       "      <th>expanded_items</th>\n",
       "      <th>Order_Datetime</th>\n",
       "      <th>hour</th>\n",
       "      <th>day_of_week</th>\n",
       "      <th>date</th>\n",
       "      <th>rest_lat</th>\n",
       "      <th>rest_lon</th>\n",
       "      <th>Distance_km</th>\n",
       "      <th>temperature</th>\n",
       "      <th>humidity</th>\n",
       "      <th>precipitation</th>\n",
       "      <th>wind_speed</th>\n",
       "      <th>weather_condition</th>\n",
       "      <th>is_weekend_or_holiday</th>\n",
       "    </tr>\n",
       "  </thead>\n",
       "  <tbody>\n",
       "    <tr>\n",
       "      <th>0</th>\n",
       "      <td>20320607</td>\n",
       "      <td>Swaad</td>\n",
       "      <td>Sector 4</td>\n",
       "      <td>Delhi NCR</td>\n",
       "      <td>6168884918</td>\n",
       "      <td>11:38 PM, September 10 2024</td>\n",
       "      <td>Delivered</td>\n",
       "      <td>Zomato Delivery</td>\n",
       "      <td>3km</td>\n",
       "      <td>1 x Grilled Chicken Jamaican Tender, 1 x Grill...</td>\n",
       "      <td>NaN</td>\n",
       "      <td>40% off upto Rs.80</td>\n",
       "      <td>715.0</td>\n",
       "      <td>31.75</td>\n",
       "      <td>80.0</td>\n",
       "      <td>0.0</td>\n",
       "      <td>0.0</td>\n",
       "      <td>0.0</td>\n",
       "      <td>666.75</td>\n",
       "      <td>NaN</td>\n",
       "      <td>NaN</td>\n",
       "      <td>NaN</td>\n",
       "      <td>NaN</td>\n",
       "      <td>NaN</td>\n",
       "      <td>18.35</td>\n",
       "      <td>11.6</td>\n",
       "      <td>Correctly</td>\n",
       "      <td>NaN</td>\n",
       "      <td>5d6c2b96db963098bc69768bea504c8bf46106a8a5178e...</td>\n",
       "      <td>[Grilled Chicken Jamaican Tender, Grilled Chic...</td>\n",
       "      <td>2024-09-10 23:38:00</td>\n",
       "      <td>23</td>\n",
       "      <td>Tuesday</td>\n",
       "      <td>2024-09-10</td>\n",
       "      <td>28.5734</td>\n",
       "      <td>77.2581</td>\n",
       "      <td>3.0</td>\n",
       "      <td>26.0</td>\n",
       "      <td>96.0</td>\n",
       "      <td>0.0</td>\n",
       "      <td>0.0</td>\n",
       "      <td>Cloudy</td>\n",
       "      <td>False</td>\n",
       "    </tr>\n",
       "    <tr>\n",
       "      <th>1</th>\n",
       "      <td>20320607</td>\n",
       "      <td>Swaad</td>\n",
       "      <td>Sector 4</td>\n",
       "      <td>Delhi NCR</td>\n",
       "      <td>6170707559</td>\n",
       "      <td>11:34 PM, September 10 2024</td>\n",
       "      <td>Delivered</td>\n",
       "      <td>Zomato Delivery</td>\n",
       "      <td>2km</td>\n",
       "      <td>1 x Peri Peri Fries, 1 x Fried Chicken Angara ...</td>\n",
       "      <td>NaN</td>\n",
       "      <td>Flat Rs.175 off</td>\n",
       "      <td>1179.0</td>\n",
       "      <td>50.20</td>\n",
       "      <td>175.0</td>\n",
       "      <td>0.0</td>\n",
       "      <td>0.0</td>\n",
       "      <td>0.0</td>\n",
       "      <td>1054.20</td>\n",
       "      <td>NaN</td>\n",
       "      <td>NaN</td>\n",
       "      <td>NaN</td>\n",
       "      <td>NaN</td>\n",
       "      <td>NaN</td>\n",
       "      <td>16.95</td>\n",
       "      <td>3.6</td>\n",
       "      <td>Correctly</td>\n",
       "      <td>NaN</td>\n",
       "      <td>0781815deb4a10a574e9fee4fa0b86b074d4a0b36175d5...</td>\n",
       "      <td>[Peri Peri Fries, Fried Chicken Angara Tender,...</td>\n",
       "      <td>2024-09-10 23:34:00</td>\n",
       "      <td>23</td>\n",
       "      <td>Tuesday</td>\n",
       "      <td>2024-09-10</td>\n",
       "      <td>28.5734</td>\n",
       "      <td>77.2581</td>\n",
       "      <td>2.0</td>\n",
       "      <td>26.0</td>\n",
       "      <td>96.0</td>\n",
       "      <td>0.0</td>\n",
       "      <td>0.0</td>\n",
       "      <td>Cloudy</td>\n",
       "      <td>False</td>\n",
       "    </tr>\n",
       "    <tr>\n",
       "      <th>2</th>\n",
       "      <td>20320607</td>\n",
       "      <td>Swaad</td>\n",
       "      <td>Sector 4</td>\n",
       "      <td>Delhi NCR</td>\n",
       "      <td>6169375019</td>\n",
       "      <td>03:52 PM, September 10 2024</td>\n",
       "      <td>Delivered</td>\n",
       "      <td>Zomato Delivery</td>\n",
       "      <td>&lt;1km</td>\n",
       "      <td>1 x Bone in Peri Peri Grilled Chicken</td>\n",
       "      <td>NaN</td>\n",
       "      <td>40% off upto Rs.80</td>\n",
       "      <td>310.0</td>\n",
       "      <td>11.50</td>\n",
       "      <td>80.0</td>\n",
       "      <td>0.0</td>\n",
       "      <td>0.0</td>\n",
       "      <td>0.0</td>\n",
       "      <td>241.50</td>\n",
       "      <td>NaN</td>\n",
       "      <td>NaN</td>\n",
       "      <td>NaN</td>\n",
       "      <td>NaN</td>\n",
       "      <td>NaN</td>\n",
       "      <td>14.05</td>\n",
       "      <td>12.2</td>\n",
       "      <td>Correctly</td>\n",
       "      <td>NaN</td>\n",
       "      <td>f93362f5ce5382657482d164e368186bcec9c6225fd93d...</td>\n",
       "      <td>[Bone in Peri Peri Grilled Chicken]</td>\n",
       "      <td>2024-09-10 15:52:00</td>\n",
       "      <td>15</td>\n",
       "      <td>Tuesday</td>\n",
       "      <td>2024-09-10</td>\n",
       "      <td>28.5734</td>\n",
       "      <td>77.2581</td>\n",
       "      <td>0.9</td>\n",
       "      <td>26.1</td>\n",
       "      <td>95.0</td>\n",
       "      <td>0.0</td>\n",
       "      <td>0.0</td>\n",
       "      <td>Cloudy</td>\n",
       "      <td>False</td>\n",
       "    </tr>\n",
       "    <tr>\n",
       "      <th>3</th>\n",
       "      <td>20320607</td>\n",
       "      <td>Swaad</td>\n",
       "      <td>Sector 4</td>\n",
       "      <td>Delhi NCR</td>\n",
       "      <td>6151677434</td>\n",
       "      <td>03:45 PM, September 10 2024</td>\n",
       "      <td>Delivered</td>\n",
       "      <td>Zomato Delivery</td>\n",
       "      <td>2km</td>\n",
       "      <td>1 x Fried Chicken Ghostbuster Tender, 1 x Anga...</td>\n",
       "      <td>NaN</td>\n",
       "      <td>40% off upto Rs.80</td>\n",
       "      <td>620.0</td>\n",
       "      <td>27.00</td>\n",
       "      <td>80.0</td>\n",
       "      <td>0.0</td>\n",
       "      <td>0.0</td>\n",
       "      <td>0.0</td>\n",
       "      <td>567.00</td>\n",
       "      <td>4.0</td>\n",
       "      <td>NaN</td>\n",
       "      <td>NaN</td>\n",
       "      <td>NaN</td>\n",
       "      <td>NaN</td>\n",
       "      <td>19.00</td>\n",
       "      <td>3.3</td>\n",
       "      <td>Correctly</td>\n",
       "      <td>NaN</td>\n",
       "      <td>1ed226d1b8a5f7acee12fc1d6676558330a3b2b742af5d...</td>\n",
       "      <td>[Fried Chicken Ghostbuster Tender, Angara Gril...</td>\n",
       "      <td>2024-09-10 15:45:00</td>\n",
       "      <td>15</td>\n",
       "      <td>Tuesday</td>\n",
       "      <td>2024-09-10</td>\n",
       "      <td>28.5734</td>\n",
       "      <td>77.2581</td>\n",
       "      <td>2.0</td>\n",
       "      <td>26.1</td>\n",
       "      <td>95.0</td>\n",
       "      <td>0.0</td>\n",
       "      <td>0.0</td>\n",
       "      <td>Cloudy</td>\n",
       "      <td>False</td>\n",
       "    </tr>\n",
       "    <tr>\n",
       "      <th>4</th>\n",
       "      <td>20320607</td>\n",
       "      <td>Swaad</td>\n",
       "      <td>Sector 4</td>\n",
       "      <td>Delhi NCR</td>\n",
       "      <td>6167540897</td>\n",
       "      <td>03:04 PM, September 10 2024</td>\n",
       "      <td>Delivered</td>\n",
       "      <td>Zomato Delivery</td>\n",
       "      <td>2km</td>\n",
       "      <td>1 x Peri Peri Krispers, 1 x Fried Chicken Anga...</td>\n",
       "      <td>NaN</td>\n",
       "      <td>40% off upto Rs.80</td>\n",
       "      <td>584.0</td>\n",
       "      <td>25.20</td>\n",
       "      <td>80.0</td>\n",
       "      <td>0.0</td>\n",
       "      <td>0.0</td>\n",
       "      <td>0.0</td>\n",
       "      <td>529.20</td>\n",
       "      <td>NaN</td>\n",
       "      <td>NaN</td>\n",
       "      <td>NaN</td>\n",
       "      <td>NaN</td>\n",
       "      <td>NaN</td>\n",
       "      <td>15.97</td>\n",
       "      <td>1.0</td>\n",
       "      <td>Correctly</td>\n",
       "      <td>NaN</td>\n",
       "      <td>d21a2ac6ea06b31cc3288ab20c4ef2f292066c096f2c5f...</td>\n",
       "      <td>[Peri Peri Krispers, Fried Chicken Angara Tender]</td>\n",
       "      <td>2024-09-10 15:04:00</td>\n",
       "      <td>15</td>\n",
       "      <td>Tuesday</td>\n",
       "      <td>2024-09-10</td>\n",
       "      <td>28.5734</td>\n",
       "      <td>77.2581</td>\n",
       "      <td>2.0</td>\n",
       "      <td>26.1</td>\n",
       "      <td>95.0</td>\n",
       "      <td>0.0</td>\n",
       "      <td>0.0</td>\n",
       "      <td>Cloudy</td>\n",
       "      <td>False</td>\n",
       "    </tr>\n",
       "  </tbody>\n",
       "</table>\n",
       "</div>"
      ],
      "text/plain": [
       "   Restaurant ID Restaurant name   Subzone       City    Order ID  \\\n",
       "0       20320607           Swaad  Sector 4  Delhi NCR  6168884918   \n",
       "1       20320607           Swaad  Sector 4  Delhi NCR  6170707559   \n",
       "2       20320607           Swaad  Sector 4  Delhi NCR  6169375019   \n",
       "3       20320607           Swaad  Sector 4  Delhi NCR  6151677434   \n",
       "4       20320607           Swaad  Sector 4  Delhi NCR  6167540897   \n",
       "\n",
       "               Order Placed At Order Status         Delivery Distance  \\\n",
       "0  11:38 PM, September 10 2024    Delivered  Zomato Delivery      3km   \n",
       "1  11:34 PM, September 10 2024    Delivered  Zomato Delivery      2km   \n",
       "2  03:52 PM, September 10 2024    Delivered  Zomato Delivery     <1km   \n",
       "3  03:45 PM, September 10 2024    Delivered  Zomato Delivery      2km   \n",
       "4  03:04 PM, September 10 2024    Delivered  Zomato Delivery      2km   \n",
       "\n",
       "                                      Items in order Instructions  \\\n",
       "0  1 x Grilled Chicken Jamaican Tender, 1 x Grill...          NaN   \n",
       "1  1 x Peri Peri Fries, 1 x Fried Chicken Angara ...          NaN   \n",
       "2              1 x Bone in Peri Peri Grilled Chicken          NaN   \n",
       "3  1 x Fried Chicken Ghostbuster Tender, 1 x Anga...          NaN   \n",
       "4  1 x Peri Peri Krispers, 1 x Fried Chicken Anga...          NaN   \n",
       "\n",
       "   Discount construct  Bill subtotal  Packaging charges  \\\n",
       "0  40% off upto Rs.80          715.0              31.75   \n",
       "1     Flat Rs.175 off         1179.0              50.20   \n",
       "2  40% off upto Rs.80          310.0              11.50   \n",
       "3  40% off upto Rs.80          620.0              27.00   \n",
       "4  40% off upto Rs.80          584.0              25.20   \n",
       "\n",
       "   Restaurant discount (Promo)  \\\n",
       "0                         80.0   \n",
       "1                        175.0   \n",
       "2                         80.0   \n",
       "3                         80.0   \n",
       "4                         80.0   \n",
       "\n",
       "   Restaurant discount (Flat offs, Freebies & others)  Gold discount  \\\n",
       "0                                                0.0             0.0   \n",
       "1                                                0.0             0.0   \n",
       "2                                                0.0             0.0   \n",
       "3                                                0.0             0.0   \n",
       "4                                                0.0             0.0   \n",
       "\n",
       "   Brand pack discount    Total  Rating Review  \\\n",
       "0                  0.0   666.75     NaN    NaN   \n",
       "1                  0.0  1054.20     NaN    NaN   \n",
       "2                  0.0   241.50     NaN    NaN   \n",
       "3                  0.0   567.00     4.0    NaN   \n",
       "4                  0.0   529.20     NaN    NaN   \n",
       "\n",
       "  Cancellation / Rejection reason  Restaurant compensation (Cancellation)  \\\n",
       "0                             NaN                                     NaN   \n",
       "1                             NaN                                     NaN   \n",
       "2                             NaN                                     NaN   \n",
       "3                             NaN                                     NaN   \n",
       "4                             NaN                                     NaN   \n",
       "\n",
       "   Restaurant penalty (Rejection)  KPT duration (minutes)  \\\n",
       "0                             NaN                   18.35   \n",
       "1                             NaN                   16.95   \n",
       "2                             NaN                   14.05   \n",
       "3                             NaN                   19.00   \n",
       "4                             NaN                   15.97   \n",
       "\n",
       "   Rider wait time (minutes) Order Ready Marked Customer complaint tag  \\\n",
       "0                       11.6          Correctly                    NaN   \n",
       "1                        3.6          Correctly                    NaN   \n",
       "2                       12.2          Correctly                    NaN   \n",
       "3                        3.3          Correctly                    NaN   \n",
       "4                        1.0          Correctly                    NaN   \n",
       "\n",
       "                                         Customer ID  \\\n",
       "0  5d6c2b96db963098bc69768bea504c8bf46106a8a5178e...   \n",
       "1  0781815deb4a10a574e9fee4fa0b86b074d4a0b36175d5...   \n",
       "2  f93362f5ce5382657482d164e368186bcec9c6225fd93d...   \n",
       "3  1ed226d1b8a5f7acee12fc1d6676558330a3b2b742af5d...   \n",
       "4  d21a2ac6ea06b31cc3288ab20c4ef2f292066c096f2c5f...   \n",
       "\n",
       "                                      expanded_items      Order_Datetime  \\\n",
       "0  [Grilled Chicken Jamaican Tender, Grilled Chic... 2024-09-10 23:38:00   \n",
       "1  [Peri Peri Fries, Fried Chicken Angara Tender,... 2024-09-10 23:34:00   \n",
       "2                [Bone in Peri Peri Grilled Chicken] 2024-09-10 15:52:00   \n",
       "3  [Fried Chicken Ghostbuster Tender, Angara Gril... 2024-09-10 15:45:00   \n",
       "4  [Peri Peri Krispers, Fried Chicken Angara Tender] 2024-09-10 15:04:00   \n",
       "\n",
       "   hour day_of_week        date  rest_lat  rest_lon  Distance_km  temperature  \\\n",
       "0    23     Tuesday  2024-09-10   28.5734   77.2581          3.0         26.0   \n",
       "1    23     Tuesday  2024-09-10   28.5734   77.2581          2.0         26.0   \n",
       "2    15     Tuesday  2024-09-10   28.5734   77.2581          0.9         26.1   \n",
       "3    15     Tuesday  2024-09-10   28.5734   77.2581          2.0         26.1   \n",
       "4    15     Tuesday  2024-09-10   28.5734   77.2581          2.0         26.1   \n",
       "\n",
       "   humidity precipitation  wind_speed weather_condition  is_weekend_or_holiday  \n",
       "0      96.0           0.0         0.0            Cloudy                  False  \n",
       "1      96.0           0.0         0.0            Cloudy                  False  \n",
       "2      95.0           0.0         0.0            Cloudy                  False  \n",
       "3      95.0           0.0         0.0            Cloudy                  False  \n",
       "4      95.0           0.0         0.0            Cloudy                  False  "
      ]
     },
     "execution_count": 31,
     "metadata": {},
     "output_type": "execute_result"
    }
   ],
   "source": [
    "df.head()"
   ]
  },
  {
   "cell_type": "code",
   "execution_count": 32,
   "id": "fe070fb6",
   "metadata": {},
   "outputs": [
    {
     "data": {
      "text/plain": [
       "(21321, 43)"
      ]
     },
     "execution_count": 32,
     "metadata": {},
     "output_type": "execute_result"
    }
   ],
   "source": [
    "df.shape"
   ]
  },
  {
   "cell_type": "code",
   "execution_count": 33,
   "id": "b709ac37",
   "metadata": {},
   "outputs": [
    {
     "data": {
      "image/png": "[encoded data removed]",
      "text/plain": [
       "<Figure size 1000x500 with 1 Axes>"
      ]
     },
     "metadata": {},
     "output_type": "display_data"
    }
   ],
   "source": [
    "#analysis after integrating weather api to the original dataframe\n",
    "plt.figure(figsize=(10,5))\n",
    "sns.scatterplot(x='temperature', y='hour', data=df, alpha=0.5)\n",
    "plt.title(\"Temperature vs Hour of Order\")\n",
    "plt.show()\n"
   ]
  },
  {
   "cell_type": "markdown",
   "id": "85bc3bc2",
   "metadata": {},
   "source": [
    "### Observations\n",
    "\n",
    "1. **Two main clusters of hours**:\n",
    "\n",
    "   * **Early morning / late night**: Hours 0–4, very few orders.\n",
    "   * **Daytime / evening**: Hours 10–23, dense cluster — most orders happen here.\n",
    "\n",
    "2. **Temperature range shifts with time**:\n",
    "\n",
    "   * Early morning hours (0–4) have **lower temperatures** (~5–15°C), fewer orders.\n",
    "   * Daytime hours (10–23) see **higher temperatures** (~15–35°C), dense order volume.\n",
    "\n",
    "3. **Orders are concentrated in warm periods**:\n",
    "\n",
    "   * Most orders occur when temperature is **roughly 15–30°C**.\n",
    "   * Very few orders in cold (<10°C) or extremely hot (>35°C) temperatures.\n",
    "\n",
    "4. **Scatterplot density**:\n",
    "\n",
    "   * Overlap is high because there are **multiple orders per hour**.\n",
    "   * Suggests a better visualization could be **line plot of average temperature per hour** or **bar plot of order counts per hour**, maybe with temperature as background.\n",
    "\n",
    "---\n",
    "\n",
    "### Preliminary deductions\n",
    "\n",
    "* **Customer demand is heavily time-dependent**, peaking in daytime/evening.\n",
    "* **Temperature may influence order volume**, but since temperature also follows a **daily cycle**, it may be partially confounded with hour-of-day effect.\n",
    "* Early morning and late-night orders are rare regardless of temperature.\n"
   ]
  },
  {
   "cell_type": "code",
   "execution_count": null,
   "id": "fd0cac83",
   "metadata": {},
   "outputs": [
    {
     "data": {
      "image/png": "[encoded data removed]",
      "text/plain": [
       "<Figure size 800x500 with 1 Axes>"
      ]
     },
     "metadata": {},
     "output_type": "display_data"
    }
   ],
   "source": [
    "orders_weather = df.groupby('weather_condition')['Order ID'].count()\n",
    "orders_weather.plot(kind='bar', figsize=(8,5), color='skyblue')\n",
    "plt.title(\"Orders by Weather Condition\")\n",
    "plt.ylabel(\"Number of Orders\")\n",
    "plt.show()"
   ]
  },
  {
   "cell_type": "code",
   "execution_count": 35,
   "id": "a872a303",
   "metadata": {},
   "outputs": [
    {
     "name": "stderr",
     "output_type": "stream",
     "text": [
      "FutureWarning: \n",
      "\n",
      "Passing `palette` without assigning `hue` is deprecated and will be removed in v0.14.0. Assign the `x` variable to `hue` and set `legend=False` for the same effect.\n",
      "\n"
     ]
    },
    {
     "data": {
      "image/png": "[encoded data removed]",
      "text/plain": [
       "<Figure size 640x480 with 1 Axes>"
      ]
     },
     "metadata": {},
     "output_type": "display_data"
    }
   ],
   "source": [
    "sns.countplot(x='is_weekend_or_holiday', data=df, palette=\"Set2\")\n",
    "plt.title(\"Orders: Weekend vs Weekday\")\n",
    "plt.show()"
   ]
  },
  {
   "cell_type": "code",
   "execution_count": 36,
   "id": "7df0e19f",
   "metadata": {},
   "outputs": [
    {
     "data": {
      "image/png": "[encoded data removed]",
      "text/plain": [
       "<Figure size 1000x500 with 1 Axes>"
      ]
     },
     "metadata": {},
     "output_type": "display_data"
    },
    {
     "data": {
      "image/png": "[encoded data removed]",
      "text/plain": [
       "<Figure size 1000x500 with 1 Axes>"
      ]
     },
     "metadata": {},
     "output_type": "display_data"
    }
   ],
   "source": [
    "top_restaurants = df.groupby('Restaurant name')['Order ID'].count().sort_values(ascending=False)\n",
    "top_restaurants.plot(kind='bar', figsize=(10,5), color='coral')\n",
    "plt.title(\"Orders per Restaurant\")\n",
    "plt.ylabel(\"Number of Orders\")\n",
    "plt.show()\n",
    "\n",
    "top_subzones = df.groupby('Subzone')['Order ID'].count().sort_values(ascending=False)\n",
    "top_subzones.plot(kind='bar', figsize=(10,5), color='lightgreen')\n",
    "plt.title(\"Orders per Subzone\")\n",
    "plt.ylabel(\"Number of Orders\")\n",
    "plt.show()"
   ]
  },
  {
   "cell_type": "code",
   "execution_count": 37,
   "id": "7db76d18",
   "metadata": {},
   "outputs": [
    {
     "data": {
      "image/png": "[encoded data removed]",
      "text/plain": [
       "<Figure size 1000x800 with 2 Axes>"
      ]
     },
     "metadata": {},
     "output_type": "display_data"
    }
   ],
   "source": [
    "numeric_cols = ['Distance_km', 'Bill subtotal', 'Packaging charges', 'Total', \n",
    "                'temperature', 'humidity', 'precipitation', 'wind_speed']\n",
    "\n",
    "# Convert to float and fill missing with np.nan\n",
    "df[numeric_cols] = df[numeric_cols].apply(pd.to_numeric, errors='coerce')\n",
    "\n",
    "corr = df[numeric_cols].corr()\n",
    "\n",
    "plt.figure(figsize=(10,8))\n",
    "sns.heatmap(corr, annot=True, cmap='coolwarm')\n",
    "plt.title(\"Correlation Heatmap\")\n",
    "plt.show()\n"
   ]
  },
  {
   "cell_type": "code",
   "execution_count": null,
   "id": "aed95191",
   "metadata": {},
   "outputs": [
    {
     "name": "stderr",
     "output_type": "stream",
     "text": [
      "FutureWarning: 'H' is deprecated and will be removed in a future version, please use 'h' instead.\n"
     ]
    }
   ],
   "source": [
    "# Hourly aggregation, rounding to the nearest hour\n",
    "df['hour'] = df['Order_Datetime'].dt.floor('H')\n",
    "df['day_of_week'] = df['Order_Datetime'].dt.dayofweek  # 0=Mon, 6=Sun"
   ]
  },
  {
   "cell_type": "code",
   "execution_count": 39,
   "id": "17bb2ff8",
   "metadata": {},
   "outputs": [],
   "source": [
    "cols_to_drop = [\n",
    "    'Instructions',                   # a lot of missing values\n",
    "    'Rating',                         # a lot of missing values\n",
    "    'Review',                         # a lot of missing values\n",
    "    'Cancellation / Rejection reason',# a lot of missing values\n",
    "    'Restaurant compensation (Cancellation)', # a lot of missing values\n",
    "    'Restaurant penalty (Rejection)',          # a lot of missing values\n",
    "    'Customer complaint tag'           # a lot of missing values\n",
    "]\n",
    "df = df.drop(columns=cols_to_drop)"
   ]
  },
  {
   "cell_type": "code",
   "execution_count": 40,
   "id": "04e59ef0",
   "metadata": {},
   "outputs": [
    {
     "data": {
      "text/plain": [
       "Restaurant ID                                            0\n",
       "Restaurant name                                          0\n",
       "Subzone                                                  0\n",
       "City                                                     0\n",
       "Order ID                                                 0\n",
       "Order Placed At                                          0\n",
       "Order Status                                             0\n",
       "Delivery                                                 0\n",
       "Distance                                                 0\n",
       "Items in order                                           0\n",
       "Discount construct                                    5498\n",
       "Bill subtotal                                            0\n",
       "Packaging charges                                        0\n",
       "Restaurant discount (Promo)                              0\n",
       "Restaurant discount (Flat offs, Freebies & others)       0\n",
       "Gold discount                                            0\n",
       "Brand pack discount                                      0\n",
       "Total                                                    0\n",
       "KPT duration (minutes)                                 295\n",
       "Rider wait time (minutes)                              168\n",
       "Order Ready Marked                                       0\n",
       "Customer ID                                              0\n",
       "expanded_items                                           0\n",
       "Order_Datetime                                           0\n",
       "hour                                                     0\n",
       "day_of_week                                              0\n",
       "date                                                     0\n",
       "rest_lat                                                 0\n",
       "rest_lon                                                 0\n",
       "Distance_km                                              0\n",
       "temperature                                              0\n",
       "humidity                                                 0\n",
       "precipitation                                          508\n",
       "wind_speed                                               0\n",
       "weather_condition                                       43\n",
       "is_weekend_or_holiday                                    0\n",
       "dtype: int64"
      ]
     },
     "execution_count": 40,
     "metadata": {},
     "output_type": "execute_result"
    }
   ],
   "source": [
    "df.isna().sum()"
   ]
  },
  {
   "cell_type": "code",
   "execution_count": 41,
   "id": "4220a763",
   "metadata": {},
   "outputs": [],
   "source": [
    "# -------------------------------\n",
    "# 3️⃣ Fill missing values only where relevant\n",
    "# -------------------------------\n",
    "# Numeric features\n",
    "numeric_cols = [\n",
    "    'precipitation', 'KPT duration (minutes)', 'Rider wait time (minutes)'\n",
    "]\n",
    "# Fill with 0 only where it makes sense\n",
    "df['precipitation'] = df['precipitation'].fillna(0)\n",
    "df['KPT duration (minutes)'] = df['KPT duration (minutes)'].fillna(df['KPT duration (minutes)'].median())\n",
    "df['Rider wait time (minutes)'] = df['Rider wait time (minutes)'].fillna(df['Rider wait time (minutes)'].median())\n",
    "\n",
    "# Distance / items\n",
    "df['num_items'] = df['Items in order'].str.count('x')\n",
    "df['Distance_km'] = df['Distance_km'].fillna(df['Distance_km'].median())\n",
    "\n",
    "# Discounts / Bill (numeric)\n",
    "discount_cols = [\n",
    "    'Bill subtotal','Packaging charges','Restaurant discount (Promo)',\n",
    "    'Restaurant discount (Flat offs, Freebies & others)','Gold discount','Brand pack discount','Total'\n",
    "]\n",
    "for col in discount_cols:\n",
    "    df[col] = df[col].fillna(0)\n",
    "\n",
    "# Categorical columns\n",
    "df['Discount construct'] = df['Discount construct'].fillna('None')\n",
    "df['weather_condition'] = df['weather_condition'].fillna('Unknown')\n"
   ]
  },
  {
   "cell_type": "code",
   "execution_count": 42,
   "id": "4903d5b7",
   "metadata": {},
   "outputs": [],
   "source": [
    "# -------------------------------\n",
    "# 4️⃣ Encode categorical variables\n",
    "# -------------------------------\n",
    "cat_cols = ['Restaurant ID','Subzone','City','Delivery','Discount construct','weather_condition']\n",
    "df = pd.get_dummies(df, columns=cat_cols, drop_first=True)\n"
   ]
  },
  {
   "cell_type": "code",
   "execution_count": 43,
   "id": "98009da0",
   "metadata": {},
   "outputs": [],
   "source": [
    "# -------------------------------\n",
    "# 5️⃣ Aggregate hourly for demand prediction\n",
    "# -------------------------------\n",
    "# Numeric features: mean per hour\n",
    "numeric_features = [c for c in df.columns if df[c].dtype in [int,float] and c not in ['hour','day_of_week']]\n",
    "X_hourly = df.groupby('hour')[numeric_features].mean().reset_index()"
   ]
  },
  {
   "cell_type": "code",
   "execution_count": 44,
   "id": "c2e36179",
   "metadata": {},
   "outputs": [],
   "source": [
    "# Merge with target: orders per hour\n",
    "y_hourly = df.groupby('hour').size().reset_index(name='orders')\n",
    "data = X_hourly.merge(y_hourly, on='hour')"
   ]
  },
  {
   "cell_type": "code",
   "execution_count": 45,
   "id": "3a61f14e",
   "metadata": {},
   "outputs": [
    {
     "name": "stdout",
     "output_type": "stream",
     "text": [
      "X_train shape: (2044, 18)\n",
      "X_test shape: (511, 18)\n",
      "y_train shape: (2044,)\n",
      "y_test shape: (511,)\n"
     ]
    }
   ],
   "source": [
    "from sklearn.model_selection import train_test_split\n",
    "# -------------------------------\n",
    "# 6️⃣ Split features and target\n",
    "# -------------------------------\n",
    "features = data.drop(columns=['hour','orders'])\n",
    "target = data['orders']\n",
    "\n",
    "X_train, X_test, y_train, y_test = train_test_split(features, target, test_size=0.2, random_state=42)\n",
    "\n",
    "print(\"X_train shape:\", X_train.shape)\n",
    "print(\"X_test shape:\", X_test.shape)\n",
    "print(\"y_train shape:\", y_train.shape)\n",
    "print(\"y_test shape:\", y_test.shape)"
   ]
  },
  {
   "cell_type": "code",
   "execution_count": null,
   "id": "041088bb",
   "metadata": {},
   "outputs": [],
   "source": [
    "from sklearn.model_selection import TimeSeriesSplit\n",
    "from sklearn.preprocessing import StandardScaler\n",
    "from sklearn.metrics import mean_squared_error\n",
    "import numpy as np\n",
    "\n",
    "# Target\n",
    "y = target.values\n",
    "\n",
    "# TimeSeries split- ensuring time order is kept intact so that it trains on past data and tests on future data\n",
    "tscv = TimeSeriesSplit(n_splits=5)"
   ]
  },
  {
   "cell_type": "code",
   "execution_count": null,
   "id": "5c4dda7e",
   "metadata": {},
   "outputs": [],
   "source": [
    "from sklearn.preprocessing import PolynomialFeatures\n",
    "\n",
    "poly = PolynomialFeatures(degree=2, include_bias=False)\n",
    "X_poly = poly.fit_transform(features)"
   ]
  },
  {
   "cell_type": "code",
   "execution_count": 51,
   "id": "85aa3360",
   "metadata": {},
   "outputs": [],
   "source": [
    "scaler = StandardScaler()\n",
    "X_poly_scaled = scaler.fit_transform(X_poly)"
   ]
  },
  {
   "cell_type": "code",
   "execution_count": 56,
   "id": "34871acf",
   "metadata": {},
   "outputs": [
    {
     "data": {
      "text/plain": [
       "array(['Order ID', 'Bill subtotal', 'Packaging charges',\n",
       "       'Restaurant discount (Promo)',\n",
       "       'Restaurant discount (Flat offs, Freebies & others)',\n",
       "       'Gold discount', 'Brand pack discount', 'Total',\n",
       "       'KPT duration (minutes)', 'Rider wait time (minutes)', 'rest_lat',\n",
       "       'rest_lon', 'Distance_km', 'temperature', 'humidity',\n",
       "       'precipitation', 'wind_speed', 'num_items', 'Order ID^2',\n",
       "       'Order ID Bill subtotal', 'Order ID Packaging charges',\n",
       "       'Order ID Restaurant discount (Promo)',\n",
       "       'Order ID Restaurant discount (Flat offs, Freebies & others)',\n",
       "       'Order ID Gold discount', 'Order ID Brand pack discount',\n",
       "       'Order ID Total', 'Order ID KPT duration (minutes)',\n",
       "       'Order ID Rider wait time (minutes)', 'Order ID rest_lat',\n",
       "       'Order ID rest_lon', 'Order ID Distance_km',\n",
       "       'Order ID temperature', 'Order ID humidity',\n",
       "       'Order ID precipitation', 'Order ID wind_speed',\n",
       "       'Order ID num_items', 'Bill subtotal^2',\n",
       "       'Bill subtotal Packaging charges',\n",
       "       'Bill subtotal Restaurant discount (Promo)',\n",
       "       'Bill subtotal Restaurant discount (Flat offs, Freebies & others)',\n",
       "       'Bill subtotal Gold discount', 'Bill subtotal Brand pack discount',\n",
       "       'Bill subtotal Total', 'Bill subtotal KPT duration (minutes)',\n",
       "       'Bill subtotal Rider wait time (minutes)',\n",
       "       'Bill subtotal rest_lat', 'Bill subtotal rest_lon',\n",
       "       'Bill subtotal Distance_km', 'Bill subtotal temperature',\n",
       "       'Bill subtotal humidity', 'Bill subtotal precipitation',\n",
       "       'Bill subtotal wind_speed', 'Bill subtotal num_items',\n",
       "       'Packaging charges^2',\n",
       "       'Packaging charges Restaurant discount (Promo)',\n",
       "       'Packaging charges Restaurant discount (Flat offs, Freebies & others)',\n",
       "       'Packaging charges Gold discount',\n",
       "       'Packaging charges Brand pack discount', 'Packaging charges Total',\n",
       "       'Packaging charges KPT duration (minutes)',\n",
       "       'Packaging charges Rider wait time (minutes)',\n",
       "       'Packaging charges rest_lat', 'Packaging charges rest_lon',\n",
       "       'Packaging charges Distance_km', 'Packaging charges temperature',\n",
       "       'Packaging charges humidity', 'Packaging charges precipitation',\n",
       "       'Packaging charges wind_speed', 'Packaging charges num_items',\n",
       "       'Restaurant discount (Promo)^2',\n",
       "       'Restaurant discount (Promo) Restaurant discount (Flat offs, Freebies & others)',\n",
       "       'Restaurant discount (Promo) Gold discount',\n",
       "       'Restaurant discount (Promo) Brand pack discount',\n",
       "       'Restaurant discount (Promo) Total',\n",
       "       'Restaurant discount (Promo) KPT duration (minutes)',\n",
       "       'Restaurant discount (Promo) Rider wait time (minutes)',\n",
       "       'Restaurant discount (Promo) rest_lat',\n",
       "       'Restaurant discount (Promo) rest_lon',\n",
       "       'Restaurant discount (Promo) Distance_km',\n",
       "       'Restaurant discount (Promo) temperature',\n",
       "       'Restaurant discount (Promo) humidity',\n",
       "       'Restaurant discount (Promo) precipitation',\n",
       "       'Restaurant discount (Promo) wind_speed',\n",
       "       'Restaurant discount (Promo) num_items',\n",
       "       'Restaurant discount (Flat offs, Freebies & others)^2',\n",
       "       'Restaurant discount (Flat offs, Freebies & others) Gold discount',\n",
       "       'Restaurant discount (Flat offs, Freebies & others) Brand pack discount',\n",
       "       'Restaurant discount (Flat offs, Freebies & others) Total',\n",
       "       'Restaurant discount (Flat offs, Freebies & others) KPT duration (minutes)',\n",
       "       'Restaurant discount (Flat offs, Freebies & others) Rider wait time (minutes)',\n",
       "       'Restaurant discount (Flat offs, Freebies & others) rest_lat',\n",
       "       'Restaurant discount (Flat offs, Freebies & others) rest_lon',\n",
       "       'Restaurant discount (Flat offs, Freebies & others) Distance_km',\n",
       "       'Restaurant discount (Flat offs, Freebies & others) temperature',\n",
       "       'Restaurant discount (Flat offs, Freebies & others) humidity',\n",
       "       'Restaurant discount (Flat offs, Freebies & others) precipitation',\n",
       "       'Restaurant discount (Flat offs, Freebies & others) wind_speed',\n",
       "       'Restaurant discount (Flat offs, Freebies & others) num_items',\n",
       "       'Gold discount^2', 'Gold discount Brand pack discount',\n",
       "       'Gold discount Total', 'Gold discount KPT duration (minutes)',\n",
       "       'Gold discount Rider wait time (minutes)',\n",
       "       'Gold discount rest_lat', 'Gold discount rest_lon',\n",
       "       'Gold discount Distance_km', 'Gold discount temperature',\n",
       "       'Gold discount humidity', 'Gold discount precipitation',\n",
       "       'Gold discount wind_speed', 'Gold discount num_items',\n",
       "       'Brand pack discount^2', 'Brand pack discount Total',\n",
       "       'Brand pack discount KPT duration (minutes)',\n",
       "       'Brand pack discount Rider wait time (minutes)',\n",
       "       'Brand pack discount rest_lat', 'Brand pack discount rest_lon',\n",
       "       'Brand pack discount Distance_km',\n",
       "       'Brand pack discount temperature', 'Brand pack discount humidity',\n",
       "       'Brand pack discount precipitation',\n",
       "       'Brand pack discount wind_speed', 'Brand pack discount num_items',\n",
       "       'Total^2', 'Total KPT duration (minutes)',\n",
       "       'Total Rider wait time (minutes)', 'Total rest_lat',\n",
       "       'Total rest_lon', 'Total Distance_km', 'Total temperature',\n",
       "       'Total humidity', 'Total precipitation', 'Total wind_speed',\n",
       "       'Total num_items', 'KPT duration (minutes)^2',\n",
       "       'KPT duration (minutes) Rider wait time (minutes)',\n",
       "       'KPT duration (minutes) rest_lat',\n",
       "       'KPT duration (minutes) rest_lon',\n",
       "       'KPT duration (minutes) Distance_km',\n",
       "       'KPT duration (minutes) temperature',\n",
       "       'KPT duration (minutes) humidity',\n",
       "       'KPT duration (minutes) precipitation',\n",
       "       'KPT duration (minutes) wind_speed',\n",
       "       'KPT duration (minutes) num_items', 'Rider wait time (minutes)^2',\n",
       "       'Rider wait time (minutes) rest_lat',\n",
       "       'Rider wait time (minutes) rest_lon',\n",
       "       'Rider wait time (minutes) Distance_km',\n",
       "       'Rider wait time (minutes) temperature',\n",
       "       'Rider wait time (minutes) humidity',\n",
       "       'Rider wait time (minutes) precipitation',\n",
       "       'Rider wait time (minutes) wind_speed',\n",
       "       'Rider wait time (minutes) num_items', 'rest_lat^2',\n",
       "       'rest_lat rest_lon', 'rest_lat Distance_km',\n",
       "       'rest_lat temperature', 'rest_lat humidity',\n",
       "       'rest_lat precipitation', 'rest_lat wind_speed',\n",
       "       'rest_lat num_items', 'rest_lon^2', 'rest_lon Distance_km',\n",
       "       'rest_lon temperature', 'rest_lon humidity',\n",
       "       'rest_lon precipitation', 'rest_lon wind_speed',\n",
       "       'rest_lon num_items', 'Distance_km^2', 'Distance_km temperature',\n",
       "       'Distance_km humidity', 'Distance_km precipitation',\n",
       "       'Distance_km wind_speed', 'Distance_km num_items', 'temperature^2',\n",
       "       'temperature humidity', 'temperature precipitation',\n",
       "       'temperature wind_speed', 'temperature num_items', 'humidity^2',\n",
       "       'humidity precipitation', 'humidity wind_speed',\n",
       "       'humidity num_items', 'precipitation^2',\n",
       "       'precipitation wind_speed', 'precipitation num_items',\n",
       "       'wind_speed^2', 'wind_speed num_items', 'num_items^2'],\n",
       "      dtype=object)"
      ]
     },
     "execution_count": 56,
     "metadata": {},
     "output_type": "execute_result"
    }
   ],
   "source": [
    "# Get the names of original + polynomial features\n",
    "poly_feature_names = poly.get_feature_names_out(features.columns)\n",
    "poly_feature_names"
   ]
  },
  {
   "cell_type": "code",
   "execution_count": null,
   "id": "a276c0a7",
   "metadata": {},
   "outputs": [
    {
     "data": {
      "text/html": [
       "<div>\n",
       "<style scoped>\n",
       "    .dataframe tbody tr th:only-of-type {\n",
       "        vertical-align: middle;\n",
       "    }\n",
       "\n",
       "    .dataframe tbody tr th {\n",
       "        vertical-align: top;\n",
       "    }\n",
       "\n",
       "    .dataframe thead th {\n",
       "        text-align: right;\n",
       "    }\n",
       "</style>\n",
       "<table border=\"1\" class=\"dataframe\">\n",
       "  <thead>\n",
       "    <tr style=\"text-align: right;\">\n",
       "      <th></th>\n",
       "      <th>Order ID</th>\n",
       "      <th>Bill subtotal</th>\n",
       "      <th>Packaging charges</th>\n",
       "      <th>Restaurant discount (Promo)</th>\n",
       "      <th>Restaurant discount (Flat offs, Freebies &amp; others)</th>\n",
       "      <th>Gold discount</th>\n",
       "      <th>Brand pack discount</th>\n",
       "      <th>Total</th>\n",
       "      <th>KPT duration (minutes)</th>\n",
       "      <th>Rider wait time (minutes)</th>\n",
       "      <th>rest_lat</th>\n",
       "      <th>rest_lon</th>\n",
       "      <th>Distance_km</th>\n",
       "      <th>temperature</th>\n",
       "      <th>humidity</th>\n",
       "      <th>precipitation</th>\n",
       "      <th>wind_speed</th>\n",
       "      <th>num_items</th>\n",
       "      <th>Order ID^2</th>\n",
       "      <th>Order ID Bill subtotal</th>\n",
       "      <th>Order ID Packaging charges</th>\n",
       "      <th>Order ID Restaurant discount (Promo)</th>\n",
       "      <th>Order ID Restaurant discount (Flat offs, Freebies &amp; others)</th>\n",
       "      <th>Order ID Gold discount</th>\n",
       "      <th>Order ID Brand pack discount</th>\n",
       "      <th>Order ID Total</th>\n",
       "      <th>Order ID KPT duration (minutes)</th>\n",
       "      <th>Order ID Rider wait time (minutes)</th>\n",
       "      <th>Order ID rest_lat</th>\n",
       "      <th>Order ID rest_lon</th>\n",
       "      <th>Order ID Distance_km</th>\n",
       "      <th>Order ID temperature</th>\n",
       "      <th>Order ID humidity</th>\n",
       "      <th>Order ID precipitation</th>\n",
       "      <th>Order ID wind_speed</th>\n",
       "      <th>Order ID num_items</th>\n",
       "      <th>Bill subtotal^2</th>\n",
       "      <th>Bill subtotal Packaging charges</th>\n",
       "      <th>Bill subtotal Restaurant discount (Promo)</th>\n",
       "      <th>Bill subtotal Restaurant discount (Flat offs, Freebies &amp; others)</th>\n",
       "      <th>Bill subtotal Gold discount</th>\n",
       "      <th>Bill subtotal Brand pack discount</th>\n",
       "      <th>Bill subtotal Total</th>\n",
       "      <th>Bill subtotal KPT duration (minutes)</th>\n",
       "      <th>Bill subtotal Rider wait time (minutes)</th>\n",
       "      <th>Bill subtotal rest_lat</th>\n",
       "      <th>Bill subtotal rest_lon</th>\n",
       "      <th>Bill subtotal Distance_km</th>\n",
       "      <th>Bill subtotal temperature</th>\n",
       "      <th>Bill subtotal humidity</th>\n",
       "      <th>Bill subtotal precipitation</th>\n",
       "      <th>Bill subtotal wind_speed</th>\n",
       "      <th>Bill subtotal num_items</th>\n",
       "      <th>Packaging charges^2</th>\n",
       "      <th>Packaging charges Restaurant discount (Promo)</th>\n",
       "      <th>Packaging charges Restaurant discount (Flat offs, Freebies &amp; others)</th>\n",
       "      <th>Packaging charges Gold discount</th>\n",
       "      <th>Packaging charges Brand pack discount</th>\n",
       "      <th>Packaging charges Total</th>\n",
       "      <th>Packaging charges KPT duration (minutes)</th>\n",
       "      <th>Packaging charges Rider wait time (minutes)</th>\n",
       "      <th>Packaging charges rest_lat</th>\n",
       "      <th>Packaging charges rest_lon</th>\n",
       "      <th>Packaging charges Distance_km</th>\n",
       "      <th>Packaging charges temperature</th>\n",
       "      <th>Packaging charges humidity</th>\n",
       "      <th>Packaging charges precipitation</th>\n",
       "      <th>Packaging charges wind_speed</th>\n",
       "      <th>Packaging charges num_items</th>\n",
       "      <th>Restaurant discount (Promo)^2</th>\n",
       "      <th>Restaurant discount (Promo) Restaurant discount (Flat offs, Freebies &amp; others)</th>\n",
       "      <th>Restaurant discount (Promo) Gold discount</th>\n",
       "      <th>Restaurant discount (Promo) Brand pack discount</th>\n",
       "      <th>Restaurant discount (Promo) Total</th>\n",
       "      <th>Restaurant discount (Promo) KPT duration (minutes)</th>\n",
       "      <th>Restaurant discount (Promo) Rider wait time (minutes)</th>\n",
       "      <th>Restaurant discount (Promo) rest_lat</th>\n",
       "      <th>Restaurant discount (Promo) rest_lon</th>\n",
       "      <th>Restaurant discount (Promo) Distance_km</th>\n",
       "      <th>Restaurant discount (Promo) temperature</th>\n",
       "      <th>Restaurant discount (Promo) humidity</th>\n",
       "      <th>Restaurant discount (Promo) precipitation</th>\n",
       "      <th>Restaurant discount (Promo) wind_speed</th>\n",
       "      <th>Restaurant discount (Promo) num_items</th>\n",
       "      <th>Restaurant discount (Flat offs, Freebies &amp; others)^2</th>\n",
       "      <th>Restaurant discount (Flat offs, Freebies &amp; others) Gold discount</th>\n",
       "      <th>Restaurant discount (Flat offs, Freebies &amp; others) Brand pack discount</th>\n",
       "      <th>Restaurant discount (Flat offs, Freebies &amp; others) Total</th>\n",
       "      <th>Restaurant discount (Flat offs, Freebies &amp; others) KPT duration (minutes)</th>\n",
       "      <th>Restaurant discount (Flat offs, Freebies &amp; others) Rider wait time (minutes)</th>\n",
       "      <th>Restaurant discount (Flat offs, Freebies &amp; others) rest_lat</th>\n",
       "      <th>Restaurant discount (Flat offs, Freebies &amp; others) rest_lon</th>\n",
       "      <th>Restaurant discount (Flat offs, Freebies &amp; others) Distance_km</th>\n",
       "      <th>Restaurant discount (Flat offs, Freebies &amp; others) temperature</th>\n",
       "      <th>Restaurant discount (Flat offs, Freebies &amp; others) humidity</th>\n",
       "      <th>Restaurant discount (Flat offs, Freebies &amp; others) precipitation</th>\n",
       "      <th>Restaurant discount (Flat offs, Freebies &amp; others) wind_speed</th>\n",
       "      <th>Restaurant discount (Flat offs, Freebies &amp; others) num_items</th>\n",
       "      <th>Gold discount^2</th>\n",
       "      <th>Gold discount Brand pack discount</th>\n",
       "      <th>Gold discount Total</th>\n",
       "      <th>Gold discount KPT duration (minutes)</th>\n",
       "      <th>Gold discount Rider wait time (minutes)</th>\n",
       "      <th>Gold discount rest_lat</th>\n",
       "      <th>Gold discount rest_lon</th>\n",
       "      <th>Gold discount Distance_km</th>\n",
       "      <th>Gold discount temperature</th>\n",
       "      <th>Gold discount humidity</th>\n",
       "      <th>Gold discount precipitation</th>\n",
       "      <th>Gold discount wind_speed</th>\n",
       "      <th>Gold discount num_items</th>\n",
       "      <th>Brand pack discount^2</th>\n",
       "      <th>Brand pack discount Total</th>\n",
       "      <th>Brand pack discount KPT duration (minutes)</th>\n",
       "      <th>Brand pack discount Rider wait time (minutes)</th>\n",
       "      <th>Brand pack discount rest_lat</th>\n",
       "      <th>Brand pack discount rest_lon</th>\n",
       "      <th>Brand pack discount Distance_km</th>\n",
       "      <th>Brand pack discount temperature</th>\n",
       "      <th>Brand pack discount humidity</th>\n",
       "      <th>Brand pack discount precipitation</th>\n",
       "      <th>Brand pack discount wind_speed</th>\n",
       "      <th>Brand pack discount num_items</th>\n",
       "      <th>Total^2</th>\n",
       "      <th>Total KPT duration (minutes)</th>\n",
       "      <th>Total Rider wait time (minutes)</th>\n",
       "      <th>Total rest_lat</th>\n",
       "      <th>Total rest_lon</th>\n",
       "      <th>Total Distance_km</th>\n",
       "      <th>Total temperature</th>\n",
       "      <th>Total humidity</th>\n",
       "      <th>Total precipitation</th>\n",
       "      <th>Total wind_speed</th>\n",
       "      <th>Total num_items</th>\n",
       "      <th>KPT duration (minutes)^2</th>\n",
       "      <th>KPT duration (minutes) Rider wait time (minutes)</th>\n",
       "      <th>KPT duration (minutes) rest_lat</th>\n",
       "      <th>KPT duration (minutes) rest_lon</th>\n",
       "      <th>KPT duration (minutes) Distance_km</th>\n",
       "      <th>KPT duration (minutes) temperature</th>\n",
       "      <th>KPT duration (minutes) humidity</th>\n",
       "      <th>KPT duration (minutes) precipitation</th>\n",
       "      <th>KPT duration (minutes) wind_speed</th>\n",
       "      <th>KPT duration (minutes) num_items</th>\n",
       "      <th>Rider wait time (minutes)^2</th>\n",
       "      <th>Rider wait time (minutes) rest_lat</th>\n",
       "      <th>Rider wait time (minutes) rest_lon</th>\n",
       "      <th>Rider wait time (minutes) Distance_km</th>\n",
       "      <th>Rider wait time (minutes) temperature</th>\n",
       "      <th>Rider wait time (minutes) humidity</th>\n",
       "      <th>Rider wait time (minutes) precipitation</th>\n",
       "      <th>Rider wait time (minutes) wind_speed</th>\n",
       "      <th>Rider wait time (minutes) num_items</th>\n",
       "      <th>rest_lat^2</th>\n",
       "      <th>rest_lat rest_lon</th>\n",
       "      <th>rest_lat Distance_km</th>\n",
       "      <th>rest_lat temperature</th>\n",
       "      <th>rest_lat humidity</th>\n",
       "      <th>rest_lat precipitation</th>\n",
       "      <th>rest_lat wind_speed</th>\n",
       "      <th>rest_lat num_items</th>\n",
       "      <th>rest_lon^2</th>\n",
       "      <th>rest_lon Distance_km</th>\n",
       "      <th>rest_lon temperature</th>\n",
       "      <th>rest_lon humidity</th>\n",
       "      <th>rest_lon precipitation</th>\n",
       "      <th>rest_lon wind_speed</th>\n",
       "      <th>rest_lon num_items</th>\n",
       "      <th>Distance_km^2</th>\n",
       "      <th>Distance_km temperature</th>\n",
       "      <th>Distance_km humidity</th>\n",
       "      <th>Distance_km precipitation</th>\n",
       "      <th>Distance_km wind_speed</th>\n",
       "      <th>Distance_km num_items</th>\n",
       "      <th>temperature^2</th>\n",
       "      <th>temperature humidity</th>\n",
       "      <th>temperature precipitation</th>\n",
       "      <th>temperature wind_speed</th>\n",
       "      <th>temperature num_items</th>\n",
       "      <th>humidity^2</th>\n",
       "      <th>humidity precipitation</th>\n",
       "      <th>humidity wind_speed</th>\n",
       "      <th>humidity num_items</th>\n",
       "      <th>precipitation^2</th>\n",
       "      <th>precipitation wind_speed</th>\n",
       "      <th>precipitation num_items</th>\n",
       "      <th>wind_speed^2</th>\n",
       "      <th>wind_speed num_items</th>\n",
       "      <th>num_items^2</th>\n",
       "    </tr>\n",
       "  </thead>\n",
       "  <tbody>\n",
       "    <tr>\n",
       "      <th>0</th>\n",
       "      <td>6.139801e+09</td>\n",
       "      <td>788.000000</td>\n",
       "      <td>33.800000</td>\n",
       "      <td>112.000000</td>\n",
       "      <td>0.0</td>\n",
       "      <td>0.0</td>\n",
       "      <td>0.0</td>\n",
       "      <td>709.800</td>\n",
       "      <td>19.580000</td>\n",
       "      <td>1.100000</td>\n",
       "      <td>28.586600</td>\n",
       "      <td>77.223000</td>\n",
       "      <td>3.000000</td>\n",
       "      <td>28.00</td>\n",
       "      <td>94.0</td>\n",
       "      <td>0.0</td>\n",
       "      <td>0.0</td>\n",
       "      <td>2.000000</td>\n",
       "      <td>3.769716e+19</td>\n",
       "      <td>4.838163e+12</td>\n",
       "      <td>2.075253e+11</td>\n",
       "      <td>6.876577e+11</td>\n",
       "      <td>0.0</td>\n",
       "      <td>0.0</td>\n",
       "      <td>0.0</td>\n",
       "      <td>4.358031e+12</td>\n",
       "      <td>1.202173e+11</td>\n",
       "      <td>6.753781e+09</td>\n",
       "      <td>1.755160e+11</td>\n",
       "      <td>4.741339e+11</td>\n",
       "      <td>1.841940e+10</td>\n",
       "      <td>1.719144e+11</td>\n",
       "      <td>5.771413e+11</td>\n",
       "      <td>0.0</td>\n",
       "      <td>0.000000e+00</td>\n",
       "      <td>1.227960e+10</td>\n",
       "      <td>620944.00000</td>\n",
       "      <td>26634.400000</td>\n",
       "      <td>88256.000000</td>\n",
       "      <td>0.0</td>\n",
       "      <td>0.0</td>\n",
       "      <td>0.0</td>\n",
       "      <td>559322.400000</td>\n",
       "      <td>15429.040000</td>\n",
       "      <td>866.800000</td>\n",
       "      <td>22526.240800</td>\n",
       "      <td>60851.724000</td>\n",
       "      <td>2364.000000</td>\n",
       "      <td>22064.000000</td>\n",
       "      <td>74072.000000</td>\n",
       "      <td>0.0</td>\n",
       "      <td>0.000000</td>\n",
       "      <td>1576.000000</td>\n",
       "      <td>1142.440000</td>\n",
       "      <td>3785.600000</td>\n",
       "      <td>0.0</td>\n",
       "      <td>0.0</td>\n",
       "      <td>0.0</td>\n",
       "      <td>23991.240000</td>\n",
       "      <td>661.804000</td>\n",
       "      <td>37.180000</td>\n",
       "      <td>966.227080</td>\n",
       "      <td>2610.137400</td>\n",
       "      <td>101.400000</td>\n",
       "      <td>946.400000</td>\n",
       "      <td>3177.200000</td>\n",
       "      <td>0.0</td>\n",
       "      <td>0.000000</td>\n",
       "      <td>67.600000</td>\n",
       "      <td>12544.000000</td>\n",
       "      <td>0.0</td>\n",
       "      <td>0.0</td>\n",
       "      <td>0.0</td>\n",
       "      <td>79497.600000</td>\n",
       "      <td>2192.960000</td>\n",
       "      <td>123.200000</td>\n",
       "      <td>3201.699200</td>\n",
       "      <td>8648.976000</td>\n",
       "      <td>336.000000</td>\n",
       "      <td>3136.000000</td>\n",
       "      <td>10528.000000</td>\n",
       "      <td>0.0</td>\n",
       "      <td>0.000000</td>\n",
       "      <td>224.000000</td>\n",
       "      <td>0.0</td>\n",
       "      <td>0.0</td>\n",
       "      <td>0.0</td>\n",
       "      <td>0.0</td>\n",
       "      <td>0.0</td>\n",
       "      <td>0.0</td>\n",
       "      <td>0.0</td>\n",
       "      <td>0.0</td>\n",
       "      <td>0.0</td>\n",
       "      <td>0.0</td>\n",
       "      <td>0.0</td>\n",
       "      <td>0.0</td>\n",
       "      <td>0.0</td>\n",
       "      <td>0.0</td>\n",
       "      <td>0.0</td>\n",
       "      <td>0.0</td>\n",
       "      <td>0.0</td>\n",
       "      <td>0.0</td>\n",
       "      <td>0.0</td>\n",
       "      <td>0.0</td>\n",
       "      <td>0.0</td>\n",
       "      <td>0.0</td>\n",
       "      <td>0.0</td>\n",
       "      <td>0.0</td>\n",
       "      <td>0.0</td>\n",
       "      <td>0.0</td>\n",
       "      <td>0.0</td>\n",
       "      <td>0.0</td>\n",
       "      <td>0.0</td>\n",
       "      <td>0.0</td>\n",
       "      <td>0.0</td>\n",
       "      <td>0.0</td>\n",
       "      <td>0.0</td>\n",
       "      <td>0.0</td>\n",
       "      <td>0.0</td>\n",
       "      <td>0.0</td>\n",
       "      <td>0.0</td>\n",
       "      <td>0.0</td>\n",
       "      <td>0.0</td>\n",
       "      <td>503816.040000</td>\n",
       "      <td>13897.884000</td>\n",
       "      <td>780.780000</td>\n",
       "      <td>20290.768680</td>\n",
       "      <td>54812.885400</td>\n",
       "      <td>2129.400000</td>\n",
       "      <td>19874.400</td>\n",
       "      <td>66721.200</td>\n",
       "      <td>0.0</td>\n",
       "      <td>0.0000</td>\n",
       "      <td>1419.600000</td>\n",
       "      <td>383.376400</td>\n",
       "      <td>21.538000</td>\n",
       "      <td>559.725628</td>\n",
       "      <td>1512.026340</td>\n",
       "      <td>58.740000</td>\n",
       "      <td>548.240000</td>\n",
       "      <td>1840.520000</td>\n",
       "      <td>0.0</td>\n",
       "      <td>0.000000</td>\n",
       "      <td>39.160000</td>\n",
       "      <td>1.210000</td>\n",
       "      <td>31.445260</td>\n",
       "      <td>84.945300</td>\n",
       "      <td>3.300000</td>\n",
       "      <td>30.800000</td>\n",
       "      <td>103.400000</td>\n",
       "      <td>0.0</td>\n",
       "      <td>0.000000</td>\n",
       "      <td>2.200000</td>\n",
       "      <td>817.193700</td>\n",
       "      <td>2207.543012</td>\n",
       "      <td>85.759800</td>\n",
       "      <td>800.424800</td>\n",
       "      <td>2687.140400</td>\n",
       "      <td>0.0</td>\n",
       "      <td>0.000000</td>\n",
       "      <td>57.173200</td>\n",
       "      <td>5963.391729</td>\n",
       "      <td>231.669000</td>\n",
       "      <td>2162.244000</td>\n",
       "      <td>7258.962000</td>\n",
       "      <td>0.0</td>\n",
       "      <td>0.000000</td>\n",
       "      <td>154.446000</td>\n",
       "      <td>9.000000</td>\n",
       "      <td>84.000000</td>\n",
       "      <td>282.000000</td>\n",
       "      <td>0.0</td>\n",
       "      <td>0.000000</td>\n",
       "      <td>6.000000</td>\n",
       "      <td>784.0000</td>\n",
       "      <td>2632.000</td>\n",
       "      <td>0.0</td>\n",
       "      <td>0.000</td>\n",
       "      <td>56.000000</td>\n",
       "      <td>8836.00</td>\n",
       "      <td>0.0</td>\n",
       "      <td>0.00</td>\n",
       "      <td>188.000000</td>\n",
       "      <td>0.0</td>\n",
       "      <td>0.0</td>\n",
       "      <td>0.0</td>\n",
       "      <td>0.00</td>\n",
       "      <td>0.000000</td>\n",
       "      <td>4.000000</td>\n",
       "    </tr>\n",
       "    <tr>\n",
       "      <th>1</th>\n",
       "      <td>6.137859e+09</td>\n",
       "      <td>731.500000</td>\n",
       "      <td>31.775000</td>\n",
       "      <td>96.000000</td>\n",
       "      <td>0.0</td>\n",
       "      <td>0.0</td>\n",
       "      <td>0.0</td>\n",
       "      <td>667.275</td>\n",
       "      <td>13.345000</td>\n",
       "      <td>1.150000</td>\n",
       "      <td>28.586600</td>\n",
       "      <td>77.223000</td>\n",
       "      <td>5.000000</td>\n",
       "      <td>28.60</td>\n",
       "      <td>87.0</td>\n",
       "      <td>0.0</td>\n",
       "      <td>5.5</td>\n",
       "      <td>2.000000</td>\n",
       "      <td>3.767332e+19</td>\n",
       "      <td>4.489844e+12</td>\n",
       "      <td>1.950305e+11</td>\n",
       "      <td>5.892345e+11</td>\n",
       "      <td>0.0</td>\n",
       "      <td>0.0</td>\n",
       "      <td>0.0</td>\n",
       "      <td>4.095640e+12</td>\n",
       "      <td>8.190973e+10</td>\n",
       "      <td>7.058538e+09</td>\n",
       "      <td>1.754605e+11</td>\n",
       "      <td>4.739839e+11</td>\n",
       "      <td>3.068930e+10</td>\n",
       "      <td>1.755428e+11</td>\n",
       "      <td>5.339937e+11</td>\n",
       "      <td>0.0</td>\n",
       "      <td>3.375823e+10</td>\n",
       "      <td>1.227572e+10</td>\n",
       "      <td>535092.25000</td>\n",
       "      <td>23243.412500</td>\n",
       "      <td>70224.000000</td>\n",
       "      <td>0.0</td>\n",
       "      <td>0.0</td>\n",
       "      <td>0.0</td>\n",
       "      <td>488111.662500</td>\n",
       "      <td>9761.867500</td>\n",
       "      <td>841.225000</td>\n",
       "      <td>20911.097900</td>\n",
       "      <td>56488.624500</td>\n",
       "      <td>3657.500000</td>\n",
       "      <td>20920.900000</td>\n",
       "      <td>63640.500000</td>\n",
       "      <td>0.0</td>\n",
       "      <td>4023.250000</td>\n",
       "      <td>1463.000000</td>\n",
       "      <td>1009.650625</td>\n",
       "      <td>3050.400000</td>\n",
       "      <td>0.0</td>\n",
       "      <td>0.0</td>\n",
       "      <td>0.0</td>\n",
       "      <td>21202.663125</td>\n",
       "      <td>424.037375</td>\n",
       "      <td>36.541250</td>\n",
       "      <td>908.339215</td>\n",
       "      <td>2453.760825</td>\n",
       "      <td>158.875000</td>\n",
       "      <td>908.765000</td>\n",
       "      <td>2764.425000</td>\n",
       "      <td>0.0</td>\n",
       "      <td>174.762500</td>\n",
       "      <td>63.550000</td>\n",
       "      <td>9216.000000</td>\n",
       "      <td>0.0</td>\n",
       "      <td>0.0</td>\n",
       "      <td>0.0</td>\n",
       "      <td>64058.400000</td>\n",
       "      <td>1281.120000</td>\n",
       "      <td>110.400000</td>\n",
       "      <td>2744.313600</td>\n",
       "      <td>7413.408000</td>\n",
       "      <td>480.000000</td>\n",
       "      <td>2745.600000</td>\n",
       "      <td>8352.000000</td>\n",
       "      <td>0.0</td>\n",
       "      <td>528.000000</td>\n",
       "      <td>192.000000</td>\n",
       "      <td>0.0</td>\n",
       "      <td>0.0</td>\n",
       "      <td>0.0</td>\n",
       "      <td>0.0</td>\n",
       "      <td>0.0</td>\n",
       "      <td>0.0</td>\n",
       "      <td>0.0</td>\n",
       "      <td>0.0</td>\n",
       "      <td>0.0</td>\n",
       "      <td>0.0</td>\n",
       "      <td>0.0</td>\n",
       "      <td>0.0</td>\n",
       "      <td>0.0</td>\n",
       "      <td>0.0</td>\n",
       "      <td>0.0</td>\n",
       "      <td>0.0</td>\n",
       "      <td>0.0</td>\n",
       "      <td>0.0</td>\n",
       "      <td>0.0</td>\n",
       "      <td>0.0</td>\n",
       "      <td>0.0</td>\n",
       "      <td>0.0</td>\n",
       "      <td>0.0</td>\n",
       "      <td>0.0</td>\n",
       "      <td>0.0</td>\n",
       "      <td>0.0</td>\n",
       "      <td>0.0</td>\n",
       "      <td>0.0</td>\n",
       "      <td>0.0</td>\n",
       "      <td>0.0</td>\n",
       "      <td>0.0</td>\n",
       "      <td>0.0</td>\n",
       "      <td>0.0</td>\n",
       "      <td>0.0</td>\n",
       "      <td>0.0</td>\n",
       "      <td>0.0</td>\n",
       "      <td>0.0</td>\n",
       "      <td>0.0</td>\n",
       "      <td>0.0</td>\n",
       "      <td>445255.925625</td>\n",
       "      <td>8904.784875</td>\n",
       "      <td>767.366250</td>\n",
       "      <td>19075.123515</td>\n",
       "      <td>51528.977325</td>\n",
       "      <td>3336.375000</td>\n",
       "      <td>19084.065</td>\n",
       "      <td>58052.925</td>\n",
       "      <td>0.0</td>\n",
       "      <td>3670.0125</td>\n",
       "      <td>1334.550000</td>\n",
       "      <td>178.089025</td>\n",
       "      <td>15.346750</td>\n",
       "      <td>381.488177</td>\n",
       "      <td>1030.540935</td>\n",
       "      <td>66.725000</td>\n",
       "      <td>381.667000</td>\n",
       "      <td>1161.015000</td>\n",
       "      <td>0.0</td>\n",
       "      <td>73.397500</td>\n",
       "      <td>26.690000</td>\n",
       "      <td>1.322500</td>\n",
       "      <td>32.874590</td>\n",
       "      <td>88.806450</td>\n",
       "      <td>5.750000</td>\n",
       "      <td>32.890000</td>\n",
       "      <td>100.050000</td>\n",
       "      <td>0.0</td>\n",
       "      <td>6.325000</td>\n",
       "      <td>2.300000</td>\n",
       "      <td>817.193700</td>\n",
       "      <td>2207.543012</td>\n",
       "      <td>142.933000</td>\n",
       "      <td>817.576760</td>\n",
       "      <td>2487.034200</td>\n",
       "      <td>0.0</td>\n",
       "      <td>157.226300</td>\n",
       "      <td>57.173200</td>\n",
       "      <td>5963.391729</td>\n",
       "      <td>386.115000</td>\n",
       "      <td>2208.577800</td>\n",
       "      <td>6718.401000</td>\n",
       "      <td>0.0</td>\n",
       "      <td>424.726500</td>\n",
       "      <td>154.446000</td>\n",
       "      <td>25.000000</td>\n",
       "      <td>143.000000</td>\n",
       "      <td>435.000000</td>\n",
       "      <td>0.0</td>\n",
       "      <td>27.500000</td>\n",
       "      <td>10.000000</td>\n",
       "      <td>817.9600</td>\n",
       "      <td>2488.200</td>\n",
       "      <td>0.0</td>\n",
       "      <td>157.300</td>\n",
       "      <td>57.200000</td>\n",
       "      <td>7569.00</td>\n",
       "      <td>0.0</td>\n",
       "      <td>478.50</td>\n",
       "      <td>174.000000</td>\n",
       "      <td>0.0</td>\n",
       "      <td>0.0</td>\n",
       "      <td>0.0</td>\n",
       "      <td>30.25</td>\n",
       "      <td>11.000000</td>\n",
       "      <td>4.000000</td>\n",
       "    </tr>\n",
       "    <tr>\n",
       "      <th>2</th>\n",
       "      <td>6.137461e+09</td>\n",
       "      <td>890.857143</td>\n",
       "      <td>36.511429</td>\n",
       "      <td>160.628571</td>\n",
       "      <td>0.0</td>\n",
       "      <td>0.0</td>\n",
       "      <td>0.0</td>\n",
       "      <td>766.740</td>\n",
       "      <td>13.928571</td>\n",
       "      <td>2.214286</td>\n",
       "      <td>28.580943</td>\n",
       "      <td>77.238043</td>\n",
       "      <td>5.285714</td>\n",
       "      <td>28.60</td>\n",
       "      <td>87.0</td>\n",
       "      <td>0.0</td>\n",
       "      <td>5.5</td>\n",
       "      <td>1.714286</td>\n",
       "      <td>3.766843e+19</td>\n",
       "      <td>5.467601e+12</td>\n",
       "      <td>2.240875e+11</td>\n",
       "      <td>9.858516e+11</td>\n",
       "      <td>0.0</td>\n",
       "      <td>0.0</td>\n",
       "      <td>0.0</td>\n",
       "      <td>4.705837e+12</td>\n",
       "      <td>8.548607e+10</td>\n",
       "      <td>1.359009e+10</td>\n",
       "      <td>1.754144e+11</td>\n",
       "      <td>4.740455e+11</td>\n",
       "      <td>3.244087e+10</td>\n",
       "      <td>1.755314e+11</td>\n",
       "      <td>5.339591e+11</td>\n",
       "      <td>0.0</td>\n",
       "      <td>3.375604e+10</td>\n",
       "      <td>1.052136e+10</td>\n",
       "      <td>793626.44898</td>\n",
       "      <td>32526.466939</td>\n",
       "      <td>143097.110204</td>\n",
       "      <td>0.0</td>\n",
       "      <td>0.0</td>\n",
       "      <td>0.0</td>\n",
       "      <td>683055.805714</td>\n",
       "      <td>12408.367347</td>\n",
       "      <td>1972.612245</td>\n",
       "      <td>25461.537094</td>\n",
       "      <td>68808.062180</td>\n",
       "      <td>4708.816327</td>\n",
       "      <td>25478.514286</td>\n",
       "      <td>77504.571429</td>\n",
       "      <td>0.0</td>\n",
       "      <td>4899.714286</td>\n",
       "      <td>1527.183673</td>\n",
       "      <td>1333.084416</td>\n",
       "      <td>5864.778612</td>\n",
       "      <td>0.0</td>\n",
       "      <td>0.0</td>\n",
       "      <td>0.0</td>\n",
       "      <td>27994.772743</td>\n",
       "      <td>508.552041</td>\n",
       "      <td>80.846735</td>\n",
       "      <td>1043.531054</td>\n",
       "      <td>2820.071285</td>\n",
       "      <td>192.988980</td>\n",
       "      <td>1044.226857</td>\n",
       "      <td>3176.494286</td>\n",
       "      <td>0.0</td>\n",
       "      <td>200.812857</td>\n",
       "      <td>62.591020</td>\n",
       "      <td>25801.537959</td>\n",
       "      <td>0.0</td>\n",
       "      <td>0.0</td>\n",
       "      <td>0.0</td>\n",
       "      <td>123160.350857</td>\n",
       "      <td>2237.326531</td>\n",
       "      <td>355.677551</td>\n",
       "      <td>4590.916021</td>\n",
       "      <td>12406.636484</td>\n",
       "      <td>849.036735</td>\n",
       "      <td>4593.977143</td>\n",
       "      <td>13974.685714</td>\n",
       "      <td>0.0</td>\n",
       "      <td>883.457143</td>\n",
       "      <td>275.363265</td>\n",
       "      <td>0.0</td>\n",
       "      <td>0.0</td>\n",
       "      <td>0.0</td>\n",
       "      <td>0.0</td>\n",
       "      <td>0.0</td>\n",
       "      <td>0.0</td>\n",
       "      <td>0.0</td>\n",
       "      <td>0.0</td>\n",
       "      <td>0.0</td>\n",
       "      <td>0.0</td>\n",
       "      <td>0.0</td>\n",
       "      <td>0.0</td>\n",
       "      <td>0.0</td>\n",
       "      <td>0.0</td>\n",
       "      <td>0.0</td>\n",
       "      <td>0.0</td>\n",
       "      <td>0.0</td>\n",
       "      <td>0.0</td>\n",
       "      <td>0.0</td>\n",
       "      <td>0.0</td>\n",
       "      <td>0.0</td>\n",
       "      <td>0.0</td>\n",
       "      <td>0.0</td>\n",
       "      <td>0.0</td>\n",
       "      <td>0.0</td>\n",
       "      <td>0.0</td>\n",
       "      <td>0.0</td>\n",
       "      <td>0.0</td>\n",
       "      <td>0.0</td>\n",
       "      <td>0.0</td>\n",
       "      <td>0.0</td>\n",
       "      <td>0.0</td>\n",
       "      <td>0.0</td>\n",
       "      <td>0.0</td>\n",
       "      <td>0.0</td>\n",
       "      <td>0.0</td>\n",
       "      <td>0.0</td>\n",
       "      <td>0.0</td>\n",
       "      <td>0.0</td>\n",
       "      <td>587890.227600</td>\n",
       "      <td>10679.592857</td>\n",
       "      <td>1697.781429</td>\n",
       "      <td>21914.152126</td>\n",
       "      <td>59221.496980</td>\n",
       "      <td>4052.768571</td>\n",
       "      <td>21928.764</td>\n",
       "      <td>66706.380</td>\n",
       "      <td>0.0</td>\n",
       "      <td>4217.0700</td>\n",
       "      <td>1314.411429</td>\n",
       "      <td>194.005102</td>\n",
       "      <td>30.841837</td>\n",
       "      <td>398.091704</td>\n",
       "      <td>1075.815597</td>\n",
       "      <td>73.622449</td>\n",
       "      <td>398.357143</td>\n",
       "      <td>1211.785714</td>\n",
       "      <td>0.0</td>\n",
       "      <td>76.607143</td>\n",
       "      <td>23.877551</td>\n",
       "      <td>4.903061</td>\n",
       "      <td>63.286373</td>\n",
       "      <td>171.027095</td>\n",
       "      <td>11.704082</td>\n",
       "      <td>63.328571</td>\n",
       "      <td>192.642857</td>\n",
       "      <td>0.0</td>\n",
       "      <td>12.178571</td>\n",
       "      <td>3.795918</td>\n",
       "      <td>816.870295</td>\n",
       "      <td>2207.536089</td>\n",
       "      <td>151.070698</td>\n",
       "      <td>817.414966</td>\n",
       "      <td>2486.542029</td>\n",
       "      <td>0.0</td>\n",
       "      <td>157.195186</td>\n",
       "      <td>48.995902</td>\n",
       "      <td>5965.715264</td>\n",
       "      <td>408.258227</td>\n",
       "      <td>2209.008026</td>\n",
       "      <td>6719.709729</td>\n",
       "      <td>0.0</td>\n",
       "      <td>424.809236</td>\n",
       "      <td>132.408073</td>\n",
       "      <td>27.938776</td>\n",
       "      <td>151.171429</td>\n",
       "      <td>459.857143</td>\n",
       "      <td>0.0</td>\n",
       "      <td>29.071429</td>\n",
       "      <td>9.061224</td>\n",
       "      <td>817.9600</td>\n",
       "      <td>2488.200</td>\n",
       "      <td>0.0</td>\n",
       "      <td>157.300</td>\n",
       "      <td>49.028571</td>\n",
       "      <td>7569.00</td>\n",
       "      <td>0.0</td>\n",
       "      <td>478.50</td>\n",
       "      <td>149.142857</td>\n",
       "      <td>0.0</td>\n",
       "      <td>0.0</td>\n",
       "      <td>0.0</td>\n",
       "      <td>30.25</td>\n",
       "      <td>9.428571</td>\n",
       "      <td>2.938776</td>\n",
       "    </tr>\n",
       "    <tr>\n",
       "      <th>3</th>\n",
       "      <td>6.136410e+09</td>\n",
       "      <td>493.200000</td>\n",
       "      <td>19.800000</td>\n",
       "      <td>97.200000</td>\n",
       "      <td>0.0</td>\n",
       "      <td>0.0</td>\n",
       "      <td>0.0</td>\n",
       "      <td>415.800</td>\n",
       "      <td>10.156000</td>\n",
       "      <td>1.960000</td>\n",
       "      <td>28.581320</td>\n",
       "      <td>77.237040</td>\n",
       "      <td>6.000000</td>\n",
       "      <td>30.26</td>\n",
       "      <td>81.6</td>\n",
       "      <td>0.0</td>\n",
       "      <td>8.2</td>\n",
       "      <td>1.600000</td>\n",
       "      <td>3.765553e+19</td>\n",
       "      <td>3.026478e+12</td>\n",
       "      <td>1.215009e+11</td>\n",
       "      <td>5.964591e+11</td>\n",
       "      <td>0.0</td>\n",
       "      <td>0.0</td>\n",
       "      <td>0.0</td>\n",
       "      <td>2.551519e+12</td>\n",
       "      <td>6.232138e+10</td>\n",
       "      <td>1.202736e+10</td>\n",
       "      <td>1.753867e+11</td>\n",
       "      <td>4.739582e+11</td>\n",
       "      <td>3.681846e+10</td>\n",
       "      <td>1.856878e+11</td>\n",
       "      <td>5.007311e+11</td>\n",
       "      <td>0.0</td>\n",
       "      <td>5.031856e+10</td>\n",
       "      <td>9.818256e+09</td>\n",
       "      <td>243246.24000</td>\n",
       "      <td>9765.360000</td>\n",
       "      <td>47939.040000</td>\n",
       "      <td>0.0</td>\n",
       "      <td>0.0</td>\n",
       "      <td>0.0</td>\n",
       "      <td>205072.560000</td>\n",
       "      <td>5008.939200</td>\n",
       "      <td>966.672000</td>\n",
       "      <td>14096.307024</td>\n",
       "      <td>38093.308128</td>\n",
       "      <td>2959.200000</td>\n",
       "      <td>14924.232000</td>\n",
       "      <td>40245.120000</td>\n",
       "      <td>0.0</td>\n",
       "      <td>4044.240000</td>\n",
       "      <td>789.120000</td>\n",
       "      <td>392.040000</td>\n",
       "      <td>1924.560000</td>\n",
       "      <td>0.0</td>\n",
       "      <td>0.0</td>\n",
       "      <td>0.0</td>\n",
       "      <td>8232.840000</td>\n",
       "      <td>201.088800</td>\n",
       "      <td>38.808000</td>\n",
       "      <td>565.910136</td>\n",
       "      <td>1529.293392</td>\n",
       "      <td>118.800000</td>\n",
       "      <td>599.148000</td>\n",
       "      <td>1615.680000</td>\n",
       "      <td>0.0</td>\n",
       "      <td>162.360000</td>\n",
       "      <td>31.680000</td>\n",
       "      <td>9447.840000</td>\n",
       "      <td>0.0</td>\n",
       "      <td>0.0</td>\n",
       "      <td>0.0</td>\n",
       "      <td>40415.760000</td>\n",
       "      <td>987.163200</td>\n",
       "      <td>190.512000</td>\n",
       "      <td>2778.104304</td>\n",
       "      <td>7507.440288</td>\n",
       "      <td>583.200000</td>\n",
       "      <td>2941.272000</td>\n",
       "      <td>7931.520000</td>\n",
       "      <td>0.0</td>\n",
       "      <td>797.040000</td>\n",
       "      <td>155.520000</td>\n",
       "      <td>0.0</td>\n",
       "      <td>0.0</td>\n",
       "      <td>0.0</td>\n",
       "      <td>0.0</td>\n",
       "      <td>0.0</td>\n",
       "      <td>0.0</td>\n",
       "      <td>0.0</td>\n",
       "      <td>0.0</td>\n",
       "      <td>0.0</td>\n",
       "      <td>0.0</td>\n",
       "      <td>0.0</td>\n",
       "      <td>0.0</td>\n",
       "      <td>0.0</td>\n",
       "      <td>0.0</td>\n",
       "      <td>0.0</td>\n",
       "      <td>0.0</td>\n",
       "      <td>0.0</td>\n",
       "      <td>0.0</td>\n",
       "      <td>0.0</td>\n",
       "      <td>0.0</td>\n",
       "      <td>0.0</td>\n",
       "      <td>0.0</td>\n",
       "      <td>0.0</td>\n",
       "      <td>0.0</td>\n",
       "      <td>0.0</td>\n",
       "      <td>0.0</td>\n",
       "      <td>0.0</td>\n",
       "      <td>0.0</td>\n",
       "      <td>0.0</td>\n",
       "      <td>0.0</td>\n",
       "      <td>0.0</td>\n",
       "      <td>0.0</td>\n",
       "      <td>0.0</td>\n",
       "      <td>0.0</td>\n",
       "      <td>0.0</td>\n",
       "      <td>0.0</td>\n",
       "      <td>0.0</td>\n",
       "      <td>0.0</td>\n",
       "      <td>0.0</td>\n",
       "      <td>172889.640000</td>\n",
       "      <td>4222.864800</td>\n",
       "      <td>814.968000</td>\n",
       "      <td>11884.112856</td>\n",
       "      <td>32115.161232</td>\n",
       "      <td>2494.800000</td>\n",
       "      <td>12582.108</td>\n",
       "      <td>33929.280</td>\n",
       "      <td>0.0</td>\n",
       "      <td>3409.5600</td>\n",
       "      <td>665.280000</td>\n",
       "      <td>103.144336</td>\n",
       "      <td>19.905760</td>\n",
       "      <td>290.271886</td>\n",
       "      <td>784.419378</td>\n",
       "      <td>60.936000</td>\n",
       "      <td>307.320560</td>\n",
       "      <td>828.729600</td>\n",
       "      <td>0.0</td>\n",
       "      <td>83.279200</td>\n",
       "      <td>16.249600</td>\n",
       "      <td>3.841600</td>\n",
       "      <td>56.019387</td>\n",
       "      <td>151.384598</td>\n",
       "      <td>11.760000</td>\n",
       "      <td>59.309600</td>\n",
       "      <td>159.936000</td>\n",
       "      <td>0.0</td>\n",
       "      <td>16.072000</td>\n",
       "      <td>3.136000</td>\n",
       "      <td>816.891853</td>\n",
       "      <td>2207.536556</td>\n",
       "      <td>171.487920</td>\n",
       "      <td>864.870743</td>\n",
       "      <td>2332.235712</td>\n",
       "      <td>0.0</td>\n",
       "      <td>234.366824</td>\n",
       "      <td>45.730112</td>\n",
       "      <td>5965.560348</td>\n",
       "      <td>463.422240</td>\n",
       "      <td>2337.192830</td>\n",
       "      <td>6302.542464</td>\n",
       "      <td>0.0</td>\n",
       "      <td>633.343728</td>\n",
       "      <td>123.579264</td>\n",
       "      <td>36.000000</td>\n",
       "      <td>181.560000</td>\n",
       "      <td>489.600000</td>\n",
       "      <td>0.0</td>\n",
       "      <td>49.200000</td>\n",
       "      <td>9.600000</td>\n",
       "      <td>915.6676</td>\n",
       "      <td>2469.216</td>\n",
       "      <td>0.0</td>\n",
       "      <td>248.132</td>\n",
       "      <td>48.416000</td>\n",
       "      <td>6658.56</td>\n",
       "      <td>0.0</td>\n",
       "      <td>669.12</td>\n",
       "      <td>130.560000</td>\n",
       "      <td>0.0</td>\n",
       "      <td>0.0</td>\n",
       "      <td>0.0</td>\n",
       "      <td>67.24</td>\n",
       "      <td>13.120000</td>\n",
       "      <td>2.560000</td>\n",
       "    </tr>\n",
       "    <tr>\n",
       "      <th>4</th>\n",
       "      <td>6.136113e+09</td>\n",
       "      <td>395.000000</td>\n",
       "      <td>14.800000</td>\n",
       "      <td>99.000000</td>\n",
       "      <td>0.0</td>\n",
       "      <td>0.0</td>\n",
       "      <td>0.0</td>\n",
       "      <td>310.800</td>\n",
       "      <td>16.416667</td>\n",
       "      <td>6.266667</td>\n",
       "      <td>28.586600</td>\n",
       "      <td>77.223000</td>\n",
       "      <td>5.333333</td>\n",
       "      <td>33.00</td>\n",
       "      <td>68.0</td>\n",
       "      <td>0.0</td>\n",
       "      <td>7.4</td>\n",
       "      <td>1.333333</td>\n",
       "      <td>3.765188e+19</td>\n",
       "      <td>2.423765e+12</td>\n",
       "      <td>9.081447e+10</td>\n",
       "      <td>6.074752e+11</td>\n",
       "      <td>0.0</td>\n",
       "      <td>0.0</td>\n",
       "      <td>0.0</td>\n",
       "      <td>1.907104e+12</td>\n",
       "      <td>1.007345e+11</td>\n",
       "      <td>3.845297e+10</td>\n",
       "      <td>1.754106e+11</td>\n",
       "      <td>4.738490e+11</td>\n",
       "      <td>3.272593e+10</td>\n",
       "      <td>2.024917e+11</td>\n",
       "      <td>4.172557e+11</td>\n",
       "      <td>0.0</td>\n",
       "      <td>4.540723e+10</td>\n",
       "      <td>8.181484e+09</td>\n",
       "      <td>156025.00000</td>\n",
       "      <td>5846.000000</td>\n",
       "      <td>39105.000000</td>\n",
       "      <td>0.0</td>\n",
       "      <td>0.0</td>\n",
       "      <td>0.0</td>\n",
       "      <td>122766.000000</td>\n",
       "      <td>6484.583333</td>\n",
       "      <td>2475.333333</td>\n",
       "      <td>11291.707000</td>\n",
       "      <td>30503.085000</td>\n",
       "      <td>2106.666667</td>\n",
       "      <td>13035.000000</td>\n",
       "      <td>26860.000000</td>\n",
       "      <td>0.0</td>\n",
       "      <td>2923.000000</td>\n",
       "      <td>526.666667</td>\n",
       "      <td>219.040000</td>\n",
       "      <td>1465.200000</td>\n",
       "      <td>0.0</td>\n",
       "      <td>0.0</td>\n",
       "      <td>0.0</td>\n",
       "      <td>4599.840000</td>\n",
       "      <td>242.966667</td>\n",
       "      <td>92.746667</td>\n",
       "      <td>423.081680</td>\n",
       "      <td>1142.900400</td>\n",
       "      <td>78.933333</td>\n",
       "      <td>488.400000</td>\n",
       "      <td>1006.400000</td>\n",
       "      <td>0.0</td>\n",
       "      <td>109.520000</td>\n",
       "      <td>19.733333</td>\n",
       "      <td>9801.000000</td>\n",
       "      <td>0.0</td>\n",
       "      <td>0.0</td>\n",
       "      <td>0.0</td>\n",
       "      <td>30769.200000</td>\n",
       "      <td>1625.250000</td>\n",
       "      <td>620.400000</td>\n",
       "      <td>2830.073400</td>\n",
       "      <td>7645.077000</td>\n",
       "      <td>528.000000</td>\n",
       "      <td>3267.000000</td>\n",
       "      <td>6732.000000</td>\n",
       "      <td>0.0</td>\n",
       "      <td>732.600000</td>\n",
       "      <td>132.000000</td>\n",
       "      <td>0.0</td>\n",
       "      <td>0.0</td>\n",
       "      <td>0.0</td>\n",
       "      <td>0.0</td>\n",
       "      <td>0.0</td>\n",
       "      <td>0.0</td>\n",
       "      <td>0.0</td>\n",
       "      <td>0.0</td>\n",
       "      <td>0.0</td>\n",
       "      <td>0.0</td>\n",
       "      <td>0.0</td>\n",
       "      <td>0.0</td>\n",
       "      <td>0.0</td>\n",
       "      <td>0.0</td>\n",
       "      <td>0.0</td>\n",
       "      <td>0.0</td>\n",
       "      <td>0.0</td>\n",
       "      <td>0.0</td>\n",
       "      <td>0.0</td>\n",
       "      <td>0.0</td>\n",
       "      <td>0.0</td>\n",
       "      <td>0.0</td>\n",
       "      <td>0.0</td>\n",
       "      <td>0.0</td>\n",
       "      <td>0.0</td>\n",
       "      <td>0.0</td>\n",
       "      <td>0.0</td>\n",
       "      <td>0.0</td>\n",
       "      <td>0.0</td>\n",
       "      <td>0.0</td>\n",
       "      <td>0.0</td>\n",
       "      <td>0.0</td>\n",
       "      <td>0.0</td>\n",
       "      <td>0.0</td>\n",
       "      <td>0.0</td>\n",
       "      <td>0.0</td>\n",
       "      <td>0.0</td>\n",
       "      <td>0.0</td>\n",
       "      <td>0.0</td>\n",
       "      <td>96596.640000</td>\n",
       "      <td>5102.300000</td>\n",
       "      <td>1947.680000</td>\n",
       "      <td>8884.715280</td>\n",
       "      <td>24000.908400</td>\n",
       "      <td>1657.600000</td>\n",
       "      <td>10256.400</td>\n",
       "      <td>21134.400</td>\n",
       "      <td>0.0</td>\n",
       "      <td>2299.9200</td>\n",
       "      <td>414.400000</td>\n",
       "      <td>269.506944</td>\n",
       "      <td>102.877778</td>\n",
       "      <td>469.296683</td>\n",
       "      <td>1267.744250</td>\n",
       "      <td>87.555556</td>\n",
       "      <td>541.750000</td>\n",
       "      <td>1116.333333</td>\n",
       "      <td>0.0</td>\n",
       "      <td>121.483333</td>\n",
       "      <td>21.888889</td>\n",
       "      <td>39.271111</td>\n",
       "      <td>179.142693</td>\n",
       "      <td>483.930800</td>\n",
       "      <td>33.422222</td>\n",
       "      <td>206.800000</td>\n",
       "      <td>426.133333</td>\n",
       "      <td>0.0</td>\n",
       "      <td>46.373333</td>\n",
       "      <td>8.355556</td>\n",
       "      <td>817.193700</td>\n",
       "      <td>2207.543012</td>\n",
       "      <td>152.461867</td>\n",
       "      <td>943.357800</td>\n",
       "      <td>1943.888800</td>\n",
       "      <td>0.0</td>\n",
       "      <td>211.540840</td>\n",
       "      <td>38.115467</td>\n",
       "      <td>5963.391729</td>\n",
       "      <td>411.856000</td>\n",
       "      <td>2548.359000</td>\n",
       "      <td>5251.164000</td>\n",
       "      <td>0.0</td>\n",
       "      <td>571.450200</td>\n",
       "      <td>102.964000</td>\n",
       "      <td>28.444444</td>\n",
       "      <td>176.000000</td>\n",
       "      <td>362.666667</td>\n",
       "      <td>0.0</td>\n",
       "      <td>39.466667</td>\n",
       "      <td>7.111111</td>\n",
       "      <td>1089.0000</td>\n",
       "      <td>2244.000</td>\n",
       "      <td>0.0</td>\n",
       "      <td>244.200</td>\n",
       "      <td>44.000000</td>\n",
       "      <td>4624.00</td>\n",
       "      <td>0.0</td>\n",
       "      <td>503.20</td>\n",
       "      <td>90.666667</td>\n",
       "      <td>0.0</td>\n",
       "      <td>0.0</td>\n",
       "      <td>0.0</td>\n",
       "      <td>54.76</td>\n",
       "      <td>9.866667</td>\n",
       "      <td>1.777778</td>\n",
       "    </tr>\n",
       "  </tbody>\n",
       "</table>\n",
       "</div>"
      ],
      "text/plain": [
       "       Order ID  Bill subtotal  Packaging charges  \\\n",
       "0  6.139801e+09     788.000000          33.800000   \n",
       "1  6.137859e+09     731.500000          31.775000   \n",
       "2  6.137461e+09     890.857143          36.511429   \n",
       "3  6.136410e+09     493.200000          19.800000   \n",
       "4  6.136113e+09     395.000000          14.800000   \n",
       "\n",
       "   Restaurant discount (Promo)  \\\n",
       "0                   112.000000   \n",
       "1                    96.000000   \n",
       "2                   160.628571   \n",
       "3                    97.200000   \n",
       "4                    99.000000   \n",
       "\n",
       "   Restaurant discount (Flat offs, Freebies & others)  Gold discount  \\\n",
       "0                                                0.0             0.0   \n",
       "1                                                0.0             0.0   \n",
       "2                                                0.0             0.0   \n",
       "3                                                0.0             0.0   \n",
       "4                                                0.0             0.0   \n",
       "\n",
       "   Brand pack discount    Total  KPT duration (minutes)  \\\n",
       "0                  0.0  709.800               19.580000   \n",
       "1                  0.0  667.275               13.345000   \n",
       "2                  0.0  766.740               13.928571   \n",
       "3                  0.0  415.800               10.156000   \n",
       "4                  0.0  310.800               16.416667   \n",
       "\n",
       "   Rider wait time (minutes)   rest_lat   rest_lon  Distance_km  temperature  \\\n",
       "0                   1.100000  28.586600  77.223000     3.000000        28.00   \n",
       "1                   1.150000  28.586600  77.223000     5.000000        28.60   \n",
       "2                   2.214286  28.580943  77.238043     5.285714        28.60   \n",
       "3                   1.960000  28.581320  77.237040     6.000000        30.26   \n",
       "4                   6.266667  28.586600  77.223000     5.333333        33.00   \n",
       "\n",
       "   humidity  precipitation  wind_speed  num_items    Order ID^2  \\\n",
       "0      94.0            0.0         0.0   2.000000  3.769716e+19   \n",
       "1      87.0            0.0         5.5   2.000000  3.767332e+19   \n",
       "2      87.0            0.0         5.5   1.714286  3.766843e+19   \n",
       "3      81.6            0.0         8.2   1.600000  3.765553e+19   \n",
       "4      68.0            0.0         7.4   1.333333  3.765188e+19   \n",
       "\n",
       "   Order ID Bill subtotal  Order ID Packaging charges  \\\n",
       "0            4.838163e+12                2.075253e+11   \n",
       "1            4.489844e+12                1.950305e+11   \n",
       "2            5.467601e+12                2.240875e+11   \n",
       "3            3.026478e+12                1.215009e+11   \n",
       "4            2.423765e+12                9.081447e+10   \n",
       "\n",
       "   Order ID Restaurant discount (Promo)  \\\n",
       "0                          6.876577e+11   \n",
       "1                          5.892345e+11   \n",
       "2                          9.858516e+11   \n",
       "3                          5.964591e+11   \n",
       "4                          6.074752e+11   \n",
       "\n",
       "   Order ID Restaurant discount (Flat offs, Freebies & others)  \\\n",
       "0                                                0.0             \n",
       "1                                                0.0             \n",
       "2                                                0.0             \n",
       "3                                                0.0             \n",
       "4                                                0.0             \n",
       "\n",
       "   Order ID Gold discount  Order ID Brand pack discount  Order ID Total  \\\n",
       "0                     0.0                           0.0    4.358031e+12   \n",
       "1                     0.0                           0.0    4.095640e+12   \n",
       "2                     0.0                           0.0    4.705837e+12   \n",
       "3                     0.0                           0.0    2.551519e+12   \n",
       "4                     0.0                           0.0    1.907104e+12   \n",
       "\n",
       "   Order ID KPT duration (minutes)  Order ID Rider wait time (minutes)  \\\n",
       "0                     1.202173e+11                        6.753781e+09   \n",
       "1                     8.190973e+10                        7.058538e+09   \n",
       "2                     8.548607e+10                        1.359009e+10   \n",
       "3                     6.232138e+10                        1.202736e+10   \n",
       "4                     1.007345e+11                        3.845297e+10   \n",
       "\n",
       "   Order ID rest_lat  Order ID rest_lon  Order ID Distance_km  \\\n",
       "0       1.755160e+11       4.741339e+11          1.841940e+10   \n",
       "1       1.754605e+11       4.739839e+11          3.068930e+10   \n",
       "2       1.754144e+11       4.740455e+11          3.244087e+10   \n",
       "3       1.753867e+11       4.739582e+11          3.681846e+10   \n",
       "4       1.754106e+11       4.738490e+11          3.272593e+10   \n",
       "\n",
       "   Order ID temperature  Order ID humidity  Order ID precipitation  \\\n",
       "0          1.719144e+11       5.771413e+11                     0.0   \n",
       "1          1.755428e+11       5.339937e+11                     0.0   \n",
       "2          1.755314e+11       5.339591e+11                     0.0   \n",
       "3          1.856878e+11       5.007311e+11                     0.0   \n",
       "4          2.024917e+11       4.172557e+11                     0.0   \n",
       "\n",
       "   Order ID wind_speed  Order ID num_items  Bill subtotal^2  \\\n",
       "0         0.000000e+00        1.227960e+10     620944.00000   \n",
       "1         3.375823e+10        1.227572e+10     535092.25000   \n",
       "2         3.375604e+10        1.052136e+10     793626.44898   \n",
       "3         5.031856e+10        9.818256e+09     243246.24000   \n",
       "4         4.540723e+10        8.181484e+09     156025.00000   \n",
       "\n",
       "   Bill subtotal Packaging charges  Bill subtotal Restaurant discount (Promo)  \\\n",
       "0                     26634.400000                               88256.000000   \n",
       "1                     23243.412500                               70224.000000   \n",
       "2                     32526.466939                              143097.110204   \n",
       "3                      9765.360000                               47939.040000   \n",
       "4                      5846.000000                               39105.000000   \n",
       "\n",
       "   Bill subtotal Restaurant discount (Flat offs, Freebies & others)  \\\n",
       "0                                                0.0                  \n",
       "1                                                0.0                  \n",
       "2                                                0.0                  \n",
       "3                                                0.0                  \n",
       "4                                                0.0                  \n",
       "\n",
       "   Bill subtotal Gold discount  Bill subtotal Brand pack discount  \\\n",
       "0                          0.0                                0.0   \n",
       "1                          0.0                                0.0   \n",
       "2                          0.0                                0.0   \n",
       "3                          0.0                                0.0   \n",
       "4                          0.0                                0.0   \n",
       "\n",
       "   Bill subtotal Total  Bill subtotal KPT duration (minutes)  \\\n",
       "0        559322.400000                          15429.040000   \n",
       "1        488111.662500                           9761.867500   \n",
       "2        683055.805714                          12408.367347   \n",
       "3        205072.560000                           5008.939200   \n",
       "4        122766.000000                           6484.583333   \n",
       "\n",
       "   Bill subtotal Rider wait time (minutes)  Bill subtotal rest_lat  \\\n",
       "0                               866.800000            22526.240800   \n",
       "1                               841.225000            20911.097900   \n",
       "2                              1972.612245            25461.537094   \n",
       "3                               966.672000            14096.307024   \n",
       "4                              2475.333333            11291.707000   \n",
       "\n",
       "   Bill subtotal rest_lon  Bill subtotal Distance_km  \\\n",
       "0            60851.724000                2364.000000   \n",
       "1            56488.624500                3657.500000   \n",
       "2            68808.062180                4708.816327   \n",
       "3            38093.308128                2959.200000   \n",
       "4            30503.085000                2106.666667   \n",
       "\n",
       "   Bill subtotal temperature  Bill subtotal humidity  \\\n",
       "0               22064.000000            74072.000000   \n",
       "1               20920.900000            63640.500000   \n",
       "2               25478.514286            77504.571429   \n",
       "3               14924.232000            40245.120000   \n",
       "4               13035.000000            26860.000000   \n",
       "\n",
       "   Bill subtotal precipitation  Bill subtotal wind_speed  \\\n",
       "0                          0.0                  0.000000   \n",
       "1                          0.0               4023.250000   \n",
       "2                          0.0               4899.714286   \n",
       "3                          0.0               4044.240000   \n",
       "4                          0.0               2923.000000   \n",
       "\n",
       "   Bill subtotal num_items  Packaging charges^2  \\\n",
       "0              1576.000000          1142.440000   \n",
       "1              1463.000000          1009.650625   \n",
       "2              1527.183673          1333.084416   \n",
       "3               789.120000           392.040000   \n",
       "4               526.666667           219.040000   \n",
       "\n",
       "   Packaging charges Restaurant discount (Promo)  \\\n",
       "0                                    3785.600000   \n",
       "1                                    3050.400000   \n",
       "2                                    5864.778612   \n",
       "3                                    1924.560000   \n",
       "4                                    1465.200000   \n",
       "\n",
       "   Packaging charges Restaurant discount (Flat offs, Freebies & others)  \\\n",
       "0                                                0.0                      \n",
       "1                                                0.0                      \n",
       "2                                                0.0                      \n",
       "3                                                0.0                      \n",
       "4                                                0.0                      \n",
       "\n",
       "   Packaging charges Gold discount  Packaging charges Brand pack discount  \\\n",
       "0                              0.0                                    0.0   \n",
       "1                              0.0                                    0.0   \n",
       "2                              0.0                                    0.0   \n",
       "3                              0.0                                    0.0   \n",
       "4                              0.0                                    0.0   \n",
       "\n",
       "   Packaging charges Total  Packaging charges KPT duration (minutes)  \\\n",
       "0             23991.240000                                661.804000   \n",
       "1             21202.663125                                424.037375   \n",
       "2             27994.772743                                508.552041   \n",
       "3              8232.840000                                201.088800   \n",
       "4              4599.840000                                242.966667   \n",
       "\n",
       "   Packaging charges Rider wait time (minutes)  Packaging charges rest_lat  \\\n",
       "0                                    37.180000                  966.227080   \n",
       "1                                    36.541250                  908.339215   \n",
       "2                                    80.846735                 1043.531054   \n",
       "3                                    38.808000                  565.910136   \n",
       "4                                    92.746667                  423.081680   \n",
       "\n",
       "   Packaging charges rest_lon  Packaging charges Distance_km  \\\n",
       "0                 2610.137400                     101.400000   \n",
       "1                 2453.760825                     158.875000   \n",
       "2                 2820.071285                     192.988980   \n",
       "3                 1529.293392                     118.800000   \n",
       "4                 1142.900400                      78.933333   \n",
       "\n",
       "   Packaging charges temperature  Packaging charges humidity  \\\n",
       "0                     946.400000                 3177.200000   \n",
       "1                     908.765000                 2764.425000   \n",
       "2                    1044.226857                 3176.494286   \n",
       "3                     599.148000                 1615.680000   \n",
       "4                     488.400000                 1006.400000   \n",
       "\n",
       "   Packaging charges precipitation  Packaging charges wind_speed  \\\n",
       "0                              0.0                      0.000000   \n",
       "1                              0.0                    174.762500   \n",
       "2                              0.0                    200.812857   \n",
       "3                              0.0                    162.360000   \n",
       "4                              0.0                    109.520000   \n",
       "\n",
       "   Packaging charges num_items  Restaurant discount (Promo)^2  \\\n",
       "0                    67.600000                   12544.000000   \n",
       "1                    63.550000                    9216.000000   \n",
       "2                    62.591020                   25801.537959   \n",
       "3                    31.680000                    9447.840000   \n",
       "4                    19.733333                    9801.000000   \n",
       "\n",
       "   Restaurant discount (Promo) Restaurant discount (Flat offs, Freebies & others)  \\\n",
       "0                                                0.0                                \n",
       "1                                                0.0                                \n",
       "2                                                0.0                                \n",
       "3                                                0.0                                \n",
       "4                                                0.0                                \n",
       "\n",
       "   Restaurant discount (Promo) Gold discount  \\\n",
       "0                                        0.0   \n",
       "1                                        0.0   \n",
       "2                                        0.0   \n",
       "3                                        0.0   \n",
       "4                                        0.0   \n",
       "\n",
       "   Restaurant discount (Promo) Brand pack discount  \\\n",
       "0                                              0.0   \n",
       "1                                              0.0   \n",
       "2                                              0.0   \n",
       "3                                              0.0   \n",
       "4                                              0.0   \n",
       "\n",
       "   Restaurant discount (Promo) Total  \\\n",
       "0                       79497.600000   \n",
       "1                       64058.400000   \n",
       "2                      123160.350857   \n",
       "3                       40415.760000   \n",
       "4                       30769.200000   \n",
       "\n",
       "   Restaurant discount (Promo) KPT duration (minutes)  \\\n",
       "0                                        2192.960000    \n",
       "1                                        1281.120000    \n",
       "2                                        2237.326531    \n",
       "3                                         987.163200    \n",
       "4                                        1625.250000    \n",
       "\n",
       "   Restaurant discount (Promo) Rider wait time (minutes)  \\\n",
       "0                                         123.200000       \n",
       "1                                         110.400000       \n",
       "2                                         355.677551       \n",
       "3                                         190.512000       \n",
       "4                                         620.400000       \n",
       "\n",
       "   Restaurant discount (Promo) rest_lat  Restaurant discount (Promo) rest_lon  \\\n",
       "0                           3201.699200                           8648.976000   \n",
       "1                           2744.313600                           7413.408000   \n",
       "2                           4590.916021                          12406.636484   \n",
       "3                           2778.104304                           7507.440288   \n",
       "4                           2830.073400                           7645.077000   \n",
       "\n",
       "   Restaurant discount (Promo) Distance_km  \\\n",
       "0                               336.000000   \n",
       "1                               480.000000   \n",
       "2                               849.036735   \n",
       "3                               583.200000   \n",
       "4                               528.000000   \n",
       "\n",
       "   Restaurant discount (Promo) temperature  \\\n",
       "0                              3136.000000   \n",
       "1                              2745.600000   \n",
       "2                              4593.977143   \n",
       "3                              2941.272000   \n",
       "4                              3267.000000   \n",
       "\n",
       "   Restaurant discount (Promo) humidity  \\\n",
       "0                          10528.000000   \n",
       "1                           8352.000000   \n",
       "2                          13974.685714   \n",
       "3                           7931.520000   \n",
       "4                           6732.000000   \n",
       "\n",
       "   Restaurant discount (Promo) precipitation  \\\n",
       "0                                        0.0   \n",
       "1                                        0.0   \n",
       "2                                        0.0   \n",
       "3                                        0.0   \n",
       "4                                        0.0   \n",
       "\n",
       "   Restaurant discount (Promo) wind_speed  \\\n",
       "0                                0.000000   \n",
       "1                              528.000000   \n",
       "2                              883.457143   \n",
       "3                              797.040000   \n",
       "4                              732.600000   \n",
       "\n",
       "   Restaurant discount (Promo) num_items  \\\n",
       "0                             224.000000   \n",
       "1                             192.000000   \n",
       "2                             275.363265   \n",
       "3                             155.520000   \n",
       "4                             132.000000   \n",
       "\n",
       "   Restaurant discount (Flat offs, Freebies & others)^2  \\\n",
       "0                                                0.0      \n",
       "1                                                0.0      \n",
       "2                                                0.0      \n",
       "3                                                0.0      \n",
       "4                                                0.0      \n",
       "\n",
       "   Restaurant discount (Flat offs, Freebies & others) Gold discount  \\\n",
       "0                                                0.0                  \n",
       "1                                                0.0                  \n",
       "2                                                0.0                  \n",
       "3                                                0.0                  \n",
       "4                                                0.0                  \n",
       "\n",
       "   Restaurant discount (Flat offs, Freebies & others) Brand pack discount  \\\n",
       "0                                                0.0                        \n",
       "1                                                0.0                        \n",
       "2                                                0.0                        \n",
       "3                                                0.0                        \n",
       "4                                                0.0                        \n",
       "\n",
       "   Restaurant discount (Flat offs, Freebies & others) Total  \\\n",
       "0                                                0.0          \n",
       "1                                                0.0          \n",
       "2                                                0.0          \n",
       "3                                                0.0          \n",
       "4                                                0.0          \n",
       "\n",
       "   Restaurant discount (Flat offs, Freebies & others) KPT duration (minutes)  \\\n",
       "0                                                0.0                           \n",
       "1                                                0.0                           \n",
       "2                                                0.0                           \n",
       "3                                                0.0                           \n",
       "4                                                0.0                           \n",
       "\n",
       "   Restaurant discount (Flat offs, Freebies & others) Rider wait time (minutes)  \\\n",
       "0                                                0.0                              \n",
       "1                                                0.0                              \n",
       "2                                                0.0                              \n",
       "3                                                0.0                              \n",
       "4                                                0.0                              \n",
       "\n",
       "   Restaurant discount (Flat offs, Freebies & others) rest_lat  \\\n",
       "0                                                0.0             \n",
       "1                                                0.0             \n",
       "2                                                0.0             \n",
       "3                                                0.0             \n",
       "4                                                0.0             \n",
       "\n",
       "   Restaurant discount (Flat offs, Freebies & others) rest_lon  \\\n",
       "0                                                0.0             \n",
       "1                                                0.0             \n",
       "2                                                0.0             \n",
       "3                                                0.0             \n",
       "4                                                0.0             \n",
       "\n",
       "   Restaurant discount (Flat offs, Freebies & others) Distance_km  \\\n",
       "0                                                0.0                \n",
       "1                                                0.0                \n",
       "2                                                0.0                \n",
       "3                                                0.0                \n",
       "4                                                0.0                \n",
       "\n",
       "   Restaurant discount (Flat offs, Freebies & others) temperature  \\\n",
       "0                                                0.0                \n",
       "1                                                0.0                \n",
       "2                                                0.0                \n",
       "3                                                0.0                \n",
       "4                                                0.0                \n",
       "\n",
       "   Restaurant discount (Flat offs, Freebies & others) humidity  \\\n",
       "0                                                0.0             \n",
       "1                                                0.0             \n",
       "2                                                0.0             \n",
       "3                                                0.0             \n",
       "4                                                0.0             \n",
       "\n",
       "   Restaurant discount (Flat offs, Freebies & others) precipitation  \\\n",
       "0                                                0.0                  \n",
       "1                                                0.0                  \n",
       "2                                                0.0                  \n",
       "3                                                0.0                  \n",
       "4                                                0.0                  \n",
       "\n",
       "   Restaurant discount (Flat offs, Freebies & others) wind_speed  \\\n",
       "0                                                0.0               \n",
       "1                                                0.0               \n",
       "2                                                0.0               \n",
       "3                                                0.0               \n",
       "4                                                0.0               \n",
       "\n",
       "   Restaurant discount (Flat offs, Freebies & others) num_items  \\\n",
       "0                                                0.0              \n",
       "1                                                0.0              \n",
       "2                                                0.0              \n",
       "3                                                0.0              \n",
       "4                                                0.0              \n",
       "\n",
       "   Gold discount^2  Gold discount Brand pack discount  Gold discount Total  \\\n",
       "0              0.0                                0.0                  0.0   \n",
       "1              0.0                                0.0                  0.0   \n",
       "2              0.0                                0.0                  0.0   \n",
       "3              0.0                                0.0                  0.0   \n",
       "4              0.0                                0.0                  0.0   \n",
       "\n",
       "   Gold discount KPT duration (minutes)  \\\n",
       "0                                   0.0   \n",
       "1                                   0.0   \n",
       "2                                   0.0   \n",
       "3                                   0.0   \n",
       "4                                   0.0   \n",
       "\n",
       "   Gold discount Rider wait time (minutes)  Gold discount rest_lat  \\\n",
       "0                                      0.0                     0.0   \n",
       "1                                      0.0                     0.0   \n",
       "2                                      0.0                     0.0   \n",
       "3                                      0.0                     0.0   \n",
       "4                                      0.0                     0.0   \n",
       "\n",
       "   Gold discount rest_lon  Gold discount Distance_km  \\\n",
       "0                     0.0                        0.0   \n",
       "1                     0.0                        0.0   \n",
       "2                     0.0                        0.0   \n",
       "3                     0.0                        0.0   \n",
       "4                     0.0                        0.0   \n",
       "\n",
       "   Gold discount temperature  Gold discount humidity  \\\n",
       "0                        0.0                     0.0   \n",
       "1                        0.0                     0.0   \n",
       "2                        0.0                     0.0   \n",
       "3                        0.0                     0.0   \n",
       "4                        0.0                     0.0   \n",
       "\n",
       "   Gold discount precipitation  Gold discount wind_speed  \\\n",
       "0                          0.0                       0.0   \n",
       "1                          0.0                       0.0   \n",
       "2                          0.0                       0.0   \n",
       "3                          0.0                       0.0   \n",
       "4                          0.0                       0.0   \n",
       "\n",
       "   Gold discount num_items  Brand pack discount^2  Brand pack discount Total  \\\n",
       "0                      0.0                    0.0                        0.0   \n",
       "1                      0.0                    0.0                        0.0   \n",
       "2                      0.0                    0.0                        0.0   \n",
       "3                      0.0                    0.0                        0.0   \n",
       "4                      0.0                    0.0                        0.0   \n",
       "\n",
       "   Brand pack discount KPT duration (minutes)  \\\n",
       "0                                         0.0   \n",
       "1                                         0.0   \n",
       "2                                         0.0   \n",
       "3                                         0.0   \n",
       "4                                         0.0   \n",
       "\n",
       "   Brand pack discount Rider wait time (minutes)  \\\n",
       "0                                            0.0   \n",
       "1                                            0.0   \n",
       "2                                            0.0   \n",
       "3                                            0.0   \n",
       "4                                            0.0   \n",
       "\n",
       "   Brand pack discount rest_lat  Brand pack discount rest_lon  \\\n",
       "0                           0.0                           0.0   \n",
       "1                           0.0                           0.0   \n",
       "2                           0.0                           0.0   \n",
       "3                           0.0                           0.0   \n",
       "4                           0.0                           0.0   \n",
       "\n",
       "   Brand pack discount Distance_km  Brand pack discount temperature  \\\n",
       "0                              0.0                              0.0   \n",
       "1                              0.0                              0.0   \n",
       "2                              0.0                              0.0   \n",
       "3                              0.0                              0.0   \n",
       "4                              0.0                              0.0   \n",
       "\n",
       "   Brand pack discount humidity  Brand pack discount precipitation  \\\n",
       "0                           0.0                                0.0   \n",
       "1                           0.0                                0.0   \n",
       "2                           0.0                                0.0   \n",
       "3                           0.0                                0.0   \n",
       "4                           0.0                                0.0   \n",
       "\n",
       "   Brand pack discount wind_speed  Brand pack discount num_items  \\\n",
       "0                             0.0                            0.0   \n",
       "1                             0.0                            0.0   \n",
       "2                             0.0                            0.0   \n",
       "3                             0.0                            0.0   \n",
       "4                             0.0                            0.0   \n",
       "\n",
       "         Total^2  Total KPT duration (minutes)  \\\n",
       "0  503816.040000                  13897.884000   \n",
       "1  445255.925625                   8904.784875   \n",
       "2  587890.227600                  10679.592857   \n",
       "3  172889.640000                   4222.864800   \n",
       "4   96596.640000                   5102.300000   \n",
       "\n",
       "   Total Rider wait time (minutes)  Total rest_lat  Total rest_lon  \\\n",
       "0                       780.780000    20290.768680    54812.885400   \n",
       "1                       767.366250    19075.123515    51528.977325   \n",
       "2                      1697.781429    21914.152126    59221.496980   \n",
       "3                       814.968000    11884.112856    32115.161232   \n",
       "4                      1947.680000     8884.715280    24000.908400   \n",
       "\n",
       "   Total Distance_km  Total temperature  Total humidity  Total precipitation  \\\n",
       "0        2129.400000          19874.400       66721.200                  0.0   \n",
       "1        3336.375000          19084.065       58052.925                  0.0   \n",
       "2        4052.768571          21928.764       66706.380                  0.0   \n",
       "3        2494.800000          12582.108       33929.280                  0.0   \n",
       "4        1657.600000          10256.400       21134.400                  0.0   \n",
       "\n",
       "   Total wind_speed  Total num_items  KPT duration (minutes)^2  \\\n",
       "0            0.0000      1419.600000                383.376400   \n",
       "1         3670.0125      1334.550000                178.089025   \n",
       "2         4217.0700      1314.411429                194.005102   \n",
       "3         3409.5600       665.280000                103.144336   \n",
       "4         2299.9200       414.400000                269.506944   \n",
       "\n",
       "   KPT duration (minutes) Rider wait time (minutes)  \\\n",
       "0                                         21.538000   \n",
       "1                                         15.346750   \n",
       "2                                         30.841837   \n",
       "3                                         19.905760   \n",
       "4                                        102.877778   \n",
       "\n",
       "   KPT duration (minutes) rest_lat  KPT duration (minutes) rest_lon  \\\n",
       "0                       559.725628                      1512.026340   \n",
       "1                       381.488177                      1030.540935   \n",
       "2                       398.091704                      1075.815597   \n",
       "3                       290.271886                       784.419378   \n",
       "4                       469.296683                      1267.744250   \n",
       "\n",
       "   KPT duration (minutes) Distance_km  KPT duration (minutes) temperature  \\\n",
       "0                           58.740000                          548.240000   \n",
       "1                           66.725000                          381.667000   \n",
       "2                           73.622449                          398.357143   \n",
       "3                           60.936000                          307.320560   \n",
       "4                           87.555556                          541.750000   \n",
       "\n",
       "   KPT duration (minutes) humidity  KPT duration (minutes) precipitation  \\\n",
       "0                      1840.520000                                   0.0   \n",
       "1                      1161.015000                                   0.0   \n",
       "2                      1211.785714                                   0.0   \n",
       "3                       828.729600                                   0.0   \n",
       "4                      1116.333333                                   0.0   \n",
       "\n",
       "   KPT duration (minutes) wind_speed  KPT duration (minutes) num_items  \\\n",
       "0                           0.000000                         39.160000   \n",
       "1                          73.397500                         26.690000   \n",
       "2                          76.607143                         23.877551   \n",
       "3                          83.279200                         16.249600   \n",
       "4                         121.483333                         21.888889   \n",
       "\n",
       "   Rider wait time (minutes)^2  Rider wait time (minutes) rest_lat  \\\n",
       "0                     1.210000                           31.445260   \n",
       "1                     1.322500                           32.874590   \n",
       "2                     4.903061                           63.286373   \n",
       "3                     3.841600                           56.019387   \n",
       "4                    39.271111                          179.142693   \n",
       "\n",
       "   Rider wait time (minutes) rest_lon  Rider wait time (minutes) Distance_km  \\\n",
       "0                           84.945300                               3.300000   \n",
       "1                           88.806450                               5.750000   \n",
       "2                          171.027095                              11.704082   \n",
       "3                          151.384598                              11.760000   \n",
       "4                          483.930800                              33.422222   \n",
       "\n",
       "   Rider wait time (minutes) temperature  Rider wait time (minutes) humidity  \\\n",
       "0                              30.800000                          103.400000   \n",
       "1                              32.890000                          100.050000   \n",
       "2                              63.328571                          192.642857   \n",
       "3                              59.309600                          159.936000   \n",
       "4                             206.800000                          426.133333   \n",
       "\n",
       "   Rider wait time (minutes) precipitation  \\\n",
       "0                                      0.0   \n",
       "1                                      0.0   \n",
       "2                                      0.0   \n",
       "3                                      0.0   \n",
       "4                                      0.0   \n",
       "\n",
       "   Rider wait time (minutes) wind_speed  Rider wait time (minutes) num_items  \\\n",
       "0                              0.000000                             2.200000   \n",
       "1                              6.325000                             2.300000   \n",
       "2                             12.178571                             3.795918   \n",
       "3                             16.072000                             3.136000   \n",
       "4                             46.373333                             8.355556   \n",
       "\n",
       "   rest_lat^2  rest_lat rest_lon  rest_lat Distance_km  rest_lat temperature  \\\n",
       "0  817.193700        2207.543012             85.759800            800.424800   \n",
       "1  817.193700        2207.543012            142.933000            817.576760   \n",
       "2  816.870295        2207.536089            151.070698            817.414966   \n",
       "3  816.891853        2207.536556            171.487920            864.870743   \n",
       "4  817.193700        2207.543012            152.461867            943.357800   \n",
       "\n",
       "   rest_lat humidity  rest_lat precipitation  rest_lat wind_speed  \\\n",
       "0        2687.140400                     0.0             0.000000   \n",
       "1        2487.034200                     0.0           157.226300   \n",
       "2        2486.542029                     0.0           157.195186   \n",
       "3        2332.235712                     0.0           234.366824   \n",
       "4        1943.888800                     0.0           211.540840   \n",
       "\n",
       "   rest_lat num_items   rest_lon^2  rest_lon Distance_km  \\\n",
       "0           57.173200  5963.391729            231.669000   \n",
       "1           57.173200  5963.391729            386.115000   \n",
       "2           48.995902  5965.715264            408.258227   \n",
       "3           45.730112  5965.560348            463.422240   \n",
       "4           38.115467  5963.391729            411.856000   \n",
       "\n",
       "   rest_lon temperature  rest_lon humidity  rest_lon precipitation  \\\n",
       "0           2162.244000        7258.962000                     0.0   \n",
       "1           2208.577800        6718.401000                     0.0   \n",
       "2           2209.008026        6719.709729                     0.0   \n",
       "3           2337.192830        6302.542464                     0.0   \n",
       "4           2548.359000        5251.164000                     0.0   \n",
       "\n",
       "   rest_lon wind_speed  rest_lon num_items  Distance_km^2  \\\n",
       "0             0.000000          154.446000       9.000000   \n",
       "1           424.726500          154.446000      25.000000   \n",
       "2           424.809236          132.408073      27.938776   \n",
       "3           633.343728          123.579264      36.000000   \n",
       "4           571.450200          102.964000      28.444444   \n",
       "\n",
       "   Distance_km temperature  Distance_km humidity  Distance_km precipitation  \\\n",
       "0                84.000000            282.000000                        0.0   \n",
       "1               143.000000            435.000000                        0.0   \n",
       "2               151.171429            459.857143                        0.0   \n",
       "3               181.560000            489.600000                        0.0   \n",
       "4               176.000000            362.666667                        0.0   \n",
       "\n",
       "   Distance_km wind_speed  Distance_km num_items  temperature^2  \\\n",
       "0                0.000000               6.000000       784.0000   \n",
       "1               27.500000              10.000000       817.9600   \n",
       "2               29.071429               9.061224       817.9600   \n",
       "3               49.200000               9.600000       915.6676   \n",
       "4               39.466667               7.111111      1089.0000   \n",
       "\n",
       "   temperature humidity  temperature precipitation  temperature wind_speed  \\\n",
       "0              2632.000                        0.0                   0.000   \n",
       "1              2488.200                        0.0                 157.300   \n",
       "2              2488.200                        0.0                 157.300   \n",
       "3              2469.216                        0.0                 248.132   \n",
       "4              2244.000                        0.0                 244.200   \n",
       "\n",
       "   temperature num_items  humidity^2  humidity precipitation  \\\n",
       "0              56.000000     8836.00                     0.0   \n",
       "1              57.200000     7569.00                     0.0   \n",
       "2              49.028571     7569.00                     0.0   \n",
       "3              48.416000     6658.56                     0.0   \n",
       "4              44.000000     4624.00                     0.0   \n",
       "\n",
       "   humidity wind_speed  humidity num_items  precipitation^2  \\\n",
       "0                 0.00          188.000000              0.0   \n",
       "1               478.50          174.000000              0.0   \n",
       "2               478.50          149.142857              0.0   \n",
       "3               669.12          130.560000              0.0   \n",
       "4               503.20           90.666667              0.0   \n",
       "\n",
       "   precipitation wind_speed  precipitation num_items  wind_speed^2  \\\n",
       "0                       0.0                      0.0          0.00   \n",
       "1                       0.0                      0.0         30.25   \n",
       "2                       0.0                      0.0         30.25   \n",
       "3                       0.0                      0.0         67.24   \n",
       "4                       0.0                      0.0         54.76   \n",
       "\n",
       "   wind_speed num_items  num_items^2  \n",
       "0              0.000000     4.000000  \n",
       "1             11.000000     4.000000  \n",
       "2              9.428571     2.938776  \n",
       "3             13.120000     2.560000  \n",
       "4              9.866667     1.777778  "
      ]
     },
     "execution_count": 57,
     "metadata": {},
     "output_type": "execute_result"
    }
   ],
   "source": [
    "import pandas as pd\n",
    "\n",
    "X_poly_df = pd.DataFrame(X_poly, columns=poly_feature_names)\n",
    "X_poly_df.head()"
   ]
  },
  {
   "cell_type": "code",
   "execution_count": null,
   "id": "3b00ac4c",
   "metadata": {},
   "outputs": [
    {
     "data": {
      "text/html": [
       "<div>\n",
       "<style scoped>\n",
       "    .dataframe tbody tr th:only-of-type {\n",
       "        vertical-align: middle;\n",
       "    }\n",
       "\n",
       "    .dataframe tbody tr th {\n",
       "        vertical-align: top;\n",
       "    }\n",
       "\n",
       "    .dataframe thead th {\n",
       "        text-align: right;\n",
       "    }\n",
       "</style>\n",
       "<table border=\"1\" class=\"dataframe\">\n",
       "  <thead>\n",
       "    <tr style=\"text-align: right;\">\n",
       "      <th></th>\n",
       "      <th>count</th>\n",
       "      <th>mean</th>\n",
       "      <th>std</th>\n",
       "      <th>min</th>\n",
       "      <th>25%</th>\n",
       "      <th>50%</th>\n",
       "      <th>75%</th>\n",
       "      <th>max</th>\n",
       "    </tr>\n",
       "  </thead>\n",
       "  <tbody>\n",
       "    <tr>\n",
       "      <th>Order ID</th>\n",
       "      <td>2555.0</td>\n",
       "      <td>6.355460e+09</td>\n",
       "      <td>1.246055e+08</td>\n",
       "      <td>6.131642e+09</td>\n",
       "      <td>6.247356e+09</td>\n",
       "      <td>6.357309e+09</td>\n",
       "      <td>6.462723e+09</td>\n",
       "      <td>6.570004e+09</td>\n",
       "    </tr>\n",
       "    <tr>\n",
       "      <th>Bill subtotal</th>\n",
       "      <td>2555.0</td>\n",
       "      <td>7.485492e+02</td>\n",
       "      <td>3.942385e+02</td>\n",
       "      <td>1.990000e+02</td>\n",
       "      <td>5.938231e+02</td>\n",
       "      <td>7.102000e+02</td>\n",
       "      <td>8.507858e+02</td>\n",
       "      <td>1.608000e+04</td>\n",
       "    </tr>\n",
       "    <tr>\n",
       "      <th>Packaging charges</th>\n",
       "      <td>2555.0</td>\n",
       "      <td>3.213701e+01</td>\n",
       "      <td>1.618286e+01</td>\n",
       "      <td>0.000000e+00</td>\n",
       "      <td>2.526798e+01</td>\n",
       "      <td>3.058800e+01</td>\n",
       "      <td>3.661937e+01</td>\n",
       "      <td>6.030000e+02</td>\n",
       "    </tr>\n",
       "    <tr>\n",
       "      <th>Restaurant discount (Promo)</th>\n",
       "      <td>2555.0</td>\n",
       "      <td>7.519839e+01</td>\n",
       "      <td>9.197776e+01</td>\n",
       "      <td>0.000000e+00</td>\n",
       "      <td>4.000000e+01</td>\n",
       "      <td>7.680000e+01</td>\n",
       "      <td>1.000000e+02</td>\n",
       "      <td>4.020000e+03</td>\n",
       "    </tr>\n",
       "    <tr>\n",
       "      <th>Restaurant discount (Flat offs, Freebies &amp; others)</th>\n",
       "      <td>2555.0</td>\n",
       "      <td>2.797552e+01</td>\n",
       "      <td>7.904929e+01</td>\n",
       "      <td>0.000000e+00</td>\n",
       "      <td>0.000000e+00</td>\n",
       "      <td>0.000000e+00</td>\n",
       "      <td>0.000000e+00</td>\n",
       "      <td>7.932500e+02</td>\n",
       "    </tr>\n",
       "    <tr>\n",
       "      <th>...</th>\n",
       "      <td>...</td>\n",
       "      <td>...</td>\n",
       "      <td>...</td>\n",
       "      <td>...</td>\n",
       "      <td>...</td>\n",
       "      <td>...</td>\n",
       "      <td>...</td>\n",
       "      <td>...</td>\n",
       "    </tr>\n",
       "    <tr>\n",
       "      <th>precipitation wind_speed</th>\n",
       "      <td>2555.0</td>\n",
       "      <td>4.140424e-01</td>\n",
       "      <td>4.010003e+00</td>\n",
       "      <td>0.000000e+00</td>\n",
       "      <td>0.000000e+00</td>\n",
       "      <td>0.000000e+00</td>\n",
       "      <td>0.000000e+00</td>\n",
       "      <td>9.272000e+01</td>\n",
       "    </tr>\n",
       "    <tr>\n",
       "      <th>precipitation num_items</th>\n",
       "      <td>2555.0</td>\n",
       "      <td>1.434278e-01</td>\n",
       "      <td>1.156600e+00</td>\n",
       "      <td>0.000000e+00</td>\n",
       "      <td>0.000000e+00</td>\n",
       "      <td>0.000000e+00</td>\n",
       "      <td>0.000000e+00</td>\n",
       "      <td>2.440000e+01</td>\n",
       "    </tr>\n",
       "    <tr>\n",
       "      <th>wind_speed^2</th>\n",
       "      <td>2555.0</td>\n",
       "      <td>1.061987e+01</td>\n",
       "      <td>2.350051e+01</td>\n",
       "      <td>0.000000e+00</td>\n",
       "      <td>0.000000e+00</td>\n",
       "      <td>3.600000e-01</td>\n",
       "      <td>1.296000e+01</td>\n",
       "      <td>2.755600e+02</td>\n",
       "    </tr>\n",
       "    <tr>\n",
       "      <th>wind_speed num_items</th>\n",
       "      <td>2555.0</td>\n",
       "      <td>3.238415e+00</td>\n",
       "      <td>4.591080e+00</td>\n",
       "      <td>0.000000e+00</td>\n",
       "      <td>0.000000e+00</td>\n",
       "      <td>1.000000e+00</td>\n",
       "      <td>5.100446e+00</td>\n",
       "      <td>2.960000e+01</td>\n",
       "    </tr>\n",
       "    <tr>\n",
       "      <th>num_items^2</th>\n",
       "      <td>2555.0</td>\n",
       "      <td>3.118936e+00</td>\n",
       "      <td>1.712762e+00</td>\n",
       "      <td>1.000000e+00</td>\n",
       "      <td>2.006944e+00</td>\n",
       "      <td>2.777778e+00</td>\n",
       "      <td>4.000000e+00</td>\n",
       "      <td>1.600000e+01</td>\n",
       "    </tr>\n",
       "  </tbody>\n",
       "</table>\n",
       "<p>189 rows × 8 columns</p>\n",
       "</div>"
      ],
      "text/plain": [
       "                                                     count          mean  \\\n",
       "Order ID                                            2555.0  6.355460e+09   \n",
       "Bill subtotal                                       2555.0  7.485492e+02   \n",
       "Packaging charges                                   2555.0  3.213701e+01   \n",
       "Restaurant discount (Promo)                         2555.0  7.519839e+01   \n",
       "Restaurant discount (Flat offs, Freebies & others)  2555.0  2.797552e+01   \n",
       "...                                                    ...           ...   \n",
       "precipitation wind_speed                            2555.0  4.140424e-01   \n",
       "precipitation num_items                             2555.0  1.434278e-01   \n",
       "wind_speed^2                                        2555.0  1.061987e+01   \n",
       "wind_speed num_items                                2555.0  3.238415e+00   \n",
       "num_items^2                                         2555.0  3.118936e+00   \n",
       "\n",
       "                                                             std  \\\n",
       "Order ID                                            1.246055e+08   \n",
       "Bill subtotal                                       3.942385e+02   \n",
       "Packaging charges                                   1.618286e+01   \n",
       "Restaurant discount (Promo)                         9.197776e+01   \n",
       "Restaurant discount (Flat offs, Freebies & others)  7.904929e+01   \n",
       "...                                                          ...   \n",
       "precipitation wind_speed                            4.010003e+00   \n",
       "precipitation num_items                             1.156600e+00   \n",
       "wind_speed^2                                        2.350051e+01   \n",
       "wind_speed num_items                                4.591080e+00   \n",
       "num_items^2                                         1.712762e+00   \n",
       "\n",
       "                                                             min  \\\n",
       "Order ID                                            6.131642e+09   \n",
       "Bill subtotal                                       1.990000e+02   \n",
       "Packaging charges                                   0.000000e+00   \n",
       "Restaurant discount (Promo)                         0.000000e+00   \n",
       "Restaurant discount (Flat offs, Freebies & others)  0.000000e+00   \n",
       "...                                                          ...   \n",
       "precipitation wind_speed                            0.000000e+00   \n",
       "precipitation num_items                             0.000000e+00   \n",
       "wind_speed^2                                        0.000000e+00   \n",
       "wind_speed num_items                                0.000000e+00   \n",
       "num_items^2                                         1.000000e+00   \n",
       "\n",
       "                                                             25%  \\\n",
       "Order ID                                            6.247356e+09   \n",
       "Bill subtotal                                       5.938231e+02   \n",
       "Packaging charges                                   2.526798e+01   \n",
       "Restaurant discount (Promo)                         4.000000e+01   \n",
       "Restaurant discount (Flat offs, Freebies & others)  0.000000e+00   \n",
       "...                                                          ...   \n",
       "precipitation wind_speed                            0.000000e+00   \n",
       "precipitation num_items                             0.000000e+00   \n",
       "wind_speed^2                                        0.000000e+00   \n",
       "wind_speed num_items                                0.000000e+00   \n",
       "num_items^2                                         2.006944e+00   \n",
       "\n",
       "                                                             50%  \\\n",
       "Order ID                                            6.357309e+09   \n",
       "Bill subtotal                                       7.102000e+02   \n",
       "Packaging charges                                   3.058800e+01   \n",
       "Restaurant discount (Promo)                         7.680000e+01   \n",
       "Restaurant discount (Flat offs, Freebies & others)  0.000000e+00   \n",
       "...                                                          ...   \n",
       "precipitation wind_speed                            0.000000e+00   \n",
       "precipitation num_items                             0.000000e+00   \n",
       "wind_speed^2                                        3.600000e-01   \n",
       "wind_speed num_items                                1.000000e+00   \n",
       "num_items^2                                         2.777778e+00   \n",
       "\n",
       "                                                             75%           max  \n",
       "Order ID                                            6.462723e+09  6.570004e+09  \n",
       "Bill subtotal                                       8.507858e+02  1.608000e+04  \n",
       "Packaging charges                                   3.661937e+01  6.030000e+02  \n",
       "Restaurant discount (Promo)                         1.000000e+02  4.020000e+03  \n",
       "Restaurant discount (Flat offs, Freebies & others)  0.000000e+00  7.932500e+02  \n",
       "...                                                          ...           ...  \n",
       "precipitation wind_speed                            0.000000e+00  9.272000e+01  \n",
       "precipitation num_items                             0.000000e+00  2.440000e+01  \n",
       "wind_speed^2                                        1.296000e+01  2.755600e+02  \n",
       "wind_speed num_items                                5.100446e+00  2.960000e+01  \n",
       "num_items^2                                         4.000000e+00  1.600000e+01  \n",
       "\n",
       "[189 rows x 8 columns]"
      ]
     },
     "execution_count": 58,
     "metadata": {},
     "output_type": "execute_result"
    }
   ],
   "source": [
    "X_poly_df.describe().T"
   ]
  },
  {
   "cell_type": "code",
   "execution_count": null,
   "id": "7b55cf3b",
   "metadata": {},
   "outputs": [
    {
     "name": "stderr",
     "output_type": "stream",
     "text": [
      "RuntimeWarning: invalid value encountered in divide\n",
      "RuntimeWarning: invalid value encountered in divide\n"
     ]
    },
    {
     "data": {
      "text/plain": [
       "KPT duration (minutes) humidity     0.329400\n",
       "humidity num_items                  0.315456\n",
       "rest_lat humidity                   0.242777\n",
       "humidity                            0.242776\n",
       "rest_lon humidity                   0.242704\n",
       "humidity^2                          0.242603\n",
       "KPT duration (minutes) num_items    0.233373\n",
       "Order ID humidity                   0.231831\n",
       "rest_lat num_items                  0.226179\n",
       "num_items                           0.226173\n",
       "dtype: float64"
      ]
     },
     "execution_count": 59,
     "metadata": {},
     "output_type": "execute_result"
    }
   ],
   "source": [
    "#top 10 features most correlated with your orders per hour\n",
    "correlations = pd.DataFrame(X_poly_df).corrwith(target)\n",
    "correlations.sort_values(ascending=False).head(10)"
   ]
  }
 ],
 "metadata": {
  "kernelspec": {
   "display_name": "Python 3",
   "language": "python",
   "name": "python3"
  },
  "language_info": {
   "codemirror_mode": {
    "name": "ipython",
    "version": 3
   },
   "file_extension": ".py",
   "mimetype": "text/x-python",
   "name": "python",
   "nbconvert_exporter": "python",
   "pygments_lexer": "ipython3",
   "version": "3.13.7"
  }
 },
 "nbformat": 4,
 "nbformat_minor": 5
}
